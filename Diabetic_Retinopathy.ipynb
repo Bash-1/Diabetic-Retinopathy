{
  "nbformat": 4,
  "nbformat_minor": 0,
  "metadata": {
    "colab": {
      "provenance": [],
      "machine_shape": "hm",
      "gpuType": "A100"
    },
    "kernelspec": {
      "name": "python3",
      "display_name": "Python 3"
    },
    "language_info": {
      "name": "python"
    },
    "accelerator": "GPU"
  },
  "cells": [
    {
      "cell_type": "code",
      "execution_count": null,
      "metadata": {
        "id": "akNkt50s28ME"
      },
      "outputs": [],
      "source": [
        "# Define the base path to your dataset on Google Drive\n",
        "drive_base_path = '/content/drive/MyDrive/DDR_dataset'"
      ]
    },
    {
      "cell_type": "markdown",
      "source": [],
      "metadata": {
        "id": "5evG0khGmRKb"
      }
    },
    {
      "cell_type": "code",
      "source": [
        "#Mount Google Drive (already mounted)\n",
        "drive.mount('/content/drive')"
      ],
      "metadata": {
        "colab": {
          "base_uri": "https://localhost:8080/"
        },
        "id": "YnrPyxWL3sZS",
        "outputId": "4797188f-8cbe-4f9a-ee37-5039fd286a51"
      },
      "execution_count": null,
      "outputs": [
        {
          "output_type": "stream",
          "name": "stdout",
          "text": [
            "Mounted at /content/drive\n"
          ]
        }
      ]
    },
    {
      "cell_type": "code",
      "source": [
        "# Create output directory\n",
        "output_dir = \"/content/DDR_dataset\"\n",
        "os.makedirs(output_dir, exist_ok=True)"
      ],
      "metadata": {
        "id": "YT6eqUUi3vdf"
      },
      "execution_count": null,
      "outputs": []
    },
    {
      "cell_type": "code",
      "source": [],
      "metadata": {
        "id": "baaBWXm2X7YS"
      },
      "execution_count": null,
      "outputs": []
    },
    {
      "cell_type": "code",
      "source": [
        "import os\n",
        "import numpy as np\n",
        "import pandas as pd\n",
        "import matplotlib.pyplot as plt\n",
        "from tqdm import tqdm\n",
        "import cv2\n",
        "import zipfile\n",
        "import torch\n",
        "from google.colab import drive"
      ],
      "metadata": {
        "id": "W8KR7Da-3zRw"
      },
      "execution_count": null,
      "outputs": []
    },
    {
      "cell_type": "code",
      "source": [],
      "metadata": {
        "id": "g6NJ9l1P4_kn"
      },
      "execution_count": null,
      "outputs": []
    },
    {
      "cell_type": "code",
      "source": [
        "# Use 7zip to extract the split archives\n",
        "print(\"Extracting split zip files using 7zip...\")\n",
        "# Combine first part with 7z (handles split archives correctly)\n",
        "!7z x '/content/drive/MyDrive/DDR_dataset/Copy of DDR-dataset.zip.001' -o'/content/DDR_dataset'"
      ],
      "metadata": {
        "colab": {
          "base_uri": "https://localhost:8080/"
        },
        "id": "mc3I_nVd31Qi",
        "outputId": "5a662452-8f24-4610-c08c-f666e8240002"
      },
      "execution_count": null,
      "outputs": [
        {
          "output_type": "stream",
          "name": "stdout",
          "text": [
            "Extracting split zip files using 7zip...\n",
            "\n",
            "7-Zip [64] 16.02 : Copyright (c) 1999-2016 Igor Pavlov : 2016-05-21\n",
            "p7zip Version 16.02 (locale=en_US.UTF-8,Utf16=on,HugeFiles=on,64 bits,12 CPUs Intel(R) Xeon(R) CPU @ 2.20GHz (50657),ASM,AES-NI)\n",
            "\n",
            "Scanning the drive for archives:\n",
            "  0M Scan /content/drive/MyDrive/DDR_dataset/\b\b\b\b\b\b\b\b\b\b\b\b\b\b\b\b\b\b\b\b\b\b\b\b\b\b\b\b\b\b\b\b\b\b\b\b\b\b\b\b\b\b\b\b\b                                             \b\b\b\b\b\b\b\b\b\b\b\b\b\b\b\b\b\b\b\b\b\b\b\b\b\b\b\b\b\b\b\b\b\b\b\b\b\b\b\b\b\b\b\b\b1 file, 1572864000 bytes (1500 MiB)\n",
            "\n",
            "Extracting archive: /content/drive/MyDrive/DDR_dataset/Copy of DDR-dataset.zip.001\n",
            "  0% 1 Open\b\b\b\b\b\b\b\b\b\b\b           \b\b\b\b\b\b\b\b\b\b\b 22% 4096 Open\b\b\b\b\b\b\b\b\b\b\b\b\b\b              \b\b\b\b\b\b\b\b\b\b\b\b\b\b--\n",
            "Path = /content/drive/MyDrive/DDR_dataset/Copy of DDR-dataset.zip.001\n",
            "Type = Split\n",
            "Physical Size = 1572864000\n",
            "Volumes = 10\n",
            "Total Physical Size = 15142640333\n",
            "----\n",
            "Path = Copy of DDR-dataset.zip\n",
            "Size = 15142640333\n",
            "--\n",
            "Path = Copy of DDR-dataset.zip\n",
            "Type = zip\n",
            "Physical Size = 15142640333\n",
            "64-bit = +\n",
            "\n",
            "  0%\b\b\b\b    \b\b\b\b  0% 32 - DDR-dataset/DR_grading/test/007-2878-100.jpg\b\b\b\b\b\b\b\b\b\b\b\b\b\b\b\b\b\b\b\b\b\b\b\b\b\b\b\b\b\b\b\b\b\b\b\b\b\b\b\b\b\b\b\b\b\b\b\b\b\b\b\b\b\b                                                      \b\b\b\b\b\b\b\b\b\b\b\b\b\b\b\b\b\b\b\b\b\b\b\b\b\b\b\b\b\b\b\b\b\b\b\b\b\b\b\b\b\b\b\b\b\b\b\b\b\b\b\b\b\b  0% 34 - DDR-dataset/DR_grading/test/007-2880-100.jpg\b\b\b\b\b\b\b\b\b\b\b\b\b\b\b\b\b\b\b\b\b\b\b\b\b\b\b\b\b\b\b\b\b\b\b\b\b\b\b\b\b\b\b\b\b\b\b\b\b\b\b\b\b\b                                                      \b\b\b\b\b\b\b\b\b\b\b\b\b\b\b\b\b\b\b\b\b\b\b\b\b\b\b\b\b\b\b\b\b\b\b\b\b\b\b\b\b\b\b\b\b\b\b\b\b\b\b\b\b\b  0% 52 - DDR-dataset/DR_grading/test/007-2953-100.jpg\b\b\b\b\b\b\b\b\b\b\b\b\b\b\b\b\b\b\b\b\b\b\b\b\b\b\b\b\b\b\b\b\b\b\b\b\b\b\b\b\b\b\b\b\b\b\b\b\b\b\b\b\b\b                                                      \b\b\b\b\b\b\b\b\b\b\b\b\b\b\b\b\b\b\b\b\b\b\b\b\b\b\b\b\b\b\b\b\b\b\b\b\b\b\b\b\b\b\b\b\b\b\b\b\b\b\b\b\b\b  0% 59 - DDR-dataset/DR_grading/test/007-2983-100.jpg\b\b\b\b\b\b\b\b\b\b\b\b\b\b\b\b\b\b\b\b\b\b\b\b\b\b\b\b\b\b\b\b\b\b\b\b\b\b\b\b\b\b\b\b\b\b\b\b\b\b\b\b\b\b                                                      \b\b\b\b\b\b\b\b\b\b\b\b\b\b\b\b\b\b\b\b\b\b\b\b\b\b\b\b\b\b\b\b\b\b\b\b\b\b\b\b\b\b\b\b\b\b\b\b\b\b\b\b\b\b  0% 75 - DDR-dataset/DR_grading/test/007-3040-100.jpg\b\b\b\b\b\b\b\b\b\b\b\b\b\b\b\b\b\b\b\b\b\b\b\b\b\b\b\b\b\b\b\b\b\b\b\b\b\b\b\b\b\b\b\b\b\b\b\b\b\b\b\b\b\b                                                      \b\b\b\b\b\b\b\b\b\b\b\b\b\b\b\b\b\b\b\b\b\b\b\b\b\b\b\b\b\b\b\b\b\b\b\b\b\b\b\b\b\b\b\b\b\b\b\b\b\b\b\b\b\b  0% 87 - DDR-dataset/DR_grading/test/007-3061-100.jpg\b\b\b\b\b\b\b\b\b\b\b\b\b\b\b\b\b\b\b\b\b\b\b\b\b\b\b\b\b\b\b\b\b\b\b\b\b\b\b\b\b\b\b\b\b\b\b\b\b\b\b\b\b\b                                                      \b\b\b\b\b\b\b\b\b\b\b\b\b\b\b\b\b\b\b\b\b\b\b\b\b\b\b\b\b\b\b\b\b\b\b\b\b\b\b\b\b\b\b\b\b\b\b\b\b\b\b\b\b\b  0% 103 - DDR-dataset/DR_grading/test/007-3100-100.jpg\b\b\b\b\b\b\b\b\b\b\b\b\b\b\b\b\b\b\b\b\b\b\b\b\b\b\b\b\b\b\b\b\b\b\b\b\b\b\b\b\b\b\b\b\b\b\b\b\b\b\b\b\b\b\b                                                       \b\b\b\b\b\b\b\b\b\b\b\b\b\b\b\b\b\b\b\b\b\b\b\b\b\b\b\b\b\b\b\b\b\b\b\b\b\b\b\b\b\b\b\b\b\b\b\b\b\b\b\b\b\b\b  0% 111 - DDR-dataset/DR_grading/test/007-3128-100.jpg\b\b\b\b\b\b\b\b\b\b\b\b\b\b\b\b\b\b\b\b\b\b\b\b\b\b\b\b\b\b\b\b\b\b\b\b\b\b\b\b\b\b\b\b\b\b\b\b\b\b\b\b\b\b\b                                                       \b\b\b\b\b\b\b\b\b\b\b\b\b\b\b\b\b\b\b\b\b\b\b\b\b\b\b\b\b\b\b\b\b\b\b\b\b\b\b\b\b\b\b\b\b\b\b\b\b\b\b\b\b\b\b  1% 132 - DDR-dataset/DR_grading/test/007-3216-100.jpg\b\b\b\b\b\b\b\b\b\b\b\b\b\b\b\b\b\b\b\b\b\b\b\b\b\b\b\b\b\b\b\b\b\b\b\b\b\b\b\b\b\b\b\b\b\b\b\b\b\b\b\b\b\b\b                                                       \b\b\b\b\b\b\b\b\b\b\b\b\b\b\b\b\b\b\b\b\b\b\b\b\b\b\b\b\b\b\b\b\b\b\b\b\b\b\b\b\b\b\b\b\b\b\b\b\b\b\b\b\b\b\b  1% 141 - DDR-dataset/DR_grading/test/007-3245-100.jpg\b\b\b\b\b\b\b\b\b\b\b\b\b\b\b\b\b\b\b\b\b\b\b\b\b\b\b\b\b\b\b\b\b\b\b\b\b\b\b\b\b\b\b\b\b\b\b\b\b\b\b\b\b\b\b                                                       \b\b\b\b\b\b\b\b\b\b\b\b\b\b\b\b\b\b\b\b\b\b\b\b\b\b\b\b\b\b\b\b\b\b\b\b\b\b\b\b\b\b\b\b\b\b\b\b\b\b\b\b\b\b\b  1% 205 - DDR-dataset/DR_grading/test/007-6009-300.jpg\b\b\b\b\b\b\b\b\b\b\b\b\b\b\b\b\b\b\b\b\b\b\b\b\b\b\b\b\b\b\b\b\b\b\b\b\b\b\b\b\b\b\b\b\b\b\b\b\b\b\b\b\b\b\b                                                       \b\b\b\b\b\b\b\b\b\b\b\b\b\b\b\b\b\b\b\b\b\b\b\b\b\b\b\b\b\b\b\b\b\b\b\b\b\b\b\b\b\b\b\b\b\b\b\b\b\b\b\b\b\b\b  1% 242 - DDR-dataset/DR_grading/test/007-6052-300.jpg\b\b\b\b\b\b\b\b\b\b\b\b\b\b\b\b\b\b\b\b\b\b\b\b\b\b\b\b\b\b\b\b\b\b\b\b\b\b\b\b\b\b\b\b\b\b\b\b\b\b\b\b\b\b\b                                                       \b\b\b\b\b\b\b\b\b\b\b\b\b\b\b\b\b\b\b\b\b\b\b\b\b\b\b\b\b\b\b\b\b\b\b\b\b\b\b\b\b\b\b\b\b\b\b\b\b\b\b\b\b\b\b  1% 264 - DDR-dataset/DR_grading/test/007-6074-300.jpg\b\b\b\b\b\b\b\b\b\b\b\b\b\b\b\b\b\b\b\b\b\b\b\b\b\b\b\b\b\b\b\b\b\b\b\b\b\b\b\b\b\b\b\b\b\b\b\b\b\b\b\b\b\b\b                                                       \b\b\b\b\b\b\b\b\b\b\b\b\b\b\b\b\b\b\b\b\b\b\b\b\b\b\b\b\b\b\b\b\b\b\b\b\b\b\b\b\b\b\b\b\b\b\b\b\b\b\b\b\b\b\b  2% 313 - DDR-dataset/DR_grading/test/007-6125-300.jpg\b\b\b\b\b\b\b\b\b\b\b\b\b\b\b\b\b\b\b\b\b\b\b\b\b\b\b\b\b\b\b\b\b\b\b\b\b\b\b\b\b\b\b\b\b\b\b\b\b\b\b\b\b\b\b                                                       \b\b\b\b\b\b\b\b\b\b\b\b\b\b\b\b\b\b\b\b\b\b\b\b\b\b\b\b\b\b\b\b\b\b\b\b\b\b\b\b\b\b\b\b\b\b\b\b\b\b\b\b\b\b\b  2% 335 - DDR-dataset/DR_grading/test/007-6149-300.jpg\b\b\b\b\b\b\b\b\b\b\b\b\b\b\b\b\b\b\b\b\b\b\b\b\b\b\b\b\b\b\b\b\b\b\b\b\b\b\b\b\b\b\b\b\b\b\b\b\b\b\b\b\b\b\b                                                       \b\b\b\b\b\b\b\b\b\b\b\b\b\b\b\b\b\b\b\b\b\b\b\b\b\b\b\b\b\b\b\b\b\b\b\b\b\b\b\b\b\b\b\b\b\b\b\b\b\b\b\b\b\b\b  2% 353 - DDR-dataset/DR_grading/test/007-6167-300.jpg\b\b\b\b\b\b\b\b\b\b\b\b\b\b\b\b\b\b\b\b\b\b\b\b\b\b\b\b\b\b\b\b\b\b\b\b\b\b\b\b\b\b\b\b\b\b\b\b\b\b\b\b\b\b\b                                                       \b\b\b\b\b\b\b\b\b\b\b\b\b\b\b\b\b\b\b\b\b\b\b\b\b\b\b\b\b\b\b\b\b\b\b\b\b\b\b\b\b\b\b\b\b\b\b\b\b\b\b\b\b\b\b  2% 369 - DDR-dataset/DR_grading/test/007-6185-300.jpg\b\b\b\b\b\b\b\b\b\b\b\b\b\b\b\b\b\b\b\b\b\b\b\b\b\b\b\b\b\b\b\b\b\b\b\b\b\b\b\b\b\b\b\b\b\b\b\b\b\b\b\b\b\b\b                                                       \b\b\b\b\b\b\b\b\b\b\b\b\b\b\b\b\b\b\b\b\b\b\b\b\b\b\b\b\b\b\b\b\b\b\b\b\b\b\b\b\b\b\b\b\b\b\b\b\b\b\b\b\b\b\b  2% 380 - DDR-dataset/DR_grading/test/007-6200-300.jpg\b\b\b\b\b\b\b\b\b\b\b\b\b\b\b\b\b\b\b\b\b\b\b\b\b\b\b\b\b\b\b\b\b\b\b\b\b\b\b\b\b\b\b\b\b\b\b\b\b\b\b\b\b\b\b                                                       \b\b\b\b\b\b\b\b\b\b\b\b\b\b\b\b\b\b\b\b\b\b\b\b\b\b\b\b\b\b\b\b\b\b\b\b\b\b\b\b\b\b\b\b\b\b\b\b\b\b\b\b\b\b\b  3% 394 - DDR-dataset/DR_grading/test/007-6215-300.jpg\b\b\b\b\b\b\b\b\b\b\b\b\b\b\b\b\b\b\b\b\b\b\b\b\b\b\b\b\b\b\b\b\b\b\b\b\b\b\b\b\b\b\b\b\b\b\b\b\b\b\b\b\b\b\b                                                       \b\b\b\b\b\b\b\b\b\b\b\b\b\b\b\b\b\b\b\b\b\b\b\b\b\b\b\b\b\b\b\b\b\b\b\b\b\b\b\b\b\b\b\b\b\b\b\b\b\b\b\b\b\b\b  3% 426 - DDR-dataset/DR_grading/test/007-6251-300.jpg\b\b\b\b\b\b\b\b\b\b\b\b\b\b\b\b\b\b\b\b\b\b\b\b\b\b\b\b\b\b\b\b\b\b\b\b\b\b\b\b\b\b\b\b\b\b\b\b\b\b\b\b\b\b\b                                                       \b\b\b\b\b\b\b\b\b\b\b\b\b\b\b\b\b\b\b\b\b\b\b\b\b\b\b\b\b\b\b\b\b\b\b\b\b\b\b\b\b\b\b\b\b\b\b\b\b\b\b\b\b\b\b  3% 451 - DDR-dataset/DR_grading/test/007-6319-400.jpg\b\b\b\b\b\b\b\b\b\b\b\b\b\b\b\b\b\b\b\b\b\b\b\b\b\b\b\b\b\b\b\b\b\b\b\b\b\b\b\b\b\b\b\b\b\b\b\b\b\b\b\b\b\b\b                                                       \b\b\b\b\b\b\b\b\b\b\b\b\b\b\b\b\b\b\b\b\b\b\b\b\b\b\b\b\b\b\b\b\b\b\b\b\b\b\b\b\b\b\b\b\b\b\b\b\b\b\b\b\b\b\b  3% 462 - DDR-dataset/DR_grading/test/007-6726-400.jpg\b\b\b\b\b\b\b\b\b\b\b\b\b\b\b\b\b\b\b\b\b\b\b\b\b\b\b\b\b\b\b\b\b\b\b\b\b\b\b\b\b\b\b\b\b\b\b\b\b\b\b\b\b\b\b                                                       \b\b\b\b\b\b\b\b\b\b\b\b\b\b\b\b\b\b\b\b\b\b\b\b\b\b\b\b\b\b\b\b\b\b\b\b\b\b\b\b\b\b\b\b\b\b\b\b\b\b\b\b\b\b\b  3% 482 - DDR-dataset/DR_grading/test/007-6974-400.jpg\b\b\b\b\b\b\b\b\b\b\b\b\b\b\b\b\b\b\b\b\b\b\b\b\b\b\b\b\b\b\b\b\b\b\b\b\b\b\b\b\b\b\b\b\b\b\b\b\b\b\b\b\b\b\b                                                       \b\b\b\b\b\b\b\b\b\b\b\b\b\b\b\b\b\b\b\b\b\b\b\b\b\b\b\b\b\b\b\b\b\b\b\b\b\b\b\b\b\b\b\b\b\b\b\b\b\b\b\b\b\b\b  3% 516 - DDR-dataset/DR_grading/test/007-7008-400.jpg\b\b\b\b\b\b\b\b\b\b\b\b\b\b\b\b\b\b\b\b\b\b\b\b\b\b\b\b\b\b\b\b\b\b\b\b\b\b\b\b\b\b\b\b\b\b\b\b\b\b\b\b\b\b\b                                                       \b\b\b\b\b\b\b\b\b\b\b\b\b\b\b\b\b\b\b\b\b\b\b\b\b\b\b\b\b\b\b\b\b\b\b\b\b\b\b\b\b\b\b\b\b\b\b\b\b\b\b\b\b\b\b  3% 536 - DDR-dataset/DR_grading/test/007-7028-400.jpg\b\b\b\b\b\b\b\b\b\b\b\b\b\b\b\b\b\b\b\b\b\b\b\b\b\b\b\b\b\b\b\b\b\b\b\b\b\b\b\b\b\b\b\b\b\b\b\b\b\b\b\b\b\b\b                                                       \b\b\b\b\b\b\b\b\b\b\b\b\b\b\b\b\b\b\b\b\b\b\b\b\b\b\b\b\b\b\b\b\b\b\b\b\b\b\b\b\b\b\b\b\b\b\b\b\b\b\b\b\b\b\b  4% 563 - DDR-dataset/DR_grading/test/007-7058-400.jpg\b\b\b\b\b\b\b\b\b\b\b\b\b\b\b\b\b\b\b\b\b\b\b\b\b\b\b\b\b\b\b\b\b\b\b\b\b\b\b\b\b\b\b\b\b\b\b\b\b\b\b\b\b\b\b                                                       \b\b\b\b\b\b\b\b\b\b\b\b\b\b\b\b\b\b\b\b\b\b\b\b\b\b\b\b\b\b\b\b\b\b\b\b\b\b\b\b\b\b\b\b\b\b\b\b\b\b\b\b\b\b\b  4% 579 - DDR-dataset/DR_grading/test/007-7112-400.jpg\b\b\b\b\b\b\b\b\b\b\b\b\b\b\b\b\b\b\b\b\b\b\b\b\b\b\b\b\b\b\b\b\b\b\b\b\b\b\b\b\b\b\b\b\b\b\b\b\b\b\b\b\b\b\b                                                       \b\b\b\b\b\b\b\b\b\b\b\b\b\b\b\b\b\b\b\b\b\b\b\b\b\b\b\b\b\b\b\b\b\b\b\b\b\b\b\b\b\b\b\b\b\b\b\b\b\b\b\b\b\b\b  4% 632 - DDR-dataset/DR_grading/test/007-7165-400.jpg\b\b\b\b\b\b\b\b\b\b\b\b\b\b\b\b\b\b\b\b\b\b\b\b\b\b\b\b\b\b\b\b\b\b\b\b\b\b\b\b\b\b\b\b\b\b\b\b\b\b\b\b\b\b\b                                                       \b\b\b\b\b\b\b\b\b\b\b\b\b\b\b\b\b\b\b\b\b\b\b\b\b\b\b\b\b\b\b\b\b\b\b\b\b\b\b\b\b\b\b\b\b\b\b\b\b\b\b\b\b\b\b  4% 639 - DDR-dataset/DR_grading/test/007-7172-400.jpg\b\b\b\b\b\b\b\b\b\b\b\b\b\b\b\b\b\b\b\b\b\b\b\b\b\b\b\b\b\b\b\b\b\b\b\b\b\b\b\b\b\b\b\b\b\b\b\b\b\b\b\b\b\b\b                                                       \b\b\b\b\b\b\b\b\b\b\b\b\b\b\b\b\b\b\b\b\b\b\b\b\b\b\b\b\b\b\b\b\b\b\b\b\b\b\b\b\b\b\b\b\b\b\b\b\b\b\b\b\b\b\b  4% 671 - DDR-dataset/DR_grading/test/007-7207-400.jpg\b\b\b\b\b\b\b\b\b\b\b\b\b\b\b\b\b\b\b\b\b\b\b\b\b\b\b\b\b\b\b\b\b\b\b\b\b\b\b\b\b\b\b\b\b\b\b\b\b\b\b\b\b\b\b                                                       \b\b\b\b\b\b\b\b\b\b\b\b\b\b\b\b\b\b\b\b\b\b\b\b\b\b\b\b\b\b\b\b\b\b\b\b\b\b\b\b\b\b\b\b\b\b\b\b\b\b\b\b\b\b\b  4% 679 - DDR-dataset/DR_grading/test/007-7215-400.jpg\b\b\b\b\b\b\b\b\b\b\b\b\b\b\b\b\b\b\b\b\b\b\b\b\b\b\b\b\b\b\b\b\b\b\b\b\b\b\b\b\b\b\b\b\b\b\b\b\b\b\b\b\b\b\b                                                       \b\b\b\b\b\b\b\b\b\b\b\b\b\b\b\b\b\b\b\b\b\b\b\b\b\b\b\b\b\b\b\b\b\b\b\b\b\b\b\b\b\b\b\b\b\b\b\b\b\b\b\b\b\b\b  5% 703 - DDR-dataset/DR_grading/test/007-7240-400.jpg\b\b\b\b\b\b\b\b\b\b\b\b\b\b\b\b\b\b\b\b\b\b\b\b\b\b\b\b\b\b\b\b\b\b\b\b\b\b\b\b\b\b\b\b\b\b\b\b\b\b\b\b\b\b\b                                                       \b\b\b\b\b\b\b\b\b\b\b\b\b\b\b\b\b\b\b\b\b\b\b\b\b\b\b\b\b\b\b\b\b\b\b\b\b\b\b\b\b\b\b\b\b\b\b\b\b\b\b\b\b\b\b  5% 779 - DDR-dataset/DR_grading/test/007-7823-601.jpg\b\b\b\b\b\b\b\b\b\b\b\b\b\b\b\b\b\b\b\b\b\b\b\b\b\b\b\b\b\b\b\b\b\b\b\b\b\b\b\b\b\b\b\b\b\b\b\b\b\b\b\b\b\b\b                                                       \b\b\b\b\b\b\b\b\b\b\b\b\b\b\b\b\b\b\b\b\b\b\b\b\b\b\b\b\b\b\b\b\b\b\b\b\b\b\b\b\b\b\b\b\b\b\b\b\b\b\b\b\b\b\b  5% 794 - DDR-dataset/DR_grading/test/007-7991-601.jpg\b\b\b\b\b\b\b\b\b\b\b\b\b\b\b\b\b\b\b\b\b\b\b\b\b\b\b\b\b\b\b\b\b\b\b\b\b\b\b\b\b\b\b\b\b\b\b\b\b\b\b\b\b\b\b                                                       \b\b\b\b\b\b\b\b\b\b\b\b\b\b\b\b\b\b\b\b\b\b\b\b\b\b\b\b\b\b\b\b\b\b\b\b\b\b\b\b\b\b\b\b\b\b\b\b\b\b\b\b\b\b\b  5% 872 - DDR-dataset/DR_grading/test/007-8504-604.jpg\b\b\b\b\b\b\b\b\b\b\b\b\b\b\b\b\b\b\b\b\b\b\b\b\b\b\b\b\b\b\b\b\b\b\b\b\b\b\b\b\b\b\b\b\b\b\b\b\b\b\b\b\b\b\b                                                       \b\b\b\b\b\b\b\b\b\b\b\b\b\b\b\b\b\b\b\b\b\b\b\b\b\b\b\b\b\b\b\b\b\b\b\b\b\b\b\b\b\b\b\b\b\b\b\b\b\b\b\b\b\b\b  5% 898 - DDR-dataset/DR_grading/test/007-8542-604.jpg\b\b\b\b\b\b\b\b\b\b\b\b\b\b\b\b\b\b\b\b\b\b\b\b\b\b\b\b\b\b\b\b\b\b\b\b\b\b\b\b\b\b\b\b\b\b\b\b\b\b\b\b\b\b\b                                                       \b\b\b\b\b\b\b\b\b\b\b\b\b\b\b\b\b\b\b\b\b\b\b\b\b\b\b\b\b\b\b\b\b\b\b\b\b\b\b\b\b\b\b\b\b\b\b\b\b\b\b\b\b\b\b  6% 934 - DDR-dataset/DR_grading/test/007-8589-605.jpg\b\b\b\b\b\b\b\b\b\b\b\b\b\b\b\b\b\b\b\b\b\b\b\b\b\b\b\b\b\b\b\b\b\b\b\b\b\b\b\b\b\b\b\b\b\b\b\b\b\b\b\b\b\b\b                                                       \b\b\b\b\b\b\b\b\b\b\b\b\b\b\b\b\b\b\b\b\b\b\b\b\b\b\b\b\b\b\b\b\b\b\b\b\b\b\b\b\b\b\b\b\b\b\b\b\b\b\b\b\b\b\b  6% 975 - DDR-dataset/DR_grading/test/007-8638-605.jpg\b\b\b\b\b\b\b\b\b\b\b\b\b\b\b\b\b\b\b\b\b\b\b\b\b\b\b\b\b\b\b\b\b\b\b\b\b\b\b\b\b\b\b\b\b\b\b\b\b\b\b\b\b\b\b                                                       \b\b\b\b\b\b\b\b\b\b\b\b\b\b\b\b\b\b\b\b\b\b\b\b\b\b\b\b\b\b\b\b\b\b\b\b\b\b\b\b\b\b\b\b\b\b\b\b\b\b\b\b\b\b\b  6% 989 - DDR-dataset/DR_grading/test/007-8654-605.jpg\b\b\b\b\b\b\b\b\b\b\b\b\b\b\b\b\b\b\b\b\b\b\b\b\b\b\b\b\b\b\b\b\b\b\b\b\b\b\b\b\b\b\b\b\b\b\b\b\b\b\b\b\b\b\b                                                       \b\b\b\b\b\b\b\b\b\b\b\b\b\b\b\b\b\b\b\b\b\b\b\b\b\b\b\b\b\b\b\b\b\b\b\b\b\b\b\b\b\b\b\b\b\b\b\b\b\b\b\b\b\b\b  6% 1002 - DDR-dataset/DR_grading/test/007-8686-605.jpg\b\b\b\b\b\b\b\b\b\b\b\b\b\b\b\b\b\b\b\b\b\b\b\b\b\b\b\b\b\b\b\b\b\b\b\b\b\b\b\b\b\b\b\b\b\b\b\b\b\b\b\b\b\b\b\b                                                        \b\b\b\b\b\b\b\b\b\b\b\b\b\b\b\b\b\b\b\b\b\b\b\b\b\b\b\b\b\b\b\b\b\b\b\b\b\b\b\b\b\b\b\b\b\b\b\b\b\b\b\b\b\b\b\b  6% 1005 - DDR-dataset/DR_grading/test/007-8689-605.jpg\b\b\b\b\b\b\b\b\b\b\b\b\b\b\b\b\b\b\b\b\b\b\b\b\b\b\b\b\b\b\b\b\b\b\b\b\b\b\b\b\b\b\b\b\b\b\b\b\b\b\b\b\b\b\b\b                                                        \b\b\b\b\b\b\b\b\b\b\b\b\b\b\b\b\b\b\b\b\b\b\b\b\b\b\b\b\b\b\b\b\b\b\b\b\b\b\b\b\b\b\b\b\b\b\b\b\b\b\b\b\b\b\b\b  6% 1026 - DDR-dataset/DR_grading/test/007-8710-605.jpg\b\b\b\b\b\b\b\b\b\b\b\b\b\b\b\b\b\b\b\b\b\b\b\b\b\b\b\b\b\b\b\b\b\b\b\b\b\b\b\b\b\b\b\b\b\b\b\b\b\b\b\b\b\b\b\b                                                        \b\b\b\b\b\b\b\b\b\b\b\b\b\b\b\b\b\b\b\b\b\b\b\b\b\b\b\b\b\b\b\b\b\b\b\b\b\b\b\b\b\b\b\b\b\b\b\b\b\b\b\b\b\b\b\b  6% 1036 - DDR-dataset/DR_grading/test/007-8720-605.jpg\b\b\b\b\b\b\b\b\b\b\b\b\b\b\b\b\b\b\b\b\b\b\b\b\b\b\b\b\b\b\b\b\b\b\b\b\b\b\b\b\b\b\b\b\b\b\b\b\b\b\b\b\b\b\b\b                                                        \b\b\b\b\b\b\b\b\b\b\b\b\b\b\b\b\b\b\b\b\b\b\b\b\b\b\b\b\b\b\b\b\b\b\b\b\b\b\b\b\b\b\b\b\b\b\b\b\b\b\b\b\b\b\b\b  6% 1073 - DDR-dataset/DR_grading/test/007-8763-605.jpg\b\b\b\b\b\b\b\b\b\b\b\b\b\b\b\b\b\b\b\b\b\b\b\b\b\b\b\b\b\b\b\b\b\b\b\b\b\b\b\b\b\b\b\b\b\b\b\b\b\b\b\b\b\b\b\b                                                        \b\b\b\b\b\b\b\b\b\b\b\b\b\b\b\b\b\b\b\b\b\b\b\b\b\b\b\b\b\b\b\b\b\b\b\b\b\b\b\b\b\b\b\b\b\b\b\b\b\b\b\b\b\b\b\b  6% 1137 - DDR-dataset/DR_grading/test/007-8841-605.jpg\b\b\b\b\b\b\b\b\b\b\b\b\b\b\b\b\b\b\b\b\b\b\b\b\b\b\b\b\b\b\b\b\b\b\b\b\b\b\b\b\b\b\b\b\b\b\b\b\b\b\b\b\b\b\b\b                                                        \b\b\b\b\b\b\b\b\b\b\b\b\b\b\b\b\b\b\b\b\b\b\b\b\b\b\b\b\b\b\b\b\b\b\b\b\b\b\b\b\b\b\b\b\b\b\b\b\b\b\b\b\b\b\b\b  7% 1170 - DDR-dataset/DR_grading/test/007-8876-605.jpg\b\b\b\b\b\b\b\b\b\b\b\b\b\b\b\b\b\b\b\b\b\b\b\b\b\b\b\b\b\b\b\b\b\b\b\b\b\b\b\b\b\b\b\b\b\b\b\b\b\b\b\b\b\b\b\b                                                        \b\b\b\b\b\b\b\b\b\b\b\b\b\b\b\b\b\b\b\b\b\b\b\b\b\b\b\b\b\b\b\b\b\b\b\b\b\b\b\b\b\b\b\b\b\b\b\b\b\b\b\b\b\b\b\b  7% 1176 - DDR-dataset/DR_grading/test/007-8882-605.jpg\b\b\b\b\b\b\b\b\b\b\b\b\b\b\b\b\b\b\b\b\b\b\b\b\b\b\b\b\b\b\b\b\b\b\b\b\b\b\b\b\b\b\b\b\b\b\b\b\b\b\b\b\b\b\b\b                                                        \b\b\b\b\b\b\b\b\b\b\b\b\b\b\b\b\b\b\b\b\b\b\b\b\b\b\b\b\b\b\b\b\b\b\b\b\b\b\b\b\b\b\b\b\b\b\b\b\b\b\b\b\b\b\b\b  7% 1231 - DDR-dataset/DR_grading/test/20170413162943058.jpg\b\b\b\b\b\b\b\b\b\b\b\b\b\b\b\b\b\b\b\b\b\b\b\b\b\b\b\b\b\b\b\b\b\b\b\b\b\b\b\b\b\b\b\b\b\b\b\b\b\b\b\b\b\b\b\b\b\b\b\b\b                                                             \b\b\b\b\b\b\b\b\b\b\b\b\b\b\b\b\b\b\b\b\b\b\b\b\b\b\b\b\b\b\b\b\b\b\b\b\b\b\b\b\b\b\b\b\b\b\b\b\b\b\b\b\b\b\b\b\b\b\b\b\b  7% 1266 - DDR-dataset/DR_grading/test/20170414150026627.jpg\b\b\b\b\b\b\b\b\b\b\b\b\b\b\b\b\b\b\b\b\b\b\b\b\b\b\b\b\b\b\b\b\b\b\b\b\b\b\b\b\b\b\b\b\b\b\b\b\b\b\b\b\b\b\b\b\b\b\b\b\b                                                             \b\b\b\b\b\b\b\b\b\b\b\b\b\b\b\b\b\b\b\b\b\b\b\b\b\b\b\b\b\b\b\b\b\b\b\b\b\b\b\b\b\b\b\b\b\b\b\b\b\b\b\b\b\b\b\b\b\b\b\b\b  7% 1310 - DDR-dataset/DR_grading/test/20170417083154677.jpg\b\b\b\b\b\b\b\b\b\b\b\b\b\b\b\b\b\b\b\b\b\b\b\b\b\b\b\b\b\b\b\b\b\b\b\b\b\b\b\b\b\b\b\b\b\b\b\b\b\b\b\b\b\b\b\b\b\b\b\b\b                                                             \b\b\b\b\b\b\b\b\b\b\b\b\b\b\b\b\b\b\b\b\b\b\b\b\b\b\b\b\b\b\b\b\b\b\b\b\b\b\b\b\b\b\b\b\b\b\b\b\b\b\b\b\b\b\b\b\b\b\b\b\b  7% 1329 - DDR-dataset/DR_grading/test/20170417105054647.jpg\b\b\b\b\b\b\b\b\b\b\b\b\b\b\b\b\b\b\b\b\b\b\b\b\b\b\b\b\b\b\b\b\b\b\b\b\b\b\b\b\b\b\b\b\b\b\b\b\b\b\b\b\b\b\b\b\b\b\b\b\b                                                             \b\b\b\b\b\b\b\b\b\b\b\b\b\b\b\b\b\b\b\b\b\b\b\b\b\b\b\b\b\b\b\b\b\b\b\b\b\b\b\b\b\b\b\b\b\b\b\b\b\b\b\b\b\b\b\b\b\b\b\b\b  8% 1341 - DDR-dataset/DR_grading/test/20170417111714533.jpg\b\b\b\b\b\b\b\b\b\b\b\b\b\b\b\b\b\b\b\b\b\b\b\b\b\b\b\b\b\b\b\b\b\b\b\b\b\b\b\b\b\b\b\b\b\b\b\b\b\b\b\b\b\b\b\b\b\b\b\b\b                                                             \b\b\b\b\b\b\b\b\b\b\b\b\b\b\b\b\b\b\b\b\b\b\b\b\b\b\b\b\b\b\b\b\b\b\b\b\b\b\b\b\b\b\b\b\b\b\b\b\b\b\b\b\b\b\b\b\b\b\b\b\b  8% 1355 - DDR-dataset/DR_grading/test/20170417140954971.jpg\b\b\b\b\b\b\b\b\b\b\b\b\b\b\b\b\b\b\b\b\b\b\b\b\b\b\b\b\b\b\b\b\b\b\b\b\b\b\b\b\b\b\b\b\b\b\b\b\b\b\b\b\b\b\b\b\b\b\b\b\b                                                             \b\b\b\b\b\b\b\b\b\b\b\b\b\b\b\b\b\b\b\b\b\b\b\b\b\b\b\b\b\b\b\b\b\b\b\b\b\b\b\b\b\b\b\b\b\b\b\b\b\b\b\b\b\b\b\b\b\b\b\b\b  8% 1374 - DDR-dataset/DR_grading/test/20170417195632750.jpg\b\b\b\b\b\b\b\b\b\b\b\b\b\b\b\b\b\b\b\b\b\b\b\b\b\b\b\b\b\b\b\b\b\b\b\b\b\b\b\b\b\b\b\b\b\b\b\b\b\b\b\b\b\b\b\b\b\b\b\b\b                                                             \b\b\b\b\b\b\b\b\b\b\b\b\b\b\b\b\b\b\b\b\b\b\b\b\b\b\b\b\b\b\b\b\b\b\b\b\b\b\b\b\b\b\b\b\b\b\b\b\b\b\b\b\b\b\b\b\b\b\b\b\b  8% 1415 - DDR-dataset/DR_grading/test/20170418093444173.jpg\b\b\b\b\b\b\b\b\b\b\b\b\b\b\b\b\b\b\b\b\b\b\b\b\b\b\b\b\b\b\b\b\b\b\b\b\b\b\b\b\b\b\b\b\b\b\b\b\b\b\b\b\b\b\b\b\b\b\b\b\b                                                             \b\b\b\b\b\b\b\b\b\b\b\b\b\b\b\b\b\b\b\b\b\b\b\b\b\b\b\b\b\b\b\b\b\b\b\b\b\b\b\b\b\b\b\b\b\b\b\b\b\b\b\b\b\b\b\b\b\b\b\b\b  8% 1454 - DDR-dataset/DR_grading/test/20170418115345056.jpg\b\b\b\b\b\b\b\b\b\b\b\b\b\b\b\b\b\b\b\b\b\b\b\b\b\b\b\b\b\b\b\b\b\b\b\b\b\b\b\b\b\b\b\b\b\b\b\b\b\b\b\b\b\b\b\b\b\b\b\b\b                                                             \b\b\b\b\b\b\b\b\b\b\b\b\b\b\b\b\b\b\b\b\b\b\b\b\b\b\b\b\b\b\b\b\b\b\b\b\b\b\b\b\b\b\b\b\b\b\b\b\b\b\b\b\b\b\b\b\b\b\b\b\b  8% 1457 - DDR-dataset/DR_grading/test/20170418135336394.jpg\b\b\b\b\b\b\b\b\b\b\b\b\b\b\b\b\b\b\b\b\b\b\b\b\b\b\b\b\b\b\b\b\b\b\b\b\b\b\b\b\b\b\b\b\b\b\b\b\b\b\b\b\b\b\b\b\b\b\b\b\b                                                             \b\b\b\b\b\b\b\b\b\b\b\b\b\b\b\b\b\b\b\b\b\b\b\b\b\b\b\b\b\b\b\b\b\b\b\b\b\b\b\b\b\b\b\b\b\b\b\b\b\b\b\b\b\b\b\b\b\b\b\b\b  9% 1551 - DDR-dataset/DR_grading/test/20170421101203241.jpg\b\b\b\b\b\b\b\b\b\b\b\b\b\b\b\b\b\b\b\b\b\b\b\b\b\b\b\b\b\b\b\b\b\b\b\b\b\b\b\b\b\b\b\b\b\b\b\b\b\b\b\b\b\b\b\b\b\b\b\b\b                                                             \b\b\b\b\b\b\b\b\b\b\b\b\b\b\b\b\b\b\b\b\b\b\b\b\b\b\b\b\b\b\b\b\b\b\b\b\b\b\b\b\b\b\b\b\b\b\b\b\b\b\b\b\b\b\b\b\b\b\b\b\b  9% 1568 - DDR-dataset/DR_grading/test/20170424093054916.jpg\b\b\b\b\b\b\b\b\b\b\b\b\b\b\b\b\b\b\b\b\b\b\b\b\b\b\b\b\b\b\b\b\b\b\b\b\b\b\b\b\b\b\b\b\b\b\b\b\b\b\b\b\b\b\b\b\b\b\b\b\b                                                             \b\b\b\b\b\b\b\b\b\b\b\b\b\b\b\b\b\b\b\b\b\b\b\b\b\b\b\b\b\b\b\b\b\b\b\b\b\b\b\b\b\b\b\b\b\b\b\b\b\b\b\b\b\b\b\b\b\b\b\b\b  9% 1585 - DDR-dataset/DR_grading/test/20170424153416764.jpg\b\b\b\b\b\b\b\b\b\b\b\b\b\b\b\b\b\b\b\b\b\b\b\b\b\b\b\b\b\b\b\b\b\b\b\b\b\b\b\b\b\b\b\b\b\b\b\b\b\b\b\b\b\b\b\b\b\b\b\b\b                                                             \b\b\b\b\b\b\b\b\b\b\b\b\b\b\b\b\b\b\b\b\b\b\b\b\b\b\b\b\b\b\b\b\b\b\b\b\b\b\b\b\b\b\b\b\b\b\b\b\b\b\b\b\b\b\b\b\b\b\b\b\b 10% 1605 - DDR-dataset/DR_grading/test/20170424161103442.jpg\b\b\b\b\b\b\b\b\b\b\b\b\b\b\b\b\b\b\b\b\b\b\b\b\b\b\b\b\b\b\b\b\b\b\b\b\b\b\b\b\b\b\b\b\b\b\b\b\b\b\b\b\b\b\b\b\b\b\b\b\b                                                             \b\b\b\b\b\b\b\b\b\b\b\b\b\b\b\b\b\b\b\b\b\b\b\b\b\b\b\b\b\b\b\b\b\b\b\b\b\b\b\b\b\b\b\b\b\b\b\b\b\b\b\b\b\b\b\b\b\b\b\b\b 10% 1630 - DDR-dataset/DR_grading/test/20170424170615518.jpg\b\b\b\b\b\b\b\b\b\b\b\b\b\b\b\b\b\b\b\b\b\b\b\b\b\b\b\b\b\b\b\b\b\b\b\b\b\b\b\b\b\b\b\b\b\b\b\b\b\b\b\b\b\b\b\b\b\b\b\b\b                                                             \b\b\b\b\b\b\b\b\b\b\b\b\b\b\b\b\b\b\b\b\b\b\b\b\b\b\b\b\b\b\b\b\b\b\b\b\b\b\b\b\b\b\b\b\b\b\b\b\b\b\b\b\b\b\b\b\b\b\b\b\b 10% 1636 - DDR-dataset/DR_grading/test/20170425083714832.jpg\b\b\b\b\b\b\b\b\b\b\b\b\b\b\b\b\b\b\b\b\b\b\b\b\b\b\b\b\b\b\b\b\b\b\b\b\b\b\b\b\b\b\b\b\b\b\b\b\b\b\b\b\b\b\b\b\b\b\b\b\b                                                             \b\b\b\b\b\b\b\b\b\b\b\b\b\b\b\b\b\b\b\b\b\b\b\b\b\b\b\b\b\b\b\b\b\b\b\b\b\b\b\b\b\b\b\b\b\b\b\b\b\b\b\b\b\b\b\b\b\b\b\b\b 10% 1647 - DDR-dataset/DR_grading/test/20170425091743217.jpg\b\b\b\b\b\b\b\b\b\b\b\b\b\b\b\b\b\b\b\b\b\b\b\b\b\b\b\b\b\b\b\b\b\b\b\b\b\b\b\b\b\b\b\b\b\b\b\b\b\b\b\b\b\b\b\b\b\b\b\b\b                                                             \b\b\b\b\b\b\b\b\b\b\b\b\b\b\b\b\b\b\b\b\b\b\b\b\b\b\b\b\b\b\b\b\b\b\b\b\b\b\b\b\b\b\b\b\b\b\b\b\b\b\b\b\b\b\b\b\b\b\b\b\b 10% 1680 - DDR-dataset/DR_grading/test/20170426082624471.jpg\b\b\b\b\b\b\b\b\b\b\b\b\b\b\b\b\b\b\b\b\b\b\b\b\b\b\b\b\b\b\b\b\b\b\b\b\b\b\b\b\b\b\b\b\b\b\b\b\b\b\b\b\b\b\b\b\b\b\b\b\b                                                             \b\b\b\b\b\b\b\b\b\b\b\b\b\b\b\b\b\b\b\b\b\b\b\b\b\b\b\b\b\b\b\b\b\b\b\b\b\b\b\b\b\b\b\b\b\b\b\b\b\b\b\b\b\b\b\b\b\b\b\b\b 10% 1699 - DDR-dataset/DR_grading/test/20170426092544308.jpg\b\b\b\b\b\b\b\b\b\b\b\b\b\b\b\b\b\b\b\b\b\b\b\b\b\b\b\b\b\b\b\b\b\b\b\b\b\b\b\b\b\b\b\b\b\b\b\b\b\b\b\b\b\b\b\b\b\b\b\b\b                                                             \b\b\b\b\b\b\b\b\b\b\b\b\b\b\b\b\b\b\b\b\b\b\b\b\b\b\b\b\b\b\b\b\b\b\b\b\b\b\b\b\b\b\b\b\b\b\b\b\b\b\b\b\b\b\b\b\b\b\b\b\b 11% 1723 - DDR-dataset/DR_grading/test/20170427084113100.jpg\b\b\b\b\b\b\b\b\b\b\b\b\b\b\b\b\b\b\b\b\b\b\b\b\b\b\b\b\b\b\b\b\b\b\b\b\b\b\b\b\b\b\b\b\b\b\b\b\b\b\b\b\b\b\b\b\b\b\b\b\b                                                             \b\b\b\b\b\b\b\b\b\b\b\b\b\b\b\b\b\b\b\b\b\b\b\b\b\b\b\b\b\b\b\b\b\b\b\b\b\b\b\b\b\b\b\b\b\b\b\b\b\b\b\b\b\b\b\b\b\b\b\b\b 11% 1728 - DDR-dataset/DR_grading/test/20170427084620045.jpg\b\b\b\b\b\b\b\b\b\b\b\b\b\b\b\b\b\b\b\b\b\b\b\b\b\b\b\b\b\b\b\b\b\b\b\b\b\b\b\b\b\b\b\b\b\b\b\b\b\b\b\b\b\b\b\b\b\b\b\b\b                                                             \b\b\b\b\b\b\b\b\b\b\b\b\b\b\b\b\b\b\b\b\b\b\b\b\b\b\b\b\b\b\b\b\b\b\b\b\b\b\b\b\b\b\b\b\b\b\b\b\b\b\b\b\b\b\b\b\b\b\b\b\b 11% 1745 - DDR-dataset/DR_grading/test/20170427085829281.jpg\b\b\b\b\b\b\b\b\b\b\b\b\b\b\b\b\b\b\b\b\b\b\b\b\b\b\b\b\b\b\b\b\b\b\b\b\b\b\b\b\b\b\b\b\b\b\b\b\b\b\b\b\b\b\b\b\b\b\b\b\b                                                             \b\b\b\b\b\b\b\b\b\b\b\b\b\b\b\b\b\b\b\b\b\b\b\b\b\b\b\b\b\b\b\b\b\b\b\b\b\b\b\b\b\b\b\b\b\b\b\b\b\b\b\b\b\b\b\b\b\b\b\b\b 11% 1822 - DDR-dataset/DR_grading/test/20170427180947234.jpg\b\b\b\b\b\b\b\b\b\b\b\b\b\b\b\b\b\b\b\b\b\b\b\b\b\b\b\b\b\b\b\b\b\b\b\b\b\b\b\b\b\b\b\b\b\b\b\b\b\b\b\b\b\b\b\b\b\b\b\b\b                                                             \b\b\b\b\b\b\b\b\b\b\b\b\b\b\b\b\b\b\b\b\b\b\b\b\b\b\b\b\b\b\b\b\b\b\b\b\b\b\b\b\b\b\b\b\b\b\b\b\b\b\b\b\b\b\b\b\b\b\b\b\b 11% 1839 - DDR-dataset/DR_grading/test/20170427181546260.jpg\b\b\b\b\b\b\b\b\b\b\b\b\b\b\b\b\b\b\b\b\b\b\b\b\b\b\b\b\b\b\b\b\b\b\b\b\b\b\b\b\b\b\b\b\b\b\b\b\b\b\b\b\b\b\b\b\b\b\b\b\b                                                             \b\b\b\b\b\b\b\b\b\b\b\b\b\b\b\b\b\b\b\b\b\b\b\b\b\b\b\b\b\b\b\b\b\b\b\b\b\b\b\b\b\b\b\b\b\b\b\b\b\b\b\b\b\b\b\b\b\b\b\b\b 12% 1860 - DDR-dataset/DR_grading/test/20170427182213413.jpg\b\b\b\b\b\b\b\b\b\b\b\b\b\b\b\b\b\b\b\b\b\b\b\b\b\b\b\b\b\b\b\b\b\b\b\b\b\b\b\b\b\b\b\b\b\b\b\b\b\b\b\b\b\b\b\b\b\b\b\b\b                                                             \b\b\b\b\b\b\b\b\b\b\b\b\b\b\b\b\b\b\b\b\b\b\b\b\b\b\b\b\b\b\b\b\b\b\b\b\b\b\b\b\b\b\b\b\b\b\b\b\b\b\b\b\b\b\b\b\b\b\b\b\b 12% 1861\b\b\b\b\b\b\b\b\b         \b\b\b\b\b\b\b\b\b 12% 1899 - DDR-dataset/DR_grading/test/20170427183732057.jpg\b\b\b\b\b\b\b\b\b\b\b\b\b\b\b\b\b\b\b\b\b\b\b\b\b\b\b\b\b\b\b\b\b\b\b\b\b\b\b\b\b\b\b\b\b\b\b\b\b\b\b\b\b\b\b\b\b\b\b\b\b                                                             \b\b\b\b\b\b\b\b\b\b\b\b\b\b\b\b\b\b\b\b\b\b\b\b\b\b\b\b\b\b\b\b\b\b\b\b\b\b\b\b\b\b\b\b\b\b\b\b\b\b\b\b\b\b\b\b\b\b\b\b\b 12% 1914 - DDR-dataset/DR_grading/test/20170427184204825.jpg\b\b\b\b\b\b\b\b\b\b\b\b\b\b\b\b\b\b\b\b\b\b\b\b\b\b\b\b\b\b\b\b\b\b\b\b\b\b\b\b\b\b\b\b\b\b\b\b\b\b\b\b\b\b\b\b\b\b\b\b\b                                                             \b\b\b\b\b\b\b\b\b\b\b\b\b\b\b\b\b\b\b\b\b\b\b\b\b\b\b\b\b\b\b\b\b\b\b\b\b\b\b\b\b\b\b\b\b\b\b\b\b\b\b\b\b\b\b\b\b\b\b\b\b 12% 1933 - DDR-dataset/DR_grading/test/20170427184634488.jpg\b\b\b\b\b\b\b\b\b\b\b\b\b\b\b\b\b\b\b\b\b\b\b\b\b\b\b\b\b\b\b\b\b\b\b\b\b\b\b\b\b\b\b\b\b\b\b\b\b\b\b\b\b\b\b\b\b\b\b\b\b                                                             \b\b\b\b\b\b\b\b\b\b\b\b\b\b\b\b\b\b\b\b\b\b\b\b\b\b\b\b\b\b\b\b\b\b\b\b\b\b\b\b\b\b\b\b\b\b\b\b\b\b\b\b\b\b\b\b\b\b\b\b\b 13% 1944 - DDR-dataset/DR_grading/test/20170427185055804.jpg\b\b\b\b\b\b\b\b\b\b\b\b\b\b\b\b\b\b\b\b\b\b\b\b\b\b\b\b\b\b\b\b\b\b\b\b\b\b\b\b\b\b\b\b\b\b\b\b\b\b\b\b\b\b\b\b\b\b\b\b\b                                                             \b\b\b\b\b\b\b\b\b\b\b\b\b\b\b\b\b\b\b\b\b\b\b\b\b\b\b\b\b\b\b\b\b\b\b\b\b\b\b\b\b\b\b\b\b\b\b\b\b\b\b\b\b\b\b\b\b\b\b\b\b 13% 1959 - DDR-dataset/DR_grading/test/20170427185436095.jpg\b\b\b\b\b\b\b\b\b\b\b\b\b\b\b\b\b\b\b\b\b\b\b\b\b\b\b\b\b\b\b\b\b\b\b\b\b\b\b\b\b\b\b\b\b\b\b\b\b\b\b\b\b\b\b\b\b\b\b\b\b                                                             \b\b\b\b\b\b\b\b\b\b\b\b\b\b\b\b\b\b\b\b\b\b\b\b\b\b\b\b\b\b\b\b\b\b\b\b\b\b\b\b\b\b\b\b\b\b\b\b\b\b\b\b\b\b\b\b\b\b\b\b\b 13% 1979 - DDR-dataset/DR_grading/test/20170427185920938.jpg\b\b\b\b\b\b\b\b\b\b\b\b\b\b\b\b\b\b\b\b\b\b\b\b\b\b\b\b\b\b\b\b\b\b\b\b\b\b\b\b\b\b\b\b\b\b\b\b\b\b\b\b\b\b\b\b\b\b\b\b\b                                                             \b\b\b\b\b\b\b\b\b\b\b\b\b\b\b\b\b\b\b\b\b\b\b\b\b\b\b\b\b\b\b\b\b\b\b\b\b\b\b\b\b\b\b\b\b\b\b\b\b\b\b\b\b\b\b\b\b\b\b\b\b 13% 1990 - DDR-dataset/DR_grading/test/20170427190217884.jpg\b\b\b\b\b\b\b\b\b\b\b\b\b\b\b\b\b\b\b\b\b\b\b\b\b\b\b\b\b\b\b\b\b\b\b\b\b\b\b\b\b\b\b\b\b\b\b\b\b\b\b\b\b\b\b\b\b\b\b\b\b                                                             \b\b\b\b\b\b\b\b\b\b\b\b\b\b\b\b\b\b\b\b\b\b\b\b\b\b\b\b\b\b\b\b\b\b\b\b\b\b\b\b\b\b\b\b\b\b\b\b\b\b\b\b\b\b\b\b\b\b\b\b\b 13% 2007 - DDR-dataset/DR_grading/test/20170427190717761.jpg\b\b\b\b\b\b\b\b\b\b\b\b\b\b\b\b\b\b\b\b\b\b\b\b\b\b\b\b\b\b\b\b\b\b\b\b\b\b\b\b\b\b\b\b\b\b\b\b\b\b\b\b\b\b\b\b\b\b\b\b\b                                                             \b\b\b\b\b\b\b\b\b\b\b\b\b\b\b\b\b\b\b\b\b\b\b\b\b\b\b\b\b\b\b\b\b\b\b\b\b\b\b\b\b\b\b\b\b\b\b\b\b\b\b\b\b\b\b\b\b\b\b\b\b 13% 2025 - DDR-dataset/DR_grading/test/20170427191255984.jpg\b\b\b\b\b\b\b\b\b\b\b\b\b\b\b\b\b\b\b\b\b\b\b\b\b\b\b\b\b\b\b\b\b\b\b\b\b\b\b\b\b\b\b\b\b\b\b\b\b\b\b\b\b\b\b\b\b\b\b\b\b                                                             \b\b\b\b\b\b\b\b\b\b\b\b\b\b\b\b\b\b\b\b\b\b\b\b\b\b\b\b\b\b\b\b\b\b\b\b\b\b\b\b\b\b\b\b\b\b\b\b\b\b\b\b\b\b\b\b\b\b\b\b\b 13% 2028 - DDR-dataset/DR_grading/test/20170427191518339.jpg\b\b\b\b\b\b\b\b\b\b\b\b\b\b\b\b\b\b\b\b\b\b\b\b\b\b\b\b\b\b\b\b\b\b\b\b\b\b\b\b\b\b\b\b\b\b\b\b\b\b\b\b\b\b\b\b\b\b\b\b\b                                                             \b\b\b\b\b\b\b\b\b\b\b\b\b\b\b\b\b\b\b\b\b\b\b\b\b\b\b\b\b\b\b\b\b\b\b\b\b\b\b\b\b\b\b\b\b\b\b\b\b\b\b\b\b\b\b\b\b\b\b\b\b 14% 2049 - DDR-dataset/DR_grading/test/20170427201816341.jpg\b\b\b\b\b\b\b\b\b\b\b\b\b\b\b\b\b\b\b\b\b\b\b\b\b\b\b\b\b\b\b\b\b\b\b\b\b\b\b\b\b\b\b\b\b\b\b\b\b\b\b\b\b\b\b\b\b\b\b\b\b                                                             \b\b\b\b\b\b\b\b\b\b\b\b\b\b\b\b\b\b\b\b\b\b\b\b\b\b\b\b\b\b\b\b\b\b\b\b\b\b\b\b\b\b\b\b\b\b\b\b\b\b\b\b\b\b\b\b\b\b\b\b\b 14% 2054 - DDR-dataset/DR_grading/test/20170427203808158.jpg\b\b\b\b\b\b\b\b\b\b\b\b\b\b\b\b\b\b\b\b\b\b\b\b\b\b\b\b\b\b\b\b\b\b\b\b\b\b\b\b\b\b\b\b\b\b\b\b\b\b\b\b\b\b\b\b\b\b\b\b\b                                                             \b\b\b\b\b\b\b\b\b\b\b\b\b\b\b\b\b\b\b\b\b\b\b\b\b\b\b\b\b\b\b\b\b\b\b\b\b\b\b\b\b\b\b\b\b\b\b\b\b\b\b\b\b\b\b\b\b\b\b\b\b 14% 2062 - DDR-dataset/DR_grading/test/20170427204940840.jpg\b\b\b\b\b\b\b\b\b\b\b\b\b\b\b\b\b\b\b\b\b\b\b\b\b\b\b\b\b\b\b\b\b\b\b\b\b\b\b\b\b\b\b\b\b\b\b\b\b\b\b\b\b\b\b\b\b\b\b\b\b                                                             \b\b\b\b\b\b\b\b\b\b\b\b\b\b\b\b\b\b\b\b\b\b\b\b\b\b\b\b\b\b\b\b\b\b\b\b\b\b\b\b\b\b\b\b\b\b\b\b\b\b\b\b\b\b\b\b\b\b\b\b\b 14% 2068 - DDR-dataset/DR_grading/test/20170427212136322.jpg\b\b\b\b\b\b\b\b\b\b\b\b\b\b\b\b\b\b\b\b\b\b\b\b\b\b\b\b\b\b\b\b\b\b\b\b\b\b\b\b\b\b\b\b\b\b\b\b\b\b\b\b\b\b\b\b\b\b\b\b\b                                                             \b\b\b\b\b\b\b\b\b\b\b\b\b\b\b\b\b\b\b\b\b\b\b\b\b\b\b\b\b\b\b\b\b\b\b\b\b\b\b\b\b\b\b\b\b\b\b\b\b\b\b\b\b\b\b\b\b\b\b\b\b 15% 2081 - DDR-dataset/DR_grading/test/20170427215354350.jpg\b\b\b\b\b\b\b\b\b\b\b\b\b\b\b\b\b\b\b\b\b\b\b\b\b\b\b\b\b\b\b\b\b\b\b\b\b\b\b\b\b\b\b\b\b\b\b\b\b\b\b\b\b\b\b\b\b\b\b\b\b                                                             \b\b\b\b\b\b\b\b\b\b\b\b\b\b\b\b\b\b\b\b\b\b\b\b\b\b\b\b\b\b\b\b\b\b\b\b\b\b\b\b\b\b\b\b\b\b\b\b\b\b\b\b\b\b\b\b\b\b\b\b\b 15% 2093 - DDR-dataset/DR_grading/test/20170428082715586.jpg\b\b\b\b\b\b\b\b\b\b\b\b\b\b\b\b\b\b\b\b\b\b\b\b\b\b\b\b\b\b\b\b\b\b\b\b\b\b\b\b\b\b\b\b\b\b\b\b\b\b\b\b\b\b\b\b\b\b\b\b\b                                                             \b\b\b\b\b\b\b\b\b\b\b\b\b\b\b\b\b\b\b\b\b\b\b\b\b\b\b\b\b\b\b\b\b\b\b\b\b\b\b\b\b\b\b\b\b\b\b\b\b\b\b\b\b\b\b\b\b\b\b\b\b 15% 2129 - DDR-dataset/DR_grading/test/20170428091726420.jpg\b\b\b\b\b\b\b\b\b\b\b\b\b\b\b\b\b\b\b\b\b\b\b\b\b\b\b\b\b\b\b\b\b\b\b\b\b\b\b\b\b\b\b\b\b\b\b\b\b\b\b\b\b\b\b\b\b\b\b\b\b                                                             \b\b\b\b\b\b\b\b\b\b\b\b\b\b\b\b\b\b\b\b\b\b\b\b\b\b\b\b\b\b\b\b\b\b\b\b\b\b\b\b\b\b\b\b\b\b\b\b\b\b\b\b\b\b\b\b\b\b\b\b\b 15% 2133 - DDR-dataset/DR_grading/test/20170428091827454.jpg\b\b\b\b\b\b\b\b\b\b\b\b\b\b\b\b\b\b\b\b\b\b\b\b\b\b\b\b\b\b\b\b\b\b\b\b\b\b\b\b\b\b\b\b\b\b\b\b\b\b\b\b\b\b\b\b\b\b\b\b\b                                                             \b\b\b\b\b\b\b\b\b\b\b\b\b\b\b\b\b\b\b\b\b\b\b\b\b\b\b\b\b\b\b\b\b\b\b\b\b\b\b\b\b\b\b\b\b\b\b\b\b\b\b\b\b\b\b\b\b\b\b\b\b 15% 2158 - DDR-dataset/DR_grading/test/20170428100842515.jpg\b\b\b\b\b\b\b\b\b\b\b\b\b\b\b\b\b\b\b\b\b\b\b\b\b\b\b\b\b\b\b\b\b\b\b\b\b\b\b\b\b\b\b\b\b\b\b\b\b\b\b\b\b\b\b\b\b\b\b\b\b                                                             \b\b\b\b\b\b\b\b\b\b\b\b\b\b\b\b\b\b\b\b\b\b\b\b\b\b\b\b\b\b\b\b\b\b\b\b\b\b\b\b\b\b\b\b\b\b\b\b\b\b\b\b\b\b\b\b\b\b\b\b\b 16% 2192 - DDR-dataset/DR_grading/test/20170428140421454.jpg\b\b\b\b\b\b\b\b\b\b\b\b\b\b\b\b\b\b\b\b\b\b\b\b\b\b\b\b\b\b\b\b\b\b\b\b\b\b\b\b\b\b\b\b\b\b\b\b\b\b\b\b\b\b\b\b\b\b\b\b\b                                                             \b\b\b\b\b\b\b\b\b\b\b\b\b\b\b\b\b\b\b\b\b\b\b\b\b\b\b\b\b\b\b\b\b\b\b\b\b\b\b\b\b\b\b\b\b\b\b\b\b\b\b\b\b\b\b\b\b\b\b\b\b 16% 2234 - DDR-dataset/DR_grading/test/20170429095809095.jpg\b\b\b\b\b\b\b\b\b\b\b\b\b\b\b\b\b\b\b\b\b\b\b\b\b\b\b\b\b\b\b\b\b\b\b\b\b\b\b\b\b\b\b\b\b\b\b\b\b\b\b\b\b\b\b\b\b\b\b\b\b                                                             \b\b\b\b\b\b\b\b\b\b\b\b\b\b\b\b\b\b\b\b\b\b\b\b\b\b\b\b\b\b\b\b\b\b\b\b\b\b\b\b\b\b\b\b\b\b\b\b\b\b\b\b\b\b\b\b\b\b\b\b\b 16% 2239 - DDR-dataset/DR_grading/test/20170429193229179.jpg\b\b\b\b\b\b\b\b\b\b\b\b\b\b\b\b\b\b\b\b\b\b\b\b\b\b\b\b\b\b\b\b\b\b\b\b\b\b\b\b\b\b\b\b\b\b\b\b\b\b\b\b\b\b\b\b\b\b\b\b\b                                                             \b\b\b\b\b\b\b\b\b\b\b\b\b\b\b\b\b\b\b\b\b\b\b\b\b\b\b\b\b\b\b\b\b\b\b\b\b\b\b\b\b\b\b\b\b\b\b\b\b\b\b\b\b\b\b\b\b\b\b\b\b 16% 2244 - DDR-dataset/DR_grading/test/20170429194722802.jpg\b\b\b\b\b\b\b\b\b\b\b\b\b\b\b\b\b\b\b\b\b\b\b\b\b\b\b\b\b\b\b\b\b\b\b\b\b\b\b\b\b\b\b\b\b\b\b\b\b\b\b\b\b\b\b\b\b\b\b\b\b                                                             \b\b\b\b\b\b\b\b\b\b\b\b\b\b\b\b\b\b\b\b\b\b\b\b\b\b\b\b\b\b\b\b\b\b\b\b\b\b\b\b\b\b\b\b\b\b\b\b\b\b\b\b\b\b\b\b\b\b\b\b\b 16% 2256 - DDR-dataset/DR_grading/test/20170429200158774.jpg\b\b\b\b\b\b\b\b\b\b\b\b\b\b\b\b\b\b\b\b\b\b\b\b\b\b\b\b\b\b\b\b\b\b\b\b\b\b\b\b\b\b\b\b\b\b\b\b\b\b\b\b\b\b\b\b\b\b\b\b\b                                                             \b\b\b\b\b\b\b\b\b\b\b\b\b\b\b\b\b\b\b\b\b\b\b\b\b\b\b\b\b\b\b\b\b\b\b\b\b\b\b\b\b\b\b\b\b\b\b\b\b\b\b\b\b\b\b\b\b\b\b\b\b 17% 2269 - DDR-dataset/DR_grading/test/20170429200530941.jpg\b\b\b\b\b\b\b\b\b\b\b\b\b\b\b\b\b\b\b\b\b\b\b\b\b\b\b\b\b\b\b\b\b\b\b\b\b\b\b\b\b\b\b\b\b\b\b\b\b\b\b\b\b\b\b\b\b\b\b\b\b                                                             \b\b\b\b\b\b\b\b\b\b\b\b\b\b\b\b\b\b\b\b\b\b\b\b\b\b\b\b\b\b\b\b\b\b\b\b\b\b\b\b\b\b\b\b\b\b\b\b\b\b\b\b\b\b\b\b\b\b\b\b\b 17% 2291 - DDR-dataset/DR_grading/test/20170429201425625.jpg\b\b\b\b\b\b\b\b\b\b\b\b\b\b\b\b\b\b\b\b\b\b\b\b\b\b\b\b\b\b\b\b\b\b\b\b\b\b\b\b\b\b\b\b\b\b\b\b\b\b\b\b\b\b\b\b\b\b\b\b\b                                                             \b\b\b\b\b\b\b\b\b\b\b\b\b\b\b\b\b\b\b\b\b\b\b\b\b\b\b\b\b\b\b\b\b\b\b\b\b\b\b\b\b\b\b\b\b\b\b\b\b\b\b\b\b\b\b\b\b\b\b\b\b 17% 2302 - DDR-dataset/DR_grading/test/20170429201802065.jpg\b\b\b\b\b\b\b\b\b\b\b\b\b\b\b\b\b\b\b\b\b\b\b\b\b\b\b\b\b\b\b\b\b\b\b\b\b\b\b\b\b\b\b\b\b\b\b\b\b\b\b\b\b\b\b\b\b\b\b\b\b                                                             \b\b\b\b\b\b\b\b\b\b\b\b\b\b\b\b\b\b\b\b\b\b\b\b\b\b\b\b\b\b\b\b\b\b\b\b\b\b\b\b\b\b\b\b\b\b\b\b\b\b\b\b\b\b\b\b\b\b\b\b\b 17% 2303 - DDR-dataset/DR_grading/test/20170429201902088.jpg\b\b\b\b\b\b\b\b\b\b\b\b\b\b\b\b\b\b\b\b\b\b\b\b\b\b\b\b\b\b\b\b\b\b\b\b\b\b\b\b\b\b\b\b\b\b\b\b\b\b\b\b\b\b\b\b\b\b\b\b\b                                                             \b\b\b\b\b\b\b\b\b\b\b\b\b\b\b\b\b\b\b\b\b\b\b\b\b\b\b\b\b\b\b\b\b\b\b\b\b\b\b\b\b\b\b\b\b\b\b\b\b\b\b\b\b\b\b\b\b\b\b\b\b 17% 2328 - DDR-dataset/DR_grading/test/20170429202503125.jpg\b\b\b\b\b\b\b\b\b\b\b\b\b\b\b\b\b\b\b\b\b\b\b\b\b\b\b\b\b\b\b\b\b\b\b\b\b\b\b\b\b\b\b\b\b\b\b\b\b\b\b\b\b\b\b\b\b\b\b\b\b                                                             \b\b\b\b\b\b\b\b\b\b\b\b\b\b\b\b\b\b\b\b\b\b\b\b\b\b\b\b\b\b\b\b\b\b\b\b\b\b\b\b\b\b\b\b\b\b\b\b\b\b\b\b\b\b\b\b\b\b\b\b\b 17% 2333 - DDR-dataset/DR_grading/test/20170429202615849.jpg\b\b\b\b\b\b\b\b\b\b\b\b\b\b\b\b\b\b\b\b\b\b\b\b\b\b\b\b\b\b\b\b\b\b\b\b\b\b\b\b\b\b\b\b\b\b\b\b\b\b\b\b\b\b\b\b\b\b\b\b\b                                                             \b\b\b\b\b\b\b\b\b\b\b\b\b\b\b\b\b\b\b\b\b\b\b\b\b\b\b\b\b\b\b\b\b\b\b\b\b\b\b\b\b\b\b\b\b\b\b\b\b\b\b\b\b\b\b\b\b\b\b\b\b 18% 2340 - DDR-dataset/DR_grading/test/20170429202830686.jpg\b\b\b\b\b\b\b\b\b\b\b\b\b\b\b\b\b\b\b\b\b\b\b\b\b\b\b\b\b\b\b\b\b\b\b\b\b\b\b\b\b\b\b\b\b\b\b\b\b\b\b\b\b\b\b\b\b\b\b\b\b                                                             \b\b\b\b\b\b\b\b\b\b\b\b\b\b\b\b\b\b\b\b\b\b\b\b\b\b\b\b\b\b\b\b\b\b\b\b\b\b\b\b\b\b\b\b\b\b\b\b\b\b\b\b\b\b\b\b\b\b\b\b\b 18% 2346 - DDR-dataset/DR_grading/test/20170429203052748.jpg\b\b\b\b\b\b\b\b\b\b\b\b\b\b\b\b\b\b\b\b\b\b\b\b\b\b\b\b\b\b\b\b\b\b\b\b\b\b\b\b\b\b\b\b\b\b\b\b\b\b\b\b\b\b\b\b\b\b\b\b\b                                                             \b\b\b\b\b\b\b\b\b\b\b\b\b\b\b\b\b\b\b\b\b\b\b\b\b\b\b\b\b\b\b\b\b\b\b\b\b\b\b\b\b\b\b\b\b\b\b\b\b\b\b\b\b\b\b\b\b\b\b\b\b 18% 2357 - DDR-dataset/DR_grading/test/20170429203344819.jpg\b\b\b\b\b\b\b\b\b\b\b\b\b\b\b\b\b\b\b\b\b\b\b\b\b\b\b\b\b\b\b\b\b\b\b\b\b\b\b\b\b\b\b\b\b\b\b\b\b\b\b\b\b\b\b\b\b\b\b\b\b                                                             \b\b\b\b\b\b\b\b\b\b\b\b\b\b\b\b\b\b\b\b\b\b\b\b\b\b\b\b\b\b\b\b\b\b\b\b\b\b\b\b\b\b\b\b\b\b\b\b\b\b\b\b\b\b\b\b\b\b\b\b\b 18% 2361 - DDR-dataset/DR_grading/test/20170429203416134.jpg\b\b\b\b\b\b\b\b\b\b\b\b\b\b\b\b\b\b\b\b\b\b\b\b\b\b\b\b\b\b\b\b\b\b\b\b\b\b\b\b\b\b\b\b\b\b\b\b\b\b\b\b\b\b\b\b\b\b\b\b\b                                                             \b\b\b\b\b\b\b\b\b\b\b\b\b\b\b\b\b\b\b\b\b\b\b\b\b\b\b\b\b\b\b\b\b\b\b\b\b\b\b\b\b\b\b\b\b\b\b\b\b\b\b\b\b\b\b\b\b\b\b\b\b 18% 2368 - DDR-dataset/DR_grading/test/20170429203635487.jpg\b\b\b\b\b\b\b\b\b\b\b\b\b\b\b\b\b\b\b\b\b\b\b\b\b\b\b\b\b\b\b\b\b\b\b\b\b\b\b\b\b\b\b\b\b\b\b\b\b\b\b\b\b\b\b\b\b\b\b\b\b                                                             \b\b\b\b\b\b\b\b\b\b\b\b\b\b\b\b\b\b\b\b\b\b\b\b\b\b\b\b\b\b\b\b\b\b\b\b\b\b\b\b\b\b\b\b\b\b\b\b\b\b\b\b\b\b\b\b\b\b\b\b\b 18% 2380 - DDR-dataset/DR_grading/test/20170429204056381.jpg\b\b\b\b\b\b\b\b\b\b\b\b\b\b\b\b\b\b\b\b\b\b\b\b\b\b\b\b\b\b\b\b\b\b\b\b\b\b\b\b\b\b\b\b\b\b\b\b\b\b\b\b\b\b\b\b\b\b\b\b\b                                                             \b\b\b\b\b\b\b\b\b\b\b\b\b\b\b\b\b\b\b\b\b\b\b\b\b\b\b\b\b\b\b\b\b\b\b\b\b\b\b\b\b\b\b\b\b\b\b\b\b\b\b\b\b\b\b\b\b\b\b\b\b 19% 2400 - DDR-dataset/DR_grading/test/20170429204350949.jpg\b\b\b\b\b\b\b\b\b\b\b\b\b\b\b\b\b\b\b\b\b\b\b\b\b\b\b\b\b\b\b\b\b\b\b\b\b\b\b\b\b\b\b\b\b\b\b\b\b\b\b\b\b\b\b\b\b\b\b\b\b                                                             \b\b\b\b\b\b\b\b\b\b\b\b\b\b\b\b\b\b\b\b\b\b\b\b\b\b\b\b\b\b\b\b\b\b\b\b\b\b\b\b\b\b\b\b\b\b\b\b\b\b\b\b\b\b\b\b\b\b\b\b\b 19% 2410 - DDR-dataset/DR_grading/test/20170429204556794.jpg\b\b\b\b\b\b\b\b\b\b\b\b\b\b\b\b\b\b\b\b\b\b\b\b\b\b\b\b\b\b\b\b\b\b\b\b\b\b\b\b\b\b\b\b\b\b\b\b\b\b\b\b\b\b\b\b\b\b\b\b\b                                                             \b\b\b\b\b\b\b\b\b\b\b\b\b\b\b\b\b\b\b\b\b\b\b\b\b\b\b\b\b\b\b\b\b\b\b\b\b\b\b\b\b\b\b\b\b\b\b\b\b\b\b\b\b\b\b\b\b\b\b\b\b 19% 2411 - DDR-dataset/DR_grading/test/20170429204600944.jpg\b\b\b\b\b\b\b\b\b\b\b\b\b\b\b\b\b\b\b\b\b\b\b\b\b\b\b\b\b\b\b\b\b\b\b\b\b\b\b\b\b\b\b\b\b\b\b\b\b\b\b\b\b\b\b\b\b\b\b\b\b                                                             \b\b\b\b\b\b\b\b\b\b\b\b\b\b\b\b\b\b\b\b\b\b\b\b\b\b\b\b\b\b\b\b\b\b\b\b\b\b\b\b\b\b\b\b\b\b\b\b\b\b\b\b\b\b\b\b\b\b\b\b\b 19% 2412\b\b\b\b\b\b\b\b\b         \b\b\b\b\b\b\b\b\b 19% 2436 - DDR-dataset/DR_grading/test/20170429205357439.jpg\b\b\b\b\b\b\b\b\b\b\b\b\b\b\b\b\b\b\b\b\b\b\b\b\b\b\b\b\b\b\b\b\b\b\b\b\b\b\b\b\b\b\b\b\b\b\b\b\b\b\b\b\b\b\b\b\b\b\b\b\b                                                             \b\b\b\b\b\b\b\b\b\b\b\b\b\b\b\b\b\b\b\b\b\b\b\b\b\b\b\b\b\b\b\b\b\b\b\b\b\b\b\b\b\b\b\b\b\b\b\b\b\b\b\b\b\b\b\b\b\b\b\b\b 19% 2445 - DDR-dataset/DR_grading/test/20170429205542770.jpg\b\b\b\b\b\b\b\b\b\b\b\b\b\b\b\b\b\b\b\b\b\b\b\b\b\b\b\b\b\b\b\b\b\b\b\b\b\b\b\b\b\b\b\b\b\b\b\b\b\b\b\b\b\b\b\b\b\b\b\b\b                                                             \b\b\b\b\b\b\b\b\b\b\b\b\b\b\b\b\b\b\b\b\b\b\b\b\b\b\b\b\b\b\b\b\b\b\b\b\b\b\b\b\b\b\b\b\b\b\b\b\b\b\b\b\b\b\b\b\b\b\b\b\b 19% 2448 - DDR-dataset/DR_grading/test/20170429205648335.jpg\b\b\b\b\b\b\b\b\b\b\b\b\b\b\b\b\b\b\b\b\b\b\b\b\b\b\b\b\b\b\b\b\b\b\b\b\b\b\b\b\b\b\b\b\b\b\b\b\b\b\b\b\b\b\b\b\b\b\b\b\b                                                             \b\b\b\b\b\b\b\b\b\b\b\b\b\b\b\b\b\b\b\b\b\b\b\b\b\b\b\b\b\b\b\b\b\b\b\b\b\b\b\b\b\b\b\b\b\b\b\b\b\b\b\b\b\b\b\b\b\b\b\b\b 19% 2457 - DDR-dataset/DR_grading/test/20170429205941167.jpg\b\b\b\b\b\b\b\b\b\b\b\b\b\b\b\b\b\b\b\b\b\b\b\b\b\b\b\b\b\b\b\b\b\b\b\b\b\b\b\b\b\b\b\b\b\b\b\b\b\b\b\b\b\b\b\b\b\b\b\b\b                                                             \b\b\b\b\b\b\b\b\b\b\b\b\b\b\b\b\b\b\b\b\b\b\b\b\b\b\b\b\b\b\b\b\b\b\b\b\b\b\b\b\b\b\b\b\b\b\b\b\b\b\b\b\b\b\b\b\b\b\b\b\b 20% 2465 - DDR-dataset/DR_grading/test/20170429210214682.jpg\b\b\b\b\b\b\b\b\b\b\b\b\b\b\b\b\b\b\b\b\b\b\b\b\b\b\b\b\b\b\b\b\b\b\b\b\b\b\b\b\b\b\b\b\b\b\b\b\b\b\b\b\b\b\b\b\b\b\b\b\b                                                             \b\b\b\b\b\b\b\b\b\b\b\b\b\b\b\b\b\b\b\b\b\b\b\b\b\b\b\b\b\b\b\b\b\b\b\b\b\b\b\b\b\b\b\b\b\b\b\b\b\b\b\b\b\b\b\b\b\b\b\b\b 20% 2468 - DDR-dataset/DR_grading/test/20170429210329254.jpg\b\b\b\b\b\b\b\b\b\b\b\b\b\b\b\b\b\b\b\b\b\b\b\b\b\b\b\b\b\b\b\b\b\b\b\b\b\b\b\b\b\b\b\b\b\b\b\b\b\b\b\b\b\b\b\b\b\b\b\b\b                                                             \b\b\b\b\b\b\b\b\b\b\b\b\b\b\b\b\b\b\b\b\b\b\b\b\b\b\b\b\b\b\b\b\b\b\b\b\b\b\b\b\b\b\b\b\b\b\b\b\b\b\b\b\b\b\b\b\b\b\b\b\b 20% 2471 - DDR-dataset/DR_grading/test/20170429210404360.jpg\b\b\b\b\b\b\b\b\b\b\b\b\b\b\b\b\b\b\b\b\b\b\b\b\b\b\b\b\b\b\b\b\b\b\b\b\b\b\b\b\b\b\b\b\b\b\b\b\b\b\b\b\b\b\b\b\b\b\b\b\b                                                             \b\b\b\b\b\b\b\b\b\b\b\b\b\b\b\b\b\b\b\b\b\b\b\b\b\b\b\b\b\b\b\b\b\b\b\b\b\b\b\b\b\b\b\b\b\b\b\b\b\b\b\b\b\b\b\b\b\b\b\b\b 20% 2480 - DDR-dataset/DR_grading/test/20170429210712137.jpg\b\b\b\b\b\b\b\b\b\b\b\b\b\b\b\b\b\b\b\b\b\b\b\b\b\b\b\b\b\b\b\b\b\b\b\b\b\b\b\b\b\b\b\b\b\b\b\b\b\b\b\b\b\b\b\b\b\b\b\b\b                                                             \b\b\b\b\b\b\b\b\b\b\b\b\b\b\b\b\b\b\b\b\b\b\b\b\b\b\b\b\b\b\b\b\b\b\b\b\b\b\b\b\b\b\b\b\b\b\b\b\b\b\b\b\b\b\b\b\b\b\b\b\b 20% 2488 - DDR-dataset/DR_grading/test/20170429210854778.jpg\b\b\b\b\b\b\b\b\b\b\b\b\b\b\b\b\b\b\b\b\b\b\b\b\b\b\b\b\b\b\b\b\b\b\b\b\b\b\b\b\b\b\b\b\b\b\b\b\b\b\b\b\b\b\b\b\b\b\b\b\b                                                             \b\b\b\b\b\b\b\b\b\b\b\b\b\b\b\b\b\b\b\b\b\b\b\b\b\b\b\b\b\b\b\b\b\b\b\b\b\b\b\b\b\b\b\b\b\b\b\b\b\b\b\b\b\b\b\b\b\b\b\b\b 20% 2496 - DDR-dataset/DR_grading/test/20170429211034855.jpg\b\b\b\b\b\b\b\b\b\b\b\b\b\b\b\b\b\b\b\b\b\b\b\b\b\b\b\b\b\b\b\b\b\b\b\b\b\b\b\b\b\b\b\b\b\b\b\b\b\b\b\b\b\b\b\b\b\b\b\b\b                                                             \b\b\b\b\b\b\b\b\b\b\b\b\b\b\b\b\b\b\b\b\b\b\b\b\b\b\b\b\b\b\b\b\b\b\b\b\b\b\b\b\b\b\b\b\b\b\b\b\b\b\b\b\b\b\b\b\b\b\b\b\b 20% 2505 - DDR-dataset/DR_grading/test/20170429211603875.jpg\b\b\b\b\b\b\b\b\b\b\b\b\b\b\b\b\b\b\b\b\b\b\b\b\b\b\b\b\b\b\b\b\b\b\b\b\b\b\b\b\b\b\b\b\b\b\b\b\b\b\b\b\b\b\b\b\b\b\b\b\b                                                             \b\b\b\b\b\b\b\b\b\b\b\b\b\b\b\b\b\b\b\b\b\b\b\b\b\b\b\b\b\b\b\b\b\b\b\b\b\b\b\b\b\b\b\b\b\b\b\b\b\b\b\b\b\b\b\b\b\b\b\b\b 20% 2514 - DDR-dataset/DR_grading/test/20170429211939728.jpg\b\b\b\b\b\b\b\b\b\b\b\b\b\b\b\b\b\b\b\b\b\b\b\b\b\b\b\b\b\b\b\b\b\b\b\b\b\b\b\b\b\b\b\b\b\b\b\b\b\b\b\b\b\b\b\b\b\b\b\b\b                                                             \b\b\b\b\b\b\b\b\b\b\b\b\b\b\b\b\b\b\b\b\b\b\b\b\b\b\b\b\b\b\b\b\b\b\b\b\b\b\b\b\b\b\b\b\b\b\b\b\b\b\b\b\b\b\b\b\b\b\b\b\b 20% 2515 - DDR-dataset/DR_grading/test/20170429212025437.jpg\b\b\b\b\b\b\b\b\b\b\b\b\b\b\b\b\b\b\b\b\b\b\b\b\b\b\b\b\b\b\b\b\b\b\b\b\b\b\b\b\b\b\b\b\b\b\b\b\b\b\b\b\b\b\b\b\b\b\b\b\b                                                             \b\b\b\b\b\b\b\b\b\b\b\b\b\b\b\b\b\b\b\b\b\b\b\b\b\b\b\b\b\b\b\b\b\b\b\b\b\b\b\b\b\b\b\b\b\b\b\b\b\b\b\b\b\b\b\b\b\b\b\b\b 20% 2518 - DDR-dataset/DR_grading/test/20170429212130578.jpg\b\b\b\b\b\b\b\b\b\b\b\b\b\b\b\b\b\b\b\b\b\b\b\b\b\b\b\b\b\b\b\b\b\b\b\b\b\b\b\b\b\b\b\b\b\b\b\b\b\b\b\b\b\b\b\b\b\b\b\b\b                                                             \b\b\b\b\b\b\b\b\b\b\b\b\b\b\b\b\b\b\b\b\b\b\b\b\b\b\b\b\b\b\b\b\b\b\b\b\b\b\b\b\b\b\b\b\b\b\b\b\b\b\b\b\b\b\b\b\b\b\b\b\b 21% 2538 - DDR-dataset/DR_grading/test/20170429212728245.jpg\b\b\b\b\b\b\b\b\b\b\b\b\b\b\b\b\b\b\b\b\b\b\b\b\b\b\b\b\b\b\b\b\b\b\b\b\b\b\b\b\b\b\b\b\b\b\b\b\b\b\b\b\b\b\b\b\b\b\b\b\b                                                             \b\b\b\b\b\b\b\b\b\b\b\b\b\b\b\b\b\b\b\b\b\b\b\b\b\b\b\b\b\b\b\b\b\b\b\b\b\b\b\b\b\b\b\b\b\b\b\b\b\b\b\b\b\b\b\b\b\b\b\b\b 21% 2541 - DDR-dataset/DR_grading/test/20170429212807968.jpg\b\b\b\b\b\b\b\b\b\b\b\b\b\b\b\b\b\b\b\b\b\b\b\b\b\b\b\b\b\b\b\b\b\b\b\b\b\b\b\b\b\b\b\b\b\b\b\b\b\b\b\b\b\b\b\b\b\b\b\b\b                                                             \b\b\b\b\b\b\b\b\b\b\b\b\b\b\b\b\b\b\b\b\b\b\b\b\b\b\b\b\b\b\b\b\b\b\b\b\b\b\b\b\b\b\b\b\b\b\b\b\b\b\b\b\b\b\b\b\b\b\b\b\b 21% 2560 - DDR-dataset/DR_grading/test/20170429213324820.jpg\b\b\b\b\b\b\b\b\b\b\b\b\b\b\b\b\b\b\b\b\b\b\b\b\b\b\b\b\b\b\b\b\b\b\b\b\b\b\b\b\b\b\b\b\b\b\b\b\b\b\b\b\b\b\b\b\b\b\b\b\b                                                             \b\b\b\b\b\b\b\b\b\b\b\b\b\b\b\b\b\b\b\b\b\b\b\b\b\b\b\b\b\b\b\b\b\b\b\b\b\b\b\b\b\b\b\b\b\b\b\b\b\b\b\b\b\b\b\b\b\b\b\b\b 21% 2572 - DDR-dataset/DR_grading/test/20170429213720222.jpg\b\b\b\b\b\b\b\b\b\b\b\b\b\b\b\b\b\b\b\b\b\b\b\b\b\b\b\b\b\b\b\b\b\b\b\b\b\b\b\b\b\b\b\b\b\b\b\b\b\b\b\b\b\b\b\b\b\b\b\b\b                                                             \b\b\b\b\b\b\b\b\b\b\b\b\b\b\b\b\b\b\b\b\b\b\b\b\b\b\b\b\b\b\b\b\b\b\b\b\b\b\b\b\b\b\b\b\b\b\b\b\b\b\b\b\b\b\b\b\b\b\b\b\b 21% 2580 - DDR-dataset/DR_grading/test/20170429214029038.jpg\b\b\b\b\b\b\b\b\b\b\b\b\b\b\b\b\b\b\b\b\b\b\b\b\b\b\b\b\b\b\b\b\b\b\b\b\b\b\b\b\b\b\b\b\b\b\b\b\b\b\b\b\b\b\b\b\b\b\b\b\b                                                             \b\b\b\b\b\b\b\b\b\b\b\b\b\b\b\b\b\b\b\b\b\b\b\b\b\b\b\b\b\b\b\b\b\b\b\b\b\b\b\b\b\b\b\b\b\b\b\b\b\b\b\b\b\b\b\b\b\b\b\b\b 21% 2597 - DDR-dataset/DR_grading/test/20170429214649474.jpg\b\b\b\b\b\b\b\b\b\b\b\b\b\b\b\b\b\b\b\b\b\b\b\b\b\b\b\b\b\b\b\b\b\b\b\b\b\b\b\b\b\b\b\b\b\b\b\b\b\b\b\b\b\b\b\b\b\b\b\b\b                                                             \b\b\b\b\b\b\b\b\b\b\b\b\b\b\b\b\b\b\b\b\b\b\b\b\b\b\b\b\b\b\b\b\b\b\b\b\b\b\b\b\b\b\b\b\b\b\b\b\b\b\b\b\b\b\b\b\b\b\b\b\b 21% 2600 - DDR-dataset/DR_grading/test/20170429214714282.jpg\b\b\b\b\b\b\b\b\b\b\b\b\b\b\b\b\b\b\b\b\b\b\b\b\b\b\b\b\b\b\b\b\b\b\b\b\b\b\b\b\b\b\b\b\b\b\b\b\b\b\b\b\b\b\b\b\b\b\b\b\b                                                             \b\b\b\b\b\b\b\b\b\b\b\b\b\b\b\b\b\b\b\b\b\b\b\b\b\b\b\b\b\b\b\b\b\b\b\b\b\b\b\b\b\b\b\b\b\b\b\b\b\b\b\b\b\b\b\b\b\b\b\b\b 22% 2644 - DDR-dataset/DR_grading/test/20170429220006463.jpg\b\b\b\b\b\b\b\b\b\b\b\b\b\b\b\b\b\b\b\b\b\b\b\b\b\b\b\b\b\b\b\b\b\b\b\b\b\b\b\b\b\b\b\b\b\b\b\b\b\b\b\b\b\b\b\b\b\b\b\b\b                                                             \b\b\b\b\b\b\b\b\b\b\b\b\b\b\b\b\b\b\b\b\b\b\b\b\b\b\b\b\b\b\b\b\b\b\b\b\b\b\b\b\b\b\b\b\b\b\b\b\b\b\b\b\b\b\b\b\b\b\b\b\b 22% 2661 - DDR-dataset/DR_grading/test/20170429220620536.jpg\b\b\b\b\b\b\b\b\b\b\b\b\b\b\b\b\b\b\b\b\b\b\b\b\b\b\b\b\b\b\b\b\b\b\b\b\b\b\b\b\b\b\b\b\b\b\b\b\b\b\b\b\b\b\b\b\b\b\b\b\b                                                             \b\b\b\b\b\b\b\b\b\b\b\b\b\b\b\b\b\b\b\b\b\b\b\b\b\b\b\b\b\b\b\b\b\b\b\b\b\b\b\b\b\b\b\b\b\b\b\b\b\b\b\b\b\b\b\b\b\b\b\b\b 22% 2669 - DDR-dataset/DR_grading/test/20170429220911457.jpg\b\b\b\b\b\b\b\b\b\b\b\b\b\b\b\b\b\b\b\b\b\b\b\b\b\b\b\b\b\b\b\b\b\b\b\b\b\b\b\b\b\b\b\b\b\b\b\b\b\b\b\b\b\b\b\b\b\b\b\b\b                                                             \b\b\b\b\b\b\b\b\b\b\b\b\b\b\b\b\b\b\b\b\b\b\b\b\b\b\b\b\b\b\b\b\b\b\b\b\b\b\b\b\b\b\b\b\b\b\b\b\b\b\b\b\b\b\b\b\b\b\b\b\b 22% 2685 - DDR-dataset/DR_grading/test/20170429221348614.jpg\b\b\b\b\b\b\b\b\b\b\b\b\b\b\b\b\b\b\b\b\b\b\b\b\b\b\b\b\b\b\b\b\b\b\b\b\b\b\b\b\b\b\b\b\b\b\b\b\b\b\b\b\b\b\b\b\b\b\b\b\b                                                             \b\b\b\b\b\b\b\b\b\b\b\b\b\b\b\b\b\b\b\b\b\b\b\b\b\b\b\b\b\b\b\b\b\b\b\b\b\b\b\b\b\b\b\b\b\b\b\b\b\b\b\b\b\b\b\b\b\b\b\b\b 22% 2709 - DDR-dataset/DR_grading/test/20170429222306771.jpg\b\b\b\b\b\b\b\b\b\b\b\b\b\b\b\b\b\b\b\b\b\b\b\b\b\b\b\b\b\b\b\b\b\b\b\b\b\b\b\b\b\b\b\b\b\b\b\b\b\b\b\b\b\b\b\b\b\b\b\b\b                                                             \b\b\b\b\b\b\b\b\b\b\b\b\b\b\b\b\b\b\b\b\b\b\b\b\b\b\b\b\b\b\b\b\b\b\b\b\b\b\b\b\b\b\b\b\b\b\b\b\b\b\b\b\b\b\b\b\b\b\b\b\b 22% 2714 - DDR-dataset/DR_grading/test/20170429222433397.jpg\b\b\b\b\b\b\b\b\b\b\b\b\b\b\b\b\b\b\b\b\b\b\b\b\b\b\b\b\b\b\b\b\b\b\b\b\b\b\b\b\b\b\b\b\b\b\b\b\b\b\b\b\b\b\b\b\b\b\b\b\b                                                             \b\b\b\b\b\b\b\b\b\b\b\b\b\b\b\b\b\b\b\b\b\b\b\b\b\b\b\b\b\b\b\b\b\b\b\b\b\b\b\b\b\b\b\b\b\b\b\b\b\b\b\b\b\b\b\b\b\b\b\b\b 23% 2728 - DDR-dataset/DR_grading/test/20170429222925742.jpg\b\b\b\b\b\b\b\b\b\b\b\b\b\b\b\b\b\b\b\b\b\b\b\b\b\b\b\b\b\b\b\b\b\b\b\b\b\b\b\b\b\b\b\b\b\b\b\b\b\b\b\b\b\b\b\b\b\b\b\b\b                                                             \b\b\b\b\b\b\b\b\b\b\b\b\b\b\b\b\b\b\b\b\b\b\b\b\b\b\b\b\b\b\b\b\b\b\b\b\b\b\b\b\b\b\b\b\b\b\b\b\b\b\b\b\b\b\b\b\b\b\b\b\b 23% 2741 - DDR-dataset/DR_grading/test/20170429223630839.jpg\b\b\b\b\b\b\b\b\b\b\b\b\b\b\b\b\b\b\b\b\b\b\b\b\b\b\b\b\b\b\b\b\b\b\b\b\b\b\b\b\b\b\b\b\b\b\b\b\b\b\b\b\b\b\b\b\b\b\b\b\b                                                             \b\b\b\b\b\b\b\b\b\b\b\b\b\b\b\b\b\b\b\b\b\b\b\b\b\b\b\b\b\b\b\b\b\b\b\b\b\b\b\b\b\b\b\b\b\b\b\b\b\b\b\b\b\b\b\b\b\b\b\b\b 23% 2748 - DDR-dataset/DR_grading/test/20170429223858612.jpg\b\b\b\b\b\b\b\b\b\b\b\b\b\b\b\b\b\b\b\b\b\b\b\b\b\b\b\b\b\b\b\b\b\b\b\b\b\b\b\b\b\b\b\b\b\b\b\b\b\b\b\b\b\b\b\b\b\b\b\b\b                                                             \b\b\b\b\b\b\b\b\b\b\b\b\b\b\b\b\b\b\b\b\b\b\b\b\b\b\b\b\b\b\b\b\b\b\b\b\b\b\b\b\b\b\b\b\b\b\b\b\b\b\b\b\b\b\b\b\b\b\b\b\b 23% 2757 - DDR-dataset/DR_grading/test/20170429224204244.jpg\b\b\b\b\b\b\b\b\b\b\b\b\b\b\b\b\b\b\b\b\b\b\b\b\b\b\b\b\b\b\b\b\b\b\b\b\b\b\b\b\b\b\b\b\b\b\b\b\b\b\b\b\b\b\b\b\b\b\b\b\b                                                             \b\b\b\b\b\b\b\b\b\b\b\b\b\b\b\b\b\b\b\b\b\b\b\b\b\b\b\b\b\b\b\b\b\b\b\b\b\b\b\b\b\b\b\b\b\b\b\b\b\b\b\b\b\b\b\b\b\b\b\b\b 23% 2768 - DDR-dataset/DR_grading/test/20170429224554063.jpg\b\b\b\b\b\b\b\b\b\b\b\b\b\b\b\b\b\b\b\b\b\b\b\b\b\b\b\b\b\b\b\b\b\b\b\b\b\b\b\b\b\b\b\b\b\b\b\b\b\b\b\b\b\b\b\b\b\b\b\b\b                                                             \b\b\b\b\b\b\b\b\b\b\b\b\b\b\b\b\b\b\b\b\b\b\b\b\b\b\b\b\b\b\b\b\b\b\b\b\b\b\b\b\b\b\b\b\b\b\b\b\b\b\b\b\b\b\b\b\b\b\b\b\b 23% 2790 - DDR-dataset/DR_grading/test/20170429230100144.jpg\b\b\b\b\b\b\b\b\b\b\b\b\b\b\b\b\b\b\b\b\b\b\b\b\b\b\b\b\b\b\b\b\b\b\b\b\b\b\b\b\b\b\b\b\b\b\b\b\b\b\b\b\b\b\b\b\b\b\b\b\b                                                             \b\b\b\b\b\b\b\b\b\b\b\b\b\b\b\b\b\b\b\b\b\b\b\b\b\b\b\b\b\b\b\b\b\b\b\b\b\b\b\b\b\b\b\b\b\b\b\b\b\b\b\b\b\b\b\b\b\b\b\b\b 23% 2799 - DDR-dataset/DR_grading/test/20170429230835610.jpg\b\b\b\b\b\b\b\b\b\b\b\b\b\b\b\b\b\b\b\b\b\b\b\b\b\b\b\b\b\b\b\b\b\b\b\b\b\b\b\b\b\b\b\b\b\b\b\b\b\b\b\b\b\b\b\b\b\b\b\b\b                                                             \b\b\b\b\b\b\b\b\b\b\b\b\b\b\b\b\b\b\b\b\b\b\b\b\b\b\b\b\b\b\b\b\b\b\b\b\b\b\b\b\b\b\b\b\b\b\b\b\b\b\b\b\b\b\b\b\b\b\b\b\b 23% 2814 - DDR-dataset/DR_grading/test/20170429231658211.jpg\b\b\b\b\b\b\b\b\b\b\b\b\b\b\b\b\b\b\b\b\b\b\b\b\b\b\b\b\b\b\b\b\b\b\b\b\b\b\b\b\b\b\b\b\b\b\b\b\b\b\b\b\b\b\b\b\b\b\b\b\b                                                             \b\b\b\b\b\b\b\b\b\b\b\b\b\b\b\b\b\b\b\b\b\b\b\b\b\b\b\b\b\b\b\b\b\b\b\b\b\b\b\b\b\b\b\b\b\b\b\b\b\b\b\b\b\b\b\b\b\b\b\b\b 24% 2822 - DDR-dataset/DR_grading/test/20170429232029890.jpg\b\b\b\b\b\b\b\b\b\b\b\b\b\b\b\b\b\b\b\b\b\b\b\b\b\b\b\b\b\b\b\b\b\b\b\b\b\b\b\b\b\b\b\b\b\b\b\b\b\b\b\b\b\b\b\b\b\b\b\b\b                                                             \b\b\b\b\b\b\b\b\b\b\b\b\b\b\b\b\b\b\b\b\b\b\b\b\b\b\b\b\b\b\b\b\b\b\b\b\b\b\b\b\b\b\b\b\b\b\b\b\b\b\b\b\b\b\b\b\b\b\b\b\b 24% 2856 - DDR-dataset/DR_grading/test/20170430160453470.jpg\b\b\b\b\b\b\b\b\b\b\b\b\b\b\b\b\b\b\b\b\b\b\b\b\b\b\b\b\b\b\b\b\b\b\b\b\b\b\b\b\b\b\b\b\b\b\b\b\b\b\b\b\b\b\b\b\b\b\b\b\b                                                             \b\b\b\b\b\b\b\b\b\b\b\b\b\b\b\b\b\b\b\b\b\b\b\b\b\b\b\b\b\b\b\b\b\b\b\b\b\b\b\b\b\b\b\b\b\b\b\b\b\b\b\b\b\b\b\b\b\b\b\b\b 24% 2872 - DDR-dataset/DR_grading/test/20170430180013771.jpg\b\b\b\b\b\b\b\b\b\b\b\b\b\b\b\b\b\b\b\b\b\b\b\b\b\b\b\b\b\b\b\b\b\b\b\b\b\b\b\b\b\b\b\b\b\b\b\b\b\b\b\b\b\b\b\b\b\b\b\b\b                                                             \b\b\b\b\b\b\b\b\b\b\b\b\b\b\b\b\b\b\b\b\b\b\b\b\b\b\b\b\b\b\b\b\b\b\b\b\b\b\b\b\b\b\b\b\b\b\b\b\b\b\b\b\b\b\b\b\b\b\b\b\b 24% 2918 - DDR-dataset/DR_grading/test/20170430193300723.jpg\b\b\b\b\b\b\b\b\b\b\b\b\b\b\b\b\b\b\b\b\b\b\b\b\b\b\b\b\b\b\b\b\b\b\b\b\b\b\b\b\b\b\b\b\b\b\b\b\b\b\b\b\b\b\b\b\b\b\b\b\b                                                             \b\b\b\b\b\b\b\b\b\b\b\b\b\b\b\b\b\b\b\b\b\b\b\b\b\b\b\b\b\b\b\b\b\b\b\b\b\b\b\b\b\b\b\b\b\b\b\b\b\b\b\b\b\b\b\b\b\b\b\b\b 25% 2960 - DDR-dataset/DR_grading/test/20170430195124766.jpg\b\b\b\b\b\b\b\b\b\b\b\b\b\b\b\b\b\b\b\b\b\b\b\b\b\b\b\b\b\b\b\b\b\b\b\b\b\b\b\b\b\b\b\b\b\b\b\b\b\b\b\b\b\b\b\b\b\b\b\b\b                                                             \b\b\b\b\b\b\b\b\b\b\b\b\b\b\b\b\b\b\b\b\b\b\b\b\b\b\b\b\b\b\b\b\b\b\b\b\b\b\b\b\b\b\b\b\b\b\b\b\b\b\b\b\b\b\b\b\b\b\b\b\b 25% 2985 - DDR-dataset/DR_grading/test/20170430195829731.jpg\b\b\b\b\b\b\b\b\b\b\b\b\b\b\b\b\b\b\b\b\b\b\b\b\b\b\b\b\b\b\b\b\b\b\b\b\b\b\b\b\b\b\b\b\b\b\b\b\b\b\b\b\b\b\b\b\b\b\b\b\b                                                             \b\b\b\b\b\b\b\b\b\b\b\b\b\b\b\b\b\b\b\b\b\b\b\b\b\b\b\b\b\b\b\b\b\b\b\b\b\b\b\b\b\b\b\b\b\b\b\b\b\b\b\b\b\b\b\b\b\b\b\b\b 26% 3003 - DDR-dataset/DR_grading/test/20170430200328771.jpg\b\b\b\b\b\b\b\b\b\b\b\b\b\b\b\b\b\b\b\b\b\b\b\b\b\b\b\b\b\b\b\b\b\b\b\b\b\b\b\b\b\b\b\b\b\b\b\b\b\b\b\b\b\b\b\b\b\b\b\b\b                                                             \b\b\b\b\b\b\b\b\b\b\b\b\b\b\b\b\b\b\b\b\b\b\b\b\b\b\b\b\b\b\b\b\b\b\b\b\b\b\b\b\b\b\b\b\b\b\b\b\b\b\b\b\b\b\b\b\b\b\b\b\b 26% 3017 - DDR-dataset/DR_grading/test/20170430200717384.jpg\b\b\b\b\b\b\b\b\b\b\b\b\b\b\b\b\b\b\b\b\b\b\b\b\b\b\b\b\b\b\b\b\b\b\b\b\b\b\b\b\b\b\b\b\b\b\b\b\b\b\b\b\b\b\b\b\b\b\b\b\b                                                             \b\b\b\b\b\b\b\b\b\b\b\b\b\b\b\b\b\b\b\b\b\b\b\b\b\b\b\b\b\b\b\b\b\b\b\b\b\b\b\b\b\b\b\b\b\b\b\b\b\b\b\b\b\b\b\b\b\b\b\b\b 26% 3028 - DDR-dataset/DR_grading/test/20170430200958222.jpg\b\b\b\b\b\b\b\b\b\b\b\b\b\b\b\b\b\b\b\b\b\b\b\b\b\b\b\b\b\b\b\b\b\b\b\b\b\b\b\b\b\b\b\b\b\b\b\b\b\b\b\b\b\b\b\b\b\b\b\b\b                                                             \b\b\b\b\b\b\b\b\b\b\b\b\b\b\b\b\b\b\b\b\b\b\b\b\b\b\b\b\b\b\b\b\b\b\b\b\b\b\b\b\b\b\b\b\b\b\b\b\b\b\b\b\b\b\b\b\b\b\b\b\b 26% 3044 - DDR-dataset/DR_grading/test/20170430201247723.jpg\b\b\b\b\b\b\b\b\b\b\b\b\b\b\b\b\b\b\b\b\b\b\b\b\b\b\b\b\b\b\b\b\b\b\b\b\b\b\b\b\b\b\b\b\b\b\b\b\b\b\b\b\b\b\b\b\b\b\b\b\b                                                             \b\b\b\b\b\b\b\b\b\b\b\b\b\b\b\b\b\b\b\b\b\b\b\b\b\b\b\b\b\b\b\b\b\b\b\b\b\b\b\b\b\b\b\b\b\b\b\b\b\b\b\b\b\b\b\b\b\b\b\b\b 26% 3046 - DDR-dataset/DR_grading/test/20170430201303979.jpg\b\b\b\b\b\b\b\b\b\b\b\b\b\b\b\b\b\b\b\b\b\b\b\b\b\b\b\b\b\b\b\b\b\b\b\b\b\b\b\b\b\b\b\b\b\b\b\b\b\b\b\b\b\b\b\b\b\b\b\b\b                                                             \b\b\b\b\b\b\b\b\b\b\b\b\b\b\b\b\b\b\b\b\b\b\b\b\b\b\b\b\b\b\b\b\b\b\b\b\b\b\b\b\b\b\b\b\b\b\b\b\b\b\b\b\b\b\b\b\b\b\b\b\b 26% 3050 - DDR-dataset/DR_grading/test/20170430201405963.jpg\b\b\b\b\b\b\b\b\b\b\b\b\b\b\b\b\b\b\b\b\b\b\b\b\b\b\b\b\b\b\b\b\b\b\b\b\b\b\b\b\b\b\b\b\b\b\b\b\b\b\b\b\b\b\b\b\b\b\b\b\b                                                             \b\b\b\b\b\b\b\b\b\b\b\b\b\b\b\b\b\b\b\b\b\b\b\b\b\b\b\b\b\b\b\b\b\b\b\b\b\b\b\b\b\b\b\b\b\b\b\b\b\b\b\b\b\b\b\b\b\b\b\b\b 27% 3066 - DDR-dataset/DR_grading/test/20170430204352793.jpg\b\b\b\b\b\b\b\b\b\b\b\b\b\b\b\b\b\b\b\b\b\b\b\b\b\b\b\b\b\b\b\b\b\b\b\b\b\b\b\b\b\b\b\b\b\b\b\b\b\b\b\b\b\b\b\b\b\b\b\b\b                                                             \b\b\b\b\b\b\b\b\b\b\b\b\b\b\b\b\b\b\b\b\b\b\b\b\b\b\b\b\b\b\b\b\b\b\b\b\b\b\b\b\b\b\b\b\b\b\b\b\b\b\b\b\b\b\b\b\b\b\b\b\b 27% 3077 - DDR-dataset/DR_grading/test/20170502000225658.jpg\b\b\b\b\b\b\b\b\b\b\b\b\b\b\b\b\b\b\b\b\b\b\b\b\b\b\b\b\b\b\b\b\b\b\b\b\b\b\b\b\b\b\b\b\b\b\b\b\b\b\b\b\b\b\b\b\b\b\b\b\b                                                             \b\b\b\b\b\b\b\b\b\b\b\b\b\b\b\b\b\b\b\b\b\b\b\b\b\b\b\b\b\b\b\b\b\b\b\b\b\b\b\b\b\b\b\b\b\b\b\b\b\b\b\b\b\b\b\b\b\b\b\b\b 27% 3094 - DDR-dataset/DR_grading/test/20170502103242684.jpg\b\b\b\b\b\b\b\b\b\b\b\b\b\b\b\b\b\b\b\b\b\b\b\b\b\b\b\b\b\b\b\b\b\b\b\b\b\b\b\b\b\b\b\b\b\b\b\b\b\b\b\b\b\b\b\b\b\b\b\b\b                                                             \b\b\b\b\b\b\b\b\b\b\b\b\b\b\b\b\b\b\b\b\b\b\b\b\b\b\b\b\b\b\b\b\b\b\b\b\b\b\b\b\b\b\b\b\b\b\b\b\b\b\b\b\b\b\b\b\b\b\b\b\b 27% 3100 - DDR-dataset/DR_grading/test/20170502144544291.jpg\b\b\b\b\b\b\b\b\b\b\b\b\b\b\b\b\b\b\b\b\b\b\b\b\b\b\b\b\b\b\b\b\b\b\b\b\b\b\b\b\b\b\b\b\b\b\b\b\b\b\b\b\b\b\b\b\b\b\b\b\b                                                             \b\b\b\b\b\b\b\b\b\b\b\b\b\b\b\b\b\b\b\b\b\b\b\b\b\b\b\b\b\b\b\b\b\b\b\b\b\b\b\b\b\b\b\b\b\b\b\b\b\b\b\b\b\b\b\b\b\b\b\b\b 27% 3107 - DDR-dataset/DR_grading/test/20170502204843387.jpg\b\b\b\b\b\b\b\b\b\b\b\b\b\b\b\b\b\b\b\b\b\b\b\b\b\b\b\b\b\b\b\b\b\b\b\b\b\b\b\b\b\b\b\b\b\b\b\b\b\b\b\b\b\b\b\b\b\b\b\b\b                                                             \b\b\b\b\b\b\b\b\b\b\b\b\b\b\b\b\b\b\b\b\b\b\b\b\b\b\b\b\b\b\b\b\b\b\b\b\b\b\b\b\b\b\b\b\b\b\b\b\b\b\b\b\b\b\b\b\b\b\b\b\b 27% 3111 - DDR-dataset/DR_grading/test/20170503090730660.jpg\b\b\b\b\b\b\b\b\b\b\b\b\b\b\b\b\b\b\b\b\b\b\b\b\b\b\b\b\b\b\b\b\b\b\b\b\b\b\b\b\b\b\b\b\b\b\b\b\b\b\b\b\b\b\b\b\b\b\b\b\b                                                             \b\b\b\b\b\b\b\b\b\b\b\b\b\b\b\b\b\b\b\b\b\b\b\b\b\b\b\b\b\b\b\b\b\b\b\b\b\b\b\b\b\b\b\b\b\b\b\b\b\b\b\b\b\b\b\b\b\b\b\b\b 27% 3129 - DDR-dataset/DR_grading/test/20170504113211152.jpg\b\b\b\b\b\b\b\b\b\b\b\b\b\b\b\b\b\b\b\b\b\b\b\b\b\b\b\b\b\b\b\b\b\b\b\b\b\b\b\b\b\b\b\b\b\b\b\b\b\b\b\b\b\b\b\b\b\b\b\b\b                                                             \b\b\b\b\b\b\b\b\b\b\b\b\b\b\b\b\b\b\b\b\b\b\b\b\b\b\b\b\b\b\b\b\b\b\b\b\b\b\b\b\b\b\b\b\b\b\b\b\b\b\b\b\b\b\b\b\b\b\b\b\b 27% 3140 - DDR-dataset/DR_grading/test/20170504235109239.jpg\b\b\b\b\b\b\b\b\b\b\b\b\b\b\b\b\b\b\b\b\b\b\b\b\b\b\b\b\b\b\b\b\b\b\b\b\b\b\b\b\b\b\b\b\b\b\b\b\b\b\b\b\b\b\b\b\b\b\b\b\b                                                             \b\b\b\b\b\b\b\b\b\b\b\b\b\b\b\b\b\b\b\b\b\b\b\b\b\b\b\b\b\b\b\b\b\b\b\b\b\b\b\b\b\b\b\b\b\b\b\b\b\b\b\b\b\b\b\b\b\b\b\b\b 28% 3157 - DDR-dataset/DR_grading/test/20170506084444579.jpg\b\b\b\b\b\b\b\b\b\b\b\b\b\b\b\b\b\b\b\b\b\b\b\b\b\b\b\b\b\b\b\b\b\b\b\b\b\b\b\b\b\b\b\b\b\b\b\b\b\b\b\b\b\b\b\b\b\b\b\b\b                                                             \b\b\b\b\b\b\b\b\b\b\b\b\b\b\b\b\b\b\b\b\b\b\b\b\b\b\b\b\b\b\b\b\b\b\b\b\b\b\b\b\b\b\b\b\b\b\b\b\b\b\b\b\b\b\b\b\b\b\b\b\b 28% 3162 - DDR-dataset/DR_grading/test/20170506102441386.jpg\b\b\b\b\b\b\b\b\b\b\b\b\b\b\b\b\b\b\b\b\b\b\b\b\b\b\b\b\b\b\b\b\b\b\b\b\b\b\b\b\b\b\b\b\b\b\b\b\b\b\b\b\b\b\b\b\b\b\b\b\b                                                             \b\b\b\b\b\b\b\b\b\b\b\b\b\b\b\b\b\b\b\b\b\b\b\b\b\b\b\b\b\b\b\b\b\b\b\b\b\b\b\b\b\b\b\b\b\b\b\b\b\b\b\b\b\b\b\b\b\b\b\b\b 28% 3175 - DDR-dataset/DR_grading/test/20170508101232838.jpg\b\b\b\b\b\b\b\b\b\b\b\b\b\b\b\b\b\b\b\b\b\b\b\b\b\b\b\b\b\b\b\b\b\b\b\b\b\b\b\b\b\b\b\b\b\b\b\b\b\b\b\b\b\b\b\b\b\b\b\b\b                                                             \b\b\b\b\b\b\b\b\b\b\b\b\b\b\b\b\b\b\b\b\b\b\b\b\b\b\b\b\b\b\b\b\b\b\b\b\b\b\b\b\b\b\b\b\b\b\b\b\b\b\b\b\b\b\b\b\b\b\b\b\b 28% 3192 - DDR-dataset/DR_grading/test/20170509092532699.jpg\b\b\b\b\b\b\b\b\b\b\b\b\b\b\b\b\b\b\b\b\b\b\b\b\b\b\b\b\b\b\b\b\b\b\b\b\b\b\b\b\b\b\b\b\b\b\b\b\b\b\b\b\b\b\b\b\b\b\b\b\b                                                             \b\b\b\b\b\b\b\b\b\b\b\b\b\b\b\b\b\b\b\b\b\b\b\b\b\b\b\b\b\b\b\b\b\b\b\b\b\b\b\b\b\b\b\b\b\b\b\b\b\b\b\b\b\b\b\b\b\b\b\b\b 28% 3194 - DDR-dataset/DR_grading/test/20170509100155767.jpg\b\b\b\b\b\b\b\b\b\b\b\b\b\b\b\b\b\b\b\b\b\b\b\b\b\b\b\b\b\b\b\b\b\b\b\b\b\b\b\b\b\b\b\b\b\b\b\b\b\b\b\b\b\b\b\b\b\b\b\b\b                                                             \b\b\b\b\b\b\b\b\b\b\b\b\b\b\b\b\b\b\b\b\b\b\b\b\b\b\b\b\b\b\b\b\b\b\b\b\b\b\b\b\b\b\b\b\b\b\b\b\b\b\b\b\b\b\b\b\b\b\b\b\b 28% 3231 - DDR-dataset/DR_grading/test/20170511152728021.jpg\b\b\b\b\b\b\b\b\b\b\b\b\b\b\b\b\b\b\b\b\b\b\b\b\b\b\b\b\b\b\b\b\b\b\b\b\b\b\b\b\b\b\b\b\b\b\b\b\b\b\b\b\b\b\b\b\b\b\b\b\b                                                             \b\b\b\b\b\b\b\b\b\b\b\b\b\b\b\b\b\b\b\b\b\b\b\b\b\b\b\b\b\b\b\b\b\b\b\b\b\b\b\b\b\b\b\b\b\b\b\b\b\b\b\b\b\b\b\b\b\b\b\b\b 29% 3312 - DDR-dataset/DR_grading/test/20170517093220898.jpg\b\b\b\b\b\b\b\b\b\b\b\b\b\b\b\b\b\b\b\b\b\b\b\b\b\b\b\b\b\b\b\b\b\b\b\b\b\b\b\b\b\b\b\b\b\b\b\b\b\b\b\b\b\b\b\b\b\b\b\b\b                                                             \b\b\b\b\b\b\b\b\b\b\b\b\b\b\b\b\b\b\b\b\b\b\b\b\b\b\b\b\b\b\b\b\b\b\b\b\b\b\b\b\b\b\b\b\b\b\b\b\b\b\b\b\b\b\b\b\b\b\b\b\b 29% 3322 - DDR-dataset/DR_grading/test/20170517121103651.jpg\b\b\b\b\b\b\b\b\b\b\b\b\b\b\b\b\b\b\b\b\b\b\b\b\b\b\b\b\b\b\b\b\b\b\b\b\b\b\b\b\b\b\b\b\b\b\b\b\b\b\b\b\b\b\b\b\b\b\b\b\b                                                             \b\b\b\b\b\b\b\b\b\b\b\b\b\b\b\b\b\b\b\b\b\b\b\b\b\b\b\b\b\b\b\b\b\b\b\b\b\b\b\b\b\b\b\b\b\b\b\b\b\b\b\b\b\b\b\b\b\b\b\b\b 29% 3336 - DDR-dataset/DR_grading/test/20170518092223117.jpg\b\b\b\b\b\b\b\b\b\b\b\b\b\b\b\b\b\b\b\b\b\b\b\b\b\b\b\b\b\b\b\b\b\b\b\b\b\b\b\b\b\b\b\b\b\b\b\b\b\b\b\b\b\b\b\b\b\b\b\b\b                                                             \b\b\b\b\b\b\b\b\b\b\b\b\b\b\b\b\b\b\b\b\b\b\b\b\b\b\b\b\b\b\b\b\b\b\b\b\b\b\b\b\b\b\b\b\b\b\b\b\b\b\b\b\b\b\b\b\b\b\b\b\b 29% 3372 - DDR-dataset/DR_grading/test/20170519180821875.jpg\b\b\b\b\b\b\b\b\b\b\b\b\b\b\b\b\b\b\b\b\b\b\b\b\b\b\b\b\b\b\b\b\b\b\b\b\b\b\b\b\b\b\b\b\b\b\b\b\b\b\b\b\b\b\b\b\b\b\b\b\b                                                             \b\b\b\b\b\b\b\b\b\b\b\b\b\b\b\b\b\b\b\b\b\b\b\b\b\b\b\b\b\b\b\b\b\b\b\b\b\b\b\b\b\b\b\b\b\b\b\b\b\b\b\b\b\b\b\b\b\b\b\b\b 29% 3387 - DDR-dataset/DR_grading/test/20170521094903529.jpg\b\b\b\b\b\b\b\b\b\b\b\b\b\b\b\b\b\b\b\b\b\b\b\b\b\b\b\b\b\b\b\b\b\b\b\b\b\b\b\b\b\b\b\b\b\b\b\b\b\b\b\b\b\b\b\b\b\b\b\b\b                                                             \b\b\b\b\b\b\b\b\b\b\b\b\b\b\b\b\b\b\b\b\b\b\b\b\b\b\b\b\b\b\b\b\b\b\b\b\b\b\b\b\b\b\b\b\b\b\b\b\b\b\b\b\b\b\b\b\b\b\b\b\b 29% 3392 - DDR-dataset/DR_grading/test/20170522091641009.jpg\b\b\b\b\b\b\b\b\b\b\b\b\b\b\b\b\b\b\b\b\b\b\b\b\b\b\b\b\b\b\b\b\b\b\b\b\b\b\b\b\b\b\b\b\b\b\b\b\b\b\b\b\b\b\b\b\b\b\b\b\b                                                             \b\b\b\b\b\b\b\b\b\b\b\b\b\b\b\b\b\b\b\b\b\b\b\b\b\b\b\b\b\b\b\b\b\b\b\b\b\b\b\b\b\b\b\b\b\b\b\b\b\b\b\b\b\b\b\b\b\b\b\b\b 30% 3409 - DDR-dataset/DR_grading/test/20170522163803152.jpg\b\b\b\b\b\b\b\b\b\b\b\b\b\b\b\b\b\b\b\b\b\b\b\b\b\b\b\b\b\b\b\b\b\b\b\b\b\b\b\b\b\b\b\b\b\b\b\b\b\b\b\b\b\b\b\b\b\b\b\b\b                                                             \b\b\b\b\b\b\b\b\b\b\b\b\b\b\b\b\b\b\b\b\b\b\b\b\b\b\b\b\b\b\b\b\b\b\b\b\b\b\b\b\b\b\b\b\b\b\b\b\b\b\b\b\b\b\b\b\b\b\b\b\b 30% 3427 - DDR-dataset/DR_grading/test/20170523165729685.jpg\b\b\b\b\b\b\b\b\b\b\b\b\b\b\b\b\b\b\b\b\b\b\b\b\b\b\b\b\b\b\b\b\b\b\b\b\b\b\b\b\b\b\b\b\b\b\b\b\b\b\b\b\b\b\b\b\b\b\b\b\b                                                             \b\b\b\b\b\b\b\b\b\b\b\b\b\b\b\b\b\b\b\b\b\b\b\b\b\b\b\b\b\b\b\b\b\b\b\b\b\b\b\b\b\b\b\b\b\b\b\b\b\b\b\b\b\b\b\b\b\b\b\b\b 30% 3436 - DDR-dataset/DR_grading/test/20170524102406908.jpg\b\b\b\b\b\b\b\b\b\b\b\b\b\b\b\b\b\b\b\b\b\b\b\b\b\b\b\b\b\b\b\b\b\b\b\b\b\b\b\b\b\b\b\b\b\b\b\b\b\b\b\b\b\b\b\b\b\b\b\b\b                                                             \b\b\b\b\b\b\b\b\b\b\b\b\b\b\b\b\b\b\b\b\b\b\b\b\b\b\b\b\b\b\b\b\b\b\b\b\b\b\b\b\b\b\b\b\b\b\b\b\b\b\b\b\b\b\b\b\b\b\b\b\b 30% 3448 - DDR-dataset/DR_grading/test/20170524112245527.jpg\b\b\b\b\b\b\b\b\b\b\b\b\b\b\b\b\b\b\b\b\b\b\b\b\b\b\b\b\b\b\b\b\b\b\b\b\b\b\b\b\b\b\b\b\b\b\b\b\b\b\b\b\b\b\b\b\b\b\b\b\b                                                             \b\b\b\b\b\b\b\b\b\b\b\b\b\b\b\b\b\b\b\b\b\b\b\b\b\b\b\b\b\b\b\b\b\b\b\b\b\b\b\b\b\b\b\b\b\b\b\b\b\b\b\b\b\b\b\b\b\b\b\b\b 30% 3461 - DDR-dataset/DR_grading/test/20170525085857949.jpg\b\b\b\b\b\b\b\b\b\b\b\b\b\b\b\b\b\b\b\b\b\b\b\b\b\b\b\b\b\b\b\b\b\b\b\b\b\b\b\b\b\b\b\b\b\b\b\b\b\b\b\b\b\b\b\b\b\b\b\b\b                                                             \b\b\b\b\b\b\b\b\b\b\b\b\b\b\b\b\b\b\b\b\b\b\b\b\b\b\b\b\b\b\b\b\b\b\b\b\b\b\b\b\b\b\b\b\b\b\b\b\b\b\b\b\b\b\b\b\b\b\b\b\b 30% 3468 - DDR-dataset/DR_grading/test/20170525100055762.jpg\b\b\b\b\b\b\b\b\b\b\b\b\b\b\b\b\b\b\b\b\b\b\b\b\b\b\b\b\b\b\b\b\b\b\b\b\b\b\b\b\b\b\b\b\b\b\b\b\b\b\b\b\b\b\b\b\b\b\b\b\b                                                             \b\b\b\b\b\b\b\b\b\b\b\b\b\b\b\b\b\b\b\b\b\b\b\b\b\b\b\b\b\b\b\b\b\b\b\b\b\b\b\b\b\b\b\b\b\b\b\b\b\b\b\b\b\b\b\b\b\b\b\b\b 30% 3487 - DDR-dataset/DR_grading/test/20170526162358967.jpg\b\b\b\b\b\b\b\b\b\b\b\b\b\b\b\b\b\b\b\b\b\b\b\b\b\b\b\b\b\b\b\b\b\b\b\b\b\b\b\b\b\b\b\b\b\b\b\b\b\b\b\b\b\b\b\b\b\b\b\b\b                                                             \b\b\b\b\b\b\b\b\b\b\b\b\b\b\b\b\b\b\b\b\b\b\b\b\b\b\b\b\b\b\b\b\b\b\b\b\b\b\b\b\b\b\b\b\b\b\b\b\b\b\b\b\b\b\b\b\b\b\b\b\b 30% 3499 - DDR-dataset/DR_grading/test/20170527112252624.jpg\b\b\b\b\b\b\b\b\b\b\b\b\b\b\b\b\b\b\b\b\b\b\b\b\b\b\b\b\b\b\b\b\b\b\b\b\b\b\b\b\b\b\b\b\b\b\b\b\b\b\b\b\b\b\b\b\b\b\b\b\b                                                             \b\b\b\b\b\b\b\b\b\b\b\b\b\b\b\b\b\b\b\b\b\b\b\b\b\b\b\b\b\b\b\b\b\b\b\b\b\b\b\b\b\b\b\b\b\b\b\b\b\b\b\b\b\b\b\b\b\b\b\b\b 30% 3511 - DDR-dataset/DR_grading/test/20170528112927320.jpg\b\b\b\b\b\b\b\b\b\b\b\b\b\b\b\b\b\b\b\b\b\b\b\b\b\b\b\b\b\b\b\b\b\b\b\b\b\b\b\b\b\b\b\b\b\b\b\b\b\b\b\b\b\b\b\b\b\b\b\b\b                                                             \b\b\b\b\b\b\b\b\b\b\b\b\b\b\b\b\b\b\b\b\b\b\b\b\b\b\b\b\b\b\b\b\b\b\b\b\b\b\b\b\b\b\b\b\b\b\b\b\b\b\b\b\b\b\b\b\b\b\b\b\b 30% 3515 - DDR-dataset/DR_grading/test/20170528182051276.jpg\b\b\b\b\b\b\b\b\b\b\b\b\b\b\b\b\b\b\b\b\b\b\b\b\b\b\b\b\b\b\b\b\b\b\b\b\b\b\b\b\b\b\b\b\b\b\b\b\b\b\b\b\b\b\b\b\b\b\b\b\b                                                             \b\b\b\b\b\b\b\b\b\b\b\b\b\b\b\b\b\b\b\b\b\b\b\b\b\b\b\b\b\b\b\b\b\b\b\b\b\b\b\b\b\b\b\b\b\b\b\b\b\b\b\b\b\b\b\b\b\b\b\b\b 31% 3535 - DDR-dataset/DR_grading/test/20170601084514660.jpg\b\b\b\b\b\b\b\b\b\b\b\b\b\b\b\b\b\b\b\b\b\b\b\b\b\b\b\b\b\b\b\b\b\b\b\b\b\b\b\b\b\b\b\b\b\b\b\b\b\b\b\b\b\b\b\b\b\b\b\b\b                                                             \b\b\b\b\b\b\b\b\b\b\b\b\b\b\b\b\b\b\b\b\b\b\b\b\b\b\b\b\b\b\b\b\b\b\b\b\b\b\b\b\b\b\b\b\b\b\b\b\b\b\b\b\b\b\b\b\b\b\b\b\b 31% 3547 - DDR-dataset/DR_grading/test/20170602084034474.jpg\b\b\b\b\b\b\b\b\b\b\b\b\b\b\b\b\b\b\b\b\b\b\b\b\b\b\b\b\b\b\b\b\b\b\b\b\b\b\b\b\b\b\b\b\b\b\b\b\b\b\b\b\b\b\b\b\b\b\b\b\b                                                             \b\b\b\b\b\b\b\b\b\b\b\b\b\b\b\b\b\b\b\b\b\b\b\b\b\b\b\b\b\b\b\b\b\b\b\b\b\b\b\b\b\b\b\b\b\b\b\b\b\b\b\b\b\b\b\b\b\b\b\b\b 31% 3549 - DDR-dataset/DR_grading/test/20170602084503140.jpg\b\b\b\b\b\b\b\b\b\b\b\b\b\b\b\b\b\b\b\b\b\b\b\b\b\b\b\b\b\b\b\b\b\b\b\b\b\b\b\b\b\b\b\b\b\b\b\b\b\b\b\b\b\b\b\b\b\b\b\b\b                                                             \b\b\b\b\b\b\b\b\b\b\b\b\b\b\b\b\b\b\b\b\b\b\b\b\b\b\b\b\b\b\b\b\b\b\b\b\b\b\b\b\b\b\b\b\b\b\b\b\b\b\b\b\b\b\b\b\b\b\b\b\b 31% 3554 - DDR-dataset/DR_grading/test/20170602090325676.jpg\b\b\b\b\b\b\b\b\b\b\b\b\b\b\b\b\b\b\b\b\b\b\b\b\b\b\b\b\b\b\b\b\b\b\b\b\b\b\b\b\b\b\b\b\b\b\b\b\b\b\b\b\b\b\b\b\b\b\b\b\b                                                             \b\b\b\b\b\b\b\b\b\b\b\b\b\b\b\b\b\b\b\b\b\b\b\b\b\b\b\b\b\b\b\b\b\b\b\b\b\b\b\b\b\b\b\b\b\b\b\b\b\b\b\b\b\b\b\b\b\b\b\b\b 31% 3568 - DDR-dataset/DR_grading/test/20170603193634107.jpg\b\b\b\b\b\b\b\b\b\b\b\b\b\b\b\b\b\b\b\b\b\b\b\b\b\b\b\b\b\b\b\b\b\b\b\b\b\b\b\b\b\b\b\b\b\b\b\b\b\b\b\b\b\b\b\b\b\b\b\b\b                                                             \b\b\b\b\b\b\b\b\b\b\b\b\b\b\b\b\b\b\b\b\b\b\b\b\b\b\b\b\b\b\b\b\b\b\b\b\b\b\b\b\b\b\b\b\b\b\b\b\b\b\b\b\b\b\b\b\b\b\b\b\b 31% 3595 - DDR-dataset/DR_grading/test/20170606165241723.jpg\b\b\b\b\b\b\b\b\b\b\b\b\b\b\b\b\b\b\b\b\b\b\b\b\b\b\b\b\b\b\b\b\b\b\b\b\b\b\b\b\b\b\b\b\b\b\b\b\b\b\b\b\b\b\b\b\b\b\b\b\b                                                             \b\b\b\b\b\b\b\b\b\b\b\b\b\b\b\b\b\b\b\b\b\b\b\b\b\b\b\b\b\b\b\b\b\b\b\b\b\b\b\b\b\b\b\b\b\b\b\b\b\b\b\b\b\b\b\b\b\b\b\b\b 31% 3612 - DDR-dataset/DR_grading/test/20170607153633977.jpg\b\b\b\b\b\b\b\b\b\b\b\b\b\b\b\b\b\b\b\b\b\b\b\b\b\b\b\b\b\b\b\b\b\b\b\b\b\b\b\b\b\b\b\b\b\b\b\b\b\b\b\b\b\b\b\b\b\b\b\b\b                                                             \b\b\b\b\b\b\b\b\b\b\b\b\b\b\b\b\b\b\b\b\b\b\b\b\b\b\b\b\b\b\b\b\b\b\b\b\b\b\b\b\b\b\b\b\b\b\b\b\b\b\b\b\b\b\b\b\b\b\b\b\b 31% 3637 - DDR-dataset/DR_grading/test/20170608171332841.jpg\b\b\b\b\b\b\b\b\b\b\b\b\b\b\b\b\b\b\b\b\b\b\b\b\b\b\b\b\b\b\b\b\b\b\b\b\b\b\b\b\b\b\b\b\b\b\b\b\b\b\b\b\b\b\b\b\b\b\b\b\b                                                             \b\b\b\b\b\b\b\b\b\b\b\b\b\b\b\b\b\b\b\b\b\b\b\b\b\b\b\b\b\b\b\b\b\b\b\b\b\b\b\b\b\b\b\b\b\b\b\b\b\b\b\b\b\b\b\b\b\b\b\b\b 31% 3651 - DDR-dataset/DR_grading/test/20170608195154945.jpg\b\b\b\b\b\b\b\b\b\b\b\b\b\b\b\b\b\b\b\b\b\b\b\b\b\b\b\b\b\b\b\b\b\b\b\b\b\b\b\b\b\b\b\b\b\b\b\b\b\b\b\b\b\b\b\b\b\b\b\b\b                                                             \b\b\b\b\b\b\b\b\b\b\b\b\b\b\b\b\b\b\b\b\b\b\b\b\b\b\b\b\b\b\b\b\b\b\b\b\b\b\b\b\b\b\b\b\b\b\b\b\b\b\b\b\b\b\b\b\b\b\b\b\b 32% 3658 - DDR-dataset/DR_grading/test/20170608214612392.jpg\b\b\b\b\b\b\b\b\b\b\b\b\b\b\b\b\b\b\b\b\b\b\b\b\b\b\b\b\b\b\b\b\b\b\b\b\b\b\b\b\b\b\b\b\b\b\b\b\b\b\b\b\b\b\b\b\b\b\b\b\b                                                             \b\b\b\b\b\b\b\b\b\b\b\b\b\b\b\b\b\b\b\b\b\b\b\b\b\b\b\b\b\b\b\b\b\b\b\b\b\b\b\b\b\b\b\b\b\b\b\b\b\b\b\b\b\b\b\b\b\b\b\b\b 32% 3698 - DDR-dataset/DR_grading/test/20170609172109111.jpg\b\b\b\b\b\b\b\b\b\b\b\b\b\b\b\b\b\b\b\b\b\b\b\b\b\b\b\b\b\b\b\b\b\b\b\b\b\b\b\b\b\b\b\b\b\b\b\b\b\b\b\b\b\b\b\b\b\b\b\b\b                                                             \b\b\b\b\b\b\b\b\b\b\b\b\b\b\b\b\b\b\b\b\b\b\b\b\b\b\b\b\b\b\b\b\b\b\b\b\b\b\b\b\b\b\b\b\b\b\b\b\b\b\b\b\b\b\b\b\b\b\b\b\b 32% 3709 - DDR-dataset/DR_grading/test/20170609193335986.jpg\b\b\b\b\b\b\b\b\b\b\b\b\b\b\b\b\b\b\b\b\b\b\b\b\b\b\b\b\b\b\b\b\b\b\b\b\b\b\b\b\b\b\b\b\b\b\b\b\b\b\b\b\b\b\b\b\b\b\b\b\b                                                             \b\b\b\b\b\b\b\b\b\b\b\b\b\b\b\b\b\b\b\b\b\b\b\b\b\b\b\b\b\b\b\b\b\b\b\b\b\b\b\b\b\b\b\b\b\b\b\b\b\b\b\b\b\b\b\b\b\b\b\b\b 32% 3722 - DDR-dataset/DR_grading/test/20170611090524022.jpg\b\b\b\b\b\b\b\b\b\b\b\b\b\b\b\b\b\b\b\b\b\b\b\b\b\b\b\b\b\b\b\b\b\b\b\b\b\b\b\b\b\b\b\b\b\b\b\b\b\b\b\b\b\b\b\b\b\b\b\b\b                                                             \b\b\b\b\b\b\b\b\b\b\b\b\b\b\b\b\b\b\b\b\b\b\b\b\b\b\b\b\b\b\b\b\b\b\b\b\b\b\b\b\b\b\b\b\b\b\b\b\b\b\b\b\b\b\b\b\b\b\b\b\b 32% 3745 - DDR-dataset/DR_grading/test/20170612141756744.jpg\b\b\b\b\b\b\b\b\b\b\b\b\b\b\b\b\b\b\b\b\b\b\b\b\b\b\b\b\b\b\b\b\b\b\b\b\b\b\b\b\b\b\b\b\b\b\b\b\b\b\b\b\b\b\b\b\b\b\b\b\b                                                             \b\b\b\b\b\b\b\b\b\b\b\b\b\b\b\b\b\b\b\b\b\b\b\b\b\b\b\b\b\b\b\b\b\b\b\b\b\b\b\b\b\b\b\b\b\b\b\b\b\b\b\b\b\b\b\b\b\b\b\b\b 32% 3752 - DDR-dataset/DR_grading/test/20170612163235784.jpg\b\b\b\b\b\b\b\b\b\b\b\b\b\b\b\b\b\b\b\b\b\b\b\b\b\b\b\b\b\b\b\b\b\b\b\b\b\b\b\b\b\b\b\b\b\b\b\b\b\b\b\b\b\b\b\b\b\b\b\b\b                                                             \b\b\b\b\b\b\b\b\b\b\b\b\b\b\b\b\b\b\b\b\b\b\b\b\b\b\b\b\b\b\b\b\b\b\b\b\b\b\b\b\b\b\b\b\b\b\b\b\b\b\b\b\b\b\b\b\b\b\b\b\b 32% 3758 - DDR-dataset/DR_grading/test/20170612233612380.jpg\b\b\b\b\b\b\b\b\b\b\b\b\b\b\b\b\b\b\b\b\b\b\b\b\b\b\b\b\b\b\b\b\b\b\b\b\b\b\b\b\b\b\b\b\b\b\b\b\b\b\b\b\b\b\b\b\b\b\b\b\b                                                             \b\b\b\b\b\b\b\b\b\b\b\b\b\b\b\b\b\b\b\b\b\b\b\b\b\b\b\b\b\b\b\b\b\b\b\b\b\b\b\b\b\b\b\b\b\b\b\b\b\b\b\b\b\b\b\b\b\b\b\b\b 33% 3776 - DDR-dataset/DR_grading/test/20170613164132693.jpg\b\b\b\b\b\b\b\b\b\b\b\b\b\b\b\b\b\b\b\b\b\b\b\b\b\b\b\b\b\b\b\b\b\b\b\b\b\b\b\b\b\b\b\b\b\b\b\b\b\b\b\b\b\b\b\b\b\b\b\b\b                                                             \b\b\b\b\b\b\b\b\b\b\b\b\b\b\b\b\b\b\b\b\b\b\b\b\b\b\b\b\b\b\b\b\b\b\b\b\b\b\b\b\b\b\b\b\b\b\b\b\b\b\b\b\b\b\b\b\b\b\b\b\b 33% 3782 - DDR-dataset/DR_grading/test/20170613191713985.jpg\b\b\b\b\b\b\b\b\b\b\b\b\b\b\b\b\b\b\b\b\b\b\b\b\b\b\b\b\b\b\b\b\b\b\b\b\b\b\b\b\b\b\b\b\b\b\b\b\b\b\b\b\b\b\b\b\b\b\b\b\b                                                             \b\b\b\b\b\b\b\b\b\b\b\b\b\b\b\b\b\b\b\b\b\b\b\b\b\b\b\b\b\b\b\b\b\b\b\b\b\b\b\b\b\b\b\b\b\b\b\b\b\b\b\b\b\b\b\b\b\b\b\b\b 33% 3811 - DDR-dataset/DR_grading/test/20170615095849817.jpg\b\b\b\b\b\b\b\b\b\b\b\b\b\b\b\b\b\b\b\b\b\b\b\b\b\b\b\b\b\b\b\b\b\b\b\b\b\b\b\b\b\b\b\b\b\b\b\b\b\b\b\b\b\b\b\b\b\b\b\b\b                                                             \b\b\b\b\b\b\b\b\b\b\b\b\b\b\b\b\b\b\b\b\b\b\b\b\b\b\b\b\b\b\b\b\b\b\b\b\b\b\b\b\b\b\b\b\b\b\b\b\b\b\b\b\b\b\b\b\b\b\b\b\b 33% 3843 - DDR-dataset/DR_grading/test/20170616085940941.jpg\b\b\b\b\b\b\b\b\b\b\b\b\b\b\b\b\b\b\b\b\b\b\b\b\b\b\b\b\b\b\b\b\b\b\b\b\b\b\b\b\b\b\b\b\b\b\b\b\b\b\b\b\b\b\b\b\b\b\b\b\b                                                             \b\b\b\b\b\b\b\b\b\b\b\b\b\b\b\b\b\b\b\b\b\b\b\b\b\b\b\b\b\b\b\b\b\b\b\b\b\b\b\b\b\b\b\b\b\b\b\b\b\b\b\b\b\b\b\b\b\b\b\b\b 33% 3855 - DDR-dataset/DR_grading/test/20170616125215801.jpg\b\b\b\b\b\b\b\b\b\b\b\b\b\b\b\b\b\b\b\b\b\b\b\b\b\b\b\b\b\b\b\b\b\b\b\b\b\b\b\b\b\b\b\b\b\b\b\b\b\b\b\b\b\b\b\b\b\b\b\b\b                                                             \b\b\b\b\b\b\b\b\b\b\b\b\b\b\b\b\b\b\b\b\b\b\b\b\b\b\b\b\b\b\b\b\b\b\b\b\b\b\b\b\b\b\b\b\b\b\b\b\b\b\b\b\b\b\b\b\b\b\b\b\b 33% 3856 - DDR-dataset/DR_grading/test/20170616125321132.jpg\b\b\b\b\b\b\b\b\b\b\b\b\b\b\b\b\b\b\b\b\b\b\b\b\b\b\b\b\b\b\b\b\b\b\b\b\b\b\b\b\b\b\b\b\b\b\b\b\b\b\b\b\b\b\b\b\b\b\b\b\b                                                             \b\b\b\b\b\b\b\b\b\b\b\b\b\b\b\b\b\b\b\b\b\b\b\b\b\b\b\b\b\b\b\b\b\b\b\b\b\b\b\b\b\b\b\b\b\b\b\b\b\b\b\b\b\b\b\b\b\b\b\b\b 33% 3865 - DDR-dataset/DR_grading/test/20170616200941802.jpg\b\b\b\b\b\b\b\b\b\b\b\b\b\b\b\b\b\b\b\b\b\b\b\b\b\b\b\b\b\b\b\b\b\b\b\b\b\b\b\b\b\b\b\b\b\b\b\b\b\b\b\b\b\b\b\b\b\b\b\b\b                                                             \b\b\b\b\b\b\b\b\b\b\b\b\b\b\b\b\b\b\b\b\b\b\b\b\b\b\b\b\b\b\b\b\b\b\b\b\b\b\b\b\b\b\b\b\b\b\b\b\b\b\b\b\b\b\b\b\b\b\b\b\b 33% 3870 - DDR-dataset/DR_grading/test/20170617210958623.jpg\b\b\b\b\b\b\b\b\b\b\b\b\b\b\b\b\b\b\b\b\b\b\b\b\b\b\b\b\b\b\b\b\b\b\b\b\b\b\b\b\b\b\b\b\b\b\b\b\b\b\b\b\b\b\b\b\b\b\b\b\b                                                             \b\b\b\b\b\b\b\b\b\b\b\b\b\b\b\b\b\b\b\b\b\b\b\b\b\b\b\b\b\b\b\b\b\b\b\b\b\b\b\b\b\b\b\b\b\b\b\b\b\b\b\b\b\b\b\b\b\b\b\b\b 34% 3902 - DDR-dataset/DR_grading/test/20170619102930911.jpg\b\b\b\b\b\b\b\b\b\b\b\b\b\b\b\b\b\b\b\b\b\b\b\b\b\b\b\b\b\b\b\b\b\b\b\b\b\b\b\b\b\b\b\b\b\b\b\b\b\b\b\b\b\b\b\b\b\b\b\b\b                                                             \b\b\b\b\b\b\b\b\b\b\b\b\b\b\b\b\b\b\b\b\b\b\b\b\b\b\b\b\b\b\b\b\b\b\b\b\b\b\b\b\b\b\b\b\b\b\b\b\b\b\b\b\b\b\b\b\b\b\b\b\b 34% 3938 - DDR-dataset/DR_grading/test/20170621094919972.jpg\b\b\b\b\b\b\b\b\b\b\b\b\b\b\b\b\b\b\b\b\b\b\b\b\b\b\b\b\b\b\b\b\b\b\b\b\b\b\b\b\b\b\b\b\b\b\b\b\b\b\b\b\b\b\b\b\b\b\b\b\b                                                             \b\b\b\b\b\b\b\b\b\b\b\b\b\b\b\b\b\b\b\b\b\b\b\b\b\b\b\b\b\b\b\b\b\b\b\b\b\b\b\b\b\b\b\b\b\b\b\b\b\b\b\b\b\b\b\b\b\b\b\b\b 34% 3957 - DDR-dataset/DR_grading/test/20170621194627771.jpg\b\b\b\b\b\b\b\b\b\b\b\b\b\b\b\b\b\b\b\b\b\b\b\b\b\b\b\b\b\b\b\b\b\b\b\b\b\b\b\b\b\b\b\b\b\b\b\b\b\b\b\b\b\b\b\b\b\b\b\b\b                                                             \b\b\b\b\b\b\b\b\b\b\b\b\b\b\b\b\b\b\b\b\b\b\b\b\b\b\b\b\b\b\b\b\b\b\b\b\b\b\b\b\b\b\b\b\b\b\b\b\b\b\b\b\b\b\b\b\b\b\b\b\b 35% 4023 - DDR-dataset/DR_grading/test/20170627105002528.jpg\b\b\b\b\b\b\b\b\b\b\b\b\b\b\b\b\b\b\b\b\b\b\b\b\b\b\b\b\b\b\b\b\b\b\b\b\b\b\b\b\b\b\b\b\b\b\b\b\b\b\b\b\b\b\b\b\b\b\b\b\b                                                             \b\b\b\b\b\b\b\b\b\b\b\b\b\b\b\b\b\b\b\b\b\b\b\b\b\b\b\b\b\b\b\b\b\b\b\b\b\b\b\b\b\b\b\b\b\b\b\b\b\b\b\b\b\b\b\b\b\b\b\b\b 35% 4093 - DDR-dataset/DR_grading/test/20170630083302555.jpg\b\b\b\b\b\b\b\b\b\b\b\b\b\b\b\b\b\b\b\b\b\b\b\b\b\b\b\b\b\b\b\b\b\b\b\b\b\b\b\b\b\b\b\b\b\b\b\b\b\b\b\b\b\b\b\b\b\b\b\b\b                                                             \b\b\b\b\b\b\b\b\b\b\b\b\b\b\b\b\b\b\b\b\b\b\b\b\b\b\b\b\b\b\b\b\b\b\b\b\b\b\b\b\b\b\b\b\b\b\b\b\b\b\b\b\b\b\b\b\b\b\b\b\b 36% 4296 - DDR-dataset/DR_grading/train/007-0206-000.jpg\b\b\b\b\b\b\b\b\b\b\b\b\b\b\b\b\b\b\b\b\b\b\b\b\b\b\b\b\b\b\b\b\b\b\b\b\b\b\b\b\b\b\b\b\b\b\b\b\b\b\b\b\b\b\b\b\b                                                         \b\b\b\b\b\b\b\b\b\b\b\b\b\b\b\b\b\b\b\b\b\b\b\b\b\b\b\b\b\b\b\b\b\b\b\b\b\b\b\b\b\b\b\b\b\b\b\b\b\b\b\b\b\b\b\b\b 36% 4301 - DDR-dataset/DR_grading/train/007-0211-000.jpg\b\b\b\b\b\b\b\b\b\b\b\b\b\b\b\b\b\b\b\b\b\b\b\b\b\b\b\b\b\b\b\b\b\b\b\b\b\b\b\b\b\b\b\b\b\b\b\b\b\b\b\b\b\b\b\b\b                                                         \b\b\b\b\b\b\b\b\b\b\b\b\b\b\b\b\b\b\b\b\b\b\b\b\b\b\b\b\b\b\b\b\b\b\b\b\b\b\b\b\b\b\b\b\b\b\b\b\b\b\b\b\b\b\b\b\b 36% 4321 - DDR-dataset/DR_grading/train/007-0231-000.jpg\b\b\b\b\b\b\b\b\b\b\b\b\b\b\b\b\b\b\b\b\b\b\b\b\b\b\b\b\b\b\b\b\b\b\b\b\b\b\b\b\b\b\b\b\b\b\b\b\b\b\b\b\b\b\b\b\b                                                         \b\b\b\b\b\b\b\b\b\b\b\b\b\b\b\b\b\b\b\b\b\b\b\b\b\b\b\b\b\b\b\b\b\b\b\b\b\b\b\b\b\b\b\b\b\b\b\b\b\b\b\b\b\b\b\b\b 36% 4338 - DDR-dataset/DR_grading/train/007-0250-000.jpg\b\b\b\b\b\b\b\b\b\b\b\b\b\b\b\b\b\b\b\b\b\b\b\b\b\b\b\b\b\b\b\b\b\b\b\b\b\b\b\b\b\b\b\b\b\b\b\b\b\b\b\b\b\b\b\b\b                                                         \b\b\b\b\b\b\b\b\b\b\b\b\b\b\b\b\b\b\b\b\b\b\b\b\b\b\b\b\b\b\b\b\b\b\b\b\b\b\b\b\b\b\b\b\b\b\b\b\b\b\b\b\b\b\b\b\b 37% 4354 - DDR-dataset/DR_grading/train/007-0266-000.jpg\b\b\b\b\b\b\b\b\b\b\b\b\b\b\b\b\b\b\b\b\b\b\b\b\b\b\b\b\b\b\b\b\b\b\b\b\b\b\b\b\b\b\b\b\b\b\b\b\b\b\b\b\b\b\b\b\b                                                         \b\b\b\b\b\b\b\b\b\b\b\b\b\b\b\b\b\b\b\b\b\b\b\b\b\b\b\b\b\b\b\b\b\b\b\b\b\b\b\b\b\b\b\b\b\b\b\b\b\b\b\b\b\b\b\b\b 37% 4377 - DDR-dataset/DR_grading/train/007-0290-000.jpg\b\b\b\b\b\b\b\b\b\b\b\b\b\b\b\b\b\b\b\b\b\b\b\b\b\b\b\b\b\b\b\b\b\b\b\b\b\b\b\b\b\b\b\b\b\b\b\b\b\b\b\b\b\b\b\b\b                                                         \b\b\b\b\b\b\b\b\b\b\b\b\b\b\b\b\b\b\b\b\b\b\b\b\b\b\b\b\b\b\b\b\b\b\b\b\b\b\b\b\b\b\b\b\b\b\b\b\b\b\b\b\b\b\b\b\b 37% 4408 - DDR-dataset/DR_grading/train/007-0323-000.jpg\b\b\b\b\b\b\b\b\b\b\b\b\b\b\b\b\b\b\b\b\b\b\b\b\b\b\b\b\b\b\b\b\b\b\b\b\b\b\b\b\b\b\b\b\b\b\b\b\b\b\b\b\b\b\b\b\b                                                         \b\b\b\b\b\b\b\b\b\b\b\b\b\b\b\b\b\b\b\b\b\b\b\b\b\b\b\b\b\b\b\b\b\b\b\b\b\b\b\b\b\b\b\b\b\b\b\b\b\b\b\b\b\b\b\b\b 37% 4424 - DDR-dataset/DR_grading/train/007-0339-000.jpg\b\b\b\b\b\b\b\b\b\b\b\b\b\b\b\b\b\b\b\b\b\b\b\b\b\b\b\b\b\b\b\b\b\b\b\b\b\b\b\b\b\b\b\b\b\b\b\b\b\b\b\b\b\b\b\b\b                                                         \b\b\b\b\b\b\b\b\b\b\b\b\b\b\b\b\b\b\b\b\b\b\b\b\b\b\b\b\b\b\b\b\b\b\b\b\b\b\b\b\b\b\b\b\b\b\b\b\b\b\b\b\b\b\b\b\b 38% 4440 - DDR-dataset/DR_grading/train/007-0355-000.jpg\b\b\b\b\b\b\b\b\b\b\b\b\b\b\b\b\b\b\b\b\b\b\b\b\b\b\b\b\b\b\b\b\b\b\b\b\b\b\b\b\b\b\b\b\b\b\b\b\b\b\b\b\b\b\b\b\b                                                         \b\b\b\b\b\b\b\b\b\b\b\b\b\b\b\b\b\b\b\b\b\b\b\b\b\b\b\b\b\b\b\b\b\b\b\b\b\b\b\b\b\b\b\b\b\b\b\b\b\b\b\b\b\b\b\b\b 38% 4446 - DDR-dataset/DR_grading/train/007-0361-000.jpg\b\b\b\b\b\b\b\b\b\b\b\b\b\b\b\b\b\b\b\b\b\b\b\b\b\b\b\b\b\b\b\b\b\b\b\b\b\b\b\b\b\b\b\b\b\b\b\b\b\b\b\b\b\b\b\b\b                                                         \b\b\b\b\b\b\b\b\b\b\b\b\b\b\b\b\b\b\b\b\b\b\b\b\b\b\b\b\b\b\b\b\b\b\b\b\b\b\b\b\b\b\b\b\b\b\b\b\b\b\b\b\b\b\b\b\b 38% 4467 - DDR-dataset/DR_grading/train/007-0383-000.jpg\b\b\b\b\b\b\b\b\b\b\b\b\b\b\b\b\b\b\b\b\b\b\b\b\b\b\b\b\b\b\b\b\b\b\b\b\b\b\b\b\b\b\b\b\b\b\b\b\b\b\b\b\b\b\b\b\b                                                         \b\b\b\b\b\b\b\b\b\b\b\b\b\b\b\b\b\b\b\b\b\b\b\b\b\b\b\b\b\b\b\b\b\b\b\b\b\b\b\b\b\b\b\b\b\b\b\b\b\b\b\b\b\b\b\b\b 38% 4481 - DDR-dataset/DR_grading/train/007-0397-000.jpg\b\b\b\b\b\b\b\b\b\b\b\b\b\b\b\b\b\b\b\b\b\b\b\b\b\b\b\b\b\b\b\b\b\b\b\b\b\b\b\b\b\b\b\b\b\b\b\b\b\b\b\b\b\b\b\b\b                                                         \b\b\b\b\b\b\b\b\b\b\b\b\b\b\b\b\b\b\b\b\b\b\b\b\b\b\b\b\b\b\b\b\b\b\b\b\b\b\b\b\b\b\b\b\b\b\b\b\b\b\b\b\b\b\b\b\b 39% 4496 - DDR-dataset/DR_grading/train/007-0412-000.jpg\b\b\b\b\b\b\b\b\b\b\b\b\b\b\b\b\b\b\b\b\b\b\b\b\b\b\b\b\b\b\b\b\b\b\b\b\b\b\b\b\b\b\b\b\b\b\b\b\b\b\b\b\b\b\b\b\b                                                         \b\b\b\b\b\b\b\b\b\b\b\b\b\b\b\b\b\b\b\b\b\b\b\b\b\b\b\b\b\b\b\b\b\b\b\b\b\b\b\b\b\b\b\b\b\b\b\b\b\b\b\b\b\b\b\b\b 39% 4504 - DDR-dataset/DR_grading/train/007-0420-000.jpg\b\b\b\b\b\b\b\b\b\b\b\b\b\b\b\b\b\b\b\b\b\b\b\b\b\b\b\b\b\b\b\b\b\b\b\b\b\b\b\b\b\b\b\b\b\b\b\b\b\b\b\b\b\b\b\b\b                                                         \b\b\b\b\b\b\b\b\b\b\b\b\b\b\b\b\b\b\b\b\b\b\b\b\b\b\b\b\b\b\b\b\b\b\b\b\b\b\b\b\b\b\b\b\b\b\b\b\b\b\b\b\b\b\b\b\b 39% 4562 - DDR-dataset/DR_grading/train/007-0484-000.jpg\b\b\b\b\b\b\b\b\b\b\b\b\b\b\b\b\b\b\b\b\b\b\b\b\b\b\b\b\b\b\b\b\b\b\b\b\b\b\b\b\b\b\b\b\b\b\b\b\b\b\b\b\b\b\b\b\b                                                         \b\b\b\b\b\b\b\b\b\b\b\b\b\b\b\b\b\b\b\b\b\b\b\b\b\b\b\b\b\b\b\b\b\b\b\b\b\b\b\b\b\b\b\b\b\b\b\b\b\b\b\b\b\b\b\b\b 39% 4599 - DDR-dataset/DR_grading/train/007-0523-000.jpg\b\b\b\b\b\b\b\b\b\b\b\b\b\b\b\b\b\b\b\b\b\b\b\b\b\b\b\b\b\b\b\b\b\b\b\b\b\b\b\b\b\b\b\b\b\b\b\b\b\b\b\b\b\b\b\b\b                                                         \b\b\b\b\b\b\b\b\b\b\b\b\b\b\b\b\b\b\b\b\b\b\b\b\b\b\b\b\b\b\b\b\b\b\b\b\b\b\b\b\b\b\b\b\b\b\b\b\b\b\b\b\b\b\b\b\b 40% 4645 - DDR-dataset/DR_grading/train/007-0573-000.jpg\b\b\b\b\b\b\b\b\b\b\b\b\b\b\b\b\b\b\b\b\b\b\b\b\b\b\b\b\b\b\b\b\b\b\b\b\b\b\b\b\b\b\b\b\b\b\b\b\b\b\b\b\b\b\b\b\b                                                         \b\b\b\b\b\b\b\b\b\b\b\b\b\b\b\b\b\b\b\b\b\b\b\b\b\b\b\b\b\b\b\b\b\b\b\b\b\b\b\b\b\b\b\b\b\b\b\b\b\b\b\b\b\b\b\b\b 40% 4755 - DDR-dataset/DR_grading/train/007-0690-000.jpg\b\b\b\b\b\b\b\b\b\b\b\b\b\b\b\b\b\b\b\b\b\b\b\b\b\b\b\b\b\b\b\b\b\b\b\b\b\b\b\b\b\b\b\b\b\b\b\b\b\b\b\b\b\b\b\b\b                                                         \b\b\b\b\b\b\b\b\b\b\b\b\b\b\b\b\b\b\b\b\b\b\b\b\b\b\b\b\b\b\b\b\b\b\b\b\b\b\b\b\b\b\b\b\b\b\b\b\b\b\b\b\b\b\b\b\b 40% 4768 - DDR-dataset/DR_grading/train/007-0703-000.jpg\b\b\b\b\b\b\b\b\b\b\b\b\b\b\b\b\b\b\b\b\b\b\b\b\b\b\b\b\b\b\b\b\b\b\b\b\b\b\b\b\b\b\b\b\b\b\b\b\b\b\b\b\b\b\b\b\b                                                         \b\b\b\b\b\b\b\b\b\b\b\b\b\b\b\b\b\b\b\b\b\b\b\b\b\b\b\b\b\b\b\b\b\b\b\b\b\b\b\b\b\b\b\b\b\b\b\b\b\b\b\b\b\b\b\b\b 41% 4913 - DDR-dataset/DR_grading/train/007-0860-000.jpg\b\b\b\b\b\b\b\b\b\b\b\b\b\b\b\b\b\b\b\b\b\b\b\b\b\b\b\b\b\b\b\b\b\b\b\b\b\b\b\b\b\b\b\b\b\b\b\b\b\b\b\b\b\b\b\b\b                                                         \b\b\b\b\b\b\b\b\b\b\b\b\b\b\b\b\b\b\b\b\b\b\b\b\b\b\b\b\b\b\b\b\b\b\b\b\b\b\b\b\b\b\b\b\b\b\b\b\b\b\b\b\b\b\b\b\b 41% 4968 - DDR-dataset/DR_grading/train/007-0927-000.jpg\b\b\b\b\b\b\b\b\b\b\b\b\b\b\b\b\b\b\b\b\b\b\b\b\b\b\b\b\b\b\b\b\b\b\b\b\b\b\b\b\b\b\b\b\b\b\b\b\b\b\b\b\b\b\b\b\b                                                         \b\b\b\b\b\b\b\b\b\b\b\b\b\b\b\b\b\b\b\b\b\b\b\b\b\b\b\b\b\b\b\b\b\b\b\b\b\b\b\b\b\b\b\b\b\b\b\b\b\b\b\b\b\b\b\b\b 41% 4987 - DDR-dataset/DR_grading/train/007-0946-000.jpg\b\b\b\b\b\b\b\b\b\b\b\b\b\b\b\b\b\b\b\b\b\b\b\b\b\b\b\b\b\b\b\b\b\b\b\b\b\b\b\b\b\b\b\b\b\b\b\b\b\b\b\b\b\b\b\b\b                                                         \b\b\b\b\b\b\b\b\b\b\b\b\b\b\b\b\b\b\b\b\b\b\b\b\b\b\b\b\b\b\b\b\b\b\b\b\b\b\b\b\b\b\b\b\b\b\b\b\b\b\b\b\b\b\b\b\b 41% 5031 - DDR-dataset/DR_grading/train/007-0991-000.jpg\b\b\b\b\b\b\b\b\b\b\b\b\b\b\b\b\b\b\b\b\b\b\b\b\b\b\b\b\b\b\b\b\b\b\b\b\b\b\b\b\b\b\b\b\b\b\b\b\b\b\b\b\b\b\b\b\b                                                         \b\b\b\b\b\b\b\b\b\b\b\b\b\b\b\b\b\b\b\b\b\b\b\b\b\b\b\b\b\b\b\b\b\b\b\b\b\b\b\b\b\b\b\b\b\b\b\b\b\b\b\b\b\b\b\b\b 41% 5118 - DDR-dataset/DR_grading/train/007-1083-000.jpg\b\b\b\b\b\b\b\b\b\b\b\b\b\b\b\b\b\b\b\b\b\b\b\b\b\b\b\b\b\b\b\b\b\b\b\b\b\b\b\b\b\b\b\b\b\b\b\b\b\b\b\b\b\b\b\b\b                                                         \b\b\b\b\b\b\b\b\b\b\b\b\b\b\b\b\b\b\b\b\b\b\b\b\b\b\b\b\b\b\b\b\b\b\b\b\b\b\b\b\b\b\b\b\b\b\b\b\b\b\b\b\b\b\b\b\b 41% 5121 - DDR-dataset/DR_grading/train/007-1088-000.jpg\b\b\b\b\b\b\b\b\b\b\b\b\b\b\b\b\b\b\b\b\b\b\b\b\b\b\b\b\b\b\b\b\b\b\b\b\b\b\b\b\b\b\b\b\b\b\b\b\b\b\b\b\b\b\b\b\b                                                         \b\b\b\b\b\b\b\b\b\b\b\b\b\b\b\b\b\b\b\b\b\b\b\b\b\b\b\b\b\b\b\b\b\b\b\b\b\b\b\b\b\b\b\b\b\b\b\b\b\b\b\b\b\b\b\b\b 42% 5128 - DDR-dataset/DR_grading/train/007-1097-000.jpg\b\b\b\b\b\b\b\b\b\b\b\b\b\b\b\b\b\b\b\b\b\b\b\b\b\b\b\b\b\b\b\b\b\b\b\b\b\b\b\b\b\b\b\b\b\b\b\b\b\b\b\b\b\b\b\b\b                                                         \b\b\b\b\b\b\b\b\b\b\b\b\b\b\b\b\b\b\b\b\b\b\b\b\b\b\b\b\b\b\b\b\b\b\b\b\b\b\b\b\b\b\b\b\b\b\b\b\b\b\b\b\b\b\b\b\b 42% 5129 - DDR-dataset/DR_grading/train/007-1098-000.jpg\b\b\b\b\b\b\b\b\b\b\b\b\b\b\b\b\b\b\b\b\b\b\b\b\b\b\b\b\b\b\b\b\b\b\b\b\b\b\b\b\b\b\b\b\b\b\b\b\b\b\b\b\b\b\b\b\b                                                         \b\b\b\b\b\b\b\b\b\b\b\b\b\b\b\b\b\b\b\b\b\b\b\b\b\b\b\b\b\b\b\b\b\b\b\b\b\b\b\b\b\b\b\b\b\b\b\b\b\b\b\b\b\b\b\b\b 42% 5148 - DDR-dataset/DR_grading/train/007-1120-000.jpg\b\b\b\b\b\b\b\b\b\b\b\b\b\b\b\b\b\b\b\b\b\b\b\b\b\b\b\b\b\b\b\b\b\b\b\b\b\b\b\b\b\b\b\b\b\b\b\b\b\b\b\b\b\b\b\b\b                                                         \b\b\b\b\b\b\b\b\b\b\b\b\b\b\b\b\b\b\b\b\b\b\b\b\b\b\b\b\b\b\b\b\b\b\b\b\b\b\b\b\b\b\b\b\b\b\b\b\b\b\b\b\b\b\b\b\b 42% 5164 - DDR-dataset/DR_grading/train/007-1136-000.jpg\b\b\b\b\b\b\b\b\b\b\b\b\b\b\b\b\b\b\b\b\b\b\b\b\b\b\b\b\b\b\b\b\b\b\b\b\b\b\b\b\b\b\b\b\b\b\b\b\b\b\b\b\b\b\b\b\b                                                         \b\b\b\b\b\b\b\b\b\b\b\b\b\b\b\b\b\b\b\b\b\b\b\b\b\b\b\b\b\b\b\b\b\b\b\b\b\b\b\b\b\b\b\b\b\b\b\b\b\b\b\b\b\b\b\b\b 42% 5209 - DDR-dataset/DR_grading/train/007-1183-000.jpg\b\b\b\b\b\b\b\b\b\b\b\b\b\b\b\b\b\b\b\b\b\b\b\b\b\b\b\b\b\b\b\b\b\b\b\b\b\b\b\b\b\b\b\b\b\b\b\b\b\b\b\b\b\b\b\b\b                                                         \b\b\b\b\b\b\b\b\b\b\b\b\b\b\b\b\b\b\b\b\b\b\b\b\b\b\b\b\b\b\b\b\b\b\b\b\b\b\b\b\b\b\b\b\b\b\b\b\b\b\b\b\b\b\b\b\b 42% 5227 - DDR-dataset/DR_grading/train/007-1202-000.jpg\b\b\b\b\b\b\b\b\b\b\b\b\b\b\b\b\b\b\b\b\b\b\b\b\b\b\b\b\b\b\b\b\b\b\b\b\b\b\b\b\b\b\b\b\b\b\b\b\b\b\b\b\b\b\b\b\b                                                         \b\b\b\b\b\b\b\b\b\b\b\b\b\b\b\b\b\b\b\b\b\b\b\b\b\b\b\b\b\b\b\b\b\b\b\b\b\b\b\b\b\b\b\b\b\b\b\b\b\b\b\b\b\b\b\b\b 42% 5286 - DDR-dataset/DR_grading/train/007-1261-000.jpg\b\b\b\b\b\b\b\b\b\b\b\b\b\b\b\b\b\b\b\b\b\b\b\b\b\b\b\b\b\b\b\b\b\b\b\b\b\b\b\b\b\b\b\b\b\b\b\b\b\b\b\b\b\b\b\b\b                                                         \b\b\b\b\b\b\b\b\b\b\b\b\b\b\b\b\b\b\b\b\b\b\b\b\b\b\b\b\b\b\b\b\b\b\b\b\b\b\b\b\b\b\b\b\b\b\b\b\b\b\b\b\b\b\b\b\b 43% 5297 - DDR-dataset/DR_grading/train/007-1273-000.jpg\b\b\b\b\b\b\b\b\b\b\b\b\b\b\b\b\b\b\b\b\b\b\b\b\b\b\b\b\b\b\b\b\b\b\b\b\b\b\b\b\b\b\b\b\b\b\b\b\b\b\b\b\b\b\b\b\b                                                         \b\b\b\b\b\b\b\b\b\b\b\b\b\b\b\b\b\b\b\b\b\b\b\b\b\b\b\b\b\b\b\b\b\b\b\b\b\b\b\b\b\b\b\b\b\b\b\b\b\b\b\b\b\b\b\b\b 43% 5311 - DDR-dataset/DR_grading/train/007-1288-000.jpg\b\b\b\b\b\b\b\b\b\b\b\b\b\b\b\b\b\b\b\b\b\b\b\b\b\b\b\b\b\b\b\b\b\b\b\b\b\b\b\b\b\b\b\b\b\b\b\b\b\b\b\b\b\b\b\b\b                                                         \b\b\b\b\b\b\b\b\b\b\b\b\b\b\b\b\b\b\b\b\b\b\b\b\b\b\b\b\b\b\b\b\b\b\b\b\b\b\b\b\b\b\b\b\b\b\b\b\b\b\b\b\b\b\b\b\b 43% 5317 - DDR-dataset/DR_grading/train/007-1295-000.jpg\b\b\b\b\b\b\b\b\b\b\b\b\b\b\b\b\b\b\b\b\b\b\b\b\b\b\b\b\b\b\b\b\b\b\b\b\b\b\b\b\b\b\b\b\b\b\b\b\b\b\b\b\b\b\b\b\b                                                         \b\b\b\b\b\b\b\b\b\b\b\b\b\b\b\b\b\b\b\b\b\b\b\b\b\b\b\b\b\b\b\b\b\b\b\b\b\b\b\b\b\b\b\b\b\b\b\b\b\b\b\b\b\b\b\b\b 43% 5318\b\b\b\b\b\b\b\b\b         \b\b\b\b\b\b\b\b\b 43% 5338 - DDR-dataset/DR_grading/train/007-1317-000.jpg\b\b\b\b\b\b\b\b\b\b\b\b\b\b\b\b\b\b\b\b\b\b\b\b\b\b\b\b\b\b\b\b\b\b\b\b\b\b\b\b\b\b\b\b\b\b\b\b\b\b\b\b\b\b\b\b\b                                                         \b\b\b\b\b\b\b\b\b\b\b\b\b\b\b\b\b\b\b\b\b\b\b\b\b\b\b\b\b\b\b\b\b\b\b\b\b\b\b\b\b\b\b\b\b\b\b\b\b\b\b\b\b\b\b\b\b 43% 5354 - DDR-dataset/DR_grading/train/007-1334-000.jpg\b\b\b\b\b\b\b\b\b\b\b\b\b\b\b\b\b\b\b\b\b\b\b\b\b\b\b\b\b\b\b\b\b\b\b\b\b\b\b\b\b\b\b\b\b\b\b\b\b\b\b\b\b\b\b\b\b                                                         \b\b\b\b\b\b\b\b\b\b\b\b\b\b\b\b\b\b\b\b\b\b\b\b\b\b\b\b\b\b\b\b\b\b\b\b\b\b\b\b\b\b\b\b\b\b\b\b\b\b\b\b\b\b\b\b\b 43% 5358 - DDR-dataset/DR_grading/train/007-1338-000.jpg\b\b\b\b\b\b\b\b\b\b\b\b\b\b\b\b\b\b\b\b\b\b\b\b\b\b\b\b\b\b\b\b\b\b\b\b\b\b\b\b\b\b\b\b\b\b\b\b\b\b\b\b\b\b\b\b\b                                                         \b\b\b\b\b\b\b\b\b\b\b\b\b\b\b\b\b\b\b\b\b\b\b\b\b\b\b\b\b\b\b\b\b\b\b\b\b\b\b\b\b\b\b\b\b\b\b\b\b\b\b\b\b\b\b\b\b 44% 5362 - DDR-dataset/DR_grading/train/007-1342-000.jpg\b\b\b\b\b\b\b\b\b\b\b\b\b\b\b\b\b\b\b\b\b\b\b\b\b\b\b\b\b\b\b\b\b\b\b\b\b\b\b\b\b\b\b\b\b\b\b\b\b\b\b\b\b\b\b\b\b                                                         \b\b\b\b\b\b\b\b\b\b\b\b\b\b\b\b\b\b\b\b\b\b\b\b\b\b\b\b\b\b\b\b\b\b\b\b\b\b\b\b\b\b\b\b\b\b\b\b\b\b\b\b\b\b\b\b\b 44% 5369 - DDR-dataset/DR_grading/train/007-1349-000.jpg\b\b\b\b\b\b\b\b\b\b\b\b\b\b\b\b\b\b\b\b\b\b\b\b\b\b\b\b\b\b\b\b\b\b\b\b\b\b\b\b\b\b\b\b\b\b\b\b\b\b\b\b\b\b\b\b\b                                                         \b\b\b\b\b\b\b\b\b\b\b\b\b\b\b\b\b\b\b\b\b\b\b\b\b\b\b\b\b\b\b\b\b\b\b\b\b\b\b\b\b\b\b\b\b\b\b\b\b\b\b\b\b\b\b\b\b 44% 5370 - DDR-dataset/DR_grading/train/007-1350-000.jpg\b\b\b\b\b\b\b\b\b\b\b\b\b\b\b\b\b\b\b\b\b\b\b\b\b\b\b\b\b\b\b\b\b\b\b\b\b\b\b\b\b\b\b\b\b\b\b\b\b\b\b\b\b\b\b\b\b                                                         \b\b\b\b\b\b\b\b\b\b\b\b\b\b\b\b\b\b\b\b\b\b\b\b\b\b\b\b\b\b\b\b\b\b\b\b\b\b\b\b\b\b\b\b\b\b\b\b\b\b\b\b\b\b\b\b\b 44% 5414 - DDR-dataset/DR_grading/train/007-1405-000.jpg\b\b\b\b\b\b\b\b\b\b\b\b\b\b\b\b\b\b\b\b\b\b\b\b\b\b\b\b\b\b\b\b\b\b\b\b\b\b\b\b\b\b\b\b\b\b\b\b\b\b\b\b\b\b\b\b\b                                                         \b\b\b\b\b\b\b\b\b\b\b\b\b\b\b\b\b\b\b\b\b\b\b\b\b\b\b\b\b\b\b\b\b\b\b\b\b\b\b\b\b\b\b\b\b\b\b\b\b\b\b\b\b\b\b\b\b 44% 5478 - DDR-dataset/DR_grading/train/007-1485-000.jpg\b\b\b\b\b\b\b\b\b\b\b\b\b\b\b\b\b\b\b\b\b\b\b\b\b\b\b\b\b\b\b\b\b\b\b\b\b\b\b\b\b\b\b\b\b\b\b\b\b\b\b\b\b\b\b\b\b                                                         \b\b\b\b\b\b\b\b\b\b\b\b\b\b\b\b\b\b\b\b\b\b\b\b\b\b\b\b\b\b\b\b\b\b\b\b\b\b\b\b\b\b\b\b\b\b\b\b\b\b\b\b\b\b\b\b\b 44% 5486 - DDR-dataset/DR_grading/train/007-1493-000.jpg\b\b\b\b\b\b\b\b\b\b\b\b\b\b\b\b\b\b\b\b\b\b\b\b\b\b\b\b\b\b\b\b\b\b\b\b\b\b\b\b\b\b\b\b\b\b\b\b\b\b\b\b\b\b\b\b\b                                                         \b\b\b\b\b\b\b\b\b\b\b\b\b\b\b\b\b\b\b\b\b\b\b\b\b\b\b\b\b\b\b\b\b\b\b\b\b\b\b\b\b\b\b\b\b\b\b\b\b\b\b\b\b\b\b\b\b 45% 5550 - DDR-dataset/DR_grading/train/007-1561-000.jpg\b\b\b\b\b\b\b\b\b\b\b\b\b\b\b\b\b\b\b\b\b\b\b\b\b\b\b\b\b\b\b\b\b\b\b\b\b\b\b\b\b\b\b\b\b\b\b\b\b\b\b\b\b\b\b\b\b                                                         \b\b\b\b\b\b\b\b\b\b\b\b\b\b\b\b\b\b\b\b\b\b\b\b\b\b\b\b\b\b\b\b\b\b\b\b\b\b\b\b\b\b\b\b\b\b\b\b\b\b\b\b\b\b\b\b\b 45% 5568 - DDR-dataset/DR_grading/train/007-1582-000.jpg\b\b\b\b\b\b\b\b\b\b\b\b\b\b\b\b\b\b\b\b\b\b\b\b\b\b\b\b\b\b\b\b\b\b\b\b\b\b\b\b\b\b\b\b\b\b\b\b\b\b\b\b\b\b\b\b\b                                                         \b\b\b\b\b\b\b\b\b\b\b\b\b\b\b\b\b\b\b\b\b\b\b\b\b\b\b\b\b\b\b\b\b\b\b\b\b\b\b\b\b\b\b\b\b\b\b\b\b\b\b\b\b\b\b\b\b 45% 5676 - DDR-dataset/DR_grading/train/007-1727-000.jpg\b\b\b\b\b\b\b\b\b\b\b\b\b\b\b\b\b\b\b\b\b\b\b\b\b\b\b\b\b\b\b\b\b\b\b\b\b\b\b\b\b\b\b\b\b\b\b\b\b\b\b\b\b\b\b\b\b                                                         \b\b\b\b\b\b\b\b\b\b\b\b\b\b\b\b\b\b\b\b\b\b\b\b\b\b\b\b\b\b\b\b\b\b\b\b\b\b\b\b\b\b\b\b\b\b\b\b\b\b\b\b\b\b\b\b\b 45% 5691 - DDR-dataset/DR_grading/train/007-1743-000.jpg\b\b\b\b\b\b\b\b\b\b\b\b\b\b\b\b\b\b\b\b\b\b\b\b\b\b\b\b\b\b\b\b\b\b\b\b\b\b\b\b\b\b\b\b\b\b\b\b\b\b\b\b\b\b\b\b\b                                                         \b\b\b\b\b\b\b\b\b\b\b\b\b\b\b\b\b\b\b\b\b\b\b\b\b\b\b\b\b\b\b\b\b\b\b\b\b\b\b\b\b\b\b\b\b\b\b\b\b\b\b\b\b\b\b\b\b 45% 5716 - DDR-dataset/DR_grading/train/007-1772-100.jpg\b\b\b\b\b\b\b\b\b\b\b\b\b\b\b\b\b\b\b\b\b\b\b\b\b\b\b\b\b\b\b\b\b\b\b\b\b\b\b\b\b\b\b\b\b\b\b\b\b\b\b\b\b\b\b\b\b                                                         \b\b\b\b\b\b\b\b\b\b\b\b\b\b\b\b\b\b\b\b\b\b\b\b\b\b\b\b\b\b\b\b\b\b\b\b\b\b\b\b\b\b\b\b\b\b\b\b\b\b\b\b\b\b\b\b\b 45% 5717 - DDR-dataset/DR_grading/train/007-1773-100.jpg\b\b\b\b\b\b\b\b\b\b\b\b\b\b\b\b\b\b\b\b\b\b\b\b\b\b\b\b\b\b\b\b\b\b\b\b\b\b\b\b\b\b\b\b\b\b\b\b\b\b\b\b\b\b\b\b\b                                                         \b\b\b\b\b\b\b\b\b\b\b\b\b\b\b\b\b\b\b\b\b\b\b\b\b\b\b\b\b\b\b\b\b\b\b\b\b\b\b\b\b\b\b\b\b\b\b\b\b\b\b\b\b\b\b\b\b 46% 5776 - DDR-dataset/DR_grading/train/007-1835-100.jpg\b\b\b\b\b\b\b\b\b\b\b\b\b\b\b\b\b\b\b\b\b\b\b\b\b\b\b\b\b\b\b\b\b\b\b\b\b\b\b\b\b\b\b\b\b\b\b\b\b\b\b\b\b\b\b\b\b                                                         \b\b\b\b\b\b\b\b\b\b\b\b\b\b\b\b\b\b\b\b\b\b\b\b\b\b\b\b\b\b\b\b\b\b\b\b\b\b\b\b\b\b\b\b\b\b\b\b\b\b\b\b\b\b\b\b\b 46% 5904 - DDR-dataset/DR_grading/train/007-1971-100.jpg\b\b\b\b\b\b\b\b\b\b\b\b\b\b\b\b\b\b\b\b\b\b\b\b\b\b\b\b\b\b\b\b\b\b\b\b\b\b\b\b\b\b\b\b\b\b\b\b\b\b\b\b\b\b\b\b\b                                                         \b\b\b\b\b\b\b\b\b\b\b\b\b\b\b\b\b\b\b\b\b\b\b\b\b\b\b\b\b\b\b\b\b\b\b\b\b\b\b\b\b\b\b\b\b\b\b\b\b\b\b\b\b\b\b\b\b 46% 5945 - DDR-dataset/DR_grading/train/007-2012-100.jpg\b\b\b\b\b\b\b\b\b\b\b\b\b\b\b\b\b\b\b\b\b\b\b\b\b\b\b\b\b\b\b\b\b\b\b\b\b\b\b\b\b\b\b\b\b\b\b\b\b\b\b\b\b\b\b\b\b                                                         \b\b\b\b\b\b\b\b\b\b\b\b\b\b\b\b\b\b\b\b\b\b\b\b\b\b\b\b\b\b\b\b\b\b\b\b\b\b\b\b\b\b\b\b\b\b\b\b\b\b\b\b\b\b\b\b\b 46% 5980 - DDR-dataset/DR_grading/train/007-2048-100.jpg\b\b\b\b\b\b\b\b\b\b\b\b\b\b\b\b\b\b\b\b\b\b\b\b\b\b\b\b\b\b\b\b\b\b\b\b\b\b\b\b\b\b\b\b\b\b\b\b\b\b\b\b\b\b\b\b\b                                                         \b\b\b\b\b\b\b\b\b\b\b\b\b\b\b\b\b\b\b\b\b\b\b\b\b\b\b\b\b\b\b\b\b\b\b\b\b\b\b\b\b\b\b\b\b\b\b\b\b\b\b\b\b\b\b\b\b 46% 5988 - DDR-dataset/DR_grading/train/007-2056-100.jpg\b\b\b\b\b\b\b\b\b\b\b\b\b\b\b\b\b\b\b\b\b\b\b\b\b\b\b\b\b\b\b\b\b\b\b\b\b\b\b\b\b\b\b\b\b\b\b\b\b\b\b\b\b\b\b\b\b                                                         \b\b\b\b\b\b\b\b\b\b\b\b\b\b\b\b\b\b\b\b\b\b\b\b\b\b\b\b\b\b\b\b\b\b\b\b\b\b\b\b\b\b\b\b\b\b\b\b\b\b\b\b\b\b\b\b\b 47% 6034 - DDR-dataset/DR_grading/train/007-2109-100.jpg\b\b\b\b\b\b\b\b\b\b\b\b\b\b\b\b\b\b\b\b\b\b\b\b\b\b\b\b\b\b\b\b\b\b\b\b\b\b\b\b\b\b\b\b\b\b\b\b\b\b\b\b\b\b\b\b\b                                                         \b\b\b\b\b\b\b\b\b\b\b\b\b\b\b\b\b\b\b\b\b\b\b\b\b\b\b\b\b\b\b\b\b\b\b\b\b\b\b\b\b\b\b\b\b\b\b\b\b\b\b\b\b\b\b\b\b 47% 6079 - DDR-dataset/DR_grading/train/007-2154-100.jpg\b\b\b\b\b\b\b\b\b\b\b\b\b\b\b\b\b\b\b\b\b\b\b\b\b\b\b\b\b\b\b\b\b\b\b\b\b\b\b\b\b\b\b\b\b\b\b\b\b\b\b\b\b\b\b\b\b                                                         \b\b\b\b\b\b\b\b\b\b\b\b\b\b\b\b\b\b\b\b\b\b\b\b\b\b\b\b\b\b\b\b\b\b\b\b\b\b\b\b\b\b\b\b\b\b\b\b\b\b\b\b\b\b\b\b\b 47% 6094 - DDR-dataset/DR_grading/train/007-2170-100.jpg\b\b\b\b\b\b\b\b\b\b\b\b\b\b\b\b\b\b\b\b\b\b\b\b\b\b\b\b\b\b\b\b\b\b\b\b\b\b\b\b\b\b\b\b\b\b\b\b\b\b\b\b\b\b\b\b\b                                                         \b\b\b\b\b\b\b\b\b\b\b\b\b\b\b\b\b\b\b\b\b\b\b\b\b\b\b\b\b\b\b\b\b\b\b\b\b\b\b\b\b\b\b\b\b\b\b\b\b\b\b\b\b\b\b\b\b 47% 6155 - DDR-dataset/DR_grading/train/007-2232-100.jpg\b\b\b\b\b\b\b\b\b\b\b\b\b\b\b\b\b\b\b\b\b\b\b\b\b\b\b\b\b\b\b\b\b\b\b\b\b\b\b\b\b\b\b\b\b\b\b\b\b\b\b\b\b\b\b\b\b                                                         \b\b\b\b\b\b\b\b\b\b\b\b\b\b\b\b\b\b\b\b\b\b\b\b\b\b\b\b\b\b\b\b\b\b\b\b\b\b\b\b\b\b\b\b\b\b\b\b\b\b\b\b\b\b\b\b\b 47% 6172 - DDR-dataset/DR_grading/train/007-2251-100.jpg\b\b\b\b\b\b\b\b\b\b\b\b\b\b\b\b\b\b\b\b\b\b\b\b\b\b\b\b\b\b\b\b\b\b\b\b\b\b\b\b\b\b\b\b\b\b\b\b\b\b\b\b\b\b\b\b\b                                                         \b\b\b\b\b\b\b\b\b\b\b\b\b\b\b\b\b\b\b\b\b\b\b\b\b\b\b\b\b\b\b\b\b\b\b\b\b\b\b\b\b\b\b\b\b\b\b\b\b\b\b\b\b\b\b\b\b 48% 6230 - DDR-dataset/DR_grading/train/007-2312-100.jpg\b\b\b\b\b\b\b\b\b\b\b\b\b\b\b\b\b\b\b\b\b\b\b\b\b\b\b\b\b\b\b\b\b\b\b\b\b\b\b\b\b\b\b\b\b\b\b\b\b\b\b\b\b\b\b\b\b                                                         \b\b\b\b\b\b\b\b\b\b\b\b\b\b\b\b\b\b\b\b\b\b\b\b\b\b\b\b\b\b\b\b\b\b\b\b\b\b\b\b\b\b\b\b\b\b\b\b\b\b\b\b\b\b\b\b\b 48% 6238 - DDR-dataset/DR_grading/train/007-2320-100.jpg\b\b\b\b\b\b\b\b\b\b\b\b\b\b\b\b\b\b\b\b\b\b\b\b\b\b\b\b\b\b\b\b\b\b\b\b\b\b\b\b\b\b\b\b\b\b\b\b\b\b\b\b\b\b\b\b\b                                                         \b\b\b\b\b\b\b\b\b\b\b\b\b\b\b\b\b\b\b\b\b\b\b\b\b\b\b\b\b\b\b\b\b\b\b\b\b\b\b\b\b\b\b\b\b\b\b\b\b\b\b\b\b\b\b\b\b 48% 6291 - DDR-dataset/DR_grading/train/007-2375-100.jpg\b\b\b\b\b\b\b\b\b\b\b\b\b\b\b\b\b\b\b\b\b\b\b\b\b\b\b\b\b\b\b\b\b\b\b\b\b\b\b\b\b\b\b\b\b\b\b\b\b\b\b\b\b\b\b\b\b                                                         \b\b\b\b\b\b\b\b\b\b\b\b\b\b\b\b\b\b\b\b\b\b\b\b\b\b\b\b\b\b\b\b\b\b\b\b\b\b\b\b\b\b\b\b\b\b\b\b\b\b\b\b\b\b\b\b\b 48% 6336 - DDR-dataset/DR_grading/train/007-2420-100.jpg\b\b\b\b\b\b\b\b\b\b\b\b\b\b\b\b\b\b\b\b\b\b\b\b\b\b\b\b\b\b\b\b\b\b\b\b\b\b\b\b\b\b\b\b\b\b\b\b\b\b\b\b\b\b\b\b\b                                                         \b\b\b\b\b\b\b\b\b\b\b\b\b\b\b\b\b\b\b\b\b\b\b\b\b\b\b\b\b\b\b\b\b\b\b\b\b\b\b\b\b\b\b\b\b\b\b\b\b\b\b\b\b\b\b\b\b 48% 6337 - DDR-dataset/DR_grading/train/007-2421-100.jpg\b\b\b\b\b\b\b\b\b\b\b\b\b\b\b\b\b\b\b\b\b\b\b\b\b\b\b\b\b\b\b\b\b\b\b\b\b\b\b\b\b\b\b\b\b\b\b\b\b\b\b\b\b\b\b\b\b                                                         \b\b\b\b\b\b\b\b\b\b\b\b\b\b\b\b\b\b\b\b\b\b\b\b\b\b\b\b\b\b\b\b\b\b\b\b\b\b\b\b\b\b\b\b\b\b\b\b\b\b\b\b\b\b\b\b\b 48% 6343 - DDR-dataset/DR_grading/train/007-2427-100.jpg\b\b\b\b\b\b\b\b\b\b\b\b\b\b\b\b\b\b\b\b\b\b\b\b\b\b\b\b\b\b\b\b\b\b\b\b\b\b\b\b\b\b\b\b\b\b\b\b\b\b\b\b\b\b\b\b\b                                                         \b\b\b\b\b\b\b\b\b\b\b\b\b\b\b\b\b\b\b\b\b\b\b\b\b\b\b\b\b\b\b\b\b\b\b\b\b\b\b\b\b\b\b\b\b\b\b\b\b\b\b\b\b\b\b\b\b 48% 6361 - DDR-dataset/DR_grading/train/007-2445-100.jpg\b\b\b\b\b\b\b\b\b\b\b\b\b\b\b\b\b\b\b\b\b\b\b\b\b\b\b\b\b\b\b\b\b\b\b\b\b\b\b\b\b\b\b\b\b\b\b\b\b\b\b\b\b\b\b\b\b                                                         \b\b\b\b\b\b\b\b\b\b\b\b\b\b\b\b\b\b\b\b\b\b\b\b\b\b\b\b\b\b\b\b\b\b\b\b\b\b\b\b\b\b\b\b\b\b\b\b\b\b\b\b\b\b\b\b\b 48% 6382 - DDR-dataset/DR_grading/train/007-2466-100.jpg\b\b\b\b\b\b\b\b\b\b\b\b\b\b\b\b\b\b\b\b\b\b\b\b\b\b\b\b\b\b\b\b\b\b\b\b\b\b\b\b\b\b\b\b\b\b\b\b\b\b\b\b\b\b\b\b\b                                                         \b\b\b\b\b\b\b\b\b\b\b\b\b\b\b\b\b\b\b\b\b\b\b\b\b\b\b\b\b\b\b\b\b\b\b\b\b\b\b\b\b\b\b\b\b\b\b\b\b\b\b\b\b\b\b\b\b 49% 6426 - DDR-dataset/DR_grading/train/007-2535-100.jpg\b\b\b\b\b\b\b\b\b\b\b\b\b\b\b\b\b\b\b\b\b\b\b\b\b\b\b\b\b\b\b\b\b\b\b\b\b\b\b\b\b\b\b\b\b\b\b\b\b\b\b\b\b\b\b\b\b                                                         \b\b\b\b\b\b\b\b\b\b\b\b\b\b\b\b\b\b\b\b\b\b\b\b\b\b\b\b\b\b\b\b\b\b\b\b\b\b\b\b\b\b\b\b\b\b\b\b\b\b\b\b\b\b\b\b\b 49% 6488 - DDR-dataset/DR_grading/train/007-2641-100.jpg\b\b\b\b\b\b\b\b\b\b\b\b\b\b\b\b\b\b\b\b\b\b\b\b\b\b\b\b\b\b\b\b\b\b\b\b\b\b\b\b\b\b\b\b\b\b\b\b\b\b\b\b\b\b\b\b\b                                                         \b\b\b\b\b\b\b\b\b\b\b\b\b\b\b\b\b\b\b\b\b\b\b\b\b\b\b\b\b\b\b\b\b\b\b\b\b\b\b\b\b\b\b\b\b\b\b\b\b\b\b\b\b\b\b\b\b 49% 6495 - DDR-dataset/DR_grading/train/007-2653-100.jpg\b\b\b\b\b\b\b\b\b\b\b\b\b\b\b\b\b\b\b\b\b\b\b\b\b\b\b\b\b\b\b\b\b\b\b\b\b\b\b\b\b\b\b\b\b\b\b\b\b\b\b\b\b\b\b\b\b                                                         \b\b\b\b\b\b\b\b\b\b\b\b\b\b\b\b\b\b\b\b\b\b\b\b\b\b\b\b\b\b\b\b\b\b\b\b\b\b\b\b\b\b\b\b\b\b\b\b\b\b\b\b\b\b\b\b\b 49% 6573 - DDR-dataset/DR_grading/train/007-2813-100.jpg\b\b\b\b\b\b\b\b\b\b\b\b\b\b\b\b\b\b\b\b\b\b\b\b\b\b\b\b\b\b\b\b\b\b\b\b\b\b\b\b\b\b\b\b\b\b\b\b\b\b\b\b\b\b\b\b\b                                                         \b\b\b\b\b\b\b\b\b\b\b\b\b\b\b\b\b\b\b\b\b\b\b\b\b\b\b\b\b\b\b\b\b\b\b\b\b\b\b\b\b\b\b\b\b\b\b\b\b\b\b\b\b\b\b\b\b 50% 6589 - DDR-dataset/DR_grading/train/007-2850-100.jpg\b\b\b\b\b\b\b\b\b\b\b\b\b\b\b\b\b\b\b\b\b\b\b\b\b\b\b\b\b\b\b\b\b\b\b\b\b\b\b\b\b\b\b\b\b\b\b\b\b\b\b\b\b\b\b\b\b                                                         \b\b\b\b\b\b\b\b\b\b\b\b\b\b\b\b\b\b\b\b\b\b\b\b\b\b\b\b\b\b\b\b\b\b\b\b\b\b\b\b\b\b\b\b\b\b\b\b\b\b\b\b\b\b\b\b\b 50% 6662 - DDR-dataset/DR_grading/train/007-2955-100.jpg\b\b\b\b\b\b\b\b\b\b\b\b\b\b\b\b\b\b\b\b\b\b\b\b\b\b\b\b\b\b\b\b\b\b\b\b\b\b\b\b\b\b\b\b\b\b\b\b\b\b\b\b\b\b\b\b\b                                                         \b\b\b\b\b\b\b\b\b\b\b\b\b\b\b\b\b\b\b\b\b\b\b\b\b\b\b\b\b\b\b\b\b\b\b\b\b\b\b\b\b\b\b\b\b\b\b\b\b\b\b\b\b\b\b\b\b 51% 6739 - DDR-dataset/DR_grading/train/007-3077-100.jpg\b\b\b\b\b\b\b\b\b\b\b\b\b\b\b\b\b\b\b\b\b\b\b\b\b\b\b\b\b\b\b\b\b\b\b\b\b\b\b\b\b\b\b\b\b\b\b\b\b\b\b\b\b\b\b\b\b                                                         \b\b\b\b\b\b\b\b\b\b\b\b\b\b\b\b\b\b\b\b\b\b\b\b\b\b\b\b\b\b\b\b\b\b\b\b\b\b\b\b\b\b\b\b\b\b\b\b\b\b\b\b\b\b\b\b\b 51% 6778 - DDR-dataset/DR_grading/train/007-3141-100.jpg\b\b\b\b\b\b\b\b\b\b\b\b\b\b\b\b\b\b\b\b\b\b\b\b\b\b\b\b\b\b\b\b\b\b\b\b\b\b\b\b\b\b\b\b\b\b\b\b\b\b\b\b\b\b\b\b\b                                                         \b\b\b\b\b\b\b\b\b\b\b\b\b\b\b\b\b\b\b\b\b\b\b\b\b\b\b\b\b\b\b\b\b\b\b\b\b\b\b\b\b\b\b\b\b\b\b\b\b\b\b\b\b\b\b\b\b 51% 6798 - DDR-dataset/DR_grading/train/007-3164-100.jpg\b\b\b\b\b\b\b\b\b\b\b\b\b\b\b\b\b\b\b\b\b\b\b\b\b\b\b\b\b\b\b\b\b\b\b\b\b\b\b\b\b\b\b\b\b\b\b\b\b\b\b\b\b\b\b\b\b                                                         \b\b\b\b\b\b\b\b\b\b\b\b\b\b\b\b\b\b\b\b\b\b\b\b\b\b\b\b\b\b\b\b\b\b\b\b\b\b\b\b\b\b\b\b\b\b\b\b\b\b\b\b\b\b\b\b\b 51% 6818 - DDR-dataset/DR_grading/train/007-3196-100.jpg\b\b\b\b\b\b\b\b\b\b\b\b\b\b\b\b\b\b\b\b\b\b\b\b\b\b\b\b\b\b\b\b\b\b\b\b\b\b\b\b\b\b\b\b\b\b\b\b\b\b\b\b\b\b\b\b\b                                                         \b\b\b\b\b\b\b\b\b\b\b\b\b\b\b\b\b\b\b\b\b\b\b\b\b\b\b\b\b\b\b\b\b\b\b\b\b\b\b\b\b\b\b\b\b\b\b\b\b\b\b\b\b\b\b\b\b 51% 6827 - DDR-dataset/DR_grading/train/007-3215-100.jpg\b\b\b\b\b\b\b\b\b\b\b\b\b\b\b\b\b\b\b\b\b\b\b\b\b\b\b\b\b\b\b\b\b\b\b\b\b\b\b\b\b\b\b\b\b\b\b\b\b\b\b\b\b\b\b\b\b                                                         \b\b\b\b\b\b\b\b\b\b\b\b\b\b\b\b\b\b\b\b\b\b\b\b\b\b\b\b\b\b\b\b\b\b\b\b\b\b\b\b\b\b\b\b\b\b\b\b\b\b\b\b\b\b\b\b\b 51% 6839 - DDR-dataset/DR_grading/train/007-3232-100.jpg\b\b\b\b\b\b\b\b\b\b\b\b\b\b\b\b\b\b\b\b\b\b\b\b\b\b\b\b\b\b\b\b\b\b\b\b\b\b\b\b\b\b\b\b\b\b\b\b\b\b\b\b\b\b\b\b\b                                                         \b\b\b\b\b\b\b\b\b\b\b\b\b\b\b\b\b\b\b\b\b\b\b\b\b\b\b\b\b\b\b\b\b\b\b\b\b\b\b\b\b\b\b\b\b\b\b\b\b\b\b\b\b\b\b\b\b 51% 6842 - DDR-dataset/DR_grading/train/007-3235-100.jpg\b\b\b\b\b\b\b\b\b\b\b\b\b\b\b\b\b\b\b\b\b\b\b\b\b\b\b\b\b\b\b\b\b\b\b\b\b\b\b\b\b\b\b\b\b\b\b\b\b\b\b\b\b\b\b\b\b                                                         \b\b\b\b\b\b\b\b\b\b\b\b\b\b\b\b\b\b\b\b\b\b\b\b\b\b\b\b\b\b\b\b\b\b\b\b\b\b\b\b\b\b\b\b\b\b\b\b\b\b\b\b\b\b\b\b\b 52% 6882 - DDR-dataset/DR_grading/train/007-3302-200.jpg\b\b\b\b\b\b\b\b\b\b\b\b\b\b\b\b\b\b\b\b\b\b\b\b\b\b\b\b\b\b\b\b\b\b\b\b\b\b\b\b\b\b\b\b\b\b\b\b\b\b\b\b\b\b\b\b\b                                                         \b\b\b\b\b\b\b\b\b\b\b\b\b\b\b\b\b\b\b\b\b\b\b\b\b\b\b\b\b\b\b\b\b\b\b\b\b\b\b\b\b\b\b\b\b\b\b\b\b\b\b\b\b\b\b\b\b 52% 6899 - DDR-dataset/DR_grading/train/007-3319-200.jpg\b\b\b\b\b\b\b\b\b\b\b\b\b\b\b\b\b\b\b\b\b\b\b\b\b\b\b\b\b\b\b\b\b\b\b\b\b\b\b\b\b\b\b\b\b\b\b\b\b\b\b\b\b\b\b\b\b                                                         \b\b\b\b\b\b\b\b\b\b\b\b\b\b\b\b\b\b\b\b\b\b\b\b\b\b\b\b\b\b\b\b\b\b\b\b\b\b\b\b\b\b\b\b\b\b\b\b\b\b\b\b\b\b\b\b\b 52% 6944 - DDR-dataset/DR_grading/train/007-3370-200.jpg\b\b\b\b\b\b\b\b\b\b\b\b\b\b\b\b\b\b\b\b\b\b\b\b\b\b\b\b\b\b\b\b\b\b\b\b\b\b\b\b\b\b\b\b\b\b\b\b\b\b\b\b\b\b\b\b\b                                                         \b\b\b\b\b\b\b\b\b\b\b\b\b\b\b\b\b\b\b\b\b\b\b\b\b\b\b\b\b\b\b\b\b\b\b\b\b\b\b\b\b\b\b\b\b\b\b\b\b\b\b\b\b\b\b\b\b 52% 7042 - DDR-dataset/DR_grading/train/007-3470-200.jpg\b\b\b\b\b\b\b\b\b\b\b\b\b\b\b\b\b\b\b\b\b\b\b\b\b\b\b\b\b\b\b\b\b\b\b\b\b\b\b\b\b\b\b\b\b\b\b\b\b\b\b\b\b\b\b\b\b                                                         \b\b\b\b\b\b\b\b\b\b\b\b\b\b\b\b\b\b\b\b\b\b\b\b\b\b\b\b\b\b\b\b\b\b\b\b\b\b\b\b\b\b\b\b\b\b\b\b\b\b\b\b\b\b\b\b\b 52% 7111 - DDR-dataset/DR_grading/train/007-3540-200.jpg\b\b\b\b\b\b\b\b\b\b\b\b\b\b\b\b\b\b\b\b\b\b\b\b\b\b\b\b\b\b\b\b\b\b\b\b\b\b\b\b\b\b\b\b\b\b\b\b\b\b\b\b\b\b\b\b\b                                                         \b\b\b\b\b\b\b\b\b\b\b\b\b\b\b\b\b\b\b\b\b\b\b\b\b\b\b\b\b\b\b\b\b\b\b\b\b\b\b\b\b\b\b\b\b\b\b\b\b\b\b\b\b\b\b\b\b 52% 7140 - DDR-dataset/DR_grading/train/007-3570-200.jpg\b\b\b\b\b\b\b\b\b\b\b\b\b\b\b\b\b\b\b\b\b\b\b\b\b\b\b\b\b\b\b\b\b\b\b\b\b\b\b\b\b\b\b\b\b\b\b\b\b\b\b\b\b\b\b\b\b                                                         \b\b\b\b\b\b\b\b\b\b\b\b\b\b\b\b\b\b\b\b\b\b\b\b\b\b\b\b\b\b\b\b\b\b\b\b\b\b\b\b\b\b\b\b\b\b\b\b\b\b\b\b\b\b\b\b\b 52% 7178 - DDR-dataset/DR_grading/train/007-3611-200.jpg\b\b\b\b\b\b\b\b\b\b\b\b\b\b\b\b\b\b\b\b\b\b\b\b\b\b\b\b\b\b\b\b\b\b\b\b\b\b\b\b\b\b\b\b\b\b\b\b\b\b\b\b\b\b\b\b\b                                                         \b\b\b\b\b\b\b\b\b\b\b\b\b\b\b\b\b\b\b\b\b\b\b\b\b\b\b\b\b\b\b\b\b\b\b\b\b\b\b\b\b\b\b\b\b\b\b\b\b\b\b\b\b\b\b\b\b 53% 7209 - DDR-dataset/DR_grading/train/007-3643-200.jpg\b\b\b\b\b\b\b\b\b\b\b\b\b\b\b\b\b\b\b\b\b\b\b\b\b\b\b\b\b\b\b\b\b\b\b\b\b\b\b\b\b\b\b\b\b\b\b\b\b\b\b\b\b\b\b\b\b                                                         \b\b\b\b\b\b\b\b\b\b\b\b\b\b\b\b\b\b\b\b\b\b\b\b\b\b\b\b\b\b\b\b\b\b\b\b\b\b\b\b\b\b\b\b\b\b\b\b\b\b\b\b\b\b\b\b\b 53% 7262 - DDR-dataset/DR_grading/train/007-3696-200.jpg\b\b\b\b\b\b\b\b\b\b\b\b\b\b\b\b\b\b\b\b\b\b\b\b\b\b\b\b\b\b\b\b\b\b\b\b\b\b\b\b\b\b\b\b\b\b\b\b\b\b\b\b\b\b\b\b\b                                                         \b\b\b\b\b\b\b\b\b\b\b\b\b\b\b\b\b\b\b\b\b\b\b\b\b\b\b\b\b\b\b\b\b\b\b\b\b\b\b\b\b\b\b\b\b\b\b\b\b\b\b\b\b\b\b\b\b 53% 7288 - DDR-dataset/DR_grading/train/007-3722-200.jpg\b\b\b\b\b\b\b\b\b\b\b\b\b\b\b\b\b\b\b\b\b\b\b\b\b\b\b\b\b\b\b\b\b\b\b\b\b\b\b\b\b\b\b\b\b\b\b\b\b\b\b\b\b\b\b\b\b                                                         \b\b\b\b\b\b\b\b\b\b\b\b\b\b\b\b\b\b\b\b\b\b\b\b\b\b\b\b\b\b\b\b\b\b\b\b\b\b\b\b\b\b\b\b\b\b\b\b\b\b\b\b\b\b\b\b\b 53% 7307 - DDR-dataset/DR_grading/train/007-3742-200.jpg\b\b\b\b\b\b\b\b\b\b\b\b\b\b\b\b\b\b\b\b\b\b\b\b\b\b\b\b\b\b\b\b\b\b\b\b\b\b\b\b\b\b\b\b\b\b\b\b\b\b\b\b\b\b\b\b\b                                                         \b\b\b\b\b\b\b\b\b\b\b\b\b\b\b\b\b\b\b\b\b\b\b\b\b\b\b\b\b\b\b\b\b\b\b\b\b\b\b\b\b\b\b\b\b\b\b\b\b\b\b\b\b\b\b\b\b 54% 7366 - DDR-dataset/DR_grading/train/007-3801-200.jpg\b\b\b\b\b\b\b\b\b\b\b\b\b\b\b\b\b\b\b\b\b\b\b\b\b\b\b\b\b\b\b\b\b\b\b\b\b\b\b\b\b\b\b\b\b\b\b\b\b\b\b\b\b\b\b\b\b                                                         \b\b\b\b\b\b\b\b\b\b\b\b\b\b\b\b\b\b\b\b\b\b\b\b\b\b\b\b\b\b\b\b\b\b\b\b\b\b\b\b\b\b\b\b\b\b\b\b\b\b\b\b\b\b\b\b\b 54% 7387 - DDR-dataset/DR_grading/train/007-3822-200.jpg\b\b\b\b\b\b\b\b\b\b\b\b\b\b\b\b\b\b\b\b\b\b\b\b\b\b\b\b\b\b\b\b\b\b\b\b\b\b\b\b\b\b\b\b\b\b\b\b\b\b\b\b\b\b\b\b\b                                                         \b\b\b\b\b\b\b\b\b\b\b\b\b\b\b\b\b\b\b\b\b\b\b\b\b\b\b\b\b\b\b\b\b\b\b\b\b\b\b\b\b\b\b\b\b\b\b\b\b\b\b\b\b\b\b\b\b 54% 7415 - DDR-dataset/DR_grading/train/007-3850-200.jpg\b\b\b\b\b\b\b\b\b\b\b\b\b\b\b\b\b\b\b\b\b\b\b\b\b\b\b\b\b\b\b\b\b\b\b\b\b\b\b\b\b\b\b\b\b\b\b\b\b\b\b\b\b\b\b\b\b                                                         \b\b\b\b\b\b\b\b\b\b\b\b\b\b\b\b\b\b\b\b\b\b\b\b\b\b\b\b\b\b\b\b\b\b\b\b\b\b\b\b\b\b\b\b\b\b\b\b\b\b\b\b\b\b\b\b\b 54% 7464 - DDR-dataset/DR_grading/train/007-3900-200.jpg\b\b\b\b\b\b\b\b\b\b\b\b\b\b\b\b\b\b\b\b\b\b\b\b\b\b\b\b\b\b\b\b\b\b\b\b\b\b\b\b\b\b\b\b\b\b\b\b\b\b\b\b\b\b\b\b\b                                                         \b\b\b\b\b\b\b\b\b\b\b\b\b\b\b\b\b\b\b\b\b\b\b\b\b\b\b\b\b\b\b\b\b\b\b\b\b\b\b\b\b\b\b\b\b\b\b\b\b\b\b\b\b\b\b\b\b 54% 7471 - DDR-dataset/DR_grading/train/007-3907-200.jpg\b\b\b\b\b\b\b\b\b\b\b\b\b\b\b\b\b\b\b\b\b\b\b\b\b\b\b\b\b\b\b\b\b\b\b\b\b\b\b\b\b\b\b\b\b\b\b\b\b\b\b\b\b\b\b\b\b                                                         \b\b\b\b\b\b\b\b\b\b\b\b\b\b\b\b\b\b\b\b\b\b\b\b\b\b\b\b\b\b\b\b\b\b\b\b\b\b\b\b\b\b\b\b\b\b\b\b\b\b\b\b\b\b\b\b\b 54% 7497 - DDR-dataset/DR_grading/train/007-3935-200.jpg\b\b\b\b\b\b\b\b\b\b\b\b\b\b\b\b\b\b\b\b\b\b\b\b\b\b\b\b\b\b\b\b\b\b\b\b\b\b\b\b\b\b\b\b\b\b\b\b\b\b\b\b\b\b\b\b\b                                                         \b\b\b\b\b\b\b\b\b\b\b\b\b\b\b\b\b\b\b\b\b\b\b\b\b\b\b\b\b\b\b\b\b\b\b\b\b\b\b\b\b\b\b\b\b\b\b\b\b\b\b\b\b\b\b\b\b 54% 7550 - DDR-dataset/DR_grading/train/007-3990-200.jpg\b\b\b\b\b\b\b\b\b\b\b\b\b\b\b\b\b\b\b\b\b\b\b\b\b\b\b\b\b\b\b\b\b\b\b\b\b\b\b\b\b\b\b\b\b\b\b\b\b\b\b\b\b\b\b\b\b                                                         \b\b\b\b\b\b\b\b\b\b\b\b\b\b\b\b\b\b\b\b\b\b\b\b\b\b\b\b\b\b\b\b\b\b\b\b\b\b\b\b\b\b\b\b\b\b\b\b\b\b\b\b\b\b\b\b\b 55% 7583 - DDR-dataset/DR_grading/train/007-4027-200.jpg\b\b\b\b\b\b\b\b\b\b\b\b\b\b\b\b\b\b\b\b\b\b\b\b\b\b\b\b\b\b\b\b\b\b\b\b\b\b\b\b\b\b\b\b\b\b\b\b\b\b\b\b\b\b\b\b\b                                                         \b\b\b\b\b\b\b\b\b\b\b\b\b\b\b\b\b\b\b\b\b\b\b\b\b\b\b\b\b\b\b\b\b\b\b\b\b\b\b\b\b\b\b\b\b\b\b\b\b\b\b\b\b\b\b\b\b 55% 7597 - DDR-dataset/DR_grading/train/007-4044-200.jpg\b\b\b\b\b\b\b\b\b\b\b\b\b\b\b\b\b\b\b\b\b\b\b\b\b\b\b\b\b\b\b\b\b\b\b\b\b\b\b\b\b\b\b\b\b\b\b\b\b\b\b\b\b\b\b\b\b                                                         \b\b\b\b\b\b\b\b\b\b\b\b\b\b\b\b\b\b\b\b\b\b\b\b\b\b\b\b\b\b\b\b\b\b\b\b\b\b\b\b\b\b\b\b\b\b\b\b\b\b\b\b\b\b\b\b\b 55% 7611 - DDR-dataset/DR_grading/train/007-4060-200.jpg\b\b\b\b\b\b\b\b\b\b\b\b\b\b\b\b\b\b\b\b\b\b\b\b\b\b\b\b\b\b\b\b\b\b\b\b\b\b\b\b\b\b\b\b\b\b\b\b\b\b\b\b\b\b\b\b\b                                                         \b\b\b\b\b\b\b\b\b\b\b\b\b\b\b\b\b\b\b\b\b\b\b\b\b\b\b\b\b\b\b\b\b\b\b\b\b\b\b\b\b\b\b\b\b\b\b\b\b\b\b\b\b\b\b\b\b 55% 7628 - DDR-dataset/DR_grading/train/007-4077-200.jpg\b\b\b\b\b\b\b\b\b\b\b\b\b\b\b\b\b\b\b\b\b\b\b\b\b\b\b\b\b\b\b\b\b\b\b\b\b\b\b\b\b\b\b\b\b\b\b\b\b\b\b\b\b\b\b\b\b                                                         \b\b\b\b\b\b\b\b\b\b\b\b\b\b\b\b\b\b\b\b\b\b\b\b\b\b\b\b\b\b\b\b\b\b\b\b\b\b\b\b\b\b\b\b\b\b\b\b\b\b\b\b\b\b\b\b\b 55% 7694 - DDR-dataset/DR_grading/train/007-4152-200.jpg\b\b\b\b\b\b\b\b\b\b\b\b\b\b\b\b\b\b\b\b\b\b\b\b\b\b\b\b\b\b\b\b\b\b\b\b\b\b\b\b\b\b\b\b\b\b\b\b\b\b\b\b\b\b\b\b\b                                                         \b\b\b\b\b\b\b\b\b\b\b\b\b\b\b\b\b\b\b\b\b\b\b\b\b\b\b\b\b\b\b\b\b\b\b\b\b\b\b\b\b\b\b\b\b\b\b\b\b\b\b\b\b\b\b\b\b 55% 7713 - DDR-dataset/DR_grading/train/007-4171-200.jpg\b\b\b\b\b\b\b\b\b\b\b\b\b\b\b\b\b\b\b\b\b\b\b\b\b\b\b\b\b\b\b\b\b\b\b\b\b\b\b\b\b\b\b\b\b\b\b\b\b\b\b\b\b\b\b\b\b                                                         \b\b\b\b\b\b\b\b\b\b\b\b\b\b\b\b\b\b\b\b\b\b\b\b\b\b\b\b\b\b\b\b\b\b\b\b\b\b\b\b\b\b\b\b\b\b\b\b\b\b\b\b\b\b\b\b\b 55% 7773 - DDR-dataset/DR_grading/train/007-4231-200.jpg\b\b\b\b\b\b\b\b\b\b\b\b\b\b\b\b\b\b\b\b\b\b\b\b\b\b\b\b\b\b\b\b\b\b\b\b\b\b\b\b\b\b\b\b\b\b\b\b\b\b\b\b\b\b\b\b\b                                                         \b\b\b\b\b\b\b\b\b\b\b\b\b\b\b\b\b\b\b\b\b\b\b\b\b\b\b\b\b\b\b\b\b\b\b\b\b\b\b\b\b\b\b\b\b\b\b\b\b\b\b\b\b\b\b\b\b 55% 7804 - DDR-dataset/DR_grading/train/007-4262-200.jpg\b\b\b\b\b\b\b\b\b\b\b\b\b\b\b\b\b\b\b\b\b\b\b\b\b\b\b\b\b\b\b\b\b\b\b\b\b\b\b\b\b\b\b\b\b\b\b\b\b\b\b\b\b\b\b\b\b                                                         \b\b\b\b\b\b\b\b\b\b\b\b\b\b\b\b\b\b\b\b\b\b\b\b\b\b\b\b\b\b\b\b\b\b\b\b\b\b\b\b\b\b\b\b\b\b\b\b\b\b\b\b\b\b\b\b\b 56% 7849 - DDR-dataset/DR_grading/train/007-4307-200.jpg\b\b\b\b\b\b\b\b\b\b\b\b\b\b\b\b\b\b\b\b\b\b\b\b\b\b\b\b\b\b\b\b\b\b\b\b\b\b\b\b\b\b\b\b\b\b\b\b\b\b\b\b\b\b\b\b\b                                                         \b\b\b\b\b\b\b\b\b\b\b\b\b\b\b\b\b\b\b\b\b\b\b\b\b\b\b\b\b\b\b\b\b\b\b\b\b\b\b\b\b\b\b\b\b\b\b\b\b\b\b\b\b\b\b\b\b 56% 7856 - DDR-dataset/DR_grading/train/007-4314-200.jpg\b\b\b\b\b\b\b\b\b\b\b\b\b\b\b\b\b\b\b\b\b\b\b\b\b\b\b\b\b\b\b\b\b\b\b\b\b\b\b\b\b\b\b\b\b\b\b\b\b\b\b\b\b\b\b\b\b                                                         \b\b\b\b\b\b\b\b\b\b\b\b\b\b\b\b\b\b\b\b\b\b\b\b\b\b\b\b\b\b\b\b\b\b\b\b\b\b\b\b\b\b\b\b\b\b\b\b\b\b\b\b\b\b\b\b\b 56% 7896 - DDR-dataset/DR_grading/train/007-4354-200.jpg\b\b\b\b\b\b\b\b\b\b\b\b\b\b\b\b\b\b\b\b\b\b\b\b\b\b\b\b\b\b\b\b\b\b\b\b\b\b\b\b\b\b\b\b\b\b\b\b\b\b\b\b\b\b\b\b\b                                                         \b\b\b\b\b\b\b\b\b\b\b\b\b\b\b\b\b\b\b\b\b\b\b\b\b\b\b\b\b\b\b\b\b\b\b\b\b\b\b\b\b\b\b\b\b\b\b\b\b\b\b\b\b\b\b\b\b 56% 7903 - DDR-dataset/DR_grading/train/007-4361-200.jpg\b\b\b\b\b\b\b\b\b\b\b\b\b\b\b\b\b\b\b\b\b\b\b\b\b\b\b\b\b\b\b\b\b\b\b\b\b\b\b\b\b\b\b\b\b\b\b\b\b\b\b\b\b\b\b\b\b                                                         \b\b\b\b\b\b\b\b\b\b\b\b\b\b\b\b\b\b\b\b\b\b\b\b\b\b\b\b\b\b\b\b\b\b\b\b\b\b\b\b\b\b\b\b\b\b\b\b\b\b\b\b\b\b\b\b\b 56% 7916 - DDR-dataset/DR_grading/train/007-4374-200.jpg\b\b\b\b\b\b\b\b\b\b\b\b\b\b\b\b\b\b\b\b\b\b\b\b\b\b\b\b\b\b\b\b\b\b\b\b\b\b\b\b\b\b\b\b\b\b\b\b\b\b\b\b\b\b\b\b\b                                                         \b\b\b\b\b\b\b\b\b\b\b\b\b\b\b\b\b\b\b\b\b\b\b\b\b\b\b\b\b\b\b\b\b\b\b\b\b\b\b\b\b\b\b\b\b\b\b\b\b\b\b\b\b\b\b\b\b 56% 7918 - DDR-dataset/DR_grading/train/007-4376-200.jpg\b\b\b\b\b\b\b\b\b\b\b\b\b\b\b\b\b\b\b\b\b\b\b\b\b\b\b\b\b\b\b\b\b\b\b\b\b\b\b\b\b\b\b\b\b\b\b\b\b\b\b\b\b\b\b\b\b                                                         \b\b\b\b\b\b\b\b\b\b\b\b\b\b\b\b\b\b\b\b\b\b\b\b\b\b\b\b\b\b\b\b\b\b\b\b\b\b\b\b\b\b\b\b\b\b\b\b\b\b\b\b\b\b\b\b\b 56% 7994 - DDR-dataset/DR_grading/train/007-4455-200.jpg\b\b\b\b\b\b\b\b\b\b\b\b\b\b\b\b\b\b\b\b\b\b\b\b\b\b\b\b\b\b\b\b\b\b\b\b\b\b\b\b\b\b\b\b\b\b\b\b\b\b\b\b\b\b\b\b\b                                                         \b\b\b\b\b\b\b\b\b\b\b\b\b\b\b\b\b\b\b\b\b\b\b\b\b\b\b\b\b\b\b\b\b\b\b\b\b\b\b\b\b\b\b\b\b\b\b\b\b\b\b\b\b\b\b\b\b 56% 8019 - DDR-dataset/DR_grading/train/007-4480-200.jpg\b\b\b\b\b\b\b\b\b\b\b\b\b\b\b\b\b\b\b\b\b\b\b\b\b\b\b\b\b\b\b\b\b\b\b\b\b\b\b\b\b\b\b\b\b\b\b\b\b\b\b\b\b\b\b\b\b                                                         \b\b\b\b\b\b\b\b\b\b\b\b\b\b\b\b\b\b\b\b\b\b\b\b\b\b\b\b\b\b\b\b\b\b\b\b\b\b\b\b\b\b\b\b\b\b\b\b\b\b\b\b\b\b\b\b\b 57% 8056 - DDR-dataset/DR_grading/train/007-4517-200.jpg\b\b\b\b\b\b\b\b\b\b\b\b\b\b\b\b\b\b\b\b\b\b\b\b\b\b\b\b\b\b\b\b\b\b\b\b\b\b\b\b\b\b\b\b\b\b\b\b\b\b\b\b\b\b\b\b\b                                                         \b\b\b\b\b\b\b\b\b\b\b\b\b\b\b\b\b\b\b\b\b\b\b\b\b\b\b\b\b\b\b\b\b\b\b\b\b\b\b\b\b\b\b\b\b\b\b\b\b\b\b\b\b\b\b\b\b 57% 8071 - DDR-dataset/DR_grading/train/007-4532-200.jpg\b\b\b\b\b\b\b\b\b\b\b\b\b\b\b\b\b\b\b\b\b\b\b\b\b\b\b\b\b\b\b\b\b\b\b\b\b\b\b\b\b\b\b\b\b\b\b\b\b\b\b\b\b\b\b\b\b                                                         \b\b\b\b\b\b\b\b\b\b\b\b\b\b\b\b\b\b\b\b\b\b\b\b\b\b\b\b\b\b\b\b\b\b\b\b\b\b\b\b\b\b\b\b\b\b\b\b\b\b\b\b\b\b\b\b\b 57% 8079 - DDR-dataset/DR_grading/train/007-4541-200.jpg\b\b\b\b\b\b\b\b\b\b\b\b\b\b\b\b\b\b\b\b\b\b\b\b\b\b\b\b\b\b\b\b\b\b\b\b\b\b\b\b\b\b\b\b\b\b\b\b\b\b\b\b\b\b\b\b\b                                                         \b\b\b\b\b\b\b\b\b\b\b\b\b\b\b\b\b\b\b\b\b\b\b\b\b\b\b\b\b\b\b\b\b\b\b\b\b\b\b\b\b\b\b\b\b\b\b\b\b\b\b\b\b\b\b\b\b 57% 8089 - DDR-dataset/DR_grading/train/007-4551-200.jpg\b\b\b\b\b\b\b\b\b\b\b\b\b\b\b\b\b\b\b\b\b\b\b\b\b\b\b\b\b\b\b\b\b\b\b\b\b\b\b\b\b\b\b\b\b\b\b\b\b\b\b\b\b\b\b\b\b                                                         \b\b\b\b\b\b\b\b\b\b\b\b\b\b\b\b\b\b\b\b\b\b\b\b\b\b\b\b\b\b\b\b\b\b\b\b\b\b\b\b\b\b\b\b\b\b\b\b\b\b\b\b\b\b\b\b\b 57% 8099 - DDR-dataset/DR_grading/train/007-4561-200.jpg\b\b\b\b\b\b\b\b\b\b\b\b\b\b\b\b\b\b\b\b\b\b\b\b\b\b\b\b\b\b\b\b\b\b\b\b\b\b\b\b\b\b\b\b\b\b\b\b\b\b\b\b\b\b\b\b\b                                                         \b\b\b\b\b\b\b\b\b\b\b\b\b\b\b\b\b\b\b\b\b\b\b\b\b\b\b\b\b\b\b\b\b\b\b\b\b\b\b\b\b\b\b\b\b\b\b\b\b\b\b\b\b\b\b\b\b 57% 8102 - DDR-dataset/DR_grading/train/007-4564-200.jpg\b\b\b\b\b\b\b\b\b\b\b\b\b\b\b\b\b\b\b\b\b\b\b\b\b\b\b\b\b\b\b\b\b\b\b\b\b\b\b\b\b\b\b\b\b\b\b\b\b\b\b\b\b\b\b\b\b                                                         \b\b\b\b\b\b\b\b\b\b\b\b\b\b\b\b\b\b\b\b\b\b\b\b\b\b\b\b\b\b\b\b\b\b\b\b\b\b\b\b\b\b\b\b\b\b\b\b\b\b\b\b\b\b\b\b\b 57% 8121 - DDR-dataset/DR_grading/train/007-4583-200.jpg\b\b\b\b\b\b\b\b\b\b\b\b\b\b\b\b\b\b\b\b\b\b\b\b\b\b\b\b\b\b\b\b\b\b\b\b\b\b\b\b\b\b\b\b\b\b\b\b\b\b\b\b\b\b\b\b\b                                                         \b\b\b\b\b\b\b\b\b\b\b\b\b\b\b\b\b\b\b\b\b\b\b\b\b\b\b\b\b\b\b\b\b\b\b\b\b\b\b\b\b\b\b\b\b\b\b\b\b\b\b\b\b\b\b\b\b 57% 8134 - DDR-dataset/DR_grading/train/007-4597-200.jpg\b\b\b\b\b\b\b\b\b\b\b\b\b\b\b\b\b\b\b\b\b\b\b\b\b\b\b\b\b\b\b\b\b\b\b\b\b\b\b\b\b\b\b\b\b\b\b\b\b\b\b\b\b\b\b\b\b                                                         \b\b\b\b\b\b\b\b\b\b\b\b\b\b\b\b\b\b\b\b\b\b\b\b\b\b\b\b\b\b\b\b\b\b\b\b\b\b\b\b\b\b\b\b\b\b\b\b\b\b\b\b\b\b\b\b\b 57% 8170 - DDR-dataset/DR_grading/train/007-4634-200.jpg\b\b\b\b\b\b\b\b\b\b\b\b\b\b\b\b\b\b\b\b\b\b\b\b\b\b\b\b\b\b\b\b\b\b\b\b\b\b\b\b\b\b\b\b\b\b\b\b\b\b\b\b\b\b\b\b\b                                                         \b\b\b\b\b\b\b\b\b\b\b\b\b\b\b\b\b\b\b\b\b\b\b\b\b\b\b\b\b\b\b\b\b\b\b\b\b\b\b\b\b\b\b\b\b\b\b\b\b\b\b\b\b\b\b\b\b 58% 8177 - DDR-dataset/DR_grading/train/007-4641-200.jpg\b\b\b\b\b\b\b\b\b\b\b\b\b\b\b\b\b\b\b\b\b\b\b\b\b\b\b\b\b\b\b\b\b\b\b\b\b\b\b\b\b\b\b\b\b\b\b\b\b\b\b\b\b\b\b\b\b                                                         \b\b\b\b\b\b\b\b\b\b\b\b\b\b\b\b\b\b\b\b\b\b\b\b\b\b\b\b\b\b\b\b\b\b\b\b\b\b\b\b\b\b\b\b\b\b\b\b\b\b\b\b\b\b\b\b\b 58% 8189 - DDR-dataset/DR_grading/train/007-4654-200.jpg\b\b\b\b\b\b\b\b\b\b\b\b\b\b\b\b\b\b\b\b\b\b\b\b\b\b\b\b\b\b\b\b\b\b\b\b\b\b\b\b\b\b\b\b\b\b\b\b\b\b\b\b\b\b\b\b\b                                                         \b\b\b\b\b\b\b\b\b\b\b\b\b\b\b\b\b\b\b\b\b\b\b\b\b\b\b\b\b\b\b\b\b\b\b\b\b\b\b\b\b\b\b\b\b\b\b\b\b\b\b\b\b\b\b\b\b 58% 8234 - DDR-dataset/DR_grading/train/007-4699-200.jpg\b\b\b\b\b\b\b\b\b\b\b\b\b\b\b\b\b\b\b\b\b\b\b\b\b\b\b\b\b\b\b\b\b\b\b\b\b\b\b\b\b\b\b\b\b\b\b\b\b\b\b\b\b\b\b\b\b                                                         \b\b\b\b\b\b\b\b\b\b\b\b\b\b\b\b\b\b\b\b\b\b\b\b\b\b\b\b\b\b\b\b\b\b\b\b\b\b\b\b\b\b\b\b\b\b\b\b\b\b\b\b\b\b\b\b\b 58% 8250 - DDR-dataset/DR_grading/train/007-4719-200.jpg\b\b\b\b\b\b\b\b\b\b\b\b\b\b\b\b\b\b\b\b\b\b\b\b\b\b\b\b\b\b\b\b\b\b\b\b\b\b\b\b\b\b\b\b\b\b\b\b\b\b\b\b\b\b\b\b\b                                                         \b\b\b\b\b\b\b\b\b\b\b\b\b\b\b\b\b\b\b\b\b\b\b\b\b\b\b\b\b\b\b\b\b\b\b\b\b\b\b\b\b\b\b\b\b\b\b\b\b\b\b\b\b\b\b\b\b 58% 8267 - DDR-dataset/DR_grading/train/007-4736-200.jpg\b\b\b\b\b\b\b\b\b\b\b\b\b\b\b\b\b\b\b\b\b\b\b\b\b\b\b\b\b\b\b\b\b\b\b\b\b\b\b\b\b\b\b\b\b\b\b\b\b\b\b\b\b\b\b\b\b                                                         \b\b\b\b\b\b\b\b\b\b\b\b\b\b\b\b\b\b\b\b\b\b\b\b\b\b\b\b\b\b\b\b\b\b\b\b\b\b\b\b\b\b\b\b\b\b\b\b\b\b\b\b\b\b\b\b\b 59% 8282 - DDR-dataset/DR_grading/train/007-4751-200.jpg\b\b\b\b\b\b\b\b\b\b\b\b\b\b\b\b\b\b\b\b\b\b\b\b\b\b\b\b\b\b\b\b\b\b\b\b\b\b\b\b\b\b\b\b\b\b\b\b\b\b\b\b\b\b\b\b\b                                                         \b\b\b\b\b\b\b\b\b\b\b\b\b\b\b\b\b\b\b\b\b\b\b\b\b\b\b\b\b\b\b\b\b\b\b\b\b\b\b\b\b\b\b\b\b\b\b\b\b\b\b\b\b\b\b\b\b 59% 8283\b\b\b\b\b\b\b\b\b         \b\b\b\b\b\b\b\b\b 59% 8352 - DDR-dataset/DR_grading/train/007-4826-300.jpg\b\b\b\b\b\b\b\b\b\b\b\b\b\b\b\b\b\b\b\b\b\b\b\b\b\b\b\b\b\b\b\b\b\b\b\b\b\b\b\b\b\b\b\b\b\b\b\b\b\b\b\b\b\b\b\b\b                                                         \b\b\b\b\b\b\b\b\b\b\b\b\b\b\b\b\b\b\b\b\b\b\b\b\b\b\b\b\b\b\b\b\b\b\b\b\b\b\b\b\b\b\b\b\b\b\b\b\b\b\b\b\b\b\b\b\b 59% 8371 - DDR-dataset/DR_grading/train/007-4845-300.jpg\b\b\b\b\b\b\b\b\b\b\b\b\b\b\b\b\b\b\b\b\b\b\b\b\b\b\b\b\b\b\b\b\b\b\b\b\b\b\b\b\b\b\b\b\b\b\b\b\b\b\b\b\b\b\b\b\b                                                         \b\b\b\b\b\b\b\b\b\b\b\b\b\b\b\b\b\b\b\b\b\b\b\b\b\b\b\b\b\b\b\b\b\b\b\b\b\b\b\b\b\b\b\b\b\b\b\b\b\b\b\b\b\b\b\b\b 59% 8410 - DDR-dataset/DR_grading/train/007-4887-300.jpg\b\b\b\b\b\b\b\b\b\b\b\b\b\b\b\b\b\b\b\b\b\b\b\b\b\b\b\b\b\b\b\b\b\b\b\b\b\b\b\b\b\b\b\b\b\b\b\b\b\b\b\b\b\b\b\b\b                                                         \b\b\b\b\b\b\b\b\b\b\b\b\b\b\b\b\b\b\b\b\b\b\b\b\b\b\b\b\b\b\b\b\b\b\b\b\b\b\b\b\b\b\b\b\b\b\b\b\b\b\b\b\b\b\b\b\b 59% 8457 - DDR-dataset/DR_grading/train/007-4992-300.jpg\b\b\b\b\b\b\b\b\b\b\b\b\b\b\b\b\b\b\b\b\b\b\b\b\b\b\b\b\b\b\b\b\b\b\b\b\b\b\b\b\b\b\b\b\b\b\b\b\b\b\b\b\b\b\b\b\b                                                         \b\b\b\b\b\b\b\b\b\b\b\b\b\b\b\b\b\b\b\b\b\b\b\b\b\b\b\b\b\b\b\b\b\b\b\b\b\b\b\b\b\b\b\b\b\b\b\b\b\b\b\b\b\b\b\b\b 59% 8468 - DDR-dataset/DR_grading/train/007-5169-300.jpg\b\b\b\b\b\b\b\b\b\b\b\b\b\b\b\b\b\b\b\b\b\b\b\b\b\b\b\b\b\b\b\b\b\b\b\b\b\b\b\b\b\b\b\b\b\b\b\b\b\b\b\b\b\b\b\b\b                                                         \b\b\b\b\b\b\b\b\b\b\b\b\b\b\b\b\b\b\b\b\b\b\b\b\b\b\b\b\b\b\b\b\b\b\b\b\b\b\b\b\b\b\b\b\b\b\b\b\b\b\b\b\b\b\b\b\b 59% 8479 - DDR-dataset/DR_grading/train/007-5319-300.jpg\b\b\b\b\b\b\b\b\b\b\b\b\b\b\b\b\b\b\b\b\b\b\b\b\b\b\b\b\b\b\b\b\b\b\b\b\b\b\b\b\b\b\b\b\b\b\b\b\b\b\b\b\b\b\b\b\b                                                         \b\b\b\b\b\b\b\b\b\b\b\b\b\b\b\b\b\b\b\b\b\b\b\b\b\b\b\b\b\b\b\b\b\b\b\b\b\b\b\b\b\b\b\b\b\b\b\b\b\b\b\b\b\b\b\b\b 60% 8495 - DDR-dataset/DR_grading/train/007-5452-300.jpg\b\b\b\b\b\b\b\b\b\b\b\b\b\b\b\b\b\b\b\b\b\b\b\b\b\b\b\b\b\b\b\b\b\b\b\b\b\b\b\b\b\b\b\b\b\b\b\b\b\b\b\b\b\b\b\b\b                                                         \b\b\b\b\b\b\b\b\b\b\b\b\b\b\b\b\b\b\b\b\b\b\b\b\b\b\b\b\b\b\b\b\b\b\b\b\b\b\b\b\b\b\b\b\b\b\b\b\b\b\b\b\b\b\b\b\b 60% 8515 - DDR-dataset/DR_grading/train/007-6295-400.jpg\b\b\b\b\b\b\b\b\b\b\b\b\b\b\b\b\b\b\b\b\b\b\b\b\b\b\b\b\b\b\b\b\b\b\b\b\b\b\b\b\b\b\b\b\b\b\b\b\b\b\b\b\b\b\b\b\b                                                         \b\b\b\b\b\b\b\b\b\b\b\b\b\b\b\b\b\b\b\b\b\b\b\b\b\b\b\b\b\b\b\b\b\b\b\b\b\b\b\b\b\b\b\b\b\b\b\b\b\b\b\b\b\b\b\b\b 60% 8522 - DDR-dataset/DR_grading/train/007-6302-400.jpg\b\b\b\b\b\b\b\b\b\b\b\b\b\b\b\b\b\b\b\b\b\b\b\b\b\b\b\b\b\b\b\b\b\b\b\b\b\b\b\b\b\b\b\b\b\b\b\b\b\b\b\b\b\b\b\b\b                                                         \b\b\b\b\b\b\b\b\b\b\b\b\b\b\b\b\b\b\b\b\b\b\b\b\b\b\b\b\b\b\b\b\b\b\b\b\b\b\b\b\b\b\b\b\b\b\b\b\b\b\b\b\b\b\b\b\b 60% 8532 - DDR-dataset/DR_grading/train/007-6312-400.jpg\b\b\b\b\b\b\b\b\b\b\b\b\b\b\b\b\b\b\b\b\b\b\b\b\b\b\b\b\b\b\b\b\b\b\b\b\b\b\b\b\b\b\b\b\b\b\b\b\b\b\b\b\b\b\b\b\b                                                         \b\b\b\b\b\b\b\b\b\b\b\b\b\b\b\b\b\b\b\b\b\b\b\b\b\b\b\b\b\b\b\b\b\b\b\b\b\b\b\b\b\b\b\b\b\b\b\b\b\b\b\b\b\b\b\b\b 60% 8540 - DDR-dataset/DR_grading/train/007-6323-400.jpg\b\b\b\b\b\b\b\b\b\b\b\b\b\b\b\b\b\b\b\b\b\b\b\b\b\b\b\b\b\b\b\b\b\b\b\b\b\b\b\b\b\b\b\b\b\b\b\b\b\b\b\b\b\b\b\b\b                                                         \b\b\b\b\b\b\b\b\b\b\b\b\b\b\b\b\b\b\b\b\b\b\b\b\b\b\b\b\b\b\b\b\b\b\b\b\b\b\b\b\b\b\b\b\b\b\b\b\b\b\b\b\b\b\b\b\b 60% 8566 - DDR-dataset/DR_grading/train/007-6352-400.jpg\b\b\b\b\b\b\b\b\b\b\b\b\b\b\b\b\b\b\b\b\b\b\b\b\b\b\b\b\b\b\b\b\b\b\b\b\b\b\b\b\b\b\b\b\b\b\b\b\b\b\b\b\b\b\b\b\b                                                         \b\b\b\b\b\b\b\b\b\b\b\b\b\b\b\b\b\b\b\b\b\b\b\b\b\b\b\b\b\b\b\b\b\b\b\b\b\b\b\b\b\b\b\b\b\b\b\b\b\b\b\b\b\b\b\b\b 60% 8608 - DDR-dataset/DR_grading/train/007-6396-400.jpg\b\b\b\b\b\b\b\b\b\b\b\b\b\b\b\b\b\b\b\b\b\b\b\b\b\b\b\b\b\b\b\b\b\b\b\b\b\b\b\b\b\b\b\b\b\b\b\b\b\b\b\b\b\b\b\b\b                                                         \b\b\b\b\b\b\b\b\b\b\b\b\b\b\b\b\b\b\b\b\b\b\b\b\b\b\b\b\b\b\b\b\b\b\b\b\b\b\b\b\b\b\b\b\b\b\b\b\b\b\b\b\b\b\b\b\b 60% 8640 - DDR-dataset/DR_grading/train/007-6433-400.jpg\b\b\b\b\b\b\b\b\b\b\b\b\b\b\b\b\b\b\b\b\b\b\b\b\b\b\b\b\b\b\b\b\b\b\b\b\b\b\b\b\b\b\b\b\b\b\b\b\b\b\b\b\b\b\b\b\b                                                         \b\b\b\b\b\b\b\b\b\b\b\b\b\b\b\b\b\b\b\b\b\b\b\b\b\b\b\b\b\b\b\b\b\b\b\b\b\b\b\b\b\b\b\b\b\b\b\b\b\b\b\b\b\b\b\b\b 60% 8656 - DDR-dataset/DR_grading/train/007-6449-400.jpg\b\b\b\b\b\b\b\b\b\b\b\b\b\b\b\b\b\b\b\b\b\b\b\b\b\b\b\b\b\b\b\b\b\b\b\b\b\b\b\b\b\b\b\b\b\b\b\b\b\b\b\b\b\b\b\b\b                                                         \b\b\b\b\b\b\b\b\b\b\b\b\b\b\b\b\b\b\b\b\b\b\b\b\b\b\b\b\b\b\b\b\b\b\b\b\b\b\b\b\b\b\b\b\b\b\b\b\b\b\b\b\b\b\b\b\b 60% 8657\b\b\b\b\b\b\b\b\b         \b\b\b\b\b\b\b\b\b 60% 8673 - DDR-dataset/DR_grading/train/007-6467-400.jpg\b\b\b\b\b\b\b\b\b\b\b\b\b\b\b\b\b\b\b\b\b\b\b\b\b\b\b\b\b\b\b\b\b\b\b\b\b\b\b\b\b\b\b\b\b\b\b\b\b\b\b\b\b\b\b\b\b                                                         \b\b\b\b\b\b\b\b\b\b\b\b\b\b\b\b\b\b\b\b\b\b\b\b\b\b\b\b\b\b\b\b\b\b\b\b\b\b\b\b\b\b\b\b\b\b\b\b\b\b\b\b\b\b\b\b\b 61% 8703 - DDR-dataset/DR_grading/train/007-6498-400.jpg\b\b\b\b\b\b\b\b\b\b\b\b\b\b\b\b\b\b\b\b\b\b\b\b\b\b\b\b\b\b\b\b\b\b\b\b\b\b\b\b\b\b\b\b\b\b\b\b\b\b\b\b\b\b\b\b\b                                                         \b\b\b\b\b\b\b\b\b\b\b\b\b\b\b\b\b\b\b\b\b\b\b\b\b\b\b\b\b\b\b\b\b\b\b\b\b\b\b\b\b\b\b\b\b\b\b\b\b\b\b\b\b\b\b\b\b 61% 8721 - DDR-dataset/DR_grading/train/007-6516-400.jpg\b\b\b\b\b\b\b\b\b\b\b\b\b\b\b\b\b\b\b\b\b\b\b\b\b\b\b\b\b\b\b\b\b\b\b\b\b\b\b\b\b\b\b\b\b\b\b\b\b\b\b\b\b\b\b\b\b                                                         \b\b\b\b\b\b\b\b\b\b\b\b\b\b\b\b\b\b\b\b\b\b\b\b\b\b\b\b\b\b\b\b\b\b\b\b\b\b\b\b\b\b\b\b\b\b\b\b\b\b\b\b\b\b\b\b\b 61% 8765 - DDR-dataset/DR_grading/train/007-6562-400.jpg\b\b\b\b\b\b\b\b\b\b\b\b\b\b\b\b\b\b\b\b\b\b\b\b\b\b\b\b\b\b\b\b\b\b\b\b\b\b\b\b\b\b\b\b\b\b\b\b\b\b\b\b\b\b\b\b\b                                                         \b\b\b\b\b\b\b\b\b\b\b\b\b\b\b\b\b\b\b\b\b\b\b\b\b\b\b\b\b\b\b\b\b\b\b\b\b\b\b\b\b\b\b\b\b\b\b\b\b\b\b\b\b\b\b\b\b 61% 8782 - DDR-dataset/DR_grading/train/007-6579-400.jpg\b\b\b\b\b\b\b\b\b\b\b\b\b\b\b\b\b\b\b\b\b\b\b\b\b\b\b\b\b\b\b\b\b\b\b\b\b\b\b\b\b\b\b\b\b\b\b\b\b\b\b\b\b\b\b\b\b                                                         \b\b\b\b\b\b\b\b\b\b\b\b\b\b\b\b\b\b\b\b\b\b\b\b\b\b\b\b\b\b\b\b\b\b\b\b\b\b\b\b\b\b\b\b\b\b\b\b\b\b\b\b\b\b\b\b\b 61% 8811 - DDR-dataset/DR_grading/train/007-6609-400.jpg\b\b\b\b\b\b\b\b\b\b\b\b\b\b\b\b\b\b\b\b\b\b\b\b\b\b\b\b\b\b\b\b\b\b\b\b\b\b\b\b\b\b\b\b\b\b\b\b\b\b\b\b\b\b\b\b\b                                                         \b\b\b\b\b\b\b\b\b\b\b\b\b\b\b\b\b\b\b\b\b\b\b\b\b\b\b\b\b\b\b\b\b\b\b\b\b\b\b\b\b\b\b\b\b\b\b\b\b\b\b\b\b\b\b\b\b 61% 8843 - DDR-dataset/DR_grading/train/007-6649-400.jpg\b\b\b\b\b\b\b\b\b\b\b\b\b\b\b\b\b\b\b\b\b\b\b\b\b\b\b\b\b\b\b\b\b\b\b\b\b\b\b\b\b\b\b\b\b\b\b\b\b\b\b\b\b\b\b\b\b                                                         \b\b\b\b\b\b\b\b\b\b\b\b\b\b\b\b\b\b\b\b\b\b\b\b\b\b\b\b\b\b\b\b\b\b\b\b\b\b\b\b\b\b\b\b\b\b\b\b\b\b\b\b\b\b\b\b\b 61% 8879 - DDR-dataset/DR_grading/train/007-6685-400.jpg\b\b\b\b\b\b\b\b\b\b\b\b\b\b\b\b\b\b\b\b\b\b\b\b\b\b\b\b\b\b\b\b\b\b\b\b\b\b\b\b\b\b\b\b\b\b\b\b\b\b\b\b\b\b\b\b\b                                                         \b\b\b\b\b\b\b\b\b\b\b\b\b\b\b\b\b\b\b\b\b\b\b\b\b\b\b\b\b\b\b\b\b\b\b\b\b\b\b\b\b\b\b\b\b\b\b\b\b\b\b\b\b\b\b\b\b 62% 8949 - DDR-dataset/DR_grading/train/007-7268-601.jpg\b\b\b\b\b\b\b\b\b\b\b\b\b\b\b\b\b\b\b\b\b\b\b\b\b\b\b\b\b\b\b\b\b\b\b\b\b\b\b\b\b\b\b\b\b\b\b\b\b\b\b\b\b\b\b\b\b                                                         \b\b\b\b\b\b\b\b\b\b\b\b\b\b\b\b\b\b\b\b\b\b\b\b\b\b\b\b\b\b\b\b\b\b\b\b\b\b\b\b\b\b\b\b\b\b\b\b\b\b\b\b\b\b\b\b\b 62% 8955 - DDR-dataset/DR_grading/train/007-7275-601.jpg\b\b\b\b\b\b\b\b\b\b\b\b\b\b\b\b\b\b\b\b\b\b\b\b\b\b\b\b\b\b\b\b\b\b\b\b\b\b\b\b\b\b\b\b\b\b\b\b\b\b\b\b\b\b\b\b\b                                                         \b\b\b\b\b\b\b\b\b\b\b\b\b\b\b\b\b\b\b\b\b\b\b\b\b\b\b\b\b\b\b\b\b\b\b\b\b\b\b\b\b\b\b\b\b\b\b\b\b\b\b\b\b\b\b\b\b 62% 8965 - DDR-dataset/DR_grading/train/007-7286-601.jpg\b\b\b\b\b\b\b\b\b\b\b\b\b\b\b\b\b\b\b\b\b\b\b\b\b\b\b\b\b\b\b\b\b\b\b\b\b\b\b\b\b\b\b\b\b\b\b\b\b\b\b\b\b\b\b\b\b                                                         \b\b\b\b\b\b\b\b\b\b\b\b\b\b\b\b\b\b\b\b\b\b\b\b\b\b\b\b\b\b\b\b\b\b\b\b\b\b\b\b\b\b\b\b\b\b\b\b\b\b\b\b\b\b\b\b\b 62% 8978 - DDR-dataset/DR_grading/train/007-7310-601.jpg\b\b\b\b\b\b\b\b\b\b\b\b\b\b\b\b\b\b\b\b\b\b\b\b\b\b\b\b\b\b\b\b\b\b\b\b\b\b\b\b\b\b\b\b\b\b\b\b\b\b\b\b\b\b\b\b\b                                                         \b\b\b\b\b\b\b\b\b\b\b\b\b\b\b\b\b\b\b\b\b\b\b\b\b\b\b\b\b\b\b\b\b\b\b\b\b\b\b\b\b\b\b\b\b\b\b\b\b\b\b\b\b\b\b\b\b 62% 9036 - DDR-dataset/DR_grading/train/007-7375-601.jpg\b\b\b\b\b\b\b\b\b\b\b\b\b\b\b\b\b\b\b\b\b\b\b\b\b\b\b\b\b\b\b\b\b\b\b\b\b\b\b\b\b\b\b\b\b\b\b\b\b\b\b\b\b\b\b\b\b                                                         \b\b\b\b\b\b\b\b\b\b\b\b\b\b\b\b\b\b\b\b\b\b\b\b\b\b\b\b\b\b\b\b\b\b\b\b\b\b\b\b\b\b\b\b\b\b\b\b\b\b\b\b\b\b\b\b\b 62% 9059 - DDR-dataset/DR_grading/train/007-7401-601.jpg\b\b\b\b\b\b\b\b\b\b\b\b\b\b\b\b\b\b\b\b\b\b\b\b\b\b\b\b\b\b\b\b\b\b\b\b\b\b\b\b\b\b\b\b\b\b\b\b\b\b\b\b\b\b\b\b\b                                                         \b\b\b\b\b\b\b\b\b\b\b\b\b\b\b\b\b\b\b\b\b\b\b\b\b\b\b\b\b\b\b\b\b\b\b\b\b\b\b\b\b\b\b\b\b\b\b\b\b\b\b\b\b\b\b\b\b 62% 9118 - DDR-dataset/DR_grading/train/007-7465-601.jpg\b\b\b\b\b\b\b\b\b\b\b\b\b\b\b\b\b\b\b\b\b\b\b\b\b\b\b\b\b\b\b\b\b\b\b\b\b\b\b\b\b\b\b\b\b\b\b\b\b\b\b\b\b\b\b\b\b                                                         \b\b\b\b\b\b\b\b\b\b\b\b\b\b\b\b\b\b\b\b\b\b\b\b\b\b\b\b\b\b\b\b\b\b\b\b\b\b\b\b\b\b\b\b\b\b\b\b\b\b\b\b\b\b\b\b\b 63% 9149 - DDR-dataset/DR_grading/train/007-7508-601.jpg\b\b\b\b\b\b\b\b\b\b\b\b\b\b\b\b\b\b\b\b\b\b\b\b\b\b\b\b\b\b\b\b\b\b\b\b\b\b\b\b\b\b\b\b\b\b\b\b\b\b\b\b\b\b\b\b\b                                                         \b\b\b\b\b\b\b\b\b\b\b\b\b\b\b\b\b\b\b\b\b\b\b\b\b\b\b\b\b\b\b\b\b\b\b\b\b\b\b\b\b\b\b\b\b\b\b\b\b\b\b\b\b\b\b\b\b 63% 9163 - DDR-dataset/DR_grading/train/007-7531-601.jpg\b\b\b\b\b\b\b\b\b\b\b\b\b\b\b\b\b\b\b\b\b\b\b\b\b\b\b\b\b\b\b\b\b\b\b\b\b\b\b\b\b\b\b\b\b\b\b\b\b\b\b\b\b\b\b\b\b                                                         \b\b\b\b\b\b\b\b\b\b\b\b\b\b\b\b\b\b\b\b\b\b\b\b\b\b\b\b\b\b\b\b\b\b\b\b\b\b\b\b\b\b\b\b\b\b\b\b\b\b\b\b\b\b\b\b\b 63% 9226\b\b\b\b\b\b\b\b\b         \b\b\b\b\b\b\b\b\b 63% 9264 - DDR-dataset/DR_grading/train/007-7670-601.jpg\b\b\b\b\b\b\b\b\b\b\b\b\b\b\b\b\b\b\b\b\b\b\b\b\b\b\b\b\b\b\b\b\b\b\b\b\b\b\b\b\b\b\b\b\b\b\b\b\b\b\b\b\b\b\b\b\b                                                         \b\b\b\b\b\b\b\b\b\b\b\b\b\b\b\b\b\b\b\b\b\b\b\b\b\b\b\b\b\b\b\b\b\b\b\b\b\b\b\b\b\b\b\b\b\b\b\b\b\b\b\b\b\b\b\b\b 63% 9269 - DDR-dataset/DR_grading/train/007-7675-601.jpg\b\b\b\b\b\b\b\b\b\b\b\b\b\b\b\b\b\b\b\b\b\b\b\b\b\b\b\b\b\b\b\b\b\b\b\b\b\b\b\b\b\b\b\b\b\b\b\b\b\b\b\b\b\b\b\b\b                                                         \b\b\b\b\b\b\b\b\b\b\b\b\b\b\b\b\b\b\b\b\b\b\b\b\b\b\b\b\b\b\b\b\b\b\b\b\b\b\b\b\b\b\b\b\b\b\b\b\b\b\b\b\b\b\b\b\b 63% 9270 - DDR-dataset/DR_grading/train/007-7676-601.jpg\b\b\b\b\b\b\b\b\b\b\b\b\b\b\b\b\b\b\b\b\b\b\b\b\b\b\b\b\b\b\b\b\b\b\b\b\b\b\b\b\b\b\b\b\b\b\b\b\b\b\b\b\b\b\b\b\b                                                         \b\b\b\b\b\b\b\b\b\b\b\b\b\b\b\b\b\b\b\b\b\b\b\b\b\b\b\b\b\b\b\b\b\b\b\b\b\b\b\b\b\b\b\b\b\b\b\b\b\b\b\b\b\b\b\b\b 63% 9329 - DDR-dataset/DR_grading/train/007-7746-601.jpg\b\b\b\b\b\b\b\b\b\b\b\b\b\b\b\b\b\b\b\b\b\b\b\b\b\b\b\b\b\b\b\b\b\b\b\b\b\b\b\b\b\b\b\b\b\b\b\b\b\b\b\b\b\b\b\b\b                                                         \b\b\b\b\b\b\b\b\b\b\b\b\b\b\b\b\b\b\b\b\b\b\b\b\b\b\b\b\b\b\b\b\b\b\b\b\b\b\b\b\b\b\b\b\b\b\b\b\b\b\b\b\b\b\b\b\b 63% 9371 - DDR-dataset/DR_grading/train/007-7812-601.jpg\b\b\b\b\b\b\b\b\b\b\b\b\b\b\b\b\b\b\b\b\b\b\b\b\b\b\b\b\b\b\b\b\b\b\b\b\b\b\b\b\b\b\b\b\b\b\b\b\b\b\b\b\b\b\b\b\b                                                         \b\b\b\b\b\b\b\b\b\b\b\b\b\b\b\b\b\b\b\b\b\b\b\b\b\b\b\b\b\b\b\b\b\b\b\b\b\b\b\b\b\b\b\b\b\b\b\b\b\b\b\b\b\b\b\b\b 64% 9428 - DDR-dataset/DR_grading/train/007-7877-601.jpg\b\b\b\b\b\b\b\b\b\b\b\b\b\b\b\b\b\b\b\b\b\b\b\b\b\b\b\b\b\b\b\b\b\b\b\b\b\b\b\b\b\b\b\b\b\b\b\b\b\b\b\b\b\b\b\b\b                                                         \b\b\b\b\b\b\b\b\b\b\b\b\b\b\b\b\b\b\b\b\b\b\b\b\b\b\b\b\b\b\b\b\b\b\b\b\b\b\b\b\b\b\b\b\b\b\b\b\b\b\b\b\b\b\b\b\b 64% 9450 - DDR-dataset/DR_grading/train/007-7902-601.jpg\b\b\b\b\b\b\b\b\b\b\b\b\b\b\b\b\b\b\b\b\b\b\b\b\b\b\b\b\b\b\b\b\b\b\b\b\b\b\b\b\b\b\b\b\b\b\b\b\b\b\b\b\b\b\b\b\b                                                         \b\b\b\b\b\b\b\b\b\b\b\b\b\b\b\b\b\b\b\b\b\b\b\b\b\b\b\b\b\b\b\b\b\b\b\b\b\b\b\b\b\b\b\b\b\b\b\b\b\b\b\b\b\b\b\b\b 64% 9529 - DDR-dataset/DR_grading/train/007-8000-601.jpg\b\b\b\b\b\b\b\b\b\b\b\b\b\b\b\b\b\b\b\b\b\b\b\b\b\b\b\b\b\b\b\b\b\b\b\b\b\b\b\b\b\b\b\b\b\b\b\b\b\b\b\b\b\b\b\b\b                                                         \b\b\b\b\b\b\b\b\b\b\b\b\b\b\b\b\b\b\b\b\b\b\b\b\b\b\b\b\b\b\b\b\b\b\b\b\b\b\b\b\b\b\b\b\b\b\b\b\b\b\b\b\b\b\b\b\b 64% 9563 - DDR-dataset/DR_grading/train/007-8043-601.jpg\b\b\b\b\b\b\b\b\b\b\b\b\b\b\b\b\b\b\b\b\b\b\b\b\b\b\b\b\b\b\b\b\b\b\b\b\b\b\b\b\b\b\b\b\b\b\b\b\b\b\b\b\b\b\b\b\b                                                         \b\b\b\b\b\b\b\b\b\b\b\b\b\b\b\b\b\b\b\b\b\b\b\b\b\b\b\b\b\b\b\b\b\b\b\b\b\b\b\b\b\b\b\b\b\b\b\b\b\b\b\b\b\b\b\b\b 64% 9592 - DDR-dataset/DR_grading/train/007-8076-601.jpg\b\b\b\b\b\b\b\b\b\b\b\b\b\b\b\b\b\b\b\b\b\b\b\b\b\b\b\b\b\b\b\b\b\b\b\b\b\b\b\b\b\b\b\b\b\b\b\b\b\b\b\b\b\b\b\b\b                                                         \b\b\b\b\b\b\b\b\b\b\b\b\b\b\b\b\b\b\b\b\b\b\b\b\b\b\b\b\b\b\b\b\b\b\b\b\b\b\b\b\b\b\b\b\b\b\b\b\b\b\b\b\b\b\b\b\b 64% 9642 - DDR-dataset/DR_grading/train/007-8134-601.jpg\b\b\b\b\b\b\b\b\b\b\b\b\b\b\b\b\b\b\b\b\b\b\b\b\b\b\b\b\b\b\b\b\b\b\b\b\b\b\b\b\b\b\b\b\b\b\b\b\b\b\b\b\b\b\b\b\b                                                         \b\b\b\b\b\b\b\b\b\b\b\b\b\b\b\b\b\b\b\b\b\b\b\b\b\b\b\b\b\b\b\b\b\b\b\b\b\b\b\b\b\b\b\b\b\b\b\b\b\b\b\b\b\b\b\b\b 65% 9643 - DDR-dataset/DR_grading/train/007-8135-601.jpg\b\b\b\b\b\b\b\b\b\b\b\b\b\b\b\b\b\b\b\b\b\b\b\b\b\b\b\b\b\b\b\b\b\b\b\b\b\b\b\b\b\b\b\b\b\b\b\b\b\b\b\b\b\b\b\b\b                                                         \b\b\b\b\b\b\b\b\b\b\b\b\b\b\b\b\b\b\b\b\b\b\b\b\b\b\b\b\b\b\b\b\b\b\b\b\b\b\b\b\b\b\b\b\b\b\b\b\b\b\b\b\b\b\b\b\b 65% 9655 - DDR-dataset/DR_grading/train/007-8281-602.jpg\b\b\b\b\b\b\b\b\b\b\b\b\b\b\b\b\b\b\b\b\b\b\b\b\b\b\b\b\b\b\b\b\b\b\b\b\b\b\b\b\b\b\b\b\b\b\b\b\b\b\b\b\b\b\b\b\b                                                         \b\b\b\b\b\b\b\b\b\b\b\b\b\b\b\b\b\b\b\b\b\b\b\b\b\b\b\b\b\b\b\b\b\b\b\b\b\b\b\b\b\b\b\b\b\b\b\b\b\b\b\b\b\b\b\b\b 65% 9678 - DDR-dataset/DR_grading/train/007-8547-604.jpg\b\b\b\b\b\b\b\b\b\b\b\b\b\b\b\b\b\b\b\b\b\b\b\b\b\b\b\b\b\b\b\b\b\b\b\b\b\b\b\b\b\b\b\b\b\b\b\b\b\b\b\b\b\b\b\b\b                                                         \b\b\b\b\b\b\b\b\b\b\b\b\b\b\b\b\b\b\b\b\b\b\b\b\b\b\b\b\b\b\b\b\b\b\b\b\b\b\b\b\b\b\b\b\b\b\b\b\b\b\b\b\b\b\b\b\b 65% 9691 - DDR-dataset/DR_grading/train/20161110115946484.jpg\b\b\b\b\b\b\b\b\b\b\b\b\b\b\b\b\b\b\b\b\b\b\b\b\b\b\b\b\b\b\b\b\b\b\b\b\b\b\b\b\b\b\b\b\b\b\b\b\b\b\b\b\b\b\b\b\b\b\b\b\b\b                                                              \b\b\b\b\b\b\b\b\b\b\b\b\b\b\b\b\b\b\b\b\b\b\b\b\b\b\b\b\b\b\b\b\b\b\b\b\b\b\b\b\b\b\b\b\b\b\b\b\b\b\b\b\b\b\b\b\b\b\b\b\b\b 65% 9715 - DDR-dataset/DR_grading/train/20170117101121367.jpg\b\b\b\b\b\b\b\b\b\b\b\b\b\b\b\b\b\b\b\b\b\b\b\b\b\b\b\b\b\b\b\b\b\b\b\b\b\b\b\b\b\b\b\b\b\b\b\b\b\b\b\b\b\b\b\b\b\b\b\b\b\b                                                              \b\b\b\b\b\b\b\b\b\b\b\b\b\b\b\b\b\b\b\b\b\b\b\b\b\b\b\b\b\b\b\b\b\b\b\b\b\b\b\b\b\b\b\b\b\b\b\b\b\b\b\b\b\b\b\b\b\b\b\b\b\b 65% 9737 - DDR-dataset/DR_grading/train/20170120154406449.jpg\b\b\b\b\b\b\b\b\b\b\b\b\b\b\b\b\b\b\b\b\b\b\b\b\b\b\b\b\b\b\b\b\b\b\b\b\b\b\b\b\b\b\b\b\b\b\b\b\b\b\b\b\b\b\b\b\b\b\b\b\b\b                                                              \b\b\b\b\b\b\b\b\b\b\b\b\b\b\b\b\b\b\b\b\b\b\b\b\b\b\b\b\b\b\b\b\b\b\b\b\b\b\b\b\b\b\b\b\b\b\b\b\b\b\b\b\b\b\b\b\b\b\b\b\b\b 65% 9748 - DDR-dataset/DR_grading/train/20170120215632028.jpg\b\b\b\b\b\b\b\b\b\b\b\b\b\b\b\b\b\b\b\b\b\b\b\b\b\b\b\b\b\b\b\b\b\b\b\b\b\b\b\b\b\b\b\b\b\b\b\b\b\b\b\b\b\b\b\b\b\b\b\b\b\b                                                              \b\b\b\b\b\b\b\b\b\b\b\b\b\b\b\b\b\b\b\b\b\b\b\b\b\b\b\b\b\b\b\b\b\b\b\b\b\b\b\b\b\b\b\b\b\b\b\b\b\b\b\b\b\b\b\b\b\b\b\b\b\b 65% 9759 - DDR-dataset/DR_grading/train/20170120220818563.jpg\b\b\b\b\b\b\b\b\b\b\b\b\b\b\b\b\b\b\b\b\b\b\b\b\b\b\b\b\b\b\b\b\b\b\b\b\b\b\b\b\b\b\b\b\b\b\b\b\b\b\b\b\b\b\b\b\b\b\b\b\b\b                                                              \b\b\b\b\b\b\b\b\b\b\b\b\b\b\b\b\b\b\b\b\b\b\b\b\b\b\b\b\b\b\b\b\b\b\b\b\b\b\b\b\b\b\b\b\b\b\b\b\b\b\b\b\b\b\b\b\b\b\b\b\b\b 66% 9801 - DDR-dataset/DR_grading/train/20170120223623473.jpg\b\b\b\b\b\b\b\b\b\b\b\b\b\b\b\b\b\b\b\b\b\b\b\b\b\b\b\b\b\b\b\b\b\b\b\b\b\b\b\b\b\b\b\b\b\b\b\b\b\b\b\b\b\b\b\b\b\b\b\b\b\b                                                              \b\b\b\b\b\b\b\b\b\b\b\b\b\b\b\b\b\b\b\b\b\b\b\b\b\b\b\b\b\b\b\b\b\b\b\b\b\b\b\b\b\b\b\b\b\b\b\b\b\b\b\b\b\b\b\b\b\b\b\b\b\b 66% 9818 - DDR-dataset/DR_grading/train/20170122170705476.jpg\b\b\b\b\b\b\b\b\b\b\b\b\b\b\b\b\b\b\b\b\b\b\b\b\b\b\b\b\b\b\b\b\b\b\b\b\b\b\b\b\b\b\b\b\b\b\b\b\b\b\b\b\b\b\b\b\b\b\b\b\b\b                                                              \b\b\b\b\b\b\b\b\b\b\b\b\b\b\b\b\b\b\b\b\b\b\b\b\b\b\b\b\b\b\b\b\b\b\b\b\b\b\b\b\b\b\b\b\b\b\b\b\b\b\b\b\b\b\b\b\b\b\b\b\b\b 66% 9839 - DDR-dataset/DR_grading/train/20170124161853216.jpg\b\b\b\b\b\b\b\b\b\b\b\b\b\b\b\b\b\b\b\b\b\b\b\b\b\b\b\b\b\b\b\b\b\b\b\b\b\b\b\b\b\b\b\b\b\b\b\b\b\b\b\b\b\b\b\b\b\b\b\b\b\b                                                              \b\b\b\b\b\b\b\b\b\b\b\b\b\b\b\b\b\b\b\b\b\b\b\b\b\b\b\b\b\b\b\b\b\b\b\b\b\b\b\b\b\b\b\b\b\b\b\b\b\b\b\b\b\b\b\b\b\b\b\b\b\b 66% 9843 - DDR-dataset/DR_grading/train/20170124162501604.jpg\b\b\b\b\b\b\b\b\b\b\b\b\b\b\b\b\b\b\b\b\b\b\b\b\b\b\b\b\b\b\b\b\b\b\b\b\b\b\b\b\b\b\b\b\b\b\b\b\b\b\b\b\b\b\b\b\b\b\b\b\b\b                                                              \b\b\b\b\b\b\b\b\b\b\b\b\b\b\b\b\b\b\b\b\b\b\b\b\b\b\b\b\b\b\b\b\b\b\b\b\b\b\b\b\b\b\b\b\b\b\b\b\b\b\b\b\b\b\b\b\b\b\b\b\b\b 67% 9857 - DDR-dataset/DR_grading/train/20170126115404314.jpg\b\b\b\b\b\b\b\b\b\b\b\b\b\b\b\b\b\b\b\b\b\b\b\b\b\b\b\b\b\b\b\b\b\b\b\b\b\b\b\b\b\b\b\b\b\b\b\b\b\b\b\b\b\b\b\b\b\b\b\b\b\b                                                              \b\b\b\b\b\b\b\b\b\b\b\b\b\b\b\b\b\b\b\b\b\b\b\b\b\b\b\b\b\b\b\b\b\b\b\b\b\b\b\b\b\b\b\b\b\b\b\b\b\b\b\b\b\b\b\b\b\b\b\b\b\b 67% 9866 - DDR-dataset/DR_grading/train/20170130111337516.jpg\b\b\b\b\b\b\b\b\b\b\b\b\b\b\b\b\b\b\b\b\b\b\b\b\b\b\b\b\b\b\b\b\b\b\b\b\b\b\b\b\b\b\b\b\b\b\b\b\b\b\b\b\b\b\b\b\b\b\b\b\b\b                                                              \b\b\b\b\b\b\b\b\b\b\b\b\b\b\b\b\b\b\b\b\b\b\b\b\b\b\b\b\b\b\b\b\b\b\b\b\b\b\b\b\b\b\b\b\b\b\b\b\b\b\b\b\b\b\b\b\b\b\b\b\b\b 67% 9872 - DDR-dataset/DR_grading/train/20170203102633319.jpg\b\b\b\b\b\b\b\b\b\b\b\b\b\b\b\b\b\b\b\b\b\b\b\b\b\b\b\b\b\b\b\b\b\b\b\b\b\b\b\b\b\b\b\b\b\b\b\b\b\b\b\b\b\b\b\b\b\b\b\b\b\b                                                              \b\b\b\b\b\b\b\b\b\b\b\b\b\b\b\b\b\b\b\b\b\b\b\b\b\b\b\b\b\b\b\b\b\b\b\b\b\b\b\b\b\b\b\b\b\b\b\b\b\b\b\b\b\b\b\b\b\b\b\b\b\b 67% 9884 - DDR-dataset/DR_grading/train/20170203163421024.jpg\b\b\b\b\b\b\b\b\b\b\b\b\b\b\b\b\b\b\b\b\b\b\b\b\b\b\b\b\b\b\b\b\b\b\b\b\b\b\b\b\b\b\b\b\b\b\b\b\b\b\b\b\b\b\b\b\b\b\b\b\b\b                                                              \b\b\b\b\b\b\b\b\b\b\b\b\b\b\b\b\b\b\b\b\b\b\b\b\b\b\b\b\b\b\b\b\b\b\b\b\b\b\b\b\b\b\b\b\b\b\b\b\b\b\b\b\b\b\b\b\b\b\b\b\b\b 67% 9894 - DDR-dataset/DR_grading/train/20170204114728704.jpg\b\b\b\b\b\b\b\b\b\b\b\b\b\b\b\b\b\b\b\b\b\b\b\b\b\b\b\b\b\b\b\b\b\b\b\b\b\b\b\b\b\b\b\b\b\b\b\b\b\b\b\b\b\b\b\b\b\b\b\b\b\b                                                              \b\b\b\b\b\b\b\b\b\b\b\b\b\b\b\b\b\b\b\b\b\b\b\b\b\b\b\b\b\b\b\b\b\b\b\b\b\b\b\b\b\b\b\b\b\b\b\b\b\b\b\b\b\b\b\b\b\b\b\b\b\b 67% 9902 - DDR-dataset/DR_grading/train/20170205084158321.jpg\b\b\b\b\b\b\b\b\b\b\b\b\b\b\b\b\b\b\b\b\b\b\b\b\b\b\b\b\b\b\b\b\b\b\b\b\b\b\b\b\b\b\b\b\b\b\b\b\b\b\b\b\b\b\b\b\b\b\b\b\b\b                                                              \b\b\b\b\b\b\b\b\b\b\b\b\b\b\b\b\b\b\b\b\b\b\b\b\b\b\b\b\b\b\b\b\b\b\b\b\b\b\b\b\b\b\b\b\b\b\b\b\b\b\b\b\b\b\b\b\b\b\b\b\b\b 67% 9903\b\b\b\b\b\b\b\b\b         \b\b\b\b\b\b\b\b\b 68% 9933 - DDR-dataset/DR_grading/train/20170206180531712.jpg\b\b\b\b\b\b\b\b\b\b\b\b\b\b\b\b\b\b\b\b\b\b\b\b\b\b\b\b\b\b\b\b\b\b\b\b\b\b\b\b\b\b\b\b\b\b\b\b\b\b\b\b\b\b\b\b\b\b\b\b\b\b                                                              \b\b\b\b\b\b\b\b\b\b\b\b\b\b\b\b\b\b\b\b\b\b\b\b\b\b\b\b\b\b\b\b\b\b\b\b\b\b\b\b\b\b\b\b\b\b\b\b\b\b\b\b\b\b\b\b\b\b\b\b\b\b 68% 9939 - DDR-dataset/DR_grading/train/20170207080745616.jpg\b\b\b\b\b\b\b\b\b\b\b\b\b\b\b\b\b\b\b\b\b\b\b\b\b\b\b\b\b\b\b\b\b\b\b\b\b\b\b\b\b\b\b\b\b\b\b\b\b\b\b\b\b\b\b\b\b\b\b\b\b\b                                                              \b\b\b\b\b\b\b\b\b\b\b\b\b\b\b\b\b\b\b\b\b\b\b\b\b\b\b\b\b\b\b\b\b\b\b\b\b\b\b\b\b\b\b\b\b\b\b\b\b\b\b\b\b\b\b\b\b\b\b\b\b\b 68% 9950 - DDR-dataset/DR_grading/train/20170207141715071.jpg\b\b\b\b\b\b\b\b\b\b\b\b\b\b\b\b\b\b\b\b\b\b\b\b\b\b\b\b\b\b\b\b\b\b\b\b\b\b\b\b\b\b\b\b\b\b\b\b\b\b\b\b\b\b\b\b\b\b\b\b\b\b                                                              \b\b\b\b\b\b\b\b\b\b\b\b\b\b\b\b\b\b\b\b\b\b\b\b\b\b\b\b\b\b\b\b\b\b\b\b\b\b\b\b\b\b\b\b\b\b\b\b\b\b\b\b\b\b\b\b\b\b\b\b\b\b 68% 9963 - DDR-dataset/DR_grading/train/20170208081341593.jpg\b\b\b\b\b\b\b\b\b\b\b\b\b\b\b\b\b\b\b\b\b\b\b\b\b\b\b\b\b\b\b\b\b\b\b\b\b\b\b\b\b\b\b\b\b\b\b\b\b\b\b\b\b\b\b\b\b\b\b\b\b\b                                                              \b\b\b\b\b\b\b\b\b\b\b\b\b\b\b\b\b\b\b\b\b\b\b\b\b\b\b\b\b\b\b\b\b\b\b\b\b\b\b\b\b\b\b\b\b\b\b\b\b\b\b\b\b\b\b\b\b\b\b\b\b\b 68% 9972 - DDR-dataset/DR_grading/train/20170208102039256.jpg\b\b\b\b\b\b\b\b\b\b\b\b\b\b\b\b\b\b\b\b\b\b\b\b\b\b\b\b\b\b\b\b\b\b\b\b\b\b\b\b\b\b\b\b\b\b\b\b\b\b\b\b\b\b\b\b\b\b\b\b\b\b                                                              \b\b\b\b\b\b\b\b\b\b\b\b\b\b\b\b\b\b\b\b\b\b\b\b\b\b\b\b\b\b\b\b\b\b\b\b\b\b\b\b\b\b\b\b\b\b\b\b\b\b\b\b\b\b\b\b\b\b\b\b\b\b 68% 9982 - DDR-dataset/DR_grading/train/20170208135854881.jpg\b\b\b\b\b\b\b\b\b\b\b\b\b\b\b\b\b\b\b\b\b\b\b\b\b\b\b\b\b\b\b\b\b\b\b\b\b\b\b\b\b\b\b\b\b\b\b\b\b\b\b\b\b\b\b\b\b\b\b\b\b\b                                                              \b\b\b\b\b\b\b\b\b\b\b\b\b\b\b\b\b\b\b\b\b\b\b\b\b\b\b\b\b\b\b\b\b\b\b\b\b\b\b\b\b\b\b\b\b\b\b\b\b\b\b\b\b\b\b\b\b\b\b\b\b\b 68% 9998 - DDR-dataset/DR_grading/train/20170208173959320.jpg\b\b\b\b\b\b\b\b\b\b\b\b\b\b\b\b\b\b\b\b\b\b\b\b\b\b\b\b\b\b\b\b\b\b\b\b\b\b\b\b\b\b\b\b\b\b\b\b\b\b\b\b\b\b\b\b\b\b\b\b\b\b                                                              \b\b\b\b\b\b\b\b\b\b\b\b\b\b\b\b\b\b\b\b\b\b\b\b\b\b\b\b\b\b\b\b\b\b\b\b\b\b\b\b\b\b\b\b\b\b\b\b\b\b\b\b\b\b\b\b\b\b\b\b\b\b 68% 10003 - DDR-dataset/DR_grading/train/20170208175254303.jpg\b\b\b\b\b\b\b\b\b\b\b\b\b\b\b\b\b\b\b\b\b\b\b\b\b\b\b\b\b\b\b\b\b\b\b\b\b\b\b\b\b\b\b\b\b\b\b\b\b\b\b\b\b\b\b\b\b\b\b\b\b\b\b                                                               \b\b\b\b\b\b\b\b\b\b\b\b\b\b\b\b\b\b\b\b\b\b\b\b\b\b\b\b\b\b\b\b\b\b\b\b\b\b\b\b\b\b\b\b\b\b\b\b\b\b\b\b\b\b\b\b\b\b\b\b\b\b\b 69% 10007 - DDR-dataset/DR_grading/train/20170208175719177.jpg\b\b\b\b\b\b\b\b\b\b\b\b\b\b\b\b\b\b\b\b\b\b\b\b\b\b\b\b\b\b\b\b\b\b\b\b\b\b\b\b\b\b\b\b\b\b\b\b\b\b\b\b\b\b\b\b\b\b\b\b\b\b\b                                                               \b\b\b\b\b\b\b\b\b\b\b\b\b\b\b\b\b\b\b\b\b\b\b\b\b\b\b\b\b\b\b\b\b\b\b\b\b\b\b\b\b\b\b\b\b\b\b\b\b\b\b\b\b\b\b\b\b\b\b\b\b\b\b 69% 10008 - DDR-dataset/DR_grading/train/20170208175905779.jpg\b\b\b\b\b\b\b\b\b\b\b\b\b\b\b\b\b\b\b\b\b\b\b\b\b\b\b\b\b\b\b\b\b\b\b\b\b\b\b\b\b\b\b\b\b\b\b\b\b\b\b\b\b\b\b\b\b\b\b\b\b\b\b                                                               \b\b\b\b\b\b\b\b\b\b\b\b\b\b\b\b\b\b\b\b\b\b\b\b\b\b\b\b\b\b\b\b\b\b\b\b\b\b\b\b\b\b\b\b\b\b\b\b\b\b\b\b\b\b\b\b\b\b\b\b\b\b\b 69% 10028 - DDR-dataset/DR_grading/train/20170209143329557.jpg\b\b\b\b\b\b\b\b\b\b\b\b\b\b\b\b\b\b\b\b\b\b\b\b\b\b\b\b\b\b\b\b\b\b\b\b\b\b\b\b\b\b\b\b\b\b\b\b\b\b\b\b\b\b\b\b\b\b\b\b\b\b\b                                                               \b\b\b\b\b\b\b\b\b\b\b\b\b\b\b\b\b\b\b\b\b\b\b\b\b\b\b\b\b\b\b\b\b\b\b\b\b\b\b\b\b\b\b\b\b\b\b\b\b\b\b\b\b\b\b\b\b\b\b\b\b\b\b 69% 10034 - DDR-dataset/DR_grading/train/20170209163147270.jpg\b\b\b\b\b\b\b\b\b\b\b\b\b\b\b\b\b\b\b\b\b\b\b\b\b\b\b\b\b\b\b\b\b\b\b\b\b\b\b\b\b\b\b\b\b\b\b\b\b\b\b\b\b\b\b\b\b\b\b\b\b\b\b                                                               \b\b\b\b\b\b\b\b\b\b\b\b\b\b\b\b\b\b\b\b\b\b\b\b\b\b\b\b\b\b\b\b\b\b\b\b\b\b\b\b\b\b\b\b\b\b\b\b\b\b\b\b\b\b\b\b\b\b\b\b\b\b\b 69% 10052 - DDR-dataset/DR_grading/train/20170210121831127.jpg\b\b\b\b\b\b\b\b\b\b\b\b\b\b\b\b\b\b\b\b\b\b\b\b\b\b\b\b\b\b\b\b\b\b\b\b\b\b\b\b\b\b\b\b\b\b\b\b\b\b\b\b\b\b\b\b\b\b\b\b\b\b\b                                                               \b\b\b\b\b\b\b\b\b\b\b\b\b\b\b\b\b\b\b\b\b\b\b\b\b\b\b\b\b\b\b\b\b\b\b\b\b\b\b\b\b\b\b\b\b\b\b\b\b\b\b\b\b\b\b\b\b\b\b\b\b\b\b 69% 10093 - DDR-dataset/DR_grading/train/20170213094416087.jpg\b\b\b\b\b\b\b\b\b\b\b\b\b\b\b\b\b\b\b\b\b\b\b\b\b\b\b\b\b\b\b\b\b\b\b\b\b\b\b\b\b\b\b\b\b\b\b\b\b\b\b\b\b\b\b\b\b\b\b\b\b\b\b                                                               \b\b\b\b\b\b\b\b\b\b\b\b\b\b\b\b\b\b\b\b\b\b\b\b\b\b\b\b\b\b\b\b\b\b\b\b\b\b\b\b\b\b\b\b\b\b\b\b\b\b\b\b\b\b\b\b\b\b\b\b\b\b\b 70% 10118 - DDR-dataset/DR_grading/train/20170213170404024.jpg\b\b\b\b\b\b\b\b\b\b\b\b\b\b\b\b\b\b\b\b\b\b\b\b\b\b\b\b\b\b\b\b\b\b\b\b\b\b\b\b\b\b\b\b\b\b\b\b\b\b\b\b\b\b\b\b\b\b\b\b\b\b\b                                                               \b\b\b\b\b\b\b\b\b\b\b\b\b\b\b\b\b\b\b\b\b\b\b\b\b\b\b\b\b\b\b\b\b\b\b\b\b\b\b\b\b\b\b\b\b\b\b\b\b\b\b\b\b\b\b\b\b\b\b\b\b\b\b 70% 10132 - DDR-dataset/DR_grading/train/20170214100607018.jpg\b\b\b\b\b\b\b\b\b\b\b\b\b\b\b\b\b\b\b\b\b\b\b\b\b\b\b\b\b\b\b\b\b\b\b\b\b\b\b\b\b\b\b\b\b\b\b\b\b\b\b\b\b\b\b\b\b\b\b\b\b\b\b                                                               \b\b\b\b\b\b\b\b\b\b\b\b\b\b\b\b\b\b\b\b\b\b\b\b\b\b\b\b\b\b\b\b\b\b\b\b\b\b\b\b\b\b\b\b\b\b\b\b\b\b\b\b\b\b\b\b\b\b\b\b\b\b\b 70% 10186 - DDR-dataset/DR_grading/train/20170215101222348.jpg\b\b\b\b\b\b\b\b\b\b\b\b\b\b\b\b\b\b\b\b\b\b\b\b\b\b\b\b\b\b\b\b\b\b\b\b\b\b\b\b\b\b\b\b\b\b\b\b\b\b\b\b\b\b\b\b\b\b\b\b\b\b\b                                                               \b\b\b\b\b\b\b\b\b\b\b\b\b\b\b\b\b\b\b\b\b\b\b\b\b\b\b\b\b\b\b\b\b\b\b\b\b\b\b\b\b\b\b\b\b\b\b\b\b\b\b\b\b\b\b\b\b\b\b\b\b\b\b 71% 10220 - DDR-dataset/DR_grading/train/20170216090007274.jpg\b\b\b\b\b\b\b\b\b\b\b\b\b\b\b\b\b\b\b\b\b\b\b\b\b\b\b\b\b\b\b\b\b\b\b\b\b\b\b\b\b\b\b\b\b\b\b\b\b\b\b\b\b\b\b\b\b\b\b\b\b\b\b                                                               \b\b\b\b\b\b\b\b\b\b\b\b\b\b\b\b\b\b\b\b\b\b\b\b\b\b\b\b\b\b\b\b\b\b\b\b\b\b\b\b\b\b\b\b\b\b\b\b\b\b\b\b\b\b\b\b\b\b\b\b\b\b\b 71% 10232 - DDR-dataset/DR_grading/train/20170216143323349.jpg\b\b\b\b\b\b\b\b\b\b\b\b\b\b\b\b\b\b\b\b\b\b\b\b\b\b\b\b\b\b\b\b\b\b\b\b\b\b\b\b\b\b\b\b\b\b\b\b\b\b\b\b\b\b\b\b\b\b\b\b\b\b\b                                                               \b\b\b\b\b\b\b\b\b\b\b\b\b\b\b\b\b\b\b\b\b\b\b\b\b\b\b\b\b\b\b\b\b\b\b\b\b\b\b\b\b\b\b\b\b\b\b\b\b\b\b\b\b\b\b\b\b\b\b\b\b\b\b 71% 10246 - DDR-dataset/DR_grading/train/20170216173426942.jpg\b\b\b\b\b\b\b\b\b\b\b\b\b\b\b\b\b\b\b\b\b\b\b\b\b\b\b\b\b\b\b\b\b\b\b\b\b\b\b\b\b\b\b\b\b\b\b\b\b\b\b\b\b\b\b\b\b\b\b\b\b\b\b                                                               \b\b\b\b\b\b\b\b\b\b\b\b\b\b\b\b\b\b\b\b\b\b\b\b\b\b\b\b\b\b\b\b\b\b\b\b\b\b\b\b\b\b\b\b\b\b\b\b\b\b\b\b\b\b\b\b\b\b\b\b\b\b\b 71% 10267 - DDR-dataset/DR_grading/train/20170217134558267.jpg\b\b\b\b\b\b\b\b\b\b\b\b\b\b\b\b\b\b\b\b\b\b\b\b\b\b\b\b\b\b\b\b\b\b\b\b\b\b\b\b\b\b\b\b\b\b\b\b\b\b\b\b\b\b\b\b\b\b\b\b\b\b\b                                                               \b\b\b\b\b\b\b\b\b\b\b\b\b\b\b\b\b\b\b\b\b\b\b\b\b\b\b\b\b\b\b\b\b\b\b\b\b\b\b\b\b\b\b\b\b\b\b\b\b\b\b\b\b\b\b\b\b\b\b\b\b\b\b 71% 10303 - DDR-dataset/DR_grading/train/20170220135216094.jpg\b\b\b\b\b\b\b\b\b\b\b\b\b\b\b\b\b\b\b\b\b\b\b\b\b\b\b\b\b\b\b\b\b\b\b\b\b\b\b\b\b\b\b\b\b\b\b\b\b\b\b\b\b\b\b\b\b\b\b\b\b\b\b                                                               \b\b\b\b\b\b\b\b\b\b\b\b\b\b\b\b\b\b\b\b\b\b\b\b\b\b\b\b\b\b\b\b\b\b\b\b\b\b\b\b\b\b\b\b\b\b\b\b\b\b\b\b\b\b\b\b\b\b\b\b\b\b\b 72% 10315 - DDR-dataset/DR_grading/train/20170220151908278.jpg\b\b\b\b\b\b\b\b\b\b\b\b\b\b\b\b\b\b\b\b\b\b\b\b\b\b\b\b\b\b\b\b\b\b\b\b\b\b\b\b\b\b\b\b\b\b\b\b\b\b\b\b\b\b\b\b\b\b\b\b\b\b\b                                                               \b\b\b\b\b\b\b\b\b\b\b\b\b\b\b\b\b\b\b\b\b\b\b\b\b\b\b\b\b\b\b\b\b\b\b\b\b\b\b\b\b\b\b\b\b\b\b\b\b\b\b\b\b\b\b\b\b\b\b\b\b\b\b 72% 10341 - DDR-dataset/DR_grading/train/20170221103828836.jpg\b\b\b\b\b\b\b\b\b\b\b\b\b\b\b\b\b\b\b\b\b\b\b\b\b\b\b\b\b\b\b\b\b\b\b\b\b\b\b\b\b\b\b\b\b\b\b\b\b\b\b\b\b\b\b\b\b\b\b\b\b\b\b                                                               \b\b\b\b\b\b\b\b\b\b\b\b\b\b\b\b\b\b\b\b\b\b\b\b\b\b\b\b\b\b\b\b\b\b\b\b\b\b\b\b\b\b\b\b\b\b\b\b\b\b\b\b\b\b\b\b\b\b\b\b\b\b\b 72% 10367 - DDR-dataset/DR_grading/train/20170221145201333.jpg\b\b\b\b\b\b\b\b\b\b\b\b\b\b\b\b\b\b\b\b\b\b\b\b\b\b\b\b\b\b\b\b\b\b\b\b\b\b\b\b\b\b\b\b\b\b\b\b\b\b\b\b\b\b\b\b\b\b\b\b\b\b\b                                                               \b\b\b\b\b\b\b\b\b\b\b\b\b\b\b\b\b\b\b\b\b\b\b\b\b\b\b\b\b\b\b\b\b\b\b\b\b\b\b\b\b\b\b\b\b\b\b\b\b\b\b\b\b\b\b\b\b\b\b\b\b\b\b 72% 10389 - DDR-dataset/DR_grading/train/20170221162224605.jpg\b\b\b\b\b\b\b\b\b\b\b\b\b\b\b\b\b\b\b\b\b\b\b\b\b\b\b\b\b\b\b\b\b\b\b\b\b\b\b\b\b\b\b\b\b\b\b\b\b\b\b\b\b\b\b\b\b\b\b\b\b\b\b                                                               \b\b\b\b\b\b\b\b\b\b\b\b\b\b\b\b\b\b\b\b\b\b\b\b\b\b\b\b\b\b\b\b\b\b\b\b\b\b\b\b\b\b\b\b\b\b\b\b\b\b\b\b\b\b\b\b\b\b\b\b\b\b\b 72% 10391 - DDR-dataset/DR_grading/train/20170221162252402.jpg\b\b\b\b\b\b\b\b\b\b\b\b\b\b\b\b\b\b\b\b\b\b\b\b\b\b\b\b\b\b\b\b\b\b\b\b\b\b\b\b\b\b\b\b\b\b\b\b\b\b\b\b\b\b\b\b\b\b\b\b\b\b\b                                                               \b\b\b\b\b\b\b\b\b\b\b\b\b\b\b\b\b\b\b\b\b\b\b\b\b\b\b\b\b\b\b\b\b\b\b\b\b\b\b\b\b\b\b\b\b\b\b\b\b\b\b\b\b\b\b\b\b\b\b\b\b\b\b 72% 10401 - DDR-dataset/DR_grading/train/20170221164707308.jpg\b\b\b\b\b\b\b\b\b\b\b\b\b\b\b\b\b\b\b\b\b\b\b\b\b\b\b\b\b\b\b\b\b\b\b\b\b\b\b\b\b\b\b\b\b\b\b\b\b\b\b\b\b\b\b\b\b\b\b\b\b\b\b                                                               \b\b\b\b\b\b\b\b\b\b\b\b\b\b\b\b\b\b\b\b\b\b\b\b\b\b\b\b\b\b\b\b\b\b\b\b\b\b\b\b\b\b\b\b\b\b\b\b\b\b\b\b\b\b\b\b\b\b\b\b\b\b\b 72% 10411 - DDR-dataset/DR_grading/train/20170221200136293.jpg\b\b\b\b\b\b\b\b\b\b\b\b\b\b\b\b\b\b\b\b\b\b\b\b\b\b\b\b\b\b\b\b\b\b\b\b\b\b\b\b\b\b\b\b\b\b\b\b\b\b\b\b\b\b\b\b\b\b\b\b\b\b\b                                                               \b\b\b\b\b\b\b\b\b\b\b\b\b\b\b\b\b\b\b\b\b\b\b\b\b\b\b\b\b\b\b\b\b\b\b\b\b\b\b\b\b\b\b\b\b\b\b\b\b\b\b\b\b\b\b\b\b\b\b\b\b\b\b 73% 10419 - DDR-dataset/DR_grading/train/20170222150127823.jpg\b\b\b\b\b\b\b\b\b\b\b\b\b\b\b\b\b\b\b\b\b\b\b\b\b\b\b\b\b\b\b\b\b\b\b\b\b\b\b\b\b\b\b\b\b\b\b\b\b\b\b\b\b\b\b\b\b\b\b\b\b\b\b                                                               \b\b\b\b\b\b\b\b\b\b\b\b\b\b\b\b\b\b\b\b\b\b\b\b\b\b\b\b\b\b\b\b\b\b\b\b\b\b\b\b\b\b\b\b\b\b\b\b\b\b\b\b\b\b\b\b\b\b\b\b\b\b\b 73% 10433 - DDR-dataset/DR_grading/train/20170222152656977.jpg\b\b\b\b\b\b\b\b\b\b\b\b\b\b\b\b\b\b\b\b\b\b\b\b\b\b\b\b\b\b\b\b\b\b\b\b\b\b\b\b\b\b\b\b\b\b\b\b\b\b\b\b\b\b\b\b\b\b\b\b\b\b\b                                                               \b\b\b\b\b\b\b\b\b\b\b\b\b\b\b\b\b\b\b\b\b\b\b\b\b\b\b\b\b\b\b\b\b\b\b\b\b\b\b\b\b\b\b\b\b\b\b\b\b\b\b\b\b\b\b\b\b\b\b\b\b\b\b 73% 10442 - DDR-dataset/DR_grading/train/20170222181046885.jpg\b\b\b\b\b\b\b\b\b\b\b\b\b\b\b\b\b\b\b\b\b\b\b\b\b\b\b\b\b\b\b\b\b\b\b\b\b\b\b\b\b\b\b\b\b\b\b\b\b\b\b\b\b\b\b\b\b\b\b\b\b\b\b                                                               \b\b\b\b\b\b\b\b\b\b\b\b\b\b\b\b\b\b\b\b\b\b\b\b\b\b\b\b\b\b\b\b\b\b\b\b\b\b\b\b\b\b\b\b\b\b\b\b\b\b\b\b\b\b\b\b\b\b\b\b\b\b\b 73% 10444 - DDR-dataset/DR_grading/train/20170222182549409.jpg\b\b\b\b\b\b\b\b\b\b\b\b\b\b\b\b\b\b\b\b\b\b\b\b\b\b\b\b\b\b\b\b\b\b\b\b\b\b\b\b\b\b\b\b\b\b\b\b\b\b\b\b\b\b\b\b\b\b\b\b\b\b\b                                                               \b\b\b\b\b\b\b\b\b\b\b\b\b\b\b\b\b\b\b\b\b\b\b\b\b\b\b\b\b\b\b\b\b\b\b\b\b\b\b\b\b\b\b\b\b\b\b\b\b\b\b\b\b\b\b\b\b\b\b\b\b\b\b 73% 10450 - DDR-dataset/DR_grading/train/20170223084259166.jpg\b\b\b\b\b\b\b\b\b\b\b\b\b\b\b\b\b\b\b\b\b\b\b\b\b\b\b\b\b\b\b\b\b\b\b\b\b\b\b\b\b\b\b\b\b\b\b\b\b\b\b\b\b\b\b\b\b\b\b\b\b\b\b                                                               \b\b\b\b\b\b\b\b\b\b\b\b\b\b\b\b\b\b\b\b\b\b\b\b\b\b\b\b\b\b\b\b\b\b\b\b\b\b\b\b\b\b\b\b\b\b\b\b\b\b\b\b\b\b\b\b\b\b\b\b\b\b\b 73% 10453 - DDR-dataset/DR_grading/train/20170223090156273.jpg\b\b\b\b\b\b\b\b\b\b\b\b\b\b\b\b\b\b\b\b\b\b\b\b\b\b\b\b\b\b\b\b\b\b\b\b\b\b\b\b\b\b\b\b\b\b\b\b\b\b\b\b\b\b\b\b\b\b\b\b\b\b\b                                                               \b\b\b\b\b\b\b\b\b\b\b\b\b\b\b\b\b\b\b\b\b\b\b\b\b\b\b\b\b\b\b\b\b\b\b\b\b\b\b\b\b\b\b\b\b\b\b\b\b\b\b\b\b\b\b\b\b\b\b\b\b\b\b 73% 10474 - DDR-dataset/DR_grading/train/20170223105735837.jpg\b\b\b\b\b\b\b\b\b\b\b\b\b\b\b\b\b\b\b\b\b\b\b\b\b\b\b\b\b\b\b\b\b\b\b\b\b\b\b\b\b\b\b\b\b\b\b\b\b\b\b\b\b\b\b\b\b\b\b\b\b\b\b                                                               \b\b\b\b\b\b\b\b\b\b\b\b\b\b\b\b\b\b\b\b\b\b\b\b\b\b\b\b\b\b\b\b\b\b\b\b\b\b\b\b\b\b\b\b\b\b\b\b\b\b\b\b\b\b\b\b\b\b\b\b\b\b\b 73% 10510 - DDR-dataset/DR_grading/train/20170223171327021.jpg\b\b\b\b\b\b\b\b\b\b\b\b\b\b\b\b\b\b\b\b\b\b\b\b\b\b\b\b\b\b\b\b\b\b\b\b\b\b\b\b\b\b\b\b\b\b\b\b\b\b\b\b\b\b\b\b\b\b\b\b\b\b\b                                                               \b\b\b\b\b\b\b\b\b\b\b\b\b\b\b\b\b\b\b\b\b\b\b\b\b\b\b\b\b\b\b\b\b\b\b\b\b\b\b\b\b\b\b\b\b\b\b\b\b\b\b\b\b\b\b\b\b\b\b\b\b\b\b 74% 10525 - DDR-dataset/DR_grading/train/20170224093843434.jpg\b\b\b\b\b\b\b\b\b\b\b\b\b\b\b\b\b\b\b\b\b\b\b\b\b\b\b\b\b\b\b\b\b\b\b\b\b\b\b\b\b\b\b\b\b\b\b\b\b\b\b\b\b\b\b\b\b\b\b\b\b\b\b                                                               \b\b\b\b\b\b\b\b\b\b\b\b\b\b\b\b\b\b\b\b\b\b\b\b\b\b\b\b\b\b\b\b\b\b\b\b\b\b\b\b\b\b\b\b\b\b\b\b\b\b\b\b\b\b\b\b\b\b\b\b\b\b\b 74% 10542 - DDR-dataset/DR_grading/train/20170224110136437.jpg\b\b\b\b\b\b\b\b\b\b\b\b\b\b\b\b\b\b\b\b\b\b\b\b\b\b\b\b\b\b\b\b\b\b\b\b\b\b\b\b\b\b\b\b\b\b\b\b\b\b\b\b\b\b\b\b\b\b\b\b\b\b\b                                                               \b\b\b\b\b\b\b\b\b\b\b\b\b\b\b\b\b\b\b\b\b\b\b\b\b\b\b\b\b\b\b\b\b\b\b\b\b\b\b\b\b\b\b\b\b\b\b\b\b\b\b\b\b\b\b\b\b\b\b\b\b\b\b 74% 10571 - DDR-dataset/DR_grading/train/20170224160057504.jpg\b\b\b\b\b\b\b\b\b\b\b\b\b\b\b\b\b\b\b\b\b\b\b\b\b\b\b\b\b\b\b\b\b\b\b\b\b\b\b\b\b\b\b\b\b\b\b\b\b\b\b\b\b\b\b\b\b\b\b\b\b\b\b                                                               \b\b\b\b\b\b\b\b\b\b\b\b\b\b\b\b\b\b\b\b\b\b\b\b\b\b\b\b\b\b\b\b\b\b\b\b\b\b\b\b\b\b\b\b\b\b\b\b\b\b\b\b\b\b\b\b\b\b\b\b\b\b\b 74% 10597 - DDR-dataset/DR_grading/train/20170224212717668.jpg\b\b\b\b\b\b\b\b\b\b\b\b\b\b\b\b\b\b\b\b\b\b\b\b\b\b\b\b\b\b\b\b\b\b\b\b\b\b\b\b\b\b\b\b\b\b\b\b\b\b\b\b\b\b\b\b\b\b\b\b\b\b\b                                                               \b\b\b\b\b\b\b\b\b\b\b\b\b\b\b\b\b\b\b\b\b\b\b\b\b\b\b\b\b\b\b\b\b\b\b\b\b\b\b\b\b\b\b\b\b\b\b\b\b\b\b\b\b\b\b\b\b\b\b\b\b\b\b 75% 10641 - DDR-dataset/DR_grading/train/20170226090215881.jpg\b\b\b\b\b\b\b\b\b\b\b\b\b\b\b\b\b\b\b\b\b\b\b\b\b\b\b\b\b\b\b\b\b\b\b\b\b\b\b\b\b\b\b\b\b\b\b\b\b\b\b\b\b\b\b\b\b\b\b\b\b\b\b                                                               \b\b\b\b\b\b\b\b\b\b\b\b\b\b\b\b\b\b\b\b\b\b\b\b\b\b\b\b\b\b\b\b\b\b\b\b\b\b\b\b\b\b\b\b\b\b\b\b\b\b\b\b\b\b\b\b\b\b\b\b\b\b\b 75% 10656 - DDR-dataset/DR_grading/train/20170226093758363.jpg\b\b\b\b\b\b\b\b\b\b\b\b\b\b\b\b\b\b\b\b\b\b\b\b\b\b\b\b\b\b\b\b\b\b\b\b\b\b\b\b\b\b\b\b\b\b\b\b\b\b\b\b\b\b\b\b\b\b\b\b\b\b\b                                                               \b\b\b\b\b\b\b\b\b\b\b\b\b\b\b\b\b\b\b\b\b\b\b\b\b\b\b\b\b\b\b\b\b\b\b\b\b\b\b\b\b\b\b\b\b\b\b\b\b\b\b\b\b\b\b\b\b\b\b\b\b\b\b 75% 10664 - DDR-dataset/DR_grading/train/20170226204954189.jpg\b\b\b\b\b\b\b\b\b\b\b\b\b\b\b\b\b\b\b\b\b\b\b\b\b\b\b\b\b\b\b\b\b\b\b\b\b\b\b\b\b\b\b\b\b\b\b\b\b\b\b\b\b\b\b\b\b\b\b\b\b\b\b                                                               \b\b\b\b\b\b\b\b\b\b\b\b\b\b\b\b\b\b\b\b\b\b\b\b\b\b\b\b\b\b\b\b\b\b\b\b\b\b\b\b\b\b\b\b\b\b\b\b\b\b\b\b\b\b\b\b\b\b\b\b\b\b\b 75% 10672 - DDR-dataset/DR_grading/train/20170226214815940.jpg\b\b\b\b\b\b\b\b\b\b\b\b\b\b\b\b\b\b\b\b\b\b\b\b\b\b\b\b\b\b\b\b\b\b\b\b\b\b\b\b\b\b\b\b\b\b\b\b\b\b\b\b\b\b\b\b\b\b\b\b\b\b\b                                                               \b\b\b\b\b\b\b\b\b\b\b\b\b\b\b\b\b\b\b\b\b\b\b\b\b\b\b\b\b\b\b\b\b\b\b\b\b\b\b\b\b\b\b\b\b\b\b\b\b\b\b\b\b\b\b\b\b\b\b\b\b\b\b 75% 10699 - DDR-dataset/DR_grading/train/20170226230839902.jpg\b\b\b\b\b\b\b\b\b\b\b\b\b\b\b\b\b\b\b\b\b\b\b\b\b\b\b\b\b\b\b\b\b\b\b\b\b\b\b\b\b\b\b\b\b\b\b\b\b\b\b\b\b\b\b\b\b\b\b\b\b\b\b                                                               \b\b\b\b\b\b\b\b\b\b\b\b\b\b\b\b\b\b\b\b\b\b\b\b\b\b\b\b\b\b\b\b\b\b\b\b\b\b\b\b\b\b\b\b\b\b\b\b\b\b\b\b\b\b\b\b\b\b\b\b\b\b\b 75% 10710 - DDR-dataset/DR_grading/train/20170226234856632.jpg\b\b\b\b\b\b\b\b\b\b\b\b\b\b\b\b\b\b\b\b\b\b\b\b\b\b\b\b\b\b\b\b\b\b\b\b\b\b\b\b\b\b\b\b\b\b\b\b\b\b\b\b\b\b\b\b\b\b\b\b\b\b\b                                                               \b\b\b\b\b\b\b\b\b\b\b\b\b\b\b\b\b\b\b\b\b\b\b\b\b\b\b\b\b\b\b\b\b\b\b\b\b\b\b\b\b\b\b\b\b\b\b\b\b\b\b\b\b\b\b\b\b\b\b\b\b\b\b 75% 10728 - DDR-dataset/DR_grading/train/20170227160449379.jpg\b\b\b\b\b\b\b\b\b\b\b\b\b\b\b\b\b\b\b\b\b\b\b\b\b\b\b\b\b\b\b\b\b\b\b\b\b\b\b\b\b\b\b\b\b\b\b\b\b\b\b\b\b\b\b\b\b\b\b\b\b\b\b                                                               \b\b\b\b\b\b\b\b\b\b\b\b\b\b\b\b\b\b\b\b\b\b\b\b\b\b\b\b\b\b\b\b\b\b\b\b\b\b\b\b\b\b\b\b\b\b\b\b\b\b\b\b\b\b\b\b\b\b\b\b\b\b\b 76% 10741 - DDR-dataset/DR_grading/train/20170227171849861.jpg\b\b\b\b\b\b\b\b\b\b\b\b\b\b\b\b\b\b\b\b\b\b\b\b\b\b\b\b\b\b\b\b\b\b\b\b\b\b\b\b\b\b\b\b\b\b\b\b\b\b\b\b\b\b\b\b\b\b\b\b\b\b\b                                                               \b\b\b\b\b\b\b\b\b\b\b\b\b\b\b\b\b\b\b\b\b\b\b\b\b\b\b\b\b\b\b\b\b\b\b\b\b\b\b\b\b\b\b\b\b\b\b\b\b\b\b\b\b\b\b\b\b\b\b\b\b\b\b 76% 10755 - DDR-dataset/DR_grading/train/20170227233249056.jpg\b\b\b\b\b\b\b\b\b\b\b\b\b\b\b\b\b\b\b\b\b\b\b\b\b\b\b\b\b\b\b\b\b\b\b\b\b\b\b\b\b\b\b\b\b\b\b\b\b\b\b\b\b\b\b\b\b\b\b\b\b\b\b                                                               \b\b\b\b\b\b\b\b\b\b\b\b\b\b\b\b\b\b\b\b\b\b\b\b\b\b\b\b\b\b\b\b\b\b\b\b\b\b\b\b\b\b\b\b\b\b\b\b\b\b\b\b\b\b\b\b\b\b\b\b\b\b\b 76% 10788 - DDR-dataset/DR_grading/train/20170228154045742.jpg\b\b\b\b\b\b\b\b\b\b\b\b\b\b\b\b\b\b\b\b\b\b\b\b\b\b\b\b\b\b\b\b\b\b\b\b\b\b\b\b\b\b\b\b\b\b\b\b\b\b\b\b\b\b\b\b\b\b\b\b\b\b\b                                                               \b\b\b\b\b\b\b\b\b\b\b\b\b\b\b\b\b\b\b\b\b\b\b\b\b\b\b\b\b\b\b\b\b\b\b\b\b\b\b\b\b\b\b\b\b\b\b\b\b\b\b\b\b\b\b\b\b\b\b\b\b\b\b 76% 10801 - DDR-dataset/DR_grading/train/20170228170116464.jpg\b\b\b\b\b\b\b\b\b\b\b\b\b\b\b\b\b\b\b\b\b\b\b\b\b\b\b\b\b\b\b\b\b\b\b\b\b\b\b\b\b\b\b\b\b\b\b\b\b\b\b\b\b\b\b\b\b\b\b\b\b\b\b                                                               \b\b\b\b\b\b\b\b\b\b\b\b\b\b\b\b\b\b\b\b\b\b\b\b\b\b\b\b\b\b\b\b\b\b\b\b\b\b\b\b\b\b\b\b\b\b\b\b\b\b\b\b\b\b\b\b\b\b\b\b\b\b\b 76% 10824 - DDR-dataset/DR_grading/train/20170228225701913.jpg\b\b\b\b\b\b\b\b\b\b\b\b\b\b\b\b\b\b\b\b\b\b\b\b\b\b\b\b\b\b\b\b\b\b\b\b\b\b\b\b\b\b\b\b\b\b\b\b\b\b\b\b\b\b\b\b\b\b\b\b\b\b\b                                                               \b\b\b\b\b\b\b\b\b\b\b\b\b\b\b\b\b\b\b\b\b\b\b\b\b\b\b\b\b\b\b\b\b\b\b\b\b\b\b\b\b\b\b\b\b\b\b\b\b\b\b\b\b\b\b\b\b\b\b\b\b\b\b 77% 10846 - DDR-dataset/DR_grading/train/20170303141757903.jpg\b\b\b\b\b\b\b\b\b\b\b\b\b\b\b\b\b\b\b\b\b\b\b\b\b\b\b\b\b\b\b\b\b\b\b\b\b\b\b\b\b\b\b\b\b\b\b\b\b\b\b\b\b\b\b\b\b\b\b\b\b\b\b                                                               \b\b\b\b\b\b\b\b\b\b\b\b\b\b\b\b\b\b\b\b\b\b\b\b\b\b\b\b\b\b\b\b\b\b\b\b\b\b\b\b\b\b\b\b\b\b\b\b\b\b\b\b\b\b\b\b\b\b\b\b\b\b\b 77% 10851 - DDR-dataset/DR_grading/train/20170307170241946.jpg\b\b\b\b\b\b\b\b\b\b\b\b\b\b\b\b\b\b\b\b\b\b\b\b\b\b\b\b\b\b\b\b\b\b\b\b\b\b\b\b\b\b\b\b\b\b\b\b\b\b\b\b\b\b\b\b\b\b\b\b\b\b\b                                                               \b\b\b\b\b\b\b\b\b\b\b\b\b\b\b\b\b\b\b\b\b\b\b\b\b\b\b\b\b\b\b\b\b\b\b\b\b\b\b\b\b\b\b\b\b\b\b\b\b\b\b\b\b\b\b\b\b\b\b\b\b\b\b 77% 10852\b\b\b\b\b\b\b\b\b\b          \b\b\b\b\b\b\b\b\b\b 77% 10873 - DDR-dataset/DR_grading/train/20170316172851230.jpg\b\b\b\b\b\b\b\b\b\b\b\b\b\b\b\b\b\b\b\b\b\b\b\b\b\b\b\b\b\b\b\b\b\b\b\b\b\b\b\b\b\b\b\b\b\b\b\b\b\b\b\b\b\b\b\b\b\b\b\b\b\b\b                                                               \b\b\b\b\b\b\b\b\b\b\b\b\b\b\b\b\b\b\b\b\b\b\b\b\b\b\b\b\b\b\b\b\b\b\b\b\b\b\b\b\b\b\b\b\b\b\b\b\b\b\b\b\b\b\b\b\b\b\b\b\b\b\b 77% 10901 - DDR-dataset/DR_grading/train/20170323083610280.jpg\b\b\b\b\b\b\b\b\b\b\b\b\b\b\b\b\b\b\b\b\b\b\b\b\b\b\b\b\b\b\b\b\b\b\b\b\b\b\b\b\b\b\b\b\b\b\b\b\b\b\b\b\b\b\b\b\b\b\b\b\b\b\b                                                               \b\b\b\b\b\b\b\b\b\b\b\b\b\b\b\b\b\b\b\b\b\b\b\b\b\b\b\b\b\b\b\b\b\b\b\b\b\b\b\b\b\b\b\b\b\b\b\b\b\b\b\b\b\b\b\b\b\b\b\b\b\b\b 77% 10929 - DDR-dataset/DR_grading/train/20170323090622129.jpg\b\b\b\b\b\b\b\b\b\b\b\b\b\b\b\b\b\b\b\b\b\b\b\b\b\b\b\b\b\b\b\b\b\b\b\b\b\b\b\b\b\b\b\b\b\b\b\b\b\b\b\b\b\b\b\b\b\b\b\b\b\b\b                                                               \b\b\b\b\b\b\b\b\b\b\b\b\b\b\b\b\b\b\b\b\b\b\b\b\b\b\b\b\b\b\b\b\b\b\b\b\b\b\b\b\b\b\b\b\b\b\b\b\b\b\b\b\b\b\b\b\b\b\b\b\b\b\b 77% 10961 - DDR-dataset/DR_grading/valid/007-2523-100.jpg\b\b\b\b\b\b\b\b\b\b\b\b\b\b\b\b\b\b\b\b\b\b\b\b\b\b\b\b\b\b\b\b\b\b\b\b\b\b\b\b\b\b\b\b\b\b\b\b\b\b\b\b\b\b\b\b\b\b                                                          \b\b\b\b\b\b\b\b\b\b\b\b\b\b\b\b\b\b\b\b\b\b\b\b\b\b\b\b\b\b\b\b\b\b\b\b\b\b\b\b\b\b\b\b\b\b\b\b\b\b\b\b\b\b\b\b\b\b 77% 10972 - DDR-dataset/DR_grading/valid/007-2554-100.jpg\b\b\b\b\b\b\b\b\b\b\b\b\b\b\b\b\b\b\b\b\b\b\b\b\b\b\b\b\b\b\b\b\b\b\b\b\b\b\b\b\b\b\b\b\b\b\b\b\b\b\b\b\b\b\b\b\b\b                                                          \b\b\b\b\b\b\b\b\b\b\b\b\b\b\b\b\b\b\b\b\b\b\b\b\b\b\b\b\b\b\b\b\b\b\b\b\b\b\b\b\b\b\b\b\b\b\b\b\b\b\b\b\b\b\b\b\b\b 77% 11013 - DDR-dataset/DR_grading/valid/007-2682-100.jpg\b\b\b\b\b\b\b\b\b\b\b\b\b\b\b\b\b\b\b\b\b\b\b\b\b\b\b\b\b\b\b\b\b\b\b\b\b\b\b\b\b\b\b\b\b\b\b\b\b\b\b\b\b\b\b\b\b\b                                                          \b\b\b\b\b\b\b\b\b\b\b\b\b\b\b\b\b\b\b\b\b\b\b\b\b\b\b\b\b\b\b\b\b\b\b\b\b\b\b\b\b\b\b\b\b\b\b\b\b\b\b\b\b\b\b\b\b\b 78% 11030 - DDR-dataset/DR_grading/valid/007-2707-100.jpg\b\b\b\b\b\b\b\b\b\b\b\b\b\b\b\b\b\b\b\b\b\b\b\b\b\b\b\b\b\b\b\b\b\b\b\b\b\b\b\b\b\b\b\b\b\b\b\b\b\b\b\b\b\b\b\b\b\b                                                          \b\b\b\b\b\b\b\b\b\b\b\b\b\b\b\b\b\b\b\b\b\b\b\b\b\b\b\b\b\b\b\b\b\b\b\b\b\b\b\b\b\b\b\b\b\b\b\b\b\b\b\b\b\b\b\b\b\b 78% 11136 - DDR-dataset/DR_grading/valid/007-4997-300.jpg\b\b\b\b\b\b\b\b\b\b\b\b\b\b\b\b\b\b\b\b\b\b\b\b\b\b\b\b\b\b\b\b\b\b\b\b\b\b\b\b\b\b\b\b\b\b\b\b\b\b\b\b\b\b\b\b\b\b                                                          \b\b\b\b\b\b\b\b\b\b\b\b\b\b\b\b\b\b\b\b\b\b\b\b\b\b\b\b\b\b\b\b\b\b\b\b\b\b\b\b\b\b\b\b\b\b\b\b\b\b\b\b\b\b\b\b\b\b 78% 11185 - DDR-dataset/DR_grading/valid/007-5048-300.jpg\b\b\b\b\b\b\b\b\b\b\b\b\b\b\b\b\b\b\b\b\b\b\b\b\b\b\b\b\b\b\b\b\b\b\b\b\b\b\b\b\b\b\b\b\b\b\b\b\b\b\b\b\b\b\b\b\b\b                                                          \b\b\b\b\b\b\b\b\b\b\b\b\b\b\b\b\b\b\b\b\b\b\b\b\b\b\b\b\b\b\b\b\b\b\b\b\b\b\b\b\b\b\b\b\b\b\b\b\b\b\b\b\b\b\b\b\b\b 78% 11212 - DDR-dataset/DR_grading/valid/007-5078-300.jpg\b\b\b\b\b\b\b\b\b\b\b\b\b\b\b\b\b\b\b\b\b\b\b\b\b\b\b\b\b\b\b\b\b\b\b\b\b\b\b\b\b\b\b\b\b\b\b\b\b\b\b\b\b\b\b\b\b\b                                                          \b\b\b\b\b\b\b\b\b\b\b\b\b\b\b\b\b\b\b\b\b\b\b\b\b\b\b\b\b\b\b\b\b\b\b\b\b\b\b\b\b\b\b\b\b\b\b\b\b\b\b\b\b\b\b\b\b\b 78% 11235 - DDR-dataset/DR_grading/valid/007-5102-300.jpg\b\b\b\b\b\b\b\b\b\b\b\b\b\b\b\b\b\b\b\b\b\b\b\b\b\b\b\b\b\b\b\b\b\b\b\b\b\b\b\b\b\b\b\b\b\b\b\b\b\b\b\b\b\b\b\b\b\b                                                          \b\b\b\b\b\b\b\b\b\b\b\b\b\b\b\b\b\b\b\b\b\b\b\b\b\b\b\b\b\b\b\b\b\b\b\b\b\b\b\b\b\b\b\b\b\b\b\b\b\b\b\b\b\b\b\b\b\b 79% 11267 - DDR-dataset/DR_grading/valid/007-5137-300.jpg\b\b\b\b\b\b\b\b\b\b\b\b\b\b\b\b\b\b\b\b\b\b\b\b\b\b\b\b\b\b\b\b\b\b\b\b\b\b\b\b\b\b\b\b\b\b\b\b\b\b\b\b\b\b\b\b\b\b                                                          \b\b\b\b\b\b\b\b\b\b\b\b\b\b\b\b\b\b\b\b\b\b\b\b\b\b\b\b\b\b\b\b\b\b\b\b\b\b\b\b\b\b\b\b\b\b\b\b\b\b\b\b\b\b\b\b\b\b 79% 11292 - DDR-dataset/DR_grading/valid/007-5163-300.jpg\b\b\b\b\b\b\b\b\b\b\b\b\b\b\b\b\b\b\b\b\b\b\b\b\b\b\b\b\b\b\b\b\b\b\b\b\b\b\b\b\b\b\b\b\b\b\b\b\b\b\b\b\b\b\b\b\b\b                                                          \b\b\b\b\b\b\b\b\b\b\b\b\b\b\b\b\b\b\b\b\b\b\b\b\b\b\b\b\b\b\b\b\b\b\b\b\b\b\b\b\b\b\b\b\b\b\b\b\b\b\b\b\b\b\b\b\b\b 79% 11341 - DDR-dataset/DR_grading/valid/007-5222-300.jpg\b\b\b\b\b\b\b\b\b\b\b\b\b\b\b\b\b\b\b\b\b\b\b\b\b\b\b\b\b\b\b\b\b\b\b\b\b\b\b\b\b\b\b\b\b\b\b\b\b\b\b\b\b\b\b\b\b\b                                                          \b\b\b\b\b\b\b\b\b\b\b\b\b\b\b\b\b\b\b\b\b\b\b\b\b\b\b\b\b\b\b\b\b\b\b\b\b\b\b\b\b\b\b\b\b\b\b\b\b\b\b\b\b\b\b\b\b\b 79% 11370 - DDR-dataset/DR_grading/valid/007-5252-300.jpg\b\b\b\b\b\b\b\b\b\b\b\b\b\b\b\b\b\b\b\b\b\b\b\b\b\b\b\b\b\b\b\b\b\b\b\b\b\b\b\b\b\b\b\b\b\b\b\b\b\b\b\b\b\b\b\b\b\b                                                          \b\b\b\b\b\b\b\b\b\b\b\b\b\b\b\b\b\b\b\b\b\b\b\b\b\b\b\b\b\b\b\b\b\b\b\b\b\b\b\b\b\b\b\b\b\b\b\b\b\b\b\b\b\b\b\b\b\b 79% 11411 - DDR-dataset/DR_grading/valid/007-5296-300.jpg\b\b\b\b\b\b\b\b\b\b\b\b\b\b\b\b\b\b\b\b\b\b\b\b\b\b\b\b\b\b\b\b\b\b\b\b\b\b\b\b\b\b\b\b\b\b\b\b\b\b\b\b\b\b\b\b\b\b                                                          \b\b\b\b\b\b\b\b\b\b\b\b\b\b\b\b\b\b\b\b\b\b\b\b\b\b\b\b\b\b\b\b\b\b\b\b\b\b\b\b\b\b\b\b\b\b\b\b\b\b\b\b\b\b\b\b\b\b 79% 11418 - DDR-dataset/DR_grading/valid/007-5303-300.jpg\b\b\b\b\b\b\b\b\b\b\b\b\b\b\b\b\b\b\b\b\b\b\b\b\b\b\b\b\b\b\b\b\b\b\b\b\b\b\b\b\b\b\b\b\b\b\b\b\b\b\b\b\b\b\b\b\b\b                                                          \b\b\b\b\b\b\b\b\b\b\b\b\b\b\b\b\b\b\b\b\b\b\b\b\b\b\b\b\b\b\b\b\b\b\b\b\b\b\b\b\b\b\b\b\b\b\b\b\b\b\b\b\b\b\b\b\b\b 80% 11446 - DDR-dataset/DR_grading/valid/007-5333-300.jpg\b\b\b\b\b\b\b\b\b\b\b\b\b\b\b\b\b\b\b\b\b\b\b\b\b\b\b\b\b\b\b\b\b\b\b\b\b\b\b\b\b\b\b\b\b\b\b\b\b\b\b\b\b\b\b\b\b\b                                                          \b\b\b\b\b\b\b\b\b\b\b\b\b\b\b\b\b\b\b\b\b\b\b\b\b\b\b\b\b\b\b\b\b\b\b\b\b\b\b\b\b\b\b\b\b\b\b\b\b\b\b\b\b\b\b\b\b\b 80% 11484 - DDR-dataset/DR_grading/valid/007-5376-300.jpg\b\b\b\b\b\b\b\b\b\b\b\b\b\b\b\b\b\b\b\b\b\b\b\b\b\b\b\b\b\b\b\b\b\b\b\b\b\b\b\b\b\b\b\b\b\b\b\b\b\b\b\b\b\b\b\b\b\b                                                          \b\b\b\b\b\b\b\b\b\b\b\b\b\b\b\b\b\b\b\b\b\b\b\b\b\b\b\b\b\b\b\b\b\b\b\b\b\b\b\b\b\b\b\b\b\b\b\b\b\b\b\b\b\b\b\b\b\b 80% 11550 - DDR-dataset/DR_grading/valid/007-5454-300.jpg\b\b\b\b\b\b\b\b\b\b\b\b\b\b\b\b\b\b\b\b\b\b\b\b\b\b\b\b\b\b\b\b\b\b\b\b\b\b\b\b\b\b\b\b\b\b\b\b\b\b\b\b\b\b\b\b\b\b                                                          \b\b\b\b\b\b\b\b\b\b\b\b\b\b\b\b\b\b\b\b\b\b\b\b\b\b\b\b\b\b\b\b\b\b\b\b\b\b\b\b\b\b\b\b\b\b\b\b\b\b\b\b\b\b\b\b\b\b 80% 11579 - DDR-dataset/DR_grading/valid/007-5488-300.jpg\b\b\b\b\b\b\b\b\b\b\b\b\b\b\b\b\b\b\b\b\b\b\b\b\b\b\b\b\b\b\b\b\b\b\b\b\b\b\b\b\b\b\b\b\b\b\b\b\b\b\b\b\b\b\b\b\b\b                                                          \b\b\b\b\b\b\b\b\b\b\b\b\b\b\b\b\b\b\b\b\b\b\b\b\b\b\b\b\b\b\b\b\b\b\b\b\b\b\b\b\b\b\b\b\b\b\b\b\b\b\b\b\b\b\b\b\b\b 80% 11598 - DDR-dataset/DR_grading/valid/007-5508-300.jpg\b\b\b\b\b\b\b\b\b\b\b\b\b\b\b\b\b\b\b\b\b\b\b\b\b\b\b\b\b\b\b\b\b\b\b\b\b\b\b\b\b\b\b\b\b\b\b\b\b\b\b\b\b\b\b\b\b\b                                                          \b\b\b\b\b\b\b\b\b\b\b\b\b\b\b\b\b\b\b\b\b\b\b\b\b\b\b\b\b\b\b\b\b\b\b\b\b\b\b\b\b\b\b\b\b\b\b\b\b\b\b\b\b\b\b\b\b\b 80% 11599\b\b\b\b\b\b\b\b\b\b          \b\b\b\b\b\b\b\b\b\b 81% 11674 - DDR-dataset/DR_grading/valid/007-5590-300.jpg\b\b\b\b\b\b\b\b\b\b\b\b\b\b\b\b\b\b\b\b\b\b\b\b\b\b\b\b\b\b\b\b\b\b\b\b\b\b\b\b\b\b\b\b\b\b\b\b\b\b\b\b\b\b\b\b\b\b                                                          \b\b\b\b\b\b\b\b\b\b\b\b\b\b\b\b\b\b\b\b\b\b\b\b\b\b\b\b\b\b\b\b\b\b\b\b\b\b\b\b\b\b\b\b\b\b\b\b\b\b\b\b\b\b\b\b\b\b 81% 11737 - DDR-dataset/DR_grading/valid/007-5657-300.jpg\b\b\b\b\b\b\b\b\b\b\b\b\b\b\b\b\b\b\b\b\b\b\b\b\b\b\b\b\b\b\b\b\b\b\b\b\b\b\b\b\b\b\b\b\b\b\b\b\b\b\b\b\b\b\b\b\b\b                                                          \b\b\b\b\b\b\b\b\b\b\b\b\b\b\b\b\b\b\b\b\b\b\b\b\b\b\b\b\b\b\b\b\b\b\b\b\b\b\b\b\b\b\b\b\b\b\b\b\b\b\b\b\b\b\b\b\b\b 81% 11763 - DDR-dataset/DR_grading/valid/007-5685-300.jpg\b\b\b\b\b\b\b\b\b\b\b\b\b\b\b\b\b\b\b\b\b\b\b\b\b\b\b\b\b\b\b\b\b\b\b\b\b\b\b\b\b\b\b\b\b\b\b\b\b\b\b\b\b\b\b\b\b\b                                                          \b\b\b\b\b\b\b\b\b\b\b\b\b\b\b\b\b\b\b\b\b\b\b\b\b\b\b\b\b\b\b\b\b\b\b\b\b\b\b\b\b\b\b\b\b\b\b\b\b\b\b\b\b\b\b\b\b\b 81% 11791 - DDR-dataset/DR_grading/valid/007-5713-300.jpg\b\b\b\b\b\b\b\b\b\b\b\b\b\b\b\b\b\b\b\b\b\b\b\b\b\b\b\b\b\b\b\b\b\b\b\b\b\b\b\b\b\b\b\b\b\b\b\b\b\b\b\b\b\b\b\b\b\b                                                          \b\b\b\b\b\b\b\b\b\b\b\b\b\b\b\b\b\b\b\b\b\b\b\b\b\b\b\b\b\b\b\b\b\b\b\b\b\b\b\b\b\b\b\b\b\b\b\b\b\b\b\b\b\b\b\b\b\b 81% 11809 - DDR-dataset/DR_grading/valid/007-5735-300.jpg\b\b\b\b\b\b\b\b\b\b\b\b\b\b\b\b\b\b\b\b\b\b\b\b\b\b\b\b\b\b\b\b\b\b\b\b\b\b\b\b\b\b\b\b\b\b\b\b\b\b\b\b\b\b\b\b\b\b                                                          \b\b\b\b\b\b\b\b\b\b\b\b\b\b\b\b\b\b\b\b\b\b\b\b\b\b\b\b\b\b\b\b\b\b\b\b\b\b\b\b\b\b\b\b\b\b\b\b\b\b\b\b\b\b\b\b\b\b 81% 11824 - DDR-dataset/DR_grading/valid/007-5762-300.jpg\b\b\b\b\b\b\b\b\b\b\b\b\b\b\b\b\b\b\b\b\b\b\b\b\b\b\b\b\b\b\b\b\b\b\b\b\b\b\b\b\b\b\b\b\b\b\b\b\b\b\b\b\b\b\b\b\b\b                                                          \b\b\b\b\b\b\b\b\b\b\b\b\b\b\b\b\b\b\b\b\b\b\b\b\b\b\b\b\b\b\b\b\b\b\b\b\b\b\b\b\b\b\b\b\b\b\b\b\b\b\b\b\b\b\b\b\b\b 81% 11884 - DDR-dataset/DR_grading/valid/007-5822-300.jpg\b\b\b\b\b\b\b\b\b\b\b\b\b\b\b\b\b\b\b\b\b\b\b\b\b\b\b\b\b\b\b\b\b\b\b\b\b\b\b\b\b\b\b\b\b\b\b\b\b\b\b\b\b\b\b\b\b\b                                                          \b\b\b\b\b\b\b\b\b\b\b\b\b\b\b\b\b\b\b\b\b\b\b\b\b\b\b\b\b\b\b\b\b\b\b\b\b\b\b\b\b\b\b\b\b\b\b\b\b\b\b\b\b\b\b\b\b\b 82% 11976 - DDR-dataset/DR_grading/valid/007-5915-300.jpg\b\b\b\b\b\b\b\b\b\b\b\b\b\b\b\b\b\b\b\b\b\b\b\b\b\b\b\b\b\b\b\b\b\b\b\b\b\b\b\b\b\b\b\b\b\b\b\b\b\b\b\b\b\b\b\b\b\b                                                          \b\b\b\b\b\b\b\b\b\b\b\b\b\b\b\b\b\b\b\b\b\b\b\b\b\b\b\b\b\b\b\b\b\b\b\b\b\b\b\b\b\b\b\b\b\b\b\b\b\b\b\b\b\b\b\b\b\b 82% 12002 - DDR-dataset/DR_grading/valid/007-5941-300.jpg\b\b\b\b\b\b\b\b\b\b\b\b\b\b\b\b\b\b\b\b\b\b\b\b\b\b\b\b\b\b\b\b\b\b\b\b\b\b\b\b\b\b\b\b\b\b\b\b\b\b\b\b\b\b\b\b\b\b                                                          \b\b\b\b\b\b\b\b\b\b\b\b\b\b\b\b\b\b\b\b\b\b\b\b\b\b\b\b\b\b\b\b\b\b\b\b\b\b\b\b\b\b\b\b\b\b\b\b\b\b\b\b\b\b\b\b\b\b 82% 12010 - DDR-dataset/DR_grading/valid/007-5949-300.jpg\b\b\b\b\b\b\b\b\b\b\b\b\b\b\b\b\b\b\b\b\b\b\b\b\b\b\b\b\b\b\b\b\b\b\b\b\b\b\b\b\b\b\b\b\b\b\b\b\b\b\b\b\b\b\b\b\b\b                                                          \b\b\b\b\b\b\b\b\b\b\b\b\b\b\b\b\b\b\b\b\b\b\b\b\b\b\b\b\b\b\b\b\b\b\b\b\b\b\b\b\b\b\b\b\b\b\b\b\b\b\b\b\b\b\b\b\b\b 82% 12059 - DDR-dataset/DR_grading/valid/007-6810-400.jpg\b\b\b\b\b\b\b\b\b\b\b\b\b\b\b\b\b\b\b\b\b\b\b\b\b\b\b\b\b\b\b\b\b\b\b\b\b\b\b\b\b\b\b\b\b\b\b\b\b\b\b\b\b\b\b\b\b\b                                                          \b\b\b\b\b\b\b\b\b\b\b\b\b\b\b\b\b\b\b\b\b\b\b\b\b\b\b\b\b\b\b\b\b\b\b\b\b\b\b\b\b\b\b\b\b\b\b\b\b\b\b\b\b\b\b\b\b\b 82% 12088 - DDR-dataset/DR_grading/valid/007-6839-400.jpg\b\b\b\b\b\b\b\b\b\b\b\b\b\b\b\b\b\b\b\b\b\b\b\b\b\b\b\b\b\b\b\b\b\b\b\b\b\b\b\b\b\b\b\b\b\b\b\b\b\b\b\b\b\b\b\b\b\b                                                          \b\b\b\b\b\b\b\b\b\b\b\b\b\b\b\b\b\b\b\b\b\b\b\b\b\b\b\b\b\b\b\b\b\b\b\b\b\b\b\b\b\b\b\b\b\b\b\b\b\b\b\b\b\b\b\b\b\b 82% 12133 - DDR-dataset/DR_grading/valid/007-6885-400.jpg\b\b\b\b\b\b\b\b\b\b\b\b\b\b\b\b\b\b\b\b\b\b\b\b\b\b\b\b\b\b\b\b\b\b\b\b\b\b\b\b\b\b\b\b\b\b\b\b\b\b\b\b\b\b\b\b\b\b                                                          \b\b\b\b\b\b\b\b\b\b\b\b\b\b\b\b\b\b\b\b\b\b\b\b\b\b\b\b\b\b\b\b\b\b\b\b\b\b\b\b\b\b\b\b\b\b\b\b\b\b\b\b\b\b\b\b\b\b 83% 12149 - DDR-dataset/DR_grading/valid/007-6901-400.jpg\b\b\b\b\b\b\b\b\b\b\b\b\b\b\b\b\b\b\b\b\b\b\b\b\b\b\b\b\b\b\b\b\b\b\b\b\b\b\b\b\b\b\b\b\b\b\b\b\b\b\b\b\b\b\b\b\b\b                                                          \b\b\b\b\b\b\b\b\b\b\b\b\b\b\b\b\b\b\b\b\b\b\b\b\b\b\b\b\b\b\b\b\b\b\b\b\b\b\b\b\b\b\b\b\b\b\b\b\b\b\b\b\b\b\b\b\b\b 83% 12164 - DDR-dataset/DR_grading/valid/007-6922-400.jpg\b\b\b\b\b\b\b\b\b\b\b\b\b\b\b\b\b\b\b\b\b\b\b\b\b\b\b\b\b\b\b\b\b\b\b\b\b\b\b\b\b\b\b\b\b\b\b\b\b\b\b\b\b\b\b\b\b\b                                                          \b\b\b\b\b\b\b\b\b\b\b\b\b\b\b\b\b\b\b\b\b\b\b\b\b\b\b\b\b\b\b\b\b\b\b\b\b\b\b\b\b\b\b\b\b\b\b\b\b\b\b\b\b\b\b\b\b\b 83% 12201 - DDR-dataset/DR_grading/valid/007-8141-601.jpg\b\b\b\b\b\b\b\b\b\b\b\b\b\b\b\b\b\b\b\b\b\b\b\b\b\b\b\b\b\b\b\b\b\b\b\b\b\b\b\b\b\b\b\b\b\b\b\b\b\b\b\b\b\b\b\b\b\b                                                          \b\b\b\b\b\b\b\b\b\b\b\b\b\b\b\b\b\b\b\b\b\b\b\b\b\b\b\b\b\b\b\b\b\b\b\b\b\b\b\b\b\b\b\b\b\b\b\b\b\b\b\b\b\b\b\b\b\b 83% 12213 - DDR-dataset/DR_grading/valid/007-8157-601.jpg\b\b\b\b\b\b\b\b\b\b\b\b\b\b\b\b\b\b\b\b\b\b\b\b\b\b\b\b\b\b\b\b\b\b\b\b\b\b\b\b\b\b\b\b\b\b\b\b\b\b\b\b\b\b\b\b\b\b                                                          \b\b\b\b\b\b\b\b\b\b\b\b\b\b\b\b\b\b\b\b\b\b\b\b\b\b\b\b\b\b\b\b\b\b\b\b\b\b\b\b\b\b\b\b\b\b\b\b\b\b\b\b\b\b\b\b\b\b 83% 12254 - DDR-dataset/DR_grading/valid/007-8205-601.jpg\b\b\b\b\b\b\b\b\b\b\b\b\b\b\b\b\b\b\b\b\b\b\b\b\b\b\b\b\b\b\b\b\b\b\b\b\b\b\b\b\b\b\b\b\b\b\b\b\b\b\b\b\b\b\b\b\b\b                                                          \b\b\b\b\b\b\b\b\b\b\b\b\b\b\b\b\b\b\b\b\b\b\b\b\b\b\b\b\b\b\b\b\b\b\b\b\b\b\b\b\b\b\b\b\b\b\b\b\b\b\b\b\b\b\b\b\b\b 83% 12267 - DDR-dataset/DR_grading/valid/007-8219-602.jpg\b\b\b\b\b\b\b\b\b\b\b\b\b\b\b\b\b\b\b\b\b\b\b\b\b\b\b\b\b\b\b\b\b\b\b\b\b\b\b\b\b\b\b\b\b\b\b\b\b\b\b\b\b\b\b\b\b\b                                                          \b\b\b\b\b\b\b\b\b\b\b\b\b\b\b\b\b\b\b\b\b\b\b\b\b\b\b\b\b\b\b\b\b\b\b\b\b\b\b\b\b\b\b\b\b\b\b\b\b\b\b\b\b\b\b\b\b\b 83% 12318 - DDR-dataset/DR_grading/valid/007-8294-602.jpg\b\b\b\b\b\b\b\b\b\b\b\b\b\b\b\b\b\b\b\b\b\b\b\b\b\b\b\b\b\b\b\b\b\b\b\b\b\b\b\b\b\b\b\b\b\b\b\b\b\b\b\b\b\b\b\b\b\b                                                          \b\b\b\b\b\b\b\b\b\b\b\b\b\b\b\b\b\b\b\b\b\b\b\b\b\b\b\b\b\b\b\b\b\b\b\b\b\b\b\b\b\b\b\b\b\b\b\b\b\b\b\b\b\b\b\b\b\b 83% 12355 - DDR-dataset/DR_grading/valid/007-8343-602.jpg\b\b\b\b\b\b\b\b\b\b\b\b\b\b\b\b\b\b\b\b\b\b\b\b\b\b\b\b\b\b\b\b\b\b\b\b\b\b\b\b\b\b\b\b\b\b\b\b\b\b\b\b\b\b\b\b\b\b                                                          \b\b\b\b\b\b\b\b\b\b\b\b\b\b\b\b\b\b\b\b\b\b\b\b\b\b\b\b\b\b\b\b\b\b\b\b\b\b\b\b\b\b\b\b\b\b\b\b\b\b\b\b\b\b\b\b\b\b 84% 12426 - DDR-dataset/DR_grading/valid/007-8440-603.jpg\b\b\b\b\b\b\b\b\b\b\b\b\b\b\b\b\b\b\b\b\b\b\b\b\b\b\b\b\b\b\b\b\b\b\b\b\b\b\b\b\b\b\b\b\b\b\b\b\b\b\b\b\b\b\b\b\b\b                                                          \b\b\b\b\b\b\b\b\b\b\b\b\b\b\b\b\b\b\b\b\b\b\b\b\b\b\b\b\b\b\b\b\b\b\b\b\b\b\b\b\b\b\b\b\b\b\b\b\b\b\b\b\b\b\b\b\b\b 84% 12465 - DDR-dataset/DR_grading/valid/20170323130757983.jpg\b\b\b\b\b\b\b\b\b\b\b\b\b\b\b\b\b\b\b\b\b\b\b\b\b\b\b\b\b\b\b\b\b\b\b\b\b\b\b\b\b\b\b\b\b\b\b\b\b\b\b\b\b\b\b\b\b\b\b\b\b\b\b                                                               \b\b\b\b\b\b\b\b\b\b\b\b\b\b\b\b\b\b\b\b\b\b\b\b\b\b\b\b\b\b\b\b\b\b\b\b\b\b\b\b\b\b\b\b\b\b\b\b\b\b\b\b\b\b\b\b\b\b\b\b\b\b\b 84% 12476 - DDR-dataset/DR_grading/valid/20170323141155955.jpg\b\b\b\b\b\b\b\b\b\b\b\b\b\b\b\b\b\b\b\b\b\b\b\b\b\b\b\b\b\b\b\b\b\b\b\b\b\b\b\b\b\b\b\b\b\b\b\b\b\b\b\b\b\b\b\b\b\b\b\b\b\b\b                                                               \b\b\b\b\b\b\b\b\b\b\b\b\b\b\b\b\b\b\b\b\b\b\b\b\b\b\b\b\b\b\b\b\b\b\b\b\b\b\b\b\b\b\b\b\b\b\b\b\b\b\b\b\b\b\b\b\b\b\b\b\b\b\b 84% 12514 - DDR-dataset/DR_grading/valid/20170324083513388.jpg\b\b\b\b\b\b\b\b\b\b\b\b\b\b\b\b\b\b\b\b\b\b\b\b\b\b\b\b\b\b\b\b\b\b\b\b\b\b\b\b\b\b\b\b\b\b\b\b\b\b\b\b\b\b\b\b\b\b\b\b\b\b\b                                                               \b\b\b\b\b\b\b\b\b\b\b\b\b\b\b\b\b\b\b\b\b\b\b\b\b\b\b\b\b\b\b\b\b\b\b\b\b\b\b\b\b\b\b\b\b\b\b\b\b\b\b\b\b\b\b\b\b\b\b\b\b\b\b 84% 12522 - DDR-dataset/DR_grading/valid/20170324084840579.jpg\b\b\b\b\b\b\b\b\b\b\b\b\b\b\b\b\b\b\b\b\b\b\b\b\b\b\b\b\b\b\b\b\b\b\b\b\b\b\b\b\b\b\b\b\b\b\b\b\b\b\b\b\b\b\b\b\b\b\b\b\b\b\b                                                               \b\b\b\b\b\b\b\b\b\b\b\b\b\b\b\b\b\b\b\b\b\b\b\b\b\b\b\b\b\b\b\b\b\b\b\b\b\b\b\b\b\b\b\b\b\b\b\b\b\b\b\b\b\b\b\b\b\b\b\b\b\b\b 85% 12578 - DDR-dataset/DR_grading/valid/20170324104839547.jpg\b\b\b\b\b\b\b\b\b\b\b\b\b\b\b\b\b\b\b\b\b\b\b\b\b\b\b\b\b\b\b\b\b\b\b\b\b\b\b\b\b\b\b\b\b\b\b\b\b\b\b\b\b\b\b\b\b\b\b\b\b\b\b                                                               \b\b\b\b\b\b\b\b\b\b\b\b\b\b\b\b\b\b\b\b\b\b\b\b\b\b\b\b\b\b\b\b\b\b\b\b\b\b\b\b\b\b\b\b\b\b\b\b\b\b\b\b\b\b\b\b\b\b\b\b\b\b\b 85% 12606 - DDR-dataset/DR_grading/valid/20170326075840285.jpg\b\b\b\b\b\b\b\b\b\b\b\b\b\b\b\b\b\b\b\b\b\b\b\b\b\b\b\b\b\b\b\b\b\b\b\b\b\b\b\b\b\b\b\b\b\b\b\b\b\b\b\b\b\b\b\b\b\b\b\b\b\b\b                                                               \b\b\b\b\b\b\b\b\b\b\b\b\b\b\b\b\b\b\b\b\b\b\b\b\b\b\b\b\b\b\b\b\b\b\b\b\b\b\b\b\b\b\b\b\b\b\b\b\b\b\b\b\b\b\b\b\b\b\b\b\b\b\b 85% 12610 - DDR-dataset/DR_grading/valid/20170326081652962.jpg\b\b\b\b\b\b\b\b\b\b\b\b\b\b\b\b\b\b\b\b\b\b\b\b\b\b\b\b\b\b\b\b\b\b\b\b\b\b\b\b\b\b\b\b\b\b\b\b\b\b\b\b\b\b\b\b\b\b\b\b\b\b\b                                                               \b\b\b\b\b\b\b\b\b\b\b\b\b\b\b\b\b\b\b\b\b\b\b\b\b\b\b\b\b\b\b\b\b\b\b\b\b\b\b\b\b\b\b\b\b\b\b\b\b\b\b\b\b\b\b\b\b\b\b\b\b\b\b 85% 12626 - DDR-dataset/DR_grading/valid/20170326093743368.jpg\b\b\b\b\b\b\b\b\b\b\b\b\b\b\b\b\b\b\b\b\b\b\b\b\b\b\b\b\b\b\b\b\b\b\b\b\b\b\b\b\b\b\b\b\b\b\b\b\b\b\b\b\b\b\b\b\b\b\b\b\b\b\b                                                               \b\b\b\b\b\b\b\b\b\b\b\b\b\b\b\b\b\b\b\b\b\b\b\b\b\b\b\b\b\b\b\b\b\b\b\b\b\b\b\b\b\b\b\b\b\b\b\b\b\b\b\b\b\b\b\b\b\b\b\b\b\b\b 85% 12634 - DDR-dataset/DR_grading/valid/20170326100026531.jpg\b\b\b\b\b\b\b\b\b\b\b\b\b\b\b\b\b\b\b\b\b\b\b\b\b\b\b\b\b\b\b\b\b\b\b\b\b\b\b\b\b\b\b\b\b\b\b\b\b\b\b\b\b\b\b\b\b\b\b\b\b\b\b                                                               \b\b\b\b\b\b\b\b\b\b\b\b\b\b\b\b\b\b\b\b\b\b\b\b\b\b\b\b\b\b\b\b\b\b\b\b\b\b\b\b\b\b\b\b\b\b\b\b\b\b\b\b\b\b\b\b\b\b\b\b\b\b\b 85% 12665 - DDR-dataset/DR_grading/valid/20170327091023750.jpg\b\b\b\b\b\b\b\b\b\b\b\b\b\b\b\b\b\b\b\b\b\b\b\b\b\b\b\b\b\b\b\b\b\b\b\b\b\b\b\b\b\b\b\b\b\b\b\b\b\b\b\b\b\b\b\b\b\b\b\b\b\b\b                                                               \b\b\b\b\b\b\b\b\b\b\b\b\b\b\b\b\b\b\b\b\b\b\b\b\b\b\b\b\b\b\b\b\b\b\b\b\b\b\b\b\b\b\b\b\b\b\b\b\b\b\b\b\b\b\b\b\b\b\b\b\b\b\b 86% 12698 - DDR-dataset/DR_grading/valid/20170327103504990.jpg\b\b\b\b\b\b\b\b\b\b\b\b\b\b\b\b\b\b\b\b\b\b\b\b\b\b\b\b\b\b\b\b\b\b\b\b\b\b\b\b\b\b\b\b\b\b\b\b\b\b\b\b\b\b\b\b\b\b\b\b\b\b\b                                                               \b\b\b\b\b\b\b\b\b\b\b\b\b\b\b\b\b\b\b\b\b\b\b\b\b\b\b\b\b\b\b\b\b\b\b\b\b\b\b\b\b\b\b\b\b\b\b\b\b\b\b\b\b\b\b\b\b\b\b\b\b\b\b 86% 12740 - DDR-dataset/DR_grading/valid/20170327112847938.jpg\b\b\b\b\b\b\b\b\b\b\b\b\b\b\b\b\b\b\b\b\b\b\b\b\b\b\b\b\b\b\b\b\b\b\b\b\b\b\b\b\b\b\b\b\b\b\b\b\b\b\b\b\b\b\b\b\b\b\b\b\b\b\b                                                               \b\b\b\b\b\b\b\b\b\b\b\b\b\b\b\b\b\b\b\b\b\b\b\b\b\b\b\b\b\b\b\b\b\b\b\b\b\b\b\b\b\b\b\b\b\b\b\b\b\b\b\b\b\b\b\b\b\b\b\b\b\b\b 86% 12769 - DDR-dataset/DR_grading/valid/20170327160227390.jpg\b\b\b\b\b\b\b\b\b\b\b\b\b\b\b\b\b\b\b\b\b\b\b\b\b\b\b\b\b\b\b\b\b\b\b\b\b\b\b\b\b\b\b\b\b\b\b\b\b\b\b\b\b\b\b\b\b\b\b\b\b\b\b                                                               \b\b\b\b\b\b\b\b\b\b\b\b\b\b\b\b\b\b\b\b\b\b\b\b\b\b\b\b\b\b\b\b\b\b\b\b\b\b\b\b\b\b\b\b\b\b\b\b\b\b\b\b\b\b\b\b\b\b\b\b\b\b\b 86% 12790 - DDR-dataset/DR_grading/valid/20170328082103134.jpg\b\b\b\b\b\b\b\b\b\b\b\b\b\b\b\b\b\b\b\b\b\b\b\b\b\b\b\b\b\b\b\b\b\b\b\b\b\b\b\b\b\b\b\b\b\b\b\b\b\b\b\b\b\b\b\b\b\b\b\b\b\b\b                                                               \b\b\b\b\b\b\b\b\b\b\b\b\b\b\b\b\b\b\b\b\b\b\b\b\b\b\b\b\b\b\b\b\b\b\b\b\b\b\b\b\b\b\b\b\b\b\b\b\b\b\b\b\b\b\b\b\b\b\b\b\b\b\b 86% 12827 - DDR-dataset/DR_grading/valid/20170328114714967.jpg\b\b\b\b\b\b\b\b\b\b\b\b\b\b\b\b\b\b\b\b\b\b\b\b\b\b\b\b\b\b\b\b\b\b\b\b\b\b\b\b\b\b\b\b\b\b\b\b\b\b\b\b\b\b\b\b\b\b\b\b\b\b\b                                                               \b\b\b\b\b\b\b\b\b\b\b\b\b\b\b\b\b\b\b\b\b\b\b\b\b\b\b\b\b\b\b\b\b\b\b\b\b\b\b\b\b\b\b\b\b\b\b\b\b\b\b\b\b\b\b\b\b\b\b\b\b\b\b 87% 12856 - DDR-dataset/DR_grading/valid/20170329081334925.jpg\b\b\b\b\b\b\b\b\b\b\b\b\b\b\b\b\b\b\b\b\b\b\b\b\b\b\b\b\b\b\b\b\b\b\b\b\b\b\b\b\b\b\b\b\b\b\b\b\b\b\b\b\b\b\b\b\b\b\b\b\b\b\b                                                               \b\b\b\b\b\b\b\b\b\b\b\b\b\b\b\b\b\b\b\b\b\b\b\b\b\b\b\b\b\b\b\b\b\b\b\b\b\b\b\b\b\b\b\b\b\b\b\b\b\b\b\b\b\b\b\b\b\b\b\b\b\b\b 87% 12884 - DDR-dataset/DR_grading/valid/20170329091959859.jpg\b\b\b\b\b\b\b\b\b\b\b\b\b\b\b\b\b\b\b\b\b\b\b\b\b\b\b\b\b\b\b\b\b\b\b\b\b\b\b\b\b\b\b\b\b\b\b\b\b\b\b\b\b\b\b\b\b\b\b\b\b\b\b                                                               \b\b\b\b\b\b\b\b\b\b\b\b\b\b\b\b\b\b\b\b\b\b\b\b\b\b\b\b\b\b\b\b\b\b\b\b\b\b\b\b\b\b\b\b\b\b\b\b\b\b\b\b\b\b\b\b\b\b\b\b\b\b\b 87% 12918 - DDR-dataset/DR_grading/valid/20170329141627712.jpg\b\b\b\b\b\b\b\b\b\b\b\b\b\b\b\b\b\b\b\b\b\b\b\b\b\b\b\b\b\b\b\b\b\b\b\b\b\b\b\b\b\b\b\b\b\b\b\b\b\b\b\b\b\b\b\b\b\b\b\b\b\b\b                                                               \b\b\b\b\b\b\b\b\b\b\b\b\b\b\b\b\b\b\b\b\b\b\b\b\b\b\b\b\b\b\b\b\b\b\b\b\b\b\b\b\b\b\b\b\b\b\b\b\b\b\b\b\b\b\b\b\b\b\b\b\b\b\b 87% 12926 - DDR-dataset/DR_grading/valid/20170329144505192.jpg\b\b\b\b\b\b\b\b\b\b\b\b\b\b\b\b\b\b\b\b\b\b\b\b\b\b\b\b\b\b\b\b\b\b\b\b\b\b\b\b\b\b\b\b\b\b\b\b\b\b\b\b\b\b\b\b\b\b\b\b\b\b\b                                                               \b\b\b\b\b\b\b\b\b\b\b\b\b\b\b\b\b\b\b\b\b\b\b\b\b\b\b\b\b\b\b\b\b\b\b\b\b\b\b\b\b\b\b\b\b\b\b\b\b\b\b\b\b\b\b\b\b\b\b\b\b\b\b 87% 12949 - DDR-dataset/DR_grading/valid/20170330085955483.jpg\b\b\b\b\b\b\b\b\b\b\b\b\b\b\b\b\b\b\b\b\b\b\b\b\b\b\b\b\b\b\b\b\b\b\b\b\b\b\b\b\b\b\b\b\b\b\b\b\b\b\b\b\b\b\b\b\b\b\b\b\b\b\b                                                               \b\b\b\b\b\b\b\b\b\b\b\b\b\b\b\b\b\b\b\b\b\b\b\b\b\b\b\b\b\b\b\b\b\b\b\b\b\b\b\b\b\b\b\b\b\b\b\b\b\b\b\b\b\b\b\b\b\b\b\b\b\b\b 87% 12979 - DDR-dataset/DR_grading/valid/20170330153401334.jpg\b\b\b\b\b\b\b\b\b\b\b\b\b\b\b\b\b\b\b\b\b\b\b\b\b\b\b\b\b\b\b\b\b\b\b\b\b\b\b\b\b\b\b\b\b\b\b\b\b\b\b\b\b\b\b\b\b\b\b\b\b\b\b                                                               \b\b\b\b\b\b\b\b\b\b\b\b\b\b\b\b\b\b\b\b\b\b\b\b\b\b\b\b\b\b\b\b\b\b\b\b\b\b\b\b\b\b\b\b\b\b\b\b\b\b\b\b\b\b\b\b\b\b\b\b\b\b\b 88% 13004 - DDR-dataset/DR_grading/valid/20170331083148951.jpg\b\b\b\b\b\b\b\b\b\b\b\b\b\b\b\b\b\b\b\b\b\b\b\b\b\b\b\b\b\b\b\b\b\b\b\b\b\b\b\b\b\b\b\b\b\b\b\b\b\b\b\b\b\b\b\b\b\b\b\b\b\b\b                                                               \b\b\b\b\b\b\b\b\b\b\b\b\b\b\b\b\b\b\b\b\b\b\b\b\b\b\b\b\b\b\b\b\b\b\b\b\b\b\b\b\b\b\b\b\b\b\b\b\b\b\b\b\b\b\b\b\b\b\b\b\b\b\b 88% 13044 - DDR-dataset/DR_grading/valid/20170331100227894.jpg\b\b\b\b\b\b\b\b\b\b\b\b\b\b\b\b\b\b\b\b\b\b\b\b\b\b\b\b\b\b\b\b\b\b\b\b\b\b\b\b\b\b\b\b\b\b\b\b\b\b\b\b\b\b\b\b\b\b\b\b\b\b\b                                                               \b\b\b\b\b\b\b\b\b\b\b\b\b\b\b\b\b\b\b\b\b\b\b\b\b\b\b\b\b\b\b\b\b\b\b\b\b\b\b\b\b\b\b\b\b\b\b\b\b\b\b\b\b\b\b\b\b\b\b\b\b\b\b 88% 13058 - DDR-dataset/DR_grading/valid/20170331142753334.jpg\b\b\b\b\b\b\b\b\b\b\b\b\b\b\b\b\b\b\b\b\b\b\b\b\b\b\b\b\b\b\b\b\b\b\b\b\b\b\b\b\b\b\b\b\b\b\b\b\b\b\b\b\b\b\b\b\b\b\b\b\b\b\b                                                               \b\b\b\b\b\b\b\b\b\b\b\b\b\b\b\b\b\b\b\b\b\b\b\b\b\b\b\b\b\b\b\b\b\b\b\b\b\b\b\b\b\b\b\b\b\b\b\b\b\b\b\b\b\b\b\b\b\b\b\b\b\b\b 88% 13060 - DDR-dataset/DR_grading/valid/20170331144918556.jpg\b\b\b\b\b\b\b\b\b\b\b\b\b\b\b\b\b\b\b\b\b\b\b\b\b\b\b\b\b\b\b\b\b\b\b\b\b\b\b\b\b\b\b\b\b\b\b\b\b\b\b\b\b\b\b\b\b\b\b\b\b\b\b                                                               \b\b\b\b\b\b\b\b\b\b\b\b\b\b\b\b\b\b\b\b\b\b\b\b\b\b\b\b\b\b\b\b\b\b\b\b\b\b\b\b\b\b\b\b\b\b\b\b\b\b\b\b\b\b\b\b\b\b\b\b\b\b\b 88% 13108 - DDR-dataset/DR_grading/valid/20170405082647447.jpg\b\b\b\b\b\b\b\b\b\b\b\b\b\b\b\b\b\b\b\b\b\b\b\b\b\b\b\b\b\b\b\b\b\b\b\b\b\b\b\b\b\b\b\b\b\b\b\b\b\b\b\b\b\b\b\b\b\b\b\b\b\b\b                                                               \b\b\b\b\b\b\b\b\b\b\b\b\b\b\b\b\b\b\b\b\b\b\b\b\b\b\b\b\b\b\b\b\b\b\b\b\b\b\b\b\b\b\b\b\b\b\b\b\b\b\b\b\b\b\b\b\b\b\b\b\b\b\b 88% 13114 - DDR-dataset/DR_grading/valid/20170405085537286.jpg\b\b\b\b\b\b\b\b\b\b\b\b\b\b\b\b\b\b\b\b\b\b\b\b\b\b\b\b\b\b\b\b\b\b\b\b\b\b\b\b\b\b\b\b\b\b\b\b\b\b\b\b\b\b\b\b\b\b\b\b\b\b\b                                                               \b\b\b\b\b\b\b\b\b\b\b\b\b\b\b\b\b\b\b\b\b\b\b\b\b\b\b\b\b\b\b\b\b\b\b\b\b\b\b\b\b\b\b\b\b\b\b\b\b\b\b\b\b\b\b\b\b\b\b\b\b\b\b 89% 13136 - DDR-dataset/DR_grading/valid/20170405114257871.jpg\b\b\b\b\b\b\b\b\b\b\b\b\b\b\b\b\b\b\b\b\b\b\b\b\b\b\b\b\b\b\b\b\b\b\b\b\b\b\b\b\b\b\b\b\b\b\b\b\b\b\b\b\b\b\b\b\b\b\b\b\b\b\b                                                               \b\b\b\b\b\b\b\b\b\b\b\b\b\b\b\b\b\b\b\b\b\b\b\b\b\b\b\b\b\b\b\b\b\b\b\b\b\b\b\b\b\b\b\b\b\b\b\b\b\b\b\b\b\b\b\b\b\b\b\b\b\b\b 89% 13150 - DDR-dataset/DR_grading/valid/20170406082540787.jpg\b\b\b\b\b\b\b\b\b\b\b\b\b\b\b\b\b\b\b\b\b\b\b\b\b\b\b\b\b\b\b\b\b\b\b\b\b\b\b\b\b\b\b\b\b\b\b\b\b\b\b\b\b\b\b\b\b\b\b\b\b\b\b                                                               \b\b\b\b\b\b\b\b\b\b\b\b\b\b\b\b\b\b\b\b\b\b\b\b\b\b\b\b\b\b\b\b\b\b\b\b\b\b\b\b\b\b\b\b\b\b\b\b\b\b\b\b\b\b\b\b\b\b\b\b\b\b\b 89% 13160 - DDR-dataset/DR_grading/valid/20170406084303834.jpg\b\b\b\b\b\b\b\b\b\b\b\b\b\b\b\b\b\b\b\b\b\b\b\b\b\b\b\b\b\b\b\b\b\b\b\b\b\b\b\b\b\b\b\b\b\b\b\b\b\b\b\b\b\b\b\b\b\b\b\b\b\b\b                                                               \b\b\b\b\b\b\b\b\b\b\b\b\b\b\b\b\b\b\b\b\b\b\b\b\b\b\b\b\b\b\b\b\b\b\b\b\b\b\b\b\b\b\b\b\b\b\b\b\b\b\b\b\b\b\b\b\b\b\b\b\b\b\b 89% 13163 - DDR-dataset/DR_grading/valid/20170406090732575.jpg\b\b\b\b\b\b\b\b\b\b\b\b\b\b\b\b\b\b\b\b\b\b\b\b\b\b\b\b\b\b\b\b\b\b\b\b\b\b\b\b\b\b\b\b\b\b\b\b\b\b\b\b\b\b\b\b\b\b\b\b\b\b\b                                                               \b\b\b\b\b\b\b\b\b\b\b\b\b\b\b\b\b\b\b\b\b\b\b\b\b\b\b\b\b\b\b\b\b\b\b\b\b\b\b\b\b\b\b\b\b\b\b\b\b\b\b\b\b\b\b\b\b\b\b\b\b\b\b 89% 13207 - DDR-dataset/DR_grading/valid/20170407092553829.jpg\b\b\b\b\b\b\b\b\b\b\b\b\b\b\b\b\b\b\b\b\b\b\b\b\b\b\b\b\b\b\b\b\b\b\b\b\b\b\b\b\b\b\b\b\b\b\b\b\b\b\b\b\b\b\b\b\b\b\b\b\b\b\b                                                               \b\b\b\b\b\b\b\b\b\b\b\b\b\b\b\b\b\b\b\b\b\b\b\b\b\b\b\b\b\b\b\b\b\b\b\b\b\b\b\b\b\b\b\b\b\b\b\b\b\b\b\b\b\b\b\b\b\b\b\b\b\b\b 89% 13225 - DDR-dataset/DR_grading/valid/20170407130346724.jpg\b\b\b\b\b\b\b\b\b\b\b\b\b\b\b\b\b\b\b\b\b\b\b\b\b\b\b\b\b\b\b\b\b\b\b\b\b\b\b\b\b\b\b\b\b\b\b\b\b\b\b\b\b\b\b\b\b\b\b\b\b\b\b                                                               \b\b\b\b\b\b\b\b\b\b\b\b\b\b\b\b\b\b\b\b\b\b\b\b\b\b\b\b\b\b\b\b\b\b\b\b\b\b\b\b\b\b\b\b\b\b\b\b\b\b\b\b\b\b\b\b\b\b\b\b\b\b\b 89% 13244 - DDR-dataset/DR_grading/valid/20170407185843662.jpg\b\b\b\b\b\b\b\b\b\b\b\b\b\b\b\b\b\b\b\b\b\b\b\b\b\b\b\b\b\b\b\b\b\b\b\b\b\b\b\b\b\b\b\b\b\b\b\b\b\b\b\b\b\b\b\b\b\b\b\b\b\b\b                                                               \b\b\b\b\b\b\b\b\b\b\b\b\b\b\b\b\b\b\b\b\b\b\b\b\b\b\b\b\b\b\b\b\b\b\b\b\b\b\b\b\b\b\b\b\b\b\b\b\b\b\b\b\b\b\b\b\b\b\b\b\b\b\b 90% 13249 - DDR-dataset/DR_grading/valid/20170407203619163.jpg\b\b\b\b\b\b\b\b\b\b\b\b\b\b\b\b\b\b\b\b\b\b\b\b\b\b\b\b\b\b\b\b\b\b\b\b\b\b\b\b\b\b\b\b\b\b\b\b\b\b\b\b\b\b\b\b\b\b\b\b\b\b\b                                                               \b\b\b\b\b\b\b\b\b\b\b\b\b\b\b\b\b\b\b\b\b\b\b\b\b\b\b\b\b\b\b\b\b\b\b\b\b\b\b\b\b\b\b\b\b\b\b\b\b\b\b\b\b\b\b\b\b\b\b\b\b\b\b 90% 13264 - DDR-dataset/DR_grading/valid/20170407221518903.jpg\b\b\b\b\b\b\b\b\b\b\b\b\b\b\b\b\b\b\b\b\b\b\b\b\b\b\b\b\b\b\b\b\b\b\b\b\b\b\b\b\b\b\b\b\b\b\b\b\b\b\b\b\b\b\b\b\b\b\b\b\b\b\b                                                               \b\b\b\b\b\b\b\b\b\b\b\b\b\b\b\b\b\b\b\b\b\b\b\b\b\b\b\b\b\b\b\b\b\b\b\b\b\b\b\b\b\b\b\b\b\b\b\b\b\b\b\b\b\b\b\b\b\b\b\b\b\b\b 90% 13277 - DDR-dataset/DR_grading/valid/20170407223435565.jpg\b\b\b\b\b\b\b\b\b\b\b\b\b\b\b\b\b\b\b\b\b\b\b\b\b\b\b\b\b\b\b\b\b\b\b\b\b\b\b\b\b\b\b\b\b\b\b\b\b\b\b\b\b\b\b\b\b\b\b\b\b\b\b                                                               \b\b\b\b\b\b\b\b\b\b\b\b\b\b\b\b\b\b\b\b\b\b\b\b\b\b\b\b\b\b\b\b\b\b\b\b\b\b\b\b\b\b\b\b\b\b\b\b\b\b\b\b\b\b\b\b\b\b\b\b\b\b\b 90% 13296 - DDR-dataset/DR_grading/valid/20170407232006137.jpg\b\b\b\b\b\b\b\b\b\b\b\b\b\b\b\b\b\b\b\b\b\b\b\b\b\b\b\b\b\b\b\b\b\b\b\b\b\b\b\b\b\b\b\b\b\b\b\b\b\b\b\b\b\b\b\b\b\b\b\b\b\b\b                                                               \b\b\b\b\b\b\b\b\b\b\b\b\b\b\b\b\b\b\b\b\b\b\b\b\b\b\b\b\b\b\b\b\b\b\b\b\b\b\b\b\b\b\b\b\b\b\b\b\b\b\b\b\b\b\b\b\b\b\b\b\b\b\b 90% 13308 - DDR-dataset/DR_grading/valid/20170407234553882.jpg\b\b\b\b\b\b\b\b\b\b\b\b\b\b\b\b\b\b\b\b\b\b\b\b\b\b\b\b\b\b\b\b\b\b\b\b\b\b\b\b\b\b\b\b\b\b\b\b\b\b\b\b\b\b\b\b\b\b\b\b\b\b\b                                                               \b\b\b\b\b\b\b\b\b\b\b\b\b\b\b\b\b\b\b\b\b\b\b\b\b\b\b\b\b\b\b\b\b\b\b\b\b\b\b\b\b\b\b\b\b\b\b\b\b\b\b\b\b\b\b\b\b\b\b\b\b\b\b 90% 13328 - DDR-dataset/DR_grading/valid/20170408095250565.jpg\b\b\b\b\b\b\b\b\b\b\b\b\b\b\b\b\b\b\b\b\b\b\b\b\b\b\b\b\b\b\b\b\b\b\b\b\b\b\b\b\b\b\b\b\b\b\b\b\b\b\b\b\b\b\b\b\b\b\b\b\b\b\b                                                               \b\b\b\b\b\b\b\b\b\b\b\b\b\b\b\b\b\b\b\b\b\b\b\b\b\b\b\b\b\b\b\b\b\b\b\b\b\b\b\b\b\b\b\b\b\b\b\b\b\b\b\b\b\b\b\b\b\b\b\b\b\b\b 90% 13345 - DDR-dataset/DR_grading/valid/20170408212938554.jpg\b\b\b\b\b\b\b\b\b\b\b\b\b\b\b\b\b\b\b\b\b\b\b\b\b\b\b\b\b\b\b\b\b\b\b\b\b\b\b\b\b\b\b\b\b\b\b\b\b\b\b\b\b\b\b\b\b\b\b\b\b\b\b                                                               \b\b\b\b\b\b\b\b\b\b\b\b\b\b\b\b\b\b\b\b\b\b\b\b\b\b\b\b\b\b\b\b\b\b\b\b\b\b\b\b\b\b\b\b\b\b\b\b\b\b\b\b\b\b\b\b\b\b\b\b\b\b\b 91% 13359 - DDR-dataset/DR_grading/valid/20170408215821373.jpg\b\b\b\b\b\b\b\b\b\b\b\b\b\b\b\b\b\b\b\b\b\b\b\b\b\b\b\b\b\b\b\b\b\b\b\b\b\b\b\b\b\b\b\b\b\b\b\b\b\b\b\b\b\b\b\b\b\b\b\b\b\b\b                                                               \b\b\b\b\b\b\b\b\b\b\b\b\b\b\b\b\b\b\b\b\b\b\b\b\b\b\b\b\b\b\b\b\b\b\b\b\b\b\b\b\b\b\b\b\b\b\b\b\b\b\b\b\b\b\b\b\b\b\b\b\b\b\b 91% 13378 - DDR-dataset/DR_grading/valid/20170408222000348.jpg\b\b\b\b\b\b\b\b\b\b\b\b\b\b\b\b\b\b\b\b\b\b\b\b\b\b\b\b\b\b\b\b\b\b\b\b\b\b\b\b\b\b\b\b\b\b\b\b\b\b\b\b\b\b\b\b\b\b\b\b\b\b\b                                                               \b\b\b\b\b\b\b\b\b\b\b\b\b\b\b\b\b\b\b\b\b\b\b\b\b\b\b\b\b\b\b\b\b\b\b\b\b\b\b\b\b\b\b\b\b\b\b\b\b\b\b\b\b\b\b\b\b\b\b\b\b\b\b 91% 13399 - DDR-dataset/DR_grading/valid/20170408224936063.jpg\b\b\b\b\b\b\b\b\b\b\b\b\b\b\b\b\b\b\b\b\b\b\b\b\b\b\b\b\b\b\b\b\b\b\b\b\b\b\b\b\b\b\b\b\b\b\b\b\b\b\b\b\b\b\b\b\b\b\b\b\b\b\b                                                               \b\b\b\b\b\b\b\b\b\b\b\b\b\b\b\b\b\b\b\b\b\b\b\b\b\b\b\b\b\b\b\b\b\b\b\b\b\b\b\b\b\b\b\b\b\b\b\b\b\b\b\b\b\b\b\b\b\b\b\b\b\b\b 91% 13411 - DDR-dataset/DR_grading/valid/20170408225905445.jpg\b\b\b\b\b\b\b\b\b\b\b\b\b\b\b\b\b\b\b\b\b\b\b\b\b\b\b\b\b\b\b\b\b\b\b\b\b\b\b\b\b\b\b\b\b\b\b\b\b\b\b\b\b\b\b\b\b\b\b\b\b\b\b                                                               \b\b\b\b\b\b\b\b\b\b\b\b\b\b\b\b\b\b\b\b\b\b\b\b\b\b\b\b\b\b\b\b\b\b\b\b\b\b\b\b\b\b\b\b\b\b\b\b\b\b\b\b\b\b\b\b\b\b\b\b\b\b\b 91% 13432 - DDR-dataset/DR_grading/valid/20170408232616805.jpg\b\b\b\b\b\b\b\b\b\b\b\b\b\b\b\b\b\b\b\b\b\b\b\b\b\b\b\b\b\b\b\b\b\b\b\b\b\b\b\b\b\b\b\b\b\b\b\b\b\b\b\b\b\b\b\b\b\b\b\b\b\b\b                                                               \b\b\b\b\b\b\b\b\b\b\b\b\b\b\b\b\b\b\b\b\b\b\b\b\b\b\b\b\b\b\b\b\b\b\b\b\b\b\b\b\b\b\b\b\b\b\b\b\b\b\b\b\b\b\b\b\b\b\b\b\b\b\b 91% 13450 - DDR-dataset/DR_grading/valid/20170409200143081.jpg\b\b\b\b\b\b\b\b\b\b\b\b\b\b\b\b\b\b\b\b\b\b\b\b\b\b\b\b\b\b\b\b\b\b\b\b\b\b\b\b\b\b\b\b\b\b\b\b\b\b\b\b\b\b\b\b\b\b\b\b\b\b\b                                                               \b\b\b\b\b\b\b\b\b\b\b\b\b\b\b\b\b\b\b\b\b\b\b\b\b\b\b\b\b\b\b\b\b\b\b\b\b\b\b\b\b\b\b\b\b\b\b\b\b\b\b\b\b\b\b\b\b\b\b\b\b\b\b 92% 13459 - DDR-dataset/DR_grading/valid/20170409201706285.jpg\b\b\b\b\b\b\b\b\b\b\b\b\b\b\b\b\b\b\b\b\b\b\b\b\b\b\b\b\b\b\b\b\b\b\b\b\b\b\b\b\b\b\b\b\b\b\b\b\b\b\b\b\b\b\b\b\b\b\b\b\b\b\b                                                               \b\b\b\b\b\b\b\b\b\b\b\b\b\b\b\b\b\b\b\b\b\b\b\b\b\b\b\b\b\b\b\b\b\b\b\b\b\b\b\b\b\b\b\b\b\b\b\b\b\b\b\b\b\b\b\b\b\b\b\b\b\b\b 92% 13500 - DDR-dataset/DR_grading/valid/20170410111317874.jpg\b\b\b\b\b\b\b\b\b\b\b\b\b\b\b\b\b\b\b\b\b\b\b\b\b\b\b\b\b\b\b\b\b\b\b\b\b\b\b\b\b\b\b\b\b\b\b\b\b\b\b\b\b\b\b\b\b\b\b\b\b\b\b                                                               \b\b\b\b\b\b\b\b\b\b\b\b\b\b\b\b\b\b\b\b\b\b\b\b\b\b\b\b\b\b\b\b\b\b\b\b\b\b\b\b\b\b\b\b\b\b\b\b\b\b\b\b\b\b\b\b\b\b\b\b\b\b\b 92% 13524 - DDR-dataset/DR_grading/valid/20170410153215997.jpg\b\b\b\b\b\b\b\b\b\b\b\b\b\b\b\b\b\b\b\b\b\b\b\b\b\b\b\b\b\b\b\b\b\b\b\b\b\b\b\b\b\b\b\b\b\b\b\b\b\b\b\b\b\b\b\b\b\b\b\b\b\b\b                                                               \b\b\b\b\b\b\b\b\b\b\b\b\b\b\b\b\b\b\b\b\b\b\b\b\b\b\b\b\b\b\b\b\b\b\b\b\b\b\b\b\b\b\b\b\b\b\b\b\b\b\b\b\b\b\b\b\b\b\b\b\b\b\b 92% 13541 - DDR-dataset/DR_grading/valid/20170411092023785.jpg\b\b\b\b\b\b\b\b\b\b\b\b\b\b\b\b\b\b\b\b\b\b\b\b\b\b\b\b\b\b\b\b\b\b\b\b\b\b\b\b\b\b\b\b\b\b\b\b\b\b\b\b\b\b\b\b\b\b\b\b\b\b\b                                                               \b\b\b\b\b\b\b\b\b\b\b\b\b\b\b\b\b\b\b\b\b\b\b\b\b\b\b\b\b\b\b\b\b\b\b\b\b\b\b\b\b\b\b\b\b\b\b\b\b\b\b\b\b\b\b\b\b\b\b\b\b\b\b 92% 13573 - DDR-dataset/DR_grading/valid/20170411141418009.jpg\b\b\b\b\b\b\b\b\b\b\b\b\b\b\b\b\b\b\b\b\b\b\b\b\b\b\b\b\b\b\b\b\b\b\b\b\b\b\b\b\b\b\b\b\b\b\b\b\b\b\b\b\b\b\b\b\b\b\b\b\b\b\b                                                               \b\b\b\b\b\b\b\b\b\b\b\b\b\b\b\b\b\b\b\b\b\b\b\b\b\b\b\b\b\b\b\b\b\b\b\b\b\b\b\b\b\b\b\b\b\b\b\b\b\b\b\b\b\b\b\b\b\b\b\b\b\b\b 92% 13589 - DDR-dataset/DR_grading/valid/20170411154052709.jpg\b\b\b\b\b\b\b\b\b\b\b\b\b\b\b\b\b\b\b\b\b\b\b\b\b\b\b\b\b\b\b\b\b\b\b\b\b\b\b\b\b\b\b\b\b\b\b\b\b\b\b\b\b\b\b\b\b\b\b\b\b\b\b                                                               \b\b\b\b\b\b\b\b\b\b\b\b\b\b\b\b\b\b\b\b\b\b\b\b\b\b\b\b\b\b\b\b\b\b\b\b\b\b\b\b\b\b\b\b\b\b\b\b\b\b\b\b\b\b\b\b\b\b\b\b\b\b\b 93% 13622 - DDR-dataset/DR_grading/valid/20170412105204865.jpg\b\b\b\b\b\b\b\b\b\b\b\b\b\b\b\b\b\b\b\b\b\b\b\b\b\b\b\b\b\b\b\b\b\b\b\b\b\b\b\b\b\b\b\b\b\b\b\b\b\b\b\b\b\b\b\b\b\b\b\b\b\b\b                                                               \b\b\b\b\b\b\b\b\b\b\b\b\b\b\b\b\b\b\b\b\b\b\b\b\b\b\b\b\b\b\b\b\b\b\b\b\b\b\b\b\b\b\b\b\b\b\b\b\b\b\b\b\b\b\b\b\b\b\b\b\b\b\b 93% 13642 - DDR-dataset/DR_grading/valid/20170412141420309.jpg\b\b\b\b\b\b\b\b\b\b\b\b\b\b\b\b\b\b\b\b\b\b\b\b\b\b\b\b\b\b\b\b\b\b\b\b\b\b\b\b\b\b\b\b\b\b\b\b\b\b\b\b\b\b\b\b\b\b\b\b\b\b\b                                                               \b\b\b\b\b\b\b\b\b\b\b\b\b\b\b\b\b\b\b\b\b\b\b\b\b\b\b\b\b\b\b\b\b\b\b\b\b\b\b\b\b\b\b\b\b\b\b\b\b\b\b\b\b\b\b\b\b\b\b\b\b\b\b 93% 13651 - DDR-dataset/DR_grading/valid/20170412195928065.jpg\b\b\b\b\b\b\b\b\b\b\b\b\b\b\b\b\b\b\b\b\b\b\b\b\b\b\b\b\b\b\b\b\b\b\b\b\b\b\b\b\b\b\b\b\b\b\b\b\b\b\b\b\b\b\b\b\b\b\b\b\b\b\b                                                               \b\b\b\b\b\b\b\b\b\b\b\b\b\b\b\b\b\b\b\b\b\b\b\b\b\b\b\b\b\b\b\b\b\b\b\b\b\b\b\b\b\b\b\b\b\b\b\b\b\b\b\b\b\b\b\b\b\b\b\b\b\b\b 93% 13654 - DDR-dataset/DR_grading/valid/20170412202800866.jpg\b\b\b\b\b\b\b\b\b\b\b\b\b\b\b\b\b\b\b\b\b\b\b\b\b\b\b\b\b\b\b\b\b\b\b\b\b\b\b\b\b\b\b\b\b\b\b\b\b\b\b\b\b\b\b\b\b\b\b\b\b\b\b                                                               \b\b\b\b\b\b\b\b\b\b\b\b\b\b\b\b\b\b\b\b\b\b\b\b\b\b\b\b\b\b\b\b\b\b\b\b\b\b\b\b\b\b\b\b\b\b\b\b\b\b\b\b\b\b\b\b\b\b\b\b\b\b\b 93% 13662 - DDR-dataset/DR_grading/valid/20170413081650531.jpg\b\b\b\b\b\b\b\b\b\b\b\b\b\b\b\b\b\b\b\b\b\b\b\b\b\b\b\b\b\b\b\b\b\b\b\b\b\b\b\b\b\b\b\b\b\b\b\b\b\b\b\b\b\b\b\b\b\b\b\b\b\b\b                                                               \b\b\b\b\b\b\b\b\b\b\b\b\b\b\b\b\b\b\b\b\b\b\b\b\b\b\b\b\b\b\b\b\b\b\b\b\b\b\b\b\b\b\b\b\b\b\b\b\b\b\b\b\b\b\b\b\b\b\b\b\b\b\b 93% 14249 - DDR-dataset/lesion_detection/train/007-5694-300.xml\b\b\b\b\b\b\b\b\b\b\b\b\b\b\b\b\b\b\b\b\b\b\b\b\b\b\b\b\b\b\b\b\b\b\b\b\b\b\b\b\b\b\b\b\b\b\b\b\b\b\b\b\b\b\b\b\b\b\b\b\b\b\b\b                                                                \b\b\b\b\b\b\b\b\b\b\b\b\b\b\b\b\b\b\b\b\b\b\b\b\b\b\b\b\b\b\b\b\b\b\b\b\b\b\b\b\b\b\b\b\b\b\b\b\b\b\b\b\b\b\b\b\b\b\b\b\b\b\b\b 93% 14449 - DDR-dataset/lesion_segmentation/test/image/007-2407-100.jpg\b\b\b\b\b\b\b\b\b\b\b\b\b\b\b\b\b\b\b\b\b\b\b\b\b\b\b\b\b\b\b\b\b\b\b\b\b\b\b\b\b\b\b\b\b\b\b\b\b\b\b\b\b\b\b\b\b\b\b\b\b\b\b\b\b\b\b\b\b\b\b\b                                                                        \b\b\b\b\b\b\b\b\b\b\b\b\b\b\b\b\b\b\b\b\b\b\b\b\b\b\b\b\b\b\b\b\b\b\b\b\b\b\b\b\b\b\b\b\b\b\b\b\b\b\b\b\b\b\b\b\b\b\b\b\b\b\b\b\b\b\b\b\b\b\b\b 94% 14473 - DDR-dataset/lesion_segmentation/test/image/007-2525-100.jpg\b\b\b\b\b\b\b\b\b\b\b\b\b\b\b\b\b\b\b\b\b\b\b\b\b\b\b\b\b\b\b\b\b\b\b\b\b\b\b\b\b\b\b\b\b\b\b\b\b\b\b\b\b\b\b\b\b\b\b\b\b\b\b\b\b\b\b\b\b\b\b\b                                                                        \b\b\b\b\b\b\b\b\b\b\b\b\b\b\b\b\b\b\b\b\b\b\b\b\b\b\b\b\b\b\b\b\b\b\b\b\b\b\b\b\b\b\b\b\b\b\b\b\b\b\b\b\b\b\b\b\b\b\b\b\b\b\b\b\b\b\b\b\b\b\b\b 94% 14507 - DDR-dataset/lesion_segmentation/test/image/007-3792-200.jpg\b\b\b\b\b\b\b\b\b\b\b\b\b\b\b\b\b\b\b\b\b\b\b\b\b\b\b\b\b\b\b\b\b\b\b\b\b\b\b\b\b\b\b\b\b\b\b\b\b\b\b\b\b\b\b\b\b\b\b\b\b\b\b\b\b\b\b\b\b\b\b\b                                                                        \b\b\b\b\b\b\b\b\b\b\b\b\b\b\b\b\b\b\b\b\b\b\b\b\b\b\b\b\b\b\b\b\b\b\b\b\b\b\b\b\b\b\b\b\b\b\b\b\b\b\b\b\b\b\b\b\b\b\b\b\b\b\b\b\b\b\b\b\b\b\b\b 94% 14530 - DDR-dataset/lesion_segmentation/test/image/007-3971-200.jpg\b\b\b\b\b\b\b\b\b\b\b\b\b\b\b\b\b\b\b\b\b\b\b\b\b\b\b\b\b\b\b\b\b\b\b\b\b\b\b\b\b\b\b\b\b\b\b\b\b\b\b\b\b\b\b\b\b\b\b\b\b\b\b\b\b\b\b\b\b\b\b\b                                                                        \b\b\b\b\b\b\b\b\b\b\b\b\b\b\b\b\b\b\b\b\b\b\b\b\b\b\b\b\b\b\b\b\b\b\b\b\b\b\b\b\b\b\b\b\b\b\b\b\b\b\b\b\b\b\b\b\b\b\b\b\b\b\b\b\b\b\b\b\b\b\b\b 94% 14578 - DDR-dataset/lesion_segmentation/test/image/007-4541-200.jpg\b\b\b\b\b\b\b\b\b\b\b\b\b\b\b\b\b\b\b\b\b\b\b\b\b\b\b\b\b\b\b\b\b\b\b\b\b\b\b\b\b\b\b\b\b\b\b\b\b\b\b\b\b\b\b\b\b\b\b\b\b\b\b\b\b\b\b\b\b\b\b\b                                                                        \b\b\b\b\b\b\b\b\b\b\b\b\b\b\b\b\b\b\b\b\b\b\b\b\b\b\b\b\b\b\b\b\b\b\b\b\b\b\b\b\b\b\b\b\b\b\b\b\b\b\b\b\b\b\b\b\b\b\b\b\b\b\b\b\b\b\b\b\b\b\b\b 94% 14582 - DDR-dataset/lesion_segmentation/test/image/007-4560-200.jpg\b\b\b\b\b\b\b\b\b\b\b\b\b\b\b\b\b\b\b\b\b\b\b\b\b\b\b\b\b\b\b\b\b\b\b\b\b\b\b\b\b\b\b\b\b\b\b\b\b\b\b\b\b\b\b\b\b\b\b\b\b\b\b\b\b\b\b\b\b\b\b\b                                                                        \b\b\b\b\b\b\b\b\b\b\b\b\b\b\b\b\b\b\b\b\b\b\b\b\b\b\b\b\b\b\b\b\b\b\b\b\b\b\b\b\b\b\b\b\b\b\b\b\b\b\b\b\b\b\b\b\b\b\b\b\b\b\b\b\b\b\b\b\b\b\b\b 94% 14611 - DDR-dataset/lesion_segmentation/test/image/007-6896-400.jpg\b\b\b\b\b\b\b\b\b\b\b\b\b\b\b\b\b\b\b\b\b\b\b\b\b\b\b\b\b\b\b\b\b\b\b\b\b\b\b\b\b\b\b\b\b\b\b\b\b\b\b\b\b\b\b\b\b\b\b\b\b\b\b\b\b\b\b\b\b\b\b\b                                                                        \b\b\b\b\b\b\b\b\b\b\b\b\b\b\b\b\b\b\b\b\b\b\b\b\b\b\b\b\b\b\b\b\b\b\b\b\b\b\b\b\b\b\b\b\b\b\b\b\b\b\b\b\b\b\b\b\b\b\b\b\b\b\b\b\b\b\b\b\b\b\b\b 95% 14630 - DDR-dataset/lesion_segmentation/test/image/20170508101047342.jpg\b\b\b\b\b\b\b\b\b\b\b\b\b\b\b\b\b\b\b\b\b\b\b\b\b\b\b\b\b\b\b\b\b\b\b\b\b\b\b\b\b\b\b\b\b\b\b\b\b\b\b\b\b\b\b\b\b\b\b\b\b\b\b\b\b\b\b\b\b\b\b\b\b\b\b\b\b                                                                             \b\b\b\b\b\b\b\b\b\b\b\b\b\b\b\b\b\b\b\b\b\b\b\b\b\b\b\b\b\b\b\b\b\b\b\b\b\b\b\b\b\b\b\b\b\b\b\b\b\b\b\b\b\b\b\b\b\b\b\b\b\b\b\b\b\b\b\b\b\b\b\b\b\b\b\b\b 95% 14646 - DDR-dataset/lesion_segmentation/test/image/20170512231011621.jpg\b\b\b\b\b\b\b\b\b\b\b\b\b\b\b\b\b\b\b\b\b\b\b\b\b\b\b\b\b\b\b\b\b\b\b\b\b\b\b\b\b\b\b\b\b\b\b\b\b\b\b\b\b\b\b\b\b\b\b\b\b\b\b\b\b\b\b\b\b\b\b\b\b\b\b\b\b                                                                             \b\b\b\b\b\b\b\b\b\b\b\b\b\b\b\b\b\b\b\b\b\b\b\b\b\b\b\b\b\b\b\b\b\b\b\b\b\b\b\b\b\b\b\b\b\b\b\b\b\b\b\b\b\b\b\b\b\b\b\b\b\b\b\b\b\b\b\b\b\b\b\b\b\b\b\b\b 95% 14666 - DDR-dataset/lesion_segmentation/test/image/20170518171333730.jpg\b\b\b\b\b\b\b\b\b\b\b\b\b\b\b\b\b\b\b\b\b\b\b\b\b\b\b\b\b\b\b\b\b\b\b\b\b\b\b\b\b\b\b\b\b\b\b\b\b\b\b\b\b\b\b\b\b\b\b\b\b\b\b\b\b\b\b\b\b\b\b\b\b\b\b\b\b                                                                             \b\b\b\b\b\b\b\b\b\b\b\b\b\b\b\b\b\b\b\b\b\b\b\b\b\b\b\b\b\b\b\b\b\b\b\b\b\b\b\b\b\b\b\b\b\b\b\b\b\b\b\b\b\b\b\b\b\b\b\b\b\b\b\b\b\b\b\b\b\b\b\b\b\b\b\b\b 95% 15459 - DDR-dataset/lesion_segmentation/test/label/SE/007-4207-200.tif\b\b\b\b\b\b\b\b\b\b\b\b\b\b\b\b\b\b\b\b\b\b\b\b\b\b\b\b\b\b\b\b\b\b\b\b\b\b\b\b\b\b\b\b\b\b\b\b\b\b\b\b\b\b\b\b\b\b\b\b\b\b\b\b\b\b\b\b\b\b\b\b\b\b\b                                                                           \b\b\b\b\b\b\b\b\b\b\b\b\b\b\b\b\b\b\b\b\b\b\b\b\b\b\b\b\b\b\b\b\b\b\b\b\b\b\b\b\b\b\b\b\b\b\b\b\b\b\b\b\b\b\b\b\b\b\b\b\b\b\b\b\b\b\b\b\b\b\b\b\b\b\b 95% 15601 - DDR-dataset/lesion_segmentation/train/image/007-2126-100.jpg\b\b\b\b\b\b\b\b\b\b\b\b\b\b\b\b\b\b\b\b\b\b\b\b\b\b\b\b\b\b\b\b\b\b\b\b\b\b\b\b\b\b\b\b\b\b\b\b\b\b\b\b\b\b\b\b\b\b\b\b\b\b\b\b\b\b\b\b\b\b\b\b\b                                                                         \b\b\b\b\b\b\b\b\b\b\b\b\b\b\b\b\b\b\b\b\b\b\b\b\b\b\b\b\b\b\b\b\b\b\b\b\b\b\b\b\b\b\b\b\b\b\b\b\b\b\b\b\b\b\b\b\b\b\b\b\b\b\b\b\b\b\b\b\b\b\b\b\b 96% 15632 - DDR-dataset/lesion_segmentation/train/image/007-2345-100.jpg\b\b\b\b\b\b\b\b\b\b\b\b\b\b\b\b\b\b\b\b\b\b\b\b\b\b\b\b\b\b\b\b\b\b\b\b\b\b\b\b\b\b\b\b\b\b\b\b\b\b\b\b\b\b\b\b\b\b\b\b\b\b\b\b\b\b\b\b\b\b\b\b\b                                                                         \b\b\b\b\b\b\b\b\b\b\b\b\b\b\b\b\b\b\b\b\b\b\b\b\b\b\b\b\b\b\b\b\b\b\b\b\b\b\b\b\b\b\b\b\b\b\b\b\b\b\b\b\b\b\b\b\b\b\b\b\b\b\b\b\b\b\b\b\b\b\b\b\b 96% 15645 - DDR-dataset/lesion_segmentation/train/image/007-2401-100.jpg\b\b\b\b\b\b\b\b\b\b\b\b\b\b\b\b\b\b\b\b\b\b\b\b\b\b\b\b\b\b\b\b\b\b\b\b\b\b\b\b\b\b\b\b\b\b\b\b\b\b\b\b\b\b\b\b\b\b\b\b\b\b\b\b\b\b\b\b\b\b\b\b\b                                                                         \b\b\b\b\b\b\b\b\b\b\b\b\b\b\b\b\b\b\b\b\b\b\b\b\b\b\b\b\b\b\b\b\b\b\b\b\b\b\b\b\b\b\b\b\b\b\b\b\b\b\b\b\b\b\b\b\b\b\b\b\b\b\b\b\b\b\b\b\b\b\b\b\b 96% 15655 - DDR-dataset/lesion_segmentation/train/image/007-2682-100.jpg\b\b\b\b\b\b\b\b\b\b\b\b\b\b\b\b\b\b\b\b\b\b\b\b\b\b\b\b\b\b\b\b\b\b\b\b\b\b\b\b\b\b\b\b\b\b\b\b\b\b\b\b\b\b\b\b\b\b\b\b\b\b\b\b\b\b\b\b\b\b\b\b\b                                                                         \b\b\b\b\b\b\b\b\b\b\b\b\b\b\b\b\b\b\b\b\b\b\b\b\b\b\b\b\b\b\b\b\b\b\b\b\b\b\b\b\b\b\b\b\b\b\b\b\b\b\b\b\b\b\b\b\b\b\b\b\b\b\b\b\b\b\b\b\b\b\b\b\b 96% 15679 - DDR-dataset/lesion_segmentation/train/image/007-2842-100.jpg\b\b\b\b\b\b\b\b\b\b\b\b\b\b\b\b\b\b\b\b\b\b\b\b\b\b\b\b\b\b\b\b\b\b\b\b\b\b\b\b\b\b\b\b\b\b\b\b\b\b\b\b\b\b\b\b\b\b\b\b\b\b\b\b\b\b\b\b\b\b\b\b\b                                                                         \b\b\b\b\b\b\b\b\b\b\b\b\b\b\b\b\b\b\b\b\b\b\b\b\b\b\b\b\b\b\b\b\b\b\b\b\b\b\b\b\b\b\b\b\b\b\b\b\b\b\b\b\b\b\b\b\b\b\b\b\b\b\b\b\b\b\b\b\b\b\b\b\b 96% 15749 - DDR-dataset/lesion_segmentation/train/image/007-3638-200.jpg\b\b\b\b\b\b\b\b\b\b\b\b\b\b\b\b\b\b\b\b\b\b\b\b\b\b\b\b\b\b\b\b\b\b\b\b\b\b\b\b\b\b\b\b\b\b\b\b\b\b\b\b\b\b\b\b\b\b\b\b\b\b\b\b\b\b\b\b\b\b\b\b\b                                                                         \b\b\b\b\b\b\b\b\b\b\b\b\b\b\b\b\b\b\b\b\b\b\b\b\b\b\b\b\b\b\b\b\b\b\b\b\b\b\b\b\b\b\b\b\b\b\b\b\b\b\b\b\b\b\b\b\b\b\b\b\b\b\b\b\b\b\b\b\b\b\b\b\b 96% 15781 - DDR-dataset/lesion_segmentation/train/image/007-4240-200.jpg\b\b\b\b\b\b\b\b\b\b\b\b\b\b\b\b\b\b\b\b\b\b\b\b\b\b\b\b\b\b\b\b\b\b\b\b\b\b\b\b\b\b\b\b\b\b\b\b\b\b\b\b\b\b\b\b\b\b\b\b\b\b\b\b\b\b\b\b\b\b\b\b\b                                                                         \b\b\b\b\b\b\b\b\b\b\b\b\b\b\b\b\b\b\b\b\b\b\b\b\b\b\b\b\b\b\b\b\b\b\b\b\b\b\b\b\b\b\b\b\b\b\b\b\b\b\b\b\b\b\b\b\b\b\b\b\b\b\b\b\b\b\b\b\b\b\b\b\b 96% 15806 - DDR-dataset/lesion_segmentation/train/image/007-4568-200.jpg\b\b\b\b\b\b\b\b\b\b\b\b\b\b\b\b\b\b\b\b\b\b\b\b\b\b\b\b\b\b\b\b\b\b\b\b\b\b\b\b\b\b\b\b\b\b\b\b\b\b\b\b\b\b\b\b\b\b\b\b\b\b\b\b\b\b\b\b\b\b\b\b\b                                                                         \b\b\b\b\b\b\b\b\b\b\b\b\b\b\b\b\b\b\b\b\b\b\b\b\b\b\b\b\b\b\b\b\b\b\b\b\b\b\b\b\b\b\b\b\b\b\b\b\b\b\b\b\b\b\b\b\b\b\b\b\b\b\b\b\b\b\b\b\b\b\b\b\b 97% 15840 - DDR-dataset/lesion_segmentation/train/image/007-4936-300.jpg\b\b\b\b\b\b\b\b\b\b\b\b\b\b\b\b\b\b\b\b\b\b\b\b\b\b\b\b\b\b\b\b\b\b\b\b\b\b\b\b\b\b\b\b\b\b\b\b\b\b\b\b\b\b\b\b\b\b\b\b\b\b\b\b\b\b\b\b\b\b\b\b\b                                                                         \b\b\b\b\b\b\b\b\b\b\b\b\b\b\b\b\b\b\b\b\b\b\b\b\b\b\b\b\b\b\b\b\b\b\b\b\b\b\b\b\b\b\b\b\b\b\b\b\b\b\b\b\b\b\b\b\b\b\b\b\b\b\b\b\b\b\b\b\b\b\b\b\b 97% 15944 - DDR-dataset/lesion_segmentation/train/image/007-6608-400.jpg\b\b\b\b\b\b\b\b\b\b\b\b\b\b\b\b\b\b\b\b\b\b\b\b\b\b\b\b\b\b\b\b\b\b\b\b\b\b\b\b\b\b\b\b\b\b\b\b\b\b\b\b\b\b\b\b\b\b\b\b\b\b\b\b\b\b\b\b\b\b\b\b\b                                                                         \b\b\b\b\b\b\b\b\b\b\b\b\b\b\b\b\b\b\b\b\b\b\b\b\b\b\b\b\b\b\b\b\b\b\b\b\b\b\b\b\b\b\b\b\b\b\b\b\b\b\b\b\b\b\b\b\b\b\b\b\b\b\b\b\b\b\b\b\b\b\b\b\b 97% 16509 - DDR-dataset/lesion_segmentation/train/label/HE/007-3551-200.tif\b\b\b\b\b\b\b\b\b\b\b\b\b\b\b\b\b\b\b\b\b\b\b\b\b\b\b\b\b\b\b\b\b\b\b\b\b\b\b\b\b\b\b\b\b\b\b\b\b\b\b\b\b\b\b\b\b\b\b\b\b\b\b\b\b\b\b\b\b\b\b\b\b\b\b\b                                                                            \b\b\b\b\b\b\b\b\b\b\b\b\b\b\b\b\b\b\b\b\b\b\b\b\b\b\b\b\b\b\b\b\b\b\b\b\b\b\b\b\b\b\b\b\b\b\b\b\b\b\b\b\b\b\b\b\b\b\b\b\b\b\b\b\b\b\b\b\b\b\b\b\b\b\b\b 98% 16868 - DDR-dataset/lesion_segmentation/train/label/MA/007-3440-200.tif\b\b\b\b\b\b\b\b\b\b\b\b\b\b\b\b\b\b\b\b\b\b\b\b\b\b\b\b\b\b\b\b\b\b\b\b\b\b\b\b\b\b\b\b\b\b\b\b\b\b\b\b\b\b\b\b\b\b\b\b\b\b\b\b\b\b\b\b\b\b\b\b\b\b\b\b                                                                            \b\b\b\b\b\b\b\b\b\b\b\b\b\b\b\b\b\b\b\b\b\b\b\b\b\b\b\b\b\b\b\b\b\b\b\b\b\b\b\b\b\b\b\b\b\b\b\b\b\b\b\b\b\b\b\b\b\b\b\b\b\b\b\b\b\b\b\b\b\b\b\b\b\b\b\b 98% 17168 - DDR-dataset/lesion_segmentation/train/label/SE/007-2343-100.tif\b\b\b\b\b\b\b\b\b\b\b\b\b\b\b\b\b\b\b\b\b\b\b\b\b\b\b\b\b\b\b\b\b\b\b\b\b\b\b\b\b\b\b\b\b\b\b\b\b\b\b\b\b\b\b\b\b\b\b\b\b\b\b\b\b\b\b\b\b\b\b\b\b\b\b\b                                                                            \b\b\b\b\b\b\b\b\b\b\b\b\b\b\b\b\b\b\b\b\b\b\b\b\b\b\b\b\b\b\b\b\b\b\b\b\b\b\b\b\b\b\b\b\b\b\b\b\b\b\b\b\b\b\b\b\b\b\b\b\b\b\b\b\b\b\b\b\b\b\b\b\b\b\b\b 98% 17475 - DDR-dataset/lesion_segmentation/train/label/SE/007-6551-400.tif\b\b\b\b\b\b\b\b\b\b\b\b\b\b\b\b\b\b\b\b\b\b\b\b\b\b\b\b\b\b\b\b\b\b\b\b\b\b\b\b\b\b\b\b\b\b\b\b\b\b\b\b\b\b\b\b\b\b\b\b\b\b\b\b\b\b\b\b\b\b\b\b\b\b\b\b                                                                            \b\b\b\b\b\b\b\b\b\b\b\b\b\b\b\b\b\b\b\b\b\b\b\b\b\b\b\b\b\b\b\b\b\b\b\b\b\b\b\b\b\b\b\b\b\b\b\b\b\b\b\b\b\b\b\b\b\b\b\b\b\b\b\b\b\b\b\b\b\b\b\b\b\b\b\b 98% 17509 - DDR-dataset/lesion_segmentation/valid/image/007-3040-100.jpg\b\b\b\b\b\b\b\b\b\b\b\b\b\b\b\b\b\b\b\b\b\b\b\b\b\b\b\b\b\b\b\b\b\b\b\b\b\b\b\b\b\b\b\b\b\b\b\b\b\b\b\b\b\b\b\b\b\b\b\b\b\b\b\b\b\b\b\b\b\b\b\b\b                                                                         \b\b\b\b\b\b\b\b\b\b\b\b\b\b\b\b\b\b\b\b\b\b\b\b\b\b\b\b\b\b\b\b\b\b\b\b\b\b\b\b\b\b\b\b\b\b\b\b\b\b\b\b\b\b\b\b\b\b\b\b\b\b\b\b\b\b\b\b\b\b\b\b\b 98% 17539 - DDR-dataset/lesion_segmentation/valid/image/007-5941-300.jpg\b\b\b\b\b\b\b\b\b\b\b\b\b\b\b\b\b\b\b\b\b\b\b\b\b\b\b\b\b\b\b\b\b\b\b\b\b\b\b\b\b\b\b\b\b\b\b\b\b\b\b\b\b\b\b\b\b\b\b\b\b\b\b\b\b\b\b\b\b\b\b\b\b                                                                         \b\b\b\b\b\b\b\b\b\b\b\b\b\b\b\b\b\b\b\b\b\b\b\b\b\b\b\b\b\b\b\b\b\b\b\b\b\b\b\b\b\b\b\b\b\b\b\b\b\b\b\b\b\b\b\b\b\b\b\b\b\b\b\b\b\b\b\b\b\b\b\b\b 98% 17557 - DDR-dataset/lesion_segmentation/valid/image/007-6129-300.jpg\b\b\b\b\b\b\b\b\b\b\b\b\b\b\b\b\b\b\b\b\b\b\b\b\b\b\b\b\b\b\b\b\b\b\b\b\b\b\b\b\b\b\b\b\b\b\b\b\b\b\b\b\b\b\b\b\b\b\b\b\b\b\b\b\b\b\b\b\b\b\b\b\b                                                                         \b\b\b\b\b\b\b\b\b\b\b\b\b\b\b\b\b\b\b\b\b\b\b\b\b\b\b\b\b\b\b\b\b\b\b\b\b\b\b\b\b\b\b\b\b\b\b\b\b\b\b\b\b\b\b\b\b\b\b\b\b\b\b\b\b\b\b\b\b\b\b\b\b 99% 17572 - DDR-dataset/lesion_segmentation/valid/image/007-7019-400.jpg\b\b\b\b\b\b\b\b\b\b\b\b\b\b\b\b\b\b\b\b\b\b\b\b\b\b\b\b\b\b\b\b\b\b\b\b\b\b\b\b\b\b\b\b\b\b\b\b\b\b\b\b\b\b\b\b\b\b\b\b\b\b\b\b\b\b\b\b\b\b\b\b\b                                                                         \b\b\b\b\b\b\b\b\b\b\b\b\b\b\b\b\b\b\b\b\b\b\b\b\b\b\b\b\b\b\b\b\b\b\b\b\b\b\b\b\b\b\b\b\b\b\b\b\b\b\b\b\b\b\b\b\b\b\b\b\b\b\b\b\b\b\b\b\b\b\b\b\b 99% 17589 - DDR-dataset/lesion_segmentation/valid/image/20170502092649506.jpg\b\b\b\b\b\b\b\b\b\b\b\b\b\b\b\b\b\b\b\b\b\b\b\b\b\b\b\b\b\b\b\b\b\b\b\b\b\b\b\b\b\b\b\b\b\b\b\b\b\b\b\b\b\b\b\b\b\b\b\b\b\b\b\b\b\b\b\b\b\b\b\b\b\b\b\b\b\b                                                                              \b\b\b\b\b\b\b\b\b\b\b\b\b\b\b\b\b\b\b\b\b\b\b\b\b\b\b\b\b\b\b\b\b\b\b\b\b\b\b\b\b\b\b\b\b\b\b\b\b\b\b\b\b\b\b\b\b\b\b\b\b\b\b\b\b\b\b\b\b\b\b\b\b\b\b\b\b\b 99% 17608 - DDR-dataset/lesion_segmentation/valid/image/20170504154837541.jpg\b\b\b\b\b\b\b\b\b\b\b\b\b\b\b\b\b\b\b\b\b\b\b\b\b\b\b\b\b\b\b\b\b\b\b\b\b\b\b\b\b\b\b\b\b\b\b\b\b\b\b\b\b\b\b\b\b\b\b\b\b\b\b\b\b\b\b\b\b\b\b\b\b\b\b\b\b\b                                                                              \b\b\b\b\b\b\b\b\b\b\b\b\b\b\b\b\b\b\b\b\b\b\b\b\b\b\b\b\b\b\b\b\b\b\b\b\b\b\b\b\b\b\b\b\b\b\b\b\b\b\b\b\b\b\b\b\b\b\b\b\b\b\b\b\b\b\b\b\b\b\b\b\b\b\b\b\b\b 99% 17620 - DDR-dataset/lesion_segmentation/valid/image/20170521093537739.jpg\b\b\b\b\b\b\b\b\b\b\b\b\b\b\b\b\b\b\b\b\b\b\b\b\b\b\b\b\b\b\b\b\b\b\b\b\b\b\b\b\b\b\b\b\b\b\b\b\b\b\b\b\b\b\b\b\b\b\b\b\b\b\b\b\b\b\b\b\b\b\b\b\b\b\b\b\b\b                                                                              \b\b\b\b\b\b\b\b\b\b\b\b\b\b\b\b\b\b\b\b\b\b\b\b\b\b\b\b\b\b\b\b\b\b\b\b\b\b\b\b\b\b\b\b\b\b\b\b\b\b\b\b\b\b\b\b\b\b\b\b\b\b\b\b\b\b\b\b\b\b\b\b\b\b\b\b\b\b 99% 17637 - DDR-dataset/lesion_segmentation/valid/image/20170602155248106.jpg\b\b\b\b\b\b\b\b\b\b\b\b\b\b\b\b\b\b\b\b\b\b\b\b\b\b\b\b\b\b\b\b\b\b\b\b\b\b\b\b\b\b\b\b\b\b\b\b\b\b\b\b\b\b\b\b\b\b\b\b\b\b\b\b\b\b\b\b\b\b\b\b\b\b\b\b\b\b                                                                              \b\b\b\b\b\b\b\b\b\b\b\b\b\b\b\b\b\b\b\b\b\b\b\b\b\b\b\b\b\b\b\b\b\b\b\b\b\b\b\b\b\b\b\b\b\b\b\b\b\b\b\b\b\b\b\b\b\b\b\b\b\b\b\b\b\b\b\b\b\b\b\b\b\b\b\b\b\b 99% 17647 - DDR-dataset/lesion_segmentation/valid/image/20170629163635747.jpg\b\b\b\b\b\b\b\b\b\b\b\b\b\b\b\b\b\b\b\b\b\b\b\b\b\b\b\b\b\b\b\b\b\b\b\b\b\b\b\b\b\b\b\b\b\b\b\b\b\b\b\b\b\b\b\b\b\b\b\b\b\b\b\b\b\b\b\b\b\b\b\b\b\b\b\b\b\b                                                                              \b\b\b\b\b\b\b\b\b\b\b\b\b\b\b\b\b\b\b\b\b\b\b\b\b\b\b\b\b\b\b\b\b\b\b\b\b\b\b\b\b\b\b\b\b\b\b\b\b\b\b\b\b\b\b\b\b\b\b\b\b\b\b\b\b\b\b\b\b\b\b\b\b\b\b\b\b\b 99% 17893 - DDR-dataset/lesion_segmentation . n label/HE/20170502160448258.tif\b\b\b\b\b\b\b\b\b\b\b\b\b\b\b\b\b\b\b\b\b\b\b\b\b\b\b\b\b\b\b\b\b\b\b\b\b\b\b\b\b\b\b\b\b\b\b\b\b\b\b\b\b\b\b\b\b\b\b\b\b\b\b\b\b\b\b\b\b\b\b\b\b\b\b\b\b\b\b                                                                               \b\b\b\b\b\b\b\b\b\b\b\b\b\b\b\b\b\b\b\b\b\b\b\b\b\b\b\b\b\b\b\b\b\b\b\b\b\b\b\b\b\b\b\b\b\b\b\b\b\b\b\b\b\b\b\b\b\b\b\b\b\b\b\b\b\b\b\b\b\b\b\b\b\b\b\b\b\b\b 99% 18220 - DDR-dataset/lesion_segmentation . n label/SE/20170521093504075.tif\b\b\b\b\b\b\b\b\b\b\b\b\b\b\b\b\b\b\b\b\b\b\b\b\b\b\b\b\b\b\b\b\b\b\b\b\b\b\b\b\b\b\b\b\b\b\b\b\b\b\b\b\b\b\b\b\b\b\b\b\b\b\b\b\b\b\b\b\b\b\b\b\b\b\b\b\b\b\b                                                                               \b\b\b\b\b\b\b\b\b\b\b\b\b\b\b\b\b\b\b\b\b\b\b\b\b\b\b\b\b\b\b\b\b\b\b\b\b\b\b\b\b\b\b\b\b\b\b\b\b\b\b\b\b\b\b\b\b\b\b\b\b\b\b\b\b\b\b\b\b\b\b\b\b\b\b\b\b\b\bEverything is Ok\n",
            "\n",
            "Folders: 31\n",
            "Files: 18218\n",
            "Size:       15138566961\n",
            "Compressed: 15142640333\n"
          ]
        }
      ]
    },
    {
      "cell_type": "code",
      "source": [
        "!pip install segmentation-models-pytorch albumentations"
      ],
      "metadata": {
        "colab": {
          "base_uri": "https://localhost:8080/"
        },
        "id": "QpEc0HIt5Aax",
        "outputId": "ec2ccead-2dbc-44b8-b69d-188ce2bd3a25"
      },
      "execution_count": null,
      "outputs": [
        {
          "output_type": "stream",
          "name": "stdout",
          "text": [
            "Collecting segmentation-models-pytorch\n",
            "  Downloading segmentation_models_pytorch-0.5.0-py3-none-any.whl.metadata (17 kB)\n",
            "Requirement already satisfied: albumentations in /usr/local/lib/python3.11/dist-packages (2.0.6)\n",
            "Requirement already satisfied: huggingface-hub>=0.24 in /usr/local/lib/python3.11/dist-packages (from segmentation-models-pytorch) (0.30.2)\n",
            "Requirement already satisfied: numpy>=1.19.3 in /usr/local/lib/python3.11/dist-packages (from segmentation-models-pytorch) (2.0.2)\n",
            "Requirement already satisfied: pillow>=8 in /usr/local/lib/python3.11/dist-packages (from segmentation-models-pytorch) (11.2.1)\n",
            "Requirement already satisfied: safetensors>=0.3.1 in /usr/local/lib/python3.11/dist-packages (from segmentation-models-pytorch) (0.5.3)\n",
            "Requirement already satisfied: timm>=0.9 in /usr/local/lib/python3.11/dist-packages (from segmentation-models-pytorch) (1.0.15)\n",
            "Requirement already satisfied: torch>=1.8 in /usr/local/lib/python3.11/dist-packages (from segmentation-models-pytorch) (2.6.0+cu124)\n",
            "Requirement already satisfied: torchvision>=0.9 in /usr/local/lib/python3.11/dist-packages (from segmentation-models-pytorch) (0.21.0+cu124)\n",
            "Requirement already satisfied: tqdm>=4.42.1 in /usr/local/lib/python3.11/dist-packages (from segmentation-models-pytorch) (4.67.1)\n",
            "Requirement already satisfied: scipy>=1.10.0 in /usr/local/lib/python3.11/dist-packages (from albumentations) (1.15.2)\n",
            "Requirement already satisfied: PyYAML in /usr/local/lib/python3.11/dist-packages (from albumentations) (6.0.2)\n",
            "Requirement already satisfied: pydantic>=2.9.2 in /usr/local/lib/python3.11/dist-packages (from albumentations) (2.11.4)\n",
            "Requirement already satisfied: albucore==0.0.24 in /usr/local/lib/python3.11/dist-packages (from albumentations) (0.0.24)\n",
            "Requirement already satisfied: opencv-python-headless>=4.9.0.80 in /usr/local/lib/python3.11/dist-packages (from albumentations) (4.11.0.86)\n",
            "Requirement already satisfied: stringzilla>=3.10.4 in /usr/local/lib/python3.11/dist-packages (from albucore==0.0.24->albumentations) (3.12.5)\n",
            "Requirement already satisfied: simsimd>=5.9.2 in /usr/local/lib/python3.11/dist-packages (from albucore==0.0.24->albumentations) (6.2.1)\n",
            "Requirement already satisfied: filelock in /usr/local/lib/python3.11/dist-packages (from huggingface-hub>=0.24->segmentation-models-pytorch) (3.18.0)\n",
            "Requirement already satisfied: fsspec>=2023.5.0 in /usr/local/lib/python3.11/dist-packages (from huggingface-hub>=0.24->segmentation-models-pytorch) (2025.3.2)\n",
            "Requirement already satisfied: packaging>=20.9 in /usr/local/lib/python3.11/dist-packages (from huggingface-hub>=0.24->segmentation-models-pytorch) (24.2)\n",
            "Requirement already satisfied: requests in /usr/local/lib/python3.11/dist-packages (from huggingface-hub>=0.24->segmentation-models-pytorch) (2.32.3)\n",
            "Requirement already satisfied: typing-extensions>=3.7.4.3 in /usr/local/lib/python3.11/dist-packages (from huggingface-hub>=0.24->segmentation-models-pytorch) (4.13.2)\n",
            "Requirement already satisfied: annotated-types>=0.6.0 in /usr/local/lib/python3.11/dist-packages (from pydantic>=2.9.2->albumentations) (0.7.0)\n",
            "Requirement already satisfied: pydantic-core==2.33.2 in /usr/local/lib/python3.11/dist-packages (from pydantic>=2.9.2->albumentations) (2.33.2)\n",
            "Requirement already satisfied: typing-inspection>=0.4.0 in /usr/local/lib/python3.11/dist-packages (from pydantic>=2.9.2->albumentations) (0.4.0)\n",
            "Requirement already satisfied: networkx in /usr/local/lib/python3.11/dist-packages (from torch>=1.8->segmentation-models-pytorch) (3.4.2)\n",
            "Requirement already satisfied: jinja2 in /usr/local/lib/python3.11/dist-packages (from torch>=1.8->segmentation-models-pytorch) (3.1.6)\n",
            "Collecting nvidia-cuda-nvrtc-cu12==12.4.127 (from torch>=1.8->segmentation-models-pytorch)\n",
            "  Downloading nvidia_cuda_nvrtc_cu12-12.4.127-py3-none-manylinux2014_x86_64.whl.metadata (1.5 kB)\n",
            "Collecting nvidia-cuda-runtime-cu12==12.4.127 (from torch>=1.8->segmentation-models-pytorch)\n",
            "  Downloading nvidia_cuda_runtime_cu12-12.4.127-py3-none-manylinux2014_x86_64.whl.metadata (1.5 kB)\n",
            "Collecting nvidia-cuda-cupti-cu12==12.4.127 (from torch>=1.8->segmentation-models-pytorch)\n",
            "  Downloading nvidia_cuda_cupti_cu12-12.4.127-py3-none-manylinux2014_x86_64.whl.metadata (1.6 kB)\n",
            "Collecting nvidia-cudnn-cu12==9.1.0.70 (from torch>=1.8->segmentation-models-pytorch)\n",
            "  Downloading nvidia_cudnn_cu12-9.1.0.70-py3-none-manylinux2014_x86_64.whl.metadata (1.6 kB)\n",
            "Collecting nvidia-cublas-cu12==12.4.5.8 (from torch>=1.8->segmentation-models-pytorch)\n",
            "  Downloading nvidia_cublas_cu12-12.4.5.8-py3-none-manylinux2014_x86_64.whl.metadata (1.5 kB)\n",
            "Collecting nvidia-cufft-cu12==11.2.1.3 (from torch>=1.8->segmentation-models-pytorch)\n",
            "  Downloading nvidia_cufft_cu12-11.2.1.3-py3-none-manylinux2014_x86_64.whl.metadata (1.5 kB)\n",
            "Collecting nvidia-curand-cu12==10.3.5.147 (from torch>=1.8->segmentation-models-pytorch)\n",
            "  Downloading nvidia_curand_cu12-10.3.5.147-py3-none-manylinux2014_x86_64.whl.metadata (1.5 kB)\n",
            "Collecting nvidia-cusolver-cu12==11.6.1.9 (from torch>=1.8->segmentation-models-pytorch)\n",
            "  Downloading nvidia_cusolver_cu12-11.6.1.9-py3-none-manylinux2014_x86_64.whl.metadata (1.6 kB)\n",
            "Collecting nvidia-cusparse-cu12==12.3.1.170 (from torch>=1.8->segmentation-models-pytorch)\n",
            "  Downloading nvidia_cusparse_cu12-12.3.1.170-py3-none-manylinux2014_x86_64.whl.metadata (1.6 kB)\n",
            "Requirement already satisfied: nvidia-cusparselt-cu12==0.6.2 in /usr/local/lib/python3.11/dist-packages (from torch>=1.8->segmentation-models-pytorch) (0.6.2)\n",
            "Requirement already satisfied: nvidia-nccl-cu12==2.21.5 in /usr/local/lib/python3.11/dist-packages (from torch>=1.8->segmentation-models-pytorch) (2.21.5)\n",
            "Requirement already satisfied: nvidia-nvtx-cu12==12.4.127 in /usr/local/lib/python3.11/dist-packages (from torch>=1.8->segmentation-models-pytorch) (12.4.127)\n",
            "Collecting nvidia-nvjitlink-cu12==12.4.127 (from torch>=1.8->segmentation-models-pytorch)\n",
            "  Downloading nvidia_nvjitlink_cu12-12.4.127-py3-none-manylinux2014_x86_64.whl.metadata (1.5 kB)\n",
            "Requirement already satisfied: triton==3.2.0 in /usr/local/lib/python3.11/dist-packages (from torch>=1.8->segmentation-models-pytorch) (3.2.0)\n",
            "Requirement already satisfied: sympy==1.13.1 in /usr/local/lib/python3.11/dist-packages (from torch>=1.8->segmentation-models-pytorch) (1.13.1)\n",
            "Requirement already satisfied: mpmath<1.4,>=1.1.0 in /usr/local/lib/python3.11/dist-packages (from sympy==1.13.1->torch>=1.8->segmentation-models-pytorch) (1.3.0)\n",
            "Requirement already satisfied: MarkupSafe>=2.0 in /usr/local/lib/python3.11/dist-packages (from jinja2->torch>=1.8->segmentation-models-pytorch) (3.0.2)\n",
            "Requirement already satisfied: charset-normalizer<4,>=2 in /usr/local/lib/python3.11/dist-packages (from requests->huggingface-hub>=0.24->segmentation-models-pytorch) (3.4.1)\n",
            "Requirement already satisfied: idna<4,>=2.5 in /usr/local/lib/python3.11/dist-packages (from requests->huggingface-hub>=0.24->segmentation-models-pytorch) (3.10)\n",
            "Requirement already satisfied: urllib3<3,>=1.21.1 in /usr/local/lib/python3.11/dist-packages (from requests->huggingface-hub>=0.24->segmentation-models-pytorch) (2.4.0)\n",
            "Requirement already satisfied: certifi>=2017.4.17 in /usr/local/lib/python3.11/dist-packages (from requests->huggingface-hub>=0.24->segmentation-models-pytorch) (2025.4.26)\n",
            "Downloading segmentation_models_pytorch-0.5.0-py3-none-any.whl (154 kB)\n",
            "\u001b[2K   \u001b[90m━━━━━━━━━━━━━━━━━━━━━━━━━━━━━━━━━━━━━━━━\u001b[0m \u001b[32m154.8/154.8 kB\u001b[0m \u001b[31m3.4 MB/s\u001b[0m eta \u001b[36m0:00:00\u001b[0m\n",
            "\u001b[?25hDownloading nvidia_cublas_cu12-12.4.5.8-py3-none-manylinux2014_x86_64.whl (363.4 MB)\n",
            "\u001b[2K   \u001b[90m━━━━━━━━━━━━━━━━━━━━━━━━━━━━━━━━━━━━━━━━\u001b[0m \u001b[32m363.4/363.4 MB\u001b[0m \u001b[31m3.5 MB/s\u001b[0m eta \u001b[36m0:00:00\u001b[0m\n",
            "\u001b[?25hDownloading nvidia_cuda_cupti_cu12-12.4.127-py3-none-manylinux2014_x86_64.whl (13.8 MB)\n",
            "\u001b[2K   \u001b[90m━━━━━━━━━━━━━━━━━━━━━━━━━━━━━━━━━━━━━━━━\u001b[0m \u001b[32m13.8/13.8 MB\u001b[0m \u001b[31m127.1 MB/s\u001b[0m eta \u001b[36m0:00:00\u001b[0m\n",
            "\u001b[?25hDownloading nvidia_cuda_nvrtc_cu12-12.4.127-py3-none-manylinux2014_x86_64.whl (24.6 MB)\n",
            "\u001b[2K   \u001b[90m━━━━━━━━━━━━━━━━━━━━━━━━━━━━━━━━━━━━━━━━\u001b[0m \u001b[32m24.6/24.6 MB\u001b[0m \u001b[31m101.1 MB/s\u001b[0m eta \u001b[36m0:00:00\u001b[0m\n",
            "\u001b[?25hDownloading nvidia_cuda_runtime_cu12-12.4.127-py3-none-manylinux2014_x86_64.whl (883 kB)\n",
            "\u001b[2K   \u001b[90m━━━━━━━━━━━━━━━━━━━━━━━━━━━━━━━━━━━━━━━━\u001b[0m \u001b[32m883.7/883.7 kB\u001b[0m \u001b[31m52.6 MB/s\u001b[0m eta \u001b[36m0:00:00\u001b[0m\n",
            "\u001b[?25hDownloading nvidia_cudnn_cu12-9.1.0.70-py3-none-manylinux2014_x86_64.whl (664.8 MB)\n",
            "\u001b[2K   \u001b[90m━━━━━━━━━━━━━━━━━━━━━━━━━━━━━━━━━━━━━━━━\u001b[0m \u001b[32m664.8/664.8 MB\u001b[0m \u001b[31m1.7 MB/s\u001b[0m eta \u001b[36m0:00:00\u001b[0m\n",
            "\u001b[?25hDownloading nvidia_cufft_cu12-11.2.1.3-py3-none-manylinux2014_x86_64.whl (211.5 MB)\n",
            "\u001b[2K   \u001b[90m━━━━━━━━━━━━━━━━━━━━━━━━━━━━━━━━━━━━━━━━\u001b[0m \u001b[32m211.5/211.5 MB\u001b[0m \u001b[31m11.4 MB/s\u001b[0m eta \u001b[36m0:00:00\u001b[0m\n",
            "\u001b[?25hDownloading nvidia_curand_cu12-10.3.5.147-py3-none-manylinux2014_x86_64.whl (56.3 MB)\n",
            "\u001b[2K   \u001b[90m━━━━━━━━━━━━━━━━━━━━━━━━━━━━━━━━━━━━━━━━\u001b[0m \u001b[32m56.3/56.3 MB\u001b[0m \u001b[31m42.0 MB/s\u001b[0m eta \u001b[36m0:00:00\u001b[0m\n",
            "\u001b[?25hDownloading nvidia_cusolver_cu12-11.6.1.9-py3-none-manylinux2014_x86_64.whl (127.9 MB)\n",
            "\u001b[2K   \u001b[90m━━━━━━━━━━━━━━━━━━━━━━━━━━━━━━━━━━━━━━━━\u001b[0m \u001b[32m127.9/127.9 MB\u001b[0m \u001b[31m19.0 MB/s\u001b[0m eta \u001b[36m0:00:00\u001b[0m\n",
            "\u001b[?25hDownloading nvidia_cusparse_cu12-12.3.1.170-py3-none-manylinux2014_x86_64.whl (207.5 MB)\n",
            "\u001b[2K   \u001b[90m━━━━━━━━━━━━━━━━━━━━━━━━━━━━━━━━━━━━━━━━\u001b[0m \u001b[32m207.5/207.5 MB\u001b[0m \u001b[31m3.9 MB/s\u001b[0m eta \u001b[36m0:00:00\u001b[0m\n",
            "\u001b[?25hDownloading nvidia_nvjitlink_cu12-12.4.127-py3-none-manylinux2014_x86_64.whl (21.1 MB)\n",
            "\u001b[2K   \u001b[90m━━━━━━━━━━━━━━━━━━━━━━━━━━━━━━━━━━━━━━━━\u001b[0m \u001b[32m21.1/21.1 MB\u001b[0m \u001b[31m105.0 MB/s\u001b[0m eta \u001b[36m0:00:00\u001b[0m\n",
            "\u001b[?25hInstalling collected packages: nvidia-nvjitlink-cu12, nvidia-curand-cu12, nvidia-cufft-cu12, nvidia-cuda-runtime-cu12, nvidia-cuda-nvrtc-cu12, nvidia-cuda-cupti-cu12, nvidia-cublas-cu12, nvidia-cusparse-cu12, nvidia-cudnn-cu12, nvidia-cusolver-cu12, segmentation-models-pytorch\n",
            "  Attempting uninstall: nvidia-nvjitlink-cu12\n",
            "    Found existing installation: nvidia-nvjitlink-cu12 12.5.82\n",
            "    Uninstalling nvidia-nvjitlink-cu12-12.5.82:\n",
            "      Successfully uninstalled nvidia-nvjitlink-cu12-12.5.82\n",
            "  Attempting uninstall: nvidia-curand-cu12\n",
            "    Found existing installation: nvidia-curand-cu12 10.3.6.82\n",
            "    Uninstalling nvidia-curand-cu12-10.3.6.82:\n",
            "      Successfully uninstalled nvidia-curand-cu12-10.3.6.82\n",
            "  Attempting uninstall: nvidia-cufft-cu12\n",
            "    Found existing installation: nvidia-cufft-cu12 11.2.3.61\n",
            "    Uninstalling nvidia-cufft-cu12-11.2.3.61:\n",
            "      Successfully uninstalled nvidia-cufft-cu12-11.2.3.61\n",
            "  Attempting uninstall: nvidia-cuda-runtime-cu12\n",
            "    Found existing installation: nvidia-cuda-runtime-cu12 12.5.82\n",
            "    Uninstalling nvidia-cuda-runtime-cu12-12.5.82:\n",
            "      Successfully uninstalled nvidia-cuda-runtime-cu12-12.5.82\n",
            "  Attempting uninstall: nvidia-cuda-nvrtc-cu12\n",
            "    Found existing installation: nvidia-cuda-nvrtc-cu12 12.5.82\n",
            "    Uninstalling nvidia-cuda-nvrtc-cu12-12.5.82:\n",
            "      Successfully uninstalled nvidia-cuda-nvrtc-cu12-12.5.82\n",
            "  Attempting uninstall: nvidia-cuda-cupti-cu12\n",
            "    Found existing installation: nvidia-cuda-cupti-cu12 12.5.82\n",
            "    Uninstalling nvidia-cuda-cupti-cu12-12.5.82:\n",
            "      Successfully uninstalled nvidia-cuda-cupti-cu12-12.5.82\n",
            "  Attempting uninstall: nvidia-cublas-cu12\n",
            "    Found existing installation: nvidia-cublas-cu12 12.5.3.2\n",
            "    Uninstalling nvidia-cublas-cu12-12.5.3.2:\n",
            "      Successfully uninstalled nvidia-cublas-cu12-12.5.3.2\n",
            "  Attempting uninstall: nvidia-cusparse-cu12\n",
            "    Found existing installation: nvidia-cusparse-cu12 12.5.1.3\n",
            "    Uninstalling nvidia-cusparse-cu12-12.5.1.3:\n",
            "      Successfully uninstalled nvidia-cusparse-cu12-12.5.1.3\n",
            "  Attempting uninstall: nvidia-cudnn-cu12\n",
            "    Found existing installation: nvidia-cudnn-cu12 9.3.0.75\n",
            "    Uninstalling nvidia-cudnn-cu12-9.3.0.75:\n",
            "      Successfully uninstalled nvidia-cudnn-cu12-9.3.0.75\n",
            "  Attempting uninstall: nvidia-cusolver-cu12\n",
            "    Found existing installation: nvidia-cusolver-cu12 11.6.3.83\n",
            "    Uninstalling nvidia-cusolver-cu12-11.6.3.83:\n",
            "      Successfully uninstalled nvidia-cusolver-cu12-11.6.3.83\n",
            "Successfully installed nvidia-cublas-cu12-12.4.5.8 nvidia-cuda-cupti-cu12-12.4.127 nvidia-cuda-nvrtc-cu12-12.4.127 nvidia-cuda-runtime-cu12-12.4.127 nvidia-cudnn-cu12-9.1.0.70 nvidia-cufft-cu12-11.2.1.3 nvidia-curand-cu12-10.3.5.147 nvidia-cusolver-cu12-11.6.1.9 nvidia-cusparse-cu12-12.3.1.170 nvidia-nvjitlink-cu12-12.4.127 segmentation-models-pytorch-0.5.0\n"
          ]
        }
      ]
    },
    {
      "cell_type": "markdown",
      "source": [],
      "metadata": {
        "id": "4Y_8M1PM5APi"
      }
    },
    {
      "cell_type": "code",
      "source": [
        "import os\n",
        "import numpy as np\n",
        "import cv2\n",
        "import torch\n",
        "import torch.nn as nn\n",
        "import torch.nn.functional as F\n",
        "from torch.utils.data import Dataset, DataLoader, WeightedRandomSampler\n",
        "import albumentations as A\n",
        "from albumentations.pytorch import ToTensorV2\n",
        "import segmentation_models_pytorch as smp\n",
        "from tqdm import tqdm\n",
        "import matplotlib.pyplot as plt\n",
        "import random\n",
        "import gc\n",
        "\n",
        "# Set random seeds for reproducibility\n",
        "SEED = 42\n",
        "random.seed(SEED)\n",
        "np.random.seed(SEED)\n",
        "torch.manual_seed(SEED)\n",
        "if torch.cuda.is_available():\n",
        "    torch.cuda.manual_seed_all(SEED)\n",
        "    torch.backends.cudnn.deterministic = True\n",
        "    torch.backends.cudnn.benchmark = False\n",
        "\n",
        "# Device configuration\n",
        "device = torch.device('cuda' if torch.cuda.is_available() else 'cpu')\n",
        "print(f\"Using device: {device}\")\n",
        "\n",
        "# Enhanced image preprocessing functions\n",
        "def enhance_contrast(image):\n",
        "    \"\"\"Apply advanced contrast enhancement optimized for MA detection\"\"\"\n",
        "    # Convert to LAB color space\n",
        "    lab = cv2.cvtColor(image, cv2.COLOR_RGB2LAB)\n",
        "    l, a, b = cv2.split(lab)\n",
        "\n",
        "    # Apply stronger CLAHE to L channel\n",
        "    clahe = cv2.createCLAHE(clipLimit=6.0, tileGridSize=(8, 8))\n",
        "    l_clahe = clahe.apply(l)\n",
        "\n",
        "    # Merge channels and convert back to RGB\n",
        "    lab_clahe = cv2.merge((l_clahe, a, b))\n",
        "    image_enhanced = cv2.cvtColor(lab_clahe, cv2.COLOR_LAB2RGB)\n",
        "\n",
        "    # Additional processing for green channel which shows MAs better\n",
        "    green_channel = image_enhanced[:,:,1].astype(np.uint8)\n",
        "\n",
        "    # Apply contrast stretching to green channel\n",
        "    minval = np.percentile(green_channel, 2)\n",
        "    maxval = np.percentile(green_channel, 98)\n",
        "\n",
        "    # Stretch contrast\n",
        "    if maxval > minval:\n",
        "        stretched = np.clip((green_channel - minval) * 255.0 / (maxval - minval), 0, 255).astype(np.uint8)\n",
        "        image_enhanced[:,:,1] = stretched\n",
        "\n",
        "    return image_enhanced\n",
        "\n",
        "def remove_vessels(image):\n",
        "    \"\"\"Apply improved vessel removal with advanced techniques\"\"\"\n",
        "    # Extract green channel (best for vessel visualization)\n",
        "    green_channel = image[:, :, 1].copy()\n",
        "\n",
        "    # Create multi-scale kernel approach for better vessel detection\n",
        "    kernels = [\n",
        "        cv2.getStructuringElement(cv2.MORPH_ELLIPSE, (5, 5)),\n",
        "        cv2.getStructuringElement(cv2.MORPH_ELLIPSE, (7, 7)),\n",
        "        cv2.getStructuringElement(cv2.MORPH_ELLIPSE, (9, 9))\n",
        "    ]\n",
        "\n",
        "    # Create combined vessel mask using multiple scales\n",
        "    vessel_mask = np.zeros_like(green_channel)\n",
        "\n",
        "    for kernel in kernels:\n",
        "        # Apply top-hat transform to detect vessels\n",
        "        tophat = cv2.morphologyEx(green_channel, cv2.MORPH_TOPHAT, kernel)\n",
        "\n",
        "        # Threshold to create vessel mask with more aggressive threshold\n",
        "        _, curr_mask = cv2.threshold(tophat, 20, 255, cv2.THRESH_BINARY)\n",
        "        curr_mask = cv2.dilate(curr_mask, kernel, iterations=1)\n",
        "\n",
        "        # Combine with main mask\n",
        "        vessel_mask = cv2.bitwise_or(vessel_mask, curr_mask)\n",
        "\n",
        "    # Create 3D mask from vessel mask\n",
        "    vessel_mask_3d = np.stack([vessel_mask, vessel_mask, vessel_mask], axis=2)\n",
        "\n",
        "    # Remove vessels - reduce intensity in vessel regions more aggressively\n",
        "    image_no_vessels = image.copy()\n",
        "    image_no_vessels[vessel_mask_3d > 0] = image_no_vessels[vessel_mask_3d > 0] * 0.5  # Reduced from 0.6 to 0.5\n",
        "\n",
        "    return image_no_vessels\n",
        "\n",
        "def enhance_ma_visibility(image):\n",
        "    \"\"\"Special processing to enhance microaneurysms visibility\"\"\"\n",
        "    # Extract green channel (best for MA visualization)\n",
        "    green_channel = image[:, :, 1].copy().astype(np.float32)\n",
        "\n",
        "    # Apply Gaussian blur to reduce noise\n",
        "    smoothed = cv2.GaussianBlur(green_channel, (3, 3), 0)\n",
        "\n",
        "    # Apply unsharp masking to enhance small details like MAs\n",
        "    sharp = green_channel - 0.7 * smoothed\n",
        "\n",
        "    # Normalize back to 0-255 range\n",
        "    sharp = cv2.normalize(sharp, None, 0, 255, cv2.NORM_MINMAX)\n",
        "\n",
        "    # Replace green channel with enhanced version\n",
        "    enhanced = image.copy()\n",
        "    enhanced[:, :, 1] = sharp.astype(np.uint8)\n",
        "\n",
        "    return enhanced\n",
        "\n",
        "def apply_multi_scale_enhancement(image):\n",
        "    \"\"\"Apply multi-scale enhancement techniques to better highlight different lesion types\"\"\"\n",
        "    # Apply basic contrast enhancement\n",
        "    enhanced = enhance_contrast(image)\n",
        "\n",
        "    # Apply vessel removal\n",
        "    no_vessels = remove_vessels(enhanced)\n",
        "\n",
        "    # Apply MA-specific enhancement\n",
        "    ma_enhanced = enhance_ma_visibility(no_vessels)\n",
        "\n",
        "    return ma_enhanced\n",
        "\n",
        "# Custom Dataset class with improved preprocessing pipeline\n",
        "class AdvancedLesionSegmentationDataset(Dataset):\n",
        "    def __init__(self, image_dir, mask_dirs, transform=None, apply_preprocessing=True):\n",
        "        self.image_dir = image_dir\n",
        "        self.mask_dirs = mask_dirs  # dict with lesion names and folder paths\n",
        "        self.image_files = sorted(os.listdir(image_dir))\n",
        "        self.transform = transform\n",
        "        self.apply_preprocessing = apply_preprocessing\n",
        "\n",
        "        # Pre-calculate class distribution for weighted sampling\n",
        "        self.lesion_weights = self._calculate_lesion_weights()\n",
        "\n",
        "    def _calculate_lesion_weights(self):\n",
        "        \"\"\"Calculate weights based on lesion presence in each image\"\"\"\n",
        "        weights = np.ones(len(self.image_files))\n",
        "\n",
        "        # Count images with microaneurysms for weighted sampling\n",
        "        for idx, img_file in enumerate(self.image_files):\n",
        "            ma_mask_path = os.path.join(self.mask_dirs['MA'], img_file.replace('.jpg', '.tif'))\n",
        "            if os.path.exists(ma_mask_path):\n",
        "                mask = cv2.imread(ma_mask_path, cv2.IMREAD_GRAYSCALE)\n",
        "                if mask is not None and np.any(mask > 0):\n",
        "                    # Assign higher weight to images with MA\n",
        "                    weights[idx] = 5.0  # Increased from 3.0 to 5.0\n",
        "\n",
        "        return weights\n",
        "\n",
        "    def __len__(self):\n",
        "        return len(self.image_files)\n",
        "\n",
        "    def __getitem__(self, idx):\n",
        "        # Load image\n",
        "        image_path = os.path.join(self.image_dir, self.image_files[idx])\n",
        "        image = cv2.imread(image_path)\n",
        "        if image is None:\n",
        "            print(f\"Error loading image: {image_path}\")\n",
        "            image = np.zeros((512, 512, 3), dtype=np.uint8)\n",
        "        else:\n",
        "            image = cv2.cvtColor(image, cv2.COLOR_BGR2RGB)\n",
        "\n",
        "        # Apply advanced preprocessing\n",
        "        if self.apply_preprocessing:\n",
        "            # Apply multi-scale enhancement\n",
        "            image = apply_multi_scale_enhancement(image)\n",
        "\n",
        "        # Load mask for each lesion type\n",
        "        mask_channels = []\n",
        "        for key in ['MA', 'EX', 'SE', 'HE']:\n",
        "            mask_path = os.path.join(self.mask_dirs[key], self.image_files[idx].replace('.jpg', '.tif'))\n",
        "\n",
        "            if os.path.exists(mask_path):\n",
        "                mask = cv2.imread(mask_path, cv2.IMREAD_GRAYSCALE)\n",
        "                if mask is None:\n",
        "                    mask = np.zeros((image.shape[0], image.shape[1]), dtype=np.uint8)\n",
        "                else:\n",
        "                    if mask.shape[0] != image.shape[0] or mask.shape[1] != image.shape[1]:\n",
        "                        mask = cv2.resize(mask, (image.shape[1], image.shape[0]), interpolation=cv2.INTER_NEAREST)\n",
        "\n",
        "                    # For MA, dilate the mask more aggressively\n",
        "                    if key == 'MA':\n",
        "                        kernel = np.ones((5, 5), np.uint8)  # Increased from 3x3 to 5x5\n",
        "                        mask = cv2.dilate(mask, kernel, iterations=2)  # Increased from 1 to 2 iterations\n",
        "\n",
        "                    mask = (mask > 0).astype(np.uint8)\n",
        "            else:\n",
        "                mask = np.zeros((image.shape[0], image.shape[1]), dtype=np.uint8)\n",
        "\n",
        "            mask_channels.append(mask)\n",
        "\n",
        "        # Create multi-class segmentation mask with priority for small lesions\n",
        "        multi_class_mask = np.zeros((image.shape[0], image.shape[1]), dtype=np.uint8)\n",
        "\n",
        "        # Apply masks with MA having highest priority\n",
        "        # Order: EX, SE, HE, MA (increasing priority)\n",
        "        for class_idx, lesion_idx in [(2, 1), (3, 2), (4, 3), (1, 0)]:  # (class ID, array index)\n",
        "            multi_class_mask[mask_channels[lesion_idx] > 0] = class_idx\n",
        "\n",
        "        # Apply transformations\n",
        "        if self.transform:\n",
        "            augmented = self.transform(image=image, mask=multi_class_mask)\n",
        "            image = augmented['image']\n",
        "            multi_class_mask = augmented['mask']\n",
        "\n",
        "        return image, multi_class_mask\n",
        "\n",
        "# Enhanced augmentation pipeline specifically optimized for MA detection\n",
        "def get_advanced_transforms(phase, img_size=512):\n",
        "    if phase == 'train':\n",
        "        return A.Compose([\n",
        "            A.Resize(height=img_size, width=img_size),\n",
        "            # Spatial augmentations with increased probabilities\n",
        "            A.HorizontalFlip(p=0.6),  # Increased from 0.5 to 0.6\n",
        "            A.VerticalFlip(p=0.6),    # Increased from 0.5 to 0.6\n",
        "            A.ShiftScaleRotate(shift_limit=0.15, scale_limit=0.15, rotate_limit=20, border_mode=cv2.BORDER_CONSTANT, p=0.7),\n",
        "\n",
        "            # Careful with crop to preserve small lesions\n",
        "            A.RandomCrop(height=int(img_size*0.9), width=int(img_size*0.9), p=0.4),\n",
        "            A.Resize(height=img_size, width=img_size, p=1.0),\n",
        "\n",
        "            # More aggressive color augmentations\n",
        "            A.OneOf([\n",
        "                A.RandomBrightnessContrast(brightness_limit=0.3, contrast_limit=0.4, p=1.0),  # Increased contrast limit\n",
        "                A.CLAHE(clip_limit=5.0, tile_grid_size=(8, 8), p=1.0),  # Increased clip limit\n",
        "            ], p=0.8),  # Increased probability from 0.7 to 0.8\n",
        "\n",
        "            # Normalize\n",
        "            A.Normalize(mean=[0.485, 0.456, 0.406], std=[0.229, 0.224, 0.225]),\n",
        "            ToTensorV2()\n",
        "        ])\n",
        "    else:  # validation or test\n",
        "        return A.Compose([\n",
        "            A.Resize(height=img_size, width=img_size),\n",
        "            A.Normalize(mean=[0.485, 0.456, 0.406], std=[0.229, 0.224, 0.225]),\n",
        "            ToTensorV2()\n",
        "        ])\n",
        "\n",
        "# Enhanced Combined Loss with modified weighting\n",
        "class CombinedLoss(nn.Module):\n",
        "    def __init__(self, class_weights=None):\n",
        "        super(CombinedLoss, self).__init__()\n",
        "        self.ce_loss = nn.CrossEntropyLoss(weight=class_weights)\n",
        "\n",
        "    def forward(self, inputs, targets):\n",
        "        # Cross entropy loss\n",
        "        ce_loss = self.ce_loss(inputs, targets)\n",
        "\n",
        "        # Dice loss component\n",
        "        inputs_soft = torch.softmax(inputs, dim=1)\n",
        "\n",
        "        # One-hot encode targets\n",
        "        targets_one_hot = torch.zeros_like(inputs_soft)\n",
        "        targets_one_hot = targets_one_hot.scatter_(1, targets.unsqueeze(1), 1)\n",
        "\n",
        "        # Calculate dice loss for each class\n",
        "        dice_per_class = []\n",
        "        for i in range(inputs.shape[1]):\n",
        "            dice_numerator = 2 * (inputs_soft[:, i] * targets_one_hot[:, i]).sum() + 1e-6\n",
        "            dice_denominator = inputs_soft[:, i].sum() + targets_one_hot[:, i].sum() + 1e-6\n",
        "            dice_per_class.append(1 - (dice_numerator / dice_denominator))\n",
        "\n",
        "        # Weight class 1 (MA) more heavily in the dice loss\n",
        "        dice_weights = torch.tensor([1.0, 4.0, 1.5, 1.5, 1.5], device=inputs.device)  # Increased MA weight from 3.0 to 4.0\n",
        "        dice_loss = sum(d * w for d, w in zip(dice_per_class, dice_weights)) / sum(dice_weights)\n",
        "\n",
        "        # Combined loss with modified ratio\n",
        "        return 0.4 * ce_loss + 0.6 * dice_loss  # Changed from 0.5/0.5 to 0.4/0.6\n",
        "\n",
        "# Attention modules specialized for MA detection\n",
        "class MAAttention(nn.Module):\n",
        "    def __init__(self, in_channels):\n",
        "        super(MAAttention, self).__init__()\n",
        "        self.conv1 = nn.Conv2d(in_channels, 32, kernel_size=3, padding=1)\n",
        "        self.bn1 = nn.BatchNorm2d(32)\n",
        "        self.relu = nn.ReLU(inplace=False)\n",
        "        self.conv2 = nn.Conv2d(32, 1, kernel_size=1)\n",
        "        self.sigmoid = nn.Sigmoid()\n",
        "\n",
        "    def forward(self, x):\n",
        "        x = self.conv1(x)\n",
        "        x = self.bn1(x)\n",
        "        x = self.relu(x)\n",
        "        x = self.conv2(x)\n",
        "        return self.sigmoid(x)\n",
        "\n",
        "# Enhanced UNet model with two-stage MA attention\n",
        "class EnhancedUNet(nn.Module):\n",
        "    def __init__(self, encoder_name='efficientnet-b4', encoder_weights='imagenet', in_channels=3, classes=5):\n",
        "        super(EnhancedUNet, self).__init__()\n",
        "\n",
        "        # Base UNet model\n",
        "        self.model = smp.Unet(\n",
        "            encoder_name=encoder_name,\n",
        "            encoder_weights=encoder_weights,\n",
        "            in_channels=in_channels,\n",
        "            classes=classes,\n",
        "            decoder_attention_type='scse'  # Use spatial and channel squeeze & excitation\n",
        "        )\n",
        "\n",
        "        # Two-stage MA attention\n",
        "        self.ma_attention1 = MAAttention(classes)\n",
        "        self.ma_attention2 = MAAttention(classes)\n",
        "\n",
        "    def forward(self, x):\n",
        "        # Get base output\n",
        "        features = self.model(x)\n",
        "\n",
        "        # Two-stage MA attention\n",
        "        ma_attention1 = self.ma_attention1(features)\n",
        "        ma_channel = features[:, 1:2].clone()\n",
        "        ma_enhanced = ma_channel * ma_attention1\n",
        "\n",
        "        # Second stage attention\n",
        "        ma_attention2 = self.ma_attention2(features)\n",
        "        ma_enhanced = ma_enhanced * ma_attention2\n",
        "\n",
        "        # Replace MA channel\n",
        "        output = features.clone()\n",
        "        output[:, 1:2] = ma_enhanced\n",
        "\n",
        "        return output\n",
        "\n",
        "# Post-processing function for better predictions\n",
        "def post_process_prediction(pred_mask, class_idx):\n",
        "    \"\"\"Apply post-processing to improve prediction quality\"\"\"\n",
        "    if class_idx == 1:  # MA\n",
        "        # For MA, remove very small components\n",
        "        num_labels, labels = cv2.connectedComponents(pred_mask.astype(np.uint8))\n",
        "        for label in range(1, num_labels):\n",
        "            component = (labels == label).astype(np.uint8)\n",
        "            if np.sum(component) < 3:  # Remove tiny components\n",
        "                pred_mask[component > 0] = 0\n",
        "\n",
        "        # Apply closing to fill small gaps\n",
        "        kernel = np.ones((3, 3), np.uint8)\n",
        "        pred_mask = cv2.morphologyEx(pred_mask.astype(np.uint8), cv2.MORPH_CLOSE, kernel)\n",
        "    elif class_idx in [2, 3, 4]:  # EX, SE, HE\n",
        "        # For larger lesions, smooth boundaries\n",
        "        kernel = np.ones((5, 5), np.uint8)\n",
        "        pred_mask = cv2.morphologyEx(pred_mask.astype(np.uint8), cv2.MORPH_CLOSE, kernel)\n",
        "        pred_mask = cv2.morphologyEx(pred_mask, cv2.MORPH_OPEN, kernel, iterations=1)\n",
        "\n",
        "    return pred_mask\n",
        "\n",
        "# IoU computation function with post-processing\n",
        "def compute_iou(outputs, masks, apply_post_processing=True):\n",
        "    \"\"\"\n",
        "    Compute IoU for each class with post-processing option\n",
        "    outputs: model predictions (B, C, H, W)\n",
        "    masks: ground truth (B, H, W)\n",
        "    \"\"\"\n",
        "    # Get predicted class\n",
        "    if outputs.shape[1] > 1:  # Multi-class case\n",
        "        preds = torch.argmax(outputs, dim=1).cpu().numpy()\n",
        "    else:  # Binary case\n",
        "        preds = (outputs > 0.5).cpu().numpy()\n",
        "\n",
        "    true_masks = masks.cpu().numpy()\n",
        "\n",
        "    ious = []\n",
        "    # Calculate IoU for each lesion class (skip background)\n",
        "    for c in range(1, 5):  # 1=MA, 2=EX, 3=SE, 4=HE\n",
        "        all_batch_ious = []\n",
        "\n",
        "        for b in range(preds.shape[0]):  # Process each batch item\n",
        "            pred_mask = (preds[b] == c).astype(np.float32)\n",
        "            true_mask = (true_masks[b] == c).astype(np.float32)\n",
        "\n",
        "            # Apply post-processing if requested\n",
        "            if apply_post_processing:\n",
        "                pred_mask = post_process_prediction(pred_mask, c)\n",
        "\n",
        "            # Calculate intersection and union\n",
        "            intersection = np.sum(pred_mask * true_mask)\n",
        "            union = np.sum(pred_mask) + np.sum(true_mask) - intersection + 1e-7\n",
        "\n",
        "            # Check if there are any true masks for this class\n",
        "            if np.sum(true_mask) == 0:\n",
        "                # If there's no true mask but prediction is also empty, this is correct\n",
        "                if np.sum(pred_mask) == 0:\n",
        "                    all_batch_ious.append(1.0)\n",
        "                else:\n",
        "                    all_batch_ious.append(0.0)\n",
        "            else:\n",
        "                all_batch_ious.append(intersection / union)\n",
        "\n",
        "        # Average IoU for this class across all batch items\n",
        "        ious.append(np.mean(all_batch_ious))\n",
        "\n",
        "    return ious\n",
        "\n",
        "# Function to compute mAP with post-processing\n",
        "def compute_map(outputs, masks, thresholds=None, apply_post_processing=True):\n",
        "    \"\"\"\n",
        "    Compute mean Average Precision (mAP) for each class with post-processing option\n",
        "    outputs: model predictions after softmax (B, C, H, W)\n",
        "    masks: ground truth (B, H, W)\n",
        "    thresholds: list of threshold values to consider for AP calculation\n",
        "    \"\"\"\n",
        "    if thresholds is None:\n",
        "        thresholds = np.arange(0.5, 1.0, 0.05)\n",
        "\n",
        "    # Apply softmax to get probabilities\n",
        "    if isinstance(outputs, torch.Tensor):\n",
        "        probs = torch.softmax(outputs, dim=1)\n",
        "        probs = probs.cpu().numpy()\n",
        "    else:\n",
        "        probs = outputs\n",
        "\n",
        "    # Convert masks to numpy if they're tensors\n",
        "    if isinstance(masks, torch.Tensor):\n",
        "        masks_np = masks.cpu().numpy()\n",
        "    else:\n",
        "        masks_np = masks\n",
        "\n",
        "    # Calculate AP for each class at each threshold\n",
        "    aps = []\n",
        "    # Skip background class (index 0)\n",
        "    for c in range(1, probs.shape[1]):\n",
        "        ap_class = []\n",
        "        for threshold in thresholds:\n",
        "            # Calculate batch-wise AP and average\n",
        "            batch_f1s = []\n",
        "\n",
        "            for b in range(probs.shape[0]):  # Process each batch item\n",
        "                # Binary prediction for this class at this threshold\n",
        "                pred_mask = (probs[b, c] > threshold).astype(np.uint8)\n",
        "                true_mask = (masks_np[b] == c).astype(np.uint8)\n",
        "\n",
        "                # Apply post-processing if requested\n",
        "                if apply_post_processing:\n",
        "                    pred_mask = post_process_prediction(pred_mask, c)\n",
        "\n",
        "                # Check if there are any true masks for this class\n",
        "                if np.sum(true_mask) == 0:\n",
        "                    if np.sum(pred_mask) == 0:\n",
        "                        # True negative - no masks, no predictions\n",
        "                        batch_f1s.append(1.0)\n",
        "                    else:\n",
        "                        # False positive - no masks but predicted some\n",
        "                        batch_f1s.append(0.0)\n",
        "                    continue\n",
        "\n",
        "                # Compute TP, FP, FN\n",
        "                tp = np.sum(pred_mask * true_mask)\n",
        "                fp = np.sum(pred_mask) - tp\n",
        "                fn = np.sum(true_mask) - tp\n",
        "\n",
        "                # Compute precision and recall\n",
        "                precision = tp / (tp + fp + 1e-7)\n",
        "                recall = tp / (tp + fn + 1e-7)\n",
        "\n",
        "                # Compute F1 score\n",
        "                f1 = 2 * precision * recall / (precision + recall + 1e-7)\n",
        "                batch_f1s.append(f1)\n",
        "\n",
        "            # Average F1 across all batch items\n",
        "            ap_class.append(np.mean(batch_f1s))\n",
        "\n",
        "        # Average AP over all thresholds for this class\n",
        "        if len(ap_class) > 0:\n",
        "            aps.append(np.mean(ap_class))\n",
        "        else:\n",
        "            aps.append(0.0)\n",
        "\n",
        "    # Return AP for each class and mAP\n",
        "    return aps, np.mean(aps)\n",
        "\n",
        "# Training function with extended patience\n",
        "def train_model(model, train_loader, val_loader, criterion, optimizer, scheduler, num_epochs=200):\n",
        "    # Create directories for output\n",
        "    os.makedirs('models', exist_ok=True)\n",
        "    os.makedirs('visuals', exist_ok=True)\n",
        "\n",
        "    # Initialize tracking variables\n",
        "    best_miou = 0.0\n",
        "    best_map = 0.0\n",
        "    history = {'train_loss': [], 'val_loss': [], 'val_iou': [], 'val_map': []}\n",
        "    patience = 40  # Increased from 20 to 35\n",
        "    patience_counter = 0\n",
        "\n",
        "    # Training loop\n",
        "    for epoch in range(1, num_epochs + 1):\n",
        "        # Training phase\n",
        "        model.train()\n",
        "        running_loss = 0.0\n",
        "\n",
        "        for i, (images, masks) in enumerate(tqdm(train_loader, desc=f\"Epoch {epoch}/{num_epochs} (Training)\")):\n",
        "            # Clear memory\n",
        "            torch.cuda.empty_cache()\n",
        "\n",
        "            images = images.to(device)\n",
        "            masks = masks.to(device).long()\n",
        "\n",
        "            # Forward pass\n",
        "            outputs = model(images)\n",
        "            loss = criterion(outputs, masks)\n",
        "\n",
        "            # Backward and optimize\n",
        "            optimizer.zero_grad()\n",
        "            loss.backward()\n",
        "            torch.nn.utils.clip_grad_norm_(model.parameters(), max_norm=1.0)\n",
        "            optimizer.step()\n",
        "\n",
        "            # Step the scheduler if it's OneCycleLR\n",
        "            if isinstance(scheduler, torch.optim.lr_scheduler.OneCycleLR):\n",
        "                scheduler.step()\n",
        "\n",
        "            running_loss += loss.item()\n",
        "\n",
        "            # Delete intermediate tensors to free memory\n",
        "            del images, masks, outputs, loss\n",
        "            torch.cuda.empty_cache()\n",
        "\n",
        "        train_loss = running_loss / len(train_loader)\n",
        "        history['train_loss'].append(train_loss)\n",
        "\n",
        "        # Validation phase\n",
        "        model.eval()\n",
        "        val_loss = 0.0\n",
        "        all_ious = []\n",
        "        all_maps = []\n",
        "\n",
        "        with torch.no_grad():\n",
        "            for images, masks in tqdm(val_loader, desc=f\"Epoch {epoch}/{num_epochs} (Validation)\"):\n",
        "                # Clear memory\n",
        "                torch.cuda.empty_cache()\n",
        "\n",
        "                images = images.to(device)\n",
        "                masks = masks.to(device).long()\n",
        "\n",
        "                # Forward pass\n",
        "                outputs = model(images)\n",
        "                loss = criterion(outputs, masks)\n",
        "                val_loss += loss.item()\n",
        "\n",
        "                # Calculate IoU with post-processing\n",
        "                ious = compute_iou(outputs, masks, apply_post_processing=True)\n",
        "                all_ious.append(ious)\n",
        "\n",
        "                # Calculate mAP with post-processing\n",
        "                maps, _ = compute_map(outputs, masks, apply_post_processing=True)\n",
        "                all_maps.append(maps)\n",
        "\n",
        "                # Delete intermediate tensors to free memory\n",
        "                del images, masks, outputs, loss\n",
        "                torch.cuda.empty_cache()\n",
        "\n",
        "        val_loss /= len(val_loader)\n",
        "        history['val_loss'].append(val_loss)\n",
        "\n",
        "        # Calculate mean IoU for each class\n",
        "        mean_ious = np.mean(all_ious, axis=0)\n",
        "        miou = np.mean(mean_ious)\n",
        "        history['val_iou'].append(mean_ious.tolist())\n",
        "\n",
        "        # Calculate mean AP for each class\n",
        "        mean_maps = np.mean(all_maps, axis=0)\n",
        "        mmap = np.mean(mean_maps)\n",
        "        history['val_map'].append(mean_maps.tolist())\n",
        "\n",
        "        # Update learning rate if not using OneCycleLR\n",
        "        if not isinstance(scheduler, torch.optim.lr_scheduler.OneCycleLR):\n",
        "            scheduler.step(val_loss)\n",
        "\n",
        "        # Print results\n",
        "        print(f\"Epoch {epoch}/{num_epochs}\")\n",
        "        print(f\"Train Loss: {train_loss:.4f}, Val Loss: {val_loss:.4f}\")\n",
        "        print(f\"IoU for MA: {mean_ious[0]:.4f}\")\n",
        "        print(f\"IoU for EX: {mean_ious[1]:.4f}\")\n",
        "        print(f\"IoU for SE: {mean_ious[2]:.4f}\")\n",
        "        print(f\"IoU for HE: {mean_ious[3]:.4f}\")\n",
        "        print(f\"Mean IoU: {miou:.4f}\")\n",
        "\n",
        "        print(f\"AP for MA: {mean_maps[0]:.4f}\")\n",
        "        print(f\"AP for EX: {mean_maps[1]:.4f}\")\n",
        "        print(f\"AP for SE: {mean_maps[2]:.4f}\")\n",
        "        print(f\"AP for HE: {mean_maps[3]:.4f}\")\n",
        "        print(f\"Mean AP: {mmap:.4f}\")\n",
        "\n",
        "        # Save best model based on mIoU\n",
        "        if miou > best_miou:\n",
        "            best_miou = miou\n",
        "            patience_counter = 0\n",
        "\n",
        "            # Save model state dict\n",
        "            torch.save(model.state_dict(), 'models/best_model_miou.pth')\n",
        "            print(f\"Model saved with Mean IoU: {best_miou:.4f}\")\n",
        "\n",
        "        # Also save best model based on mAP\n",
        "        if mmap > best_map:\n",
        "            best_map = mmap\n",
        "\n",
        "            # Save model state dict\n",
        "            torch.save(model.state_dict(), 'models/best_model_map.pth')\n",
        "            print(f\"Model saved with Mean AP: {best_map:.4f}\")\n",
        "        else:\n",
        "            patience_counter += 1\n",
        "\n",
        "        # Early stopping\n",
        "        if patience_counter >= patience:\n",
        "            print(f\"Early stopping triggered. No improvement for {patience} epochs.\")\n",
        "            break\n",
        "\n",
        "    print(f\"Best Mean IoU achieved: {best_miou:.4f}\")\n",
        "    print(f\"Best Mean AP achieved: {best_map:.4f}\")\n",
        "    return history, best_miou, best_map\n",
        "\n",
        "def main():\n",
        "    # Paths\n",
        "    train_img_dir = \"/content/DDR_dataset/DDR-dataset/lesion_segmentation/train/image\"\n",
        "    val_img_dir = \"/content/DDR_dataset/DDR-dataset/lesion_segmentation/valid/image\"\n",
        "\n",
        "    train_mask_dirs = {\n",
        "        \"MA\": \"/content/DDR_dataset/DDR-dataset/lesion_segmentation/train/label/MA\",\n",
        "        \"EX\": \"/content/DDR_dataset/DDR-dataset/lesion_segmentation/train/label/EX\",\n",
        "        \"SE\": \"/content/DDR_dataset/DDR-dataset/lesion_segmentation/train/label/SE\",\n",
        "        \"HE\": \"/content/DDR_dataset/DDR-dataset/lesion_segmentation/train/label/HE\"\n",
        "    }\n",
        "\n",
        "    val_mask_dirs = {\n",
        "        \"MA\": \"/content/DDR_dataset/DDR-dataset/lesion_segmentation/valid/segmentation label/MA\",\n",
        "        \"EX\": \"/content/DDR_dataset/DDR-dataset/lesion_segmentation/valid/segmentation label/EX\",\n",
        "        \"SE\": \"/content/DDR_dataset/DDR-dataset/lesion_segmentation/valid/segmentation label/SE\",\n",
        "        \"HE\": \"/content/DDR_dataset/DDR-dataset/lesion_segmentation/valid/segmentation label/HE\"\n",
        "    }\n",
        "\n",
        "    # Create datasets\n",
        "    print(\"Setting up training dataset from\", train_img_dir)\n",
        "    train_dataset = AdvancedLesionSegmentationDataset(\n",
        "        image_dir=train_img_dir,\n",
        "        mask_dirs=train_mask_dirs,\n",
        "        transform=get_advanced_transforms('train'),\n",
        "        apply_preprocessing=True\n",
        "    )\n",
        "\n",
        "    print(\"Setting up validation dataset from\", val_img_dir)\n",
        "    val_dataset = AdvancedLesionSegmentationDataset(\n",
        "        image_dir=val_img_dir,\n",
        "        mask_dirs=val_mask_dirs,\n",
        "        transform=get_advanced_transforms('val'),\n",
        "        apply_preprocessing=True\n",
        "    )\n",
        "\n",
        "    # Create weighted sampler for training to focus more on images with MA lesions\n",
        "    sampler = WeightedRandomSampler(\n",
        "        weights=train_dataset.lesion_weights,\n",
        "        num_samples=len(train_dataset),\n",
        "        replacement=True\n",
        "    )\n",
        "\n",
        "    # Create data loaders\n",
        "    train_loader = DataLoader(\n",
        "        train_dataset,\n",
        "        batch_size=20,\n",
        "        sampler=sampler,\n",
        "        num_workers=14,\n",
        "        pin_memory=True\n",
        "    )\n",
        "\n",
        "    val_loader = DataLoader(\n",
        "        val_dataset,\n",
        "        batch_size=20,\n",
        "        shuffle=False,\n",
        "        num_workers=14,\n",
        "        pin_memory=True\n",
        "    )\n",
        "\n",
        "    print(f\"Training dataset size: {len(train_dataset)}\")\n",
        "    print(f\"Validation dataset size: {len(val_dataset)}\")\n",
        "\n",
        "    # Check first batch\n",
        "    for images, masks in train_loader:\n",
        "        print(f\"Checking first batch:\")\n",
        "        print(f\"Images shape: {images.shape}\")\n",
        "        print(f\"Masks shape: {masks.shape}\")\n",
        "        print(f\"Unique values in masks: {torch.unique(masks).tolist()}\")\n",
        "        print(f\"Mask distribution:\")\n",
        "        for c in range(5):\n",
        "            count = (masks == c).sum().item()\n",
        "            pct = count / masks.numel() * 100\n",
        "            print(f\"  Class {c}: {count} pixels ({pct:.4f}%)\")\n",
        "        break\n",
        "\n",
        "    # Try a better encoder\n",
        "    encoder_name = \"resnext101_32x8d\"  # Alternative stronger encoder instead of efficientnet-b4\n",
        "    print(f\"Training model with encoder: {encoder_name}\")\n",
        "\n",
        "    # Clean CUDA memory\n",
        "    torch.cuda.empty_cache()\n",
        "    gc.collect()\n",
        "\n",
        "    # Create model\n",
        "    model = EnhancedUNet(\n",
        "        encoder_name=encoder_name,\n",
        "        encoder_weights=\"imagenet\",\n",
        "        in_channels=3,\n",
        "        classes=5\n",
        "    ).to(device)\n",
        "\n",
        "    # Strongly weighted class weights for extreme imbalance - focus on MA\n",
        "    class_weights = torch.FloatTensor([1.0, 150.0, 25.0, 25.0, 25.0]).to(device)  # Increased MA weight from 120 to 150\n",
        "    criterion = CombinedLoss(class_weights=class_weights)\n",
        "\n",
        "    # Create optimizer with learning rate\n",
        "    optimizer = torch.optim.AdamW(model.parameters(), lr=1e-4, weight_decay=1e-4)\n",
        "\n",
        "    # Use OneCycleLR with modified parameters\n",
        "    scheduler = torch.optim.lr_scheduler.OneCycleLR(\n",
        "        optimizer,\n",
        "        max_lr=8e-4,  # Increased from 5e-4 to 8e-4\n",
        "        epochs=200,   # Increased epochs\n",
        "        steps_per_epoch=len(train_loader),\n",
        "        pct_start=0.15,  # Increased from 0.1 to 0.15\n",
        "        div_factor=10.0,\n",
        "        final_div_factor=100.0\n",
        "    )\n",
        "\n",
        "    # Train the model\n",
        "    print(\"-\" * 40)\n",
        "    print(\"Starting training...\")\n",
        "    print(\"-\" * 40)\n",
        "\n",
        "    history, best_miou, best_map = train_model(\n",
        "        model=model,\n",
        "        train_loader=train_loader,\n",
        "        val_loader=val_loader,\n",
        "        criterion=criterion,\n",
        "        optimizer=optimizer,\n",
        "        scheduler=scheduler,\n",
        "        num_epochs=200  # Increased from 100 to 200\n",
        "    )\n",
        "\n",
        "    # Final evaluation with best model\n",
        "    # Load best model based on MAP (usually better for practical applications)\n",
        "    best_model = EnhancedUNet(\n",
        "        encoder_name=encoder_name,\n",
        "        encoder_weights=\"imagenet\",\n",
        "        in_channels=3,\n",
        "        classes=5\n",
        "    ).to(device)\n",
        "\n",
        "    best_model.load_state_dict(torch.load('models/best_model_map.pth'))\n",
        "    best_model.eval()\n",
        "\n",
        "    # Standard evaluation without TTA\n",
        "    all_ious = []\n",
        "    all_maps = []\n",
        "\n",
        "    with torch.no_grad():\n",
        "        for images, masks in tqdm(val_loader, desc=\"Final Evaluation\"):\n",
        "            # Clear memory\n",
        "            torch.cuda.empty_cache()\n",
        "\n",
        "            images = images.to(device)\n",
        "            masks = masks.to(device).long()\n",
        "\n",
        "            # Forward pass\n",
        "            outputs = best_model(images)\n",
        "\n",
        "            # Calculate IoU with post-processing\n",
        "            ious = compute_iou(outputs, masks, apply_post_processing=True)\n",
        "            all_ious.append(ious)\n",
        "\n",
        "            # Calculate mAP with post-processing\n",
        "            maps, _ = compute_map(outputs, masks, apply_post_processing=True)\n",
        "            all_maps.append(maps)\n",
        "\n",
        "            # Delete intermediate tensors to free memory\n",
        "            del images, masks, outputs\n",
        "            torch.cuda.empty_cache()\n",
        "\n",
        "    # Calculate final metrics\n",
        "    final_ious = np.mean(all_ious, axis=0)\n",
        "    final_miou = np.mean(final_ious)\n",
        "\n",
        "    final_maps = np.mean(all_maps, axis=0)\n",
        "    final_mmap = np.mean(final_maps)\n",
        "\n",
        "    print(\"\\nFinal Evaluation Results:\")\n",
        "    print(f\"IoU for MA: {final_ious[0]:.4f}\")\n",
        "    print(f\"IoU for EX: {final_ious[1]:.4f}\")\n",
        "    print(f\"IoU for SE: {final_ious[2]:.4f}\")\n",
        "    print(f\"IoU for HE: {final_ious[3]:.4f}\")\n",
        "    print(f\"Mean IoU: {final_miou:.4f}\")\n",
        "\n",
        "    print(f\"AP for MA: {final_maps[0]:.4f}\")\n",
        "    print(f\"AP for EX: {final_maps[1]:.4f}\")\n",
        "    print(f\"AP for SE: {final_maps[2]:.4f}\")\n",
        "    print(f\"AP for HE: {final_maps[3]:.4f}\")\n",
        "    print(f\"Mean AP: {final_mmap:.4f}\")\n",
        "\n",
        "    # Plot training history\n",
        "    plt.figure(figsize=(15, 10))\n",
        "\n",
        "    # Plot loss\n",
        "    plt.subplot(2, 2, 1)\n",
        "    plt.plot(history['train_loss'], label='Train Loss')\n",
        "    plt.plot(history['val_loss'], label='Validation Loss')\n",
        "    plt.xlabel('Epoch')\n",
        "    plt.ylabel('Loss')\n",
        "    plt.legend()\n",
        "    plt.title('Training and Validation Loss')\n",
        "\n",
        "    # Plot IoU\n",
        "    plt.subplot(2, 2, 2)\n",
        "    for i, lesion in enumerate(['MA', 'EX', 'SE', 'HE']):\n",
        "        iou_values = [epoch_ious[i] for epoch_ious in history['val_iou']]\n",
        "        plt.plot(iou_values, label=f'{lesion} IoU')\n",
        "    plt.xlabel('Epoch')\n",
        "    plt.ylabel('IoU')\n",
        "    plt.legend()\n",
        "    plt.title('Validation IoU per Class')\n",
        "\n",
        "    # Plot mAP\n",
        "    plt.subplot(2, 2, 3)\n",
        "    for i, lesion in enumerate(['MA', 'EX', 'SE', 'HE']):\n",
        "        map_values = [epoch_maps[i] for epoch_maps in history['val_map']]\n",
        "        plt.plot(map_values, label=f'{lesion} AP')\n",
        "    plt.xlabel('Epoch')\n",
        "    plt.ylabel('AP')\n",
        "    plt.legend()\n",
        "    plt.title('Validation AP per Class')\n",
        "\n",
        "    # Plot average metrics\n",
        "    plt.subplot(2, 2, 4)\n",
        "    miou_values = [np.mean(epoch_ious) for epoch_ious in history['val_iou']]\n",
        "    mmap_values = [np.mean(epoch_maps) for epoch_maps in history['val_map']]\n",
        "    plt.plot(miou_values, label='Mean IoU')\n",
        "    plt.plot(mmap_values, label='Mean AP')\n",
        "    plt.xlabel('Epoch')\n",
        "    plt.ylabel('Metric Value')\n",
        "    plt.legend()\n",
        "    plt.title('Mean IoU vs Mean AP')\n",
        "\n",
        "    plt.tight_layout()\n",
        "    plt.savefig('training_history.png')\n",
        "\n",
        "    # Generate some visual examples for final output\n",
        "    print(\"\\nGenerating visual examples for qualitative assessment...\")\n",
        "\n",
        "    # Create a directory for visualizations if it doesn't exist\n",
        "    os.makedirs('visualizations', exist_ok=True)\n",
        "\n",
        "    # Define a colormap for visualization with alpha transparency\n",
        "    def create_color_map_with_alpha():\n",
        "        # Color map with RGBA (the last number is alpha/transparency)\n",
        "        color_map = np.zeros((5, 4), dtype=np.uint8)\n",
        "        color_map[0] = [0, 0, 0, 0]        # Background (transparent)\n",
        "        color_map[1] = [255, 0, 0, 180]    # MA (red with transparency)\n",
        "        color_map[2] = [0, 255, 0, 180]    # EX (green with transparency)\n",
        "        color_map[3] = [255, 255, 0, 180]  # SE (yellow with transparency)\n",
        "        color_map[4] = [0, 0, 255, 180]    # HE (blue with transparency)\n",
        "        return color_map\n",
        "\n",
        "    color_map = create_color_map_with_alpha()\n",
        "\n",
        "    # Function to create colored segmentation overlay\n",
        "    def create_segmentation_overlay(image, mask):\n",
        "        # Create an empty RGBA overlay\n",
        "        overlay = np.zeros((mask.shape[0], mask.shape[1], 4), dtype=np.uint8)\n",
        "\n",
        "        # Fill in the overlay with colored regions according to mask\n",
        "        for i in range(1, 5):  # Skip background (index 0)\n",
        "            overlay[mask == i] = color_map[i]\n",
        "\n",
        "        # Convert RGB image to RGBA by adding an alpha channel\n",
        "        image_rgba = np.zeros((image.shape[0], image.shape[1], 4), dtype=np.uint8)\n",
        "        image_rgba[:, :, 0:3] = image\n",
        "        image_rgba[:, :, 3] = 255  # Full opacity for base image\n",
        "\n",
        "        # Alpha blending\n",
        "        alpha = overlay[:, :, 3:4] / 255.0\n",
        "        overlay_rgb = overlay[:, :, 0:3]\n",
        "        image_rgb = image_rgba[:, :, 0:3]\n",
        "\n",
        "        # Blend images\n",
        "        blended = image_rgb * (1 - alpha) + overlay_rgb * alpha\n",
        "\n",
        "        return blended.astype(np.uint8)\n",
        "\n",
        "    # Visualize some examples with model predictions\n",
        "    with torch.no_grad():\n",
        "        for idx, (images, masks) in enumerate(val_loader):\n",
        "            if idx >= 5:  # Only visualize 5 examples\n",
        "                break\n",
        "\n",
        "            images = images.to(device)\n",
        "            masks = masks.to(device).long()\n",
        "\n",
        "            # Get predictions (without TTA)\n",
        "            outputs = best_model(images)\n",
        "            preds = torch.argmax(outputs, dim=1).cpu().numpy()\n",
        "            true_masks = masks.cpu().numpy()\n",
        "\n",
        "            # Create colorized visualizations\n",
        "            for b in range(min(2, preds.shape[0])):  # Visualize first 2 images in the batch\n",
        "                # Get original image\n",
        "                img = images[b].cpu().numpy()\n",
        "                img = np.transpose(img, (1, 2, 0))  # CHW to HWC\n",
        "                img = img * np.array([0.229, 0.224, 0.225]) + np.array([0.485, 0.456, 0.406])\n",
        "                img = np.clip(img, 0, 1) * 255\n",
        "                img = img.astype(np.uint8)\n",
        "\n",
        "                # Create overlaid visualizations\n",
        "                pred_overlay = create_segmentation_overlay(img, preds[b])\n",
        "                true_overlay = create_segmentation_overlay(img, true_masks[b])\n",
        "\n",
        "                # Create visualization with original, ground truth overlay, and prediction overlay\n",
        "                vis_img = np.hstack([img, true_overlay, pred_overlay])\n",
        "\n",
        "                # Save visualization\n",
        "                cv2.imwrite(f'visualizations/example_{idx}_{b}.png', cv2.cvtColor(vis_img, cv2.COLOR_RGB2BGR))\n",
        "\n",
        "    print(\"\\nTraining and evaluation completed! Visual examples saved in 'visualizations' directory.\")\n",
        "    return best_model, history, final_miou, final_mmap\n",
        "\n",
        "if __name__ == \"__main__\":\n",
        "    main()"
      ],
      "metadata": {
        "colab": {
          "base_uri": "https://localhost:8080/"
        },
        "id": "52fSVdQk4RX6",
        "outputId": "e3f979cd-1de4-4922-fb01-1f5d5daf93c1"
      },
      "execution_count": null,
      "outputs": [
        {
          "metadata": {
            "tags": null
          },
          "name": "stdout",
          "output_type": "stream",
          "text": [
            "Using device: cuda\n",
            "Setting up training dataset from /content/DDR_dataset/DDR-dataset/lesion_segmentation/train/image\n"
          ]
        },
        {
          "metadata": {
            "tags": null
          },
          "name": "stderr",
          "output_type": "stream",
          "text": [
            "/usr/local/lib/python3.11/dist-packages/albumentations/core/validation.py:111: UserWarning: ShiftScaleRotate is a special case of Affine transform. Please use Affine transform instead.\n",
            "  original_init(self, **validated_kwargs)\n"
          ]
        },
        {
          "metadata": {
            "tags": null
          },
          "name": "stdout",
          "output_type": "stream",
          "text": [
            "Setting up validation dataset from /content/DDR_dataset/DDR-dataset/lesion_segmentation/valid/image\n",
            "Training dataset size: 383\n",
            "Validation dataset size: 149\n"
          ]
        },
        {
          "metadata": {
            "tags": null
          },
          "name": "stderr",
          "output_type": "stream",
          "text": [
            "/usr/local/lib/python3.11/dist-packages/torch/utils/data/dataloader.py:624: UserWarning: This DataLoader will create 14 worker processes in total. Our suggested max number of worker in current system is 12, which is smaller than what this DataLoader is going to create. Please be aware that excessive worker creation might get DataLoader running slow or even freeze, lower the worker number to avoid potential slowness/freeze if necessary.\n",
            "  warnings.warn(\n"
          ]
        },
        {
          "metadata": {
            "tags": null
          },
          "name": "stdout",
          "output_type": "stream",
          "text": [
            "Checking first batch:\n",
            "Images shape: torch.Size([20, 3, 512, 512])\n",
            "Masks shape: torch.Size([20, 512, 512])\n",
            "Unique values in masks: [0, 1, 2, 3, 4]\n",
            "Mask distribution:\n",
            "  Class 0: 5221619 pixels (99.5945%)\n",
            "  Class 1: 4972 pixels (0.0948%)\n",
            "  Class 2: 8097 pixels (0.1544%)\n",
            "  Class 3: 979 pixels (0.0187%)\n",
            "  Class 4: 7213 pixels (0.1376%)\n",
            "Training model with encoder: resnext101_32x8d\n"
          ]
        },
        {
          "metadata": {
            "tags": null
          },
          "name": "stderr",
          "output_type": "stream",
          "text": [
            "/usr/local/lib/python3.11/dist-packages/huggingface_hub/utils/_auth.py:94: UserWarning: \n",
            "The secret `HF_TOKEN` does not exist in your Colab secrets.\n",
            "To authenticate with the Hugging Face Hub, create a token in your settings tab (https://huggingface.co/settings/tokens), set it as secret in your Google Colab and restart your session.\n",
            "You will be able to reuse this secret in all of your notebooks.\n",
            "Please note that authentication is recommended but still optional to access public models or datasets.\n",
            "  warnings.warn(\n"
          ]
        },
        {
          "metadata": {
            "tags": null
          },
          "name": "stdout",
          "output_type": "stream",
          "text": [
            "----------------------------------------\n",
            "Starting training...\n",
            "----------------------------------------\n"
          ]
        },
        {
          "metadata": {
            "tags": null
          },
          "name": "stderr",
          "output_type": "stream",
          "text": [
            "Epoch 1/200 (Training): 100%|██████████| 20/20 [00:45<00:00,  2.29s/it]\n",
            "Epoch 1/200 (Validation): 100%|██████████| 8/8 [01:10<00:00,  8.85s/it]\n"
          ]
        },
        {
          "metadata": {
            "tags": null
          },
          "name": "stdout",
          "output_type": "stream",
          "text": [
            "Epoch 1/200\n",
            "Train Loss: 1.2186, Val Loss: 1.1320\n",
            "IoU for MA: 0.0013\n",
            "IoU for EX: 0.0014\n",
            "IoU for SE: 0.0017\n",
            "IoU for HE: 0.0011\n",
            "Mean IoU: 0.0014\n",
            "AP for MA: 0.1062\n",
            "AP for EX: 0.4389\n",
            "AP for SE: 0.1852\n",
            "AP for HE: 0.2632\n",
            "Mean AP: 0.2484\n",
            "Model saved with Mean IoU: 0.0014\n",
            "Model saved with Mean AP: 0.2484\n"
          ]
        },
        {
          "metadata": {
            "tags": null
          },
          "name": "stderr",
          "output_type": "stream",
          "text": [
            "Epoch 2/200 (Training): 100%|██████████| 20/20 [00:44<00:00,  2.25s/it]\n",
            "Epoch 2/200 (Validation): 100%|██████████| 8/8 [00:45<00:00,  5.63s/it]\n"
          ]
        },
        {
          "metadata": {
            "tags": null
          },
          "name": "stdout",
          "output_type": "stream",
          "text": [
            "Epoch 2/200\n",
            "Train Loss: 1.0769, Val Loss: 0.9946\n",
            "IoU for MA: 0.0022\n",
            "IoU for EX: 0.2194\n",
            "IoU for SE: 0.0020\n",
            "IoU for HE: 0.1374\n",
            "Mean IoU: 0.0902\n",
            "AP for MA: 0.1062\n",
            "AP for EX: 0.5186\n",
            "AP for SE: 0.4297\n",
            "AP for HE: 0.2632\n",
            "Mean AP: 0.3294\n",
            "Model saved with Mean IoU: 0.0902\n",
            "Model saved with Mean AP: 0.3294\n"
          ]
        },
        {
          "metadata": {
            "tags": null
          },
          "name": "stderr",
          "output_type": "stream",
          "text": [
            "Epoch 3/200 (Training): 100%|██████████| 20/20 [00:46<00:00,  2.30s/it]\n",
            "Epoch 3/200 (Validation): 100%|██████████| 8/8 [00:34<00:00,  4.25s/it]\n"
          ]
        },
        {
          "metadata": {
            "tags": null
          },
          "name": "stdout",
          "output_type": "stream",
          "text": [
            "Epoch 3/200\n",
            "Train Loss: 0.9922, Val Loss: 0.9360\n",
            "IoU for MA: 0.0588\n",
            "IoU for EX: 0.3681\n",
            "IoU for SE: 0.0069\n",
            "IoU for HE: 0.2687\n",
            "Mean IoU: 0.1756\n",
            "AP for MA: 0.1062\n",
            "AP for EX: 0.5528\n",
            "AP for SE: 0.4472\n",
            "AP for HE: 0.2632\n",
            "Mean AP: 0.3424\n",
            "Model saved with Mean IoU: 0.1756\n",
            "Model saved with Mean AP: 0.3424\n"
          ]
        },
        {
          "metadata": {
            "tags": null
          },
          "name": "stderr",
          "output_type": "stream",
          "text": [
            "Epoch 4/200 (Training): 100%|██████████| 20/20 [00:44<00:00,  2.23s/it]\n",
            "Epoch 4/200 (Validation): 100%|██████████| 8/8 [00:34<00:00,  4.35s/it]\n"
          ]
        },
        {
          "metadata": {
            "tags": null
          },
          "name": "stdout",
          "output_type": "stream",
          "text": [
            "Epoch 4/200\n",
            "Train Loss: 0.9501, Val Loss: 0.8944\n",
            "IoU for MA: 0.0221\n",
            "IoU for EX: 0.4493\n",
            "IoU for SE: 0.1460\n",
            "IoU for HE: 0.2652\n",
            "Mean IoU: 0.2206\n",
            "AP for MA: 0.1062\n",
            "AP for EX: 0.5530\n",
            "AP for SE: 0.4472\n",
            "AP for HE: 0.2632\n",
            "Mean AP: 0.3424\n",
            "Model saved with Mean IoU: 0.2206\n",
            "Model saved with Mean AP: 0.3424\n"
          ]
        },
        {
          "metadata": {
            "tags": null
          },
          "name": "stderr",
          "output_type": "stream",
          "text": [
            "Epoch 5/200 (Training): 100%|██████████| 20/20 [00:44<00:00,  2.22s/it]\n",
            "Epoch 5/200 (Validation): 100%|██████████| 8/8 [00:34<00:00,  4.34s/it]\n"
          ]
        },
        {
          "metadata": {
            "tags": null
          },
          "name": "stdout",
          "output_type": "stream",
          "text": [
            "Epoch 5/200\n",
            "Train Loss: 0.9158, Val Loss: 0.8620\n",
            "IoU for MA: 0.0563\n",
            "IoU for EX: 0.4039\n",
            "IoU for SE: 0.3230\n",
            "IoU for HE: 0.2608\n",
            "Mean IoU: 0.2610\n",
            "AP for MA: 0.1062\n",
            "AP for EX: 0.5529\n",
            "AP for SE: 0.4472\n",
            "AP for HE: 0.2632\n",
            "Mean AP: 0.3424\n",
            "Model saved with Mean IoU: 0.2610\n"
          ]
        },
        {
          "metadata": {
            "tags": null
          },
          "name": "stderr",
          "output_type": "stream",
          "text": [
            "Epoch 6/200 (Training): 100%|██████████| 20/20 [00:44<00:00,  2.22s/it]\n",
            "Epoch 6/200 (Validation): 100%|██████████| 8/8 [00:29<00:00,  3.68s/it]\n"
          ]
        },
        {
          "metadata": {
            "tags": null
          },
          "name": "stdout",
          "output_type": "stream",
          "text": [
            "Epoch 6/200\n",
            "Train Loss: 0.8768, Val Loss: 0.8293\n",
            "IoU for MA: 0.0299\n",
            "IoU for EX: 0.2076\n",
            "IoU for SE: 0.3508\n",
            "IoU for HE: 0.2588\n",
            "Mean IoU: 0.2118\n",
            "AP for MA: 0.1062\n",
            "AP for EX: 0.4789\n",
            "AP for SE: 0.4472\n",
            "AP for HE: 0.2660\n",
            "Mean AP: 0.3246\n"
          ]
        },
        {
          "metadata": {
            "tags": null
          },
          "name": "stderr",
          "output_type": "stream",
          "text": [
            "Epoch 7/200 (Training): 100%|██████████| 20/20 [00:46<00:00,  2.31s/it]\n",
            "Epoch 7/200 (Validation): 100%|██████████| 8/8 [00:27<00:00,  3.39s/it]\n"
          ]
        },
        {
          "metadata": {
            "tags": null
          },
          "name": "stdout",
          "output_type": "stream",
          "text": [
            "Epoch 7/200\n",
            "Train Loss: 0.8330, Val Loss: 0.8014\n",
            "IoU for MA: 0.0367\n",
            "IoU for EX: 0.2404\n",
            "IoU for SE: 0.3775\n",
            "IoU for HE: 0.2131\n",
            "Mean IoU: 0.2169\n",
            "AP for MA: 0.1063\n",
            "AP for EX: 0.5308\n",
            "AP for SE: 0.4472\n",
            "AP for HE: 0.2626\n",
            "Mean AP: 0.3367\n"
          ]
        },
        {
          "metadata": {
            "tags": null
          },
          "name": "stderr",
          "output_type": "stream",
          "text": [
            "Epoch 8/200 (Training): 100%|██████████| 20/20 [00:44<00:00,  2.24s/it]\n",
            "Epoch 8/200 (Validation): 100%|██████████| 8/8 [00:26<00:00,  3.29s/it]\n"
          ]
        },
        {
          "metadata": {
            "tags": null
          },
          "name": "stdout",
          "output_type": "stream",
          "text": [
            "Epoch 8/200\n",
            "Train Loss: 0.8042, Val Loss: 0.7724\n",
            "IoU for MA: 0.0556\n",
            "IoU for EX: 0.4548\n",
            "IoU for SE: 0.4333\n",
            "IoU for HE: 0.1725\n",
            "Mean IoU: 0.2790\n",
            "AP for MA: 0.1013\n",
            "AP for EX: 0.5535\n",
            "AP for SE: 0.4472\n",
            "AP for HE: 0.2598\n",
            "Mean AP: 0.3404\n",
            "Model saved with Mean IoU: 0.2790\n"
          ]
        },
        {
          "metadata": {
            "tags": null
          },
          "name": "stderr",
          "output_type": "stream",
          "text": [
            "Epoch 9/200 (Training): 100%|██████████| 20/20 [00:45<00:00,  2.28s/it]\n",
            "Epoch 9/200 (Validation): 100%|██████████| 8/8 [00:29<00:00,  3.63s/it]\n"
          ]
        },
        {
          "metadata": {
            "tags": null
          },
          "name": "stdout",
          "output_type": "stream",
          "text": [
            "Epoch 9/200\n",
            "Train Loss: 0.7654, Val Loss: 0.7439\n",
            "IoU for MA: 0.0408\n",
            "IoU for EX: 0.1564\n",
            "IoU for SE: 0.4476\n",
            "IoU for HE: 0.2265\n",
            "Mean IoU: 0.2178\n",
            "AP for MA: 0.1229\n",
            "AP for EX: 0.4705\n",
            "AP for SE: 0.4472\n",
            "AP for HE: 0.2696\n",
            "Mean AP: 0.3276\n"
          ]
        },
        {
          "metadata": {
            "tags": null
          },
          "name": "stderr",
          "output_type": "stream",
          "text": [
            "Epoch 10/200 (Training): 100%|██████████| 20/20 [00:45<00:00,  2.28s/it]\n",
            "Epoch 10/200 (Validation): 100%|██████████| 8/8 [00:34<00:00,  4.26s/it]\n"
          ]
        },
        {
          "metadata": {
            "tags": null
          },
          "name": "stdout",
          "output_type": "stream",
          "text": [
            "Epoch 10/200\n",
            "Train Loss: 0.7376, Val Loss: 0.7116\n",
            "IoU for MA: 0.0256\n",
            "IoU for EX: 0.1684\n",
            "IoU for SE: 0.4390\n",
            "IoU for HE: 0.2615\n",
            "Mean IoU: 0.2236\n",
            "AP for MA: 0.1138\n",
            "AP for EX: 0.5242\n",
            "AP for SE: 0.4472\n",
            "AP for HE: 0.3290\n",
            "Mean AP: 0.3536\n",
            "Model saved with Mean AP: 0.3536\n"
          ]
        },
        {
          "metadata": {
            "tags": null
          },
          "name": "stderr",
          "output_type": "stream",
          "text": [
            "Epoch 11/200 (Training): 100%|██████████| 20/20 [00:44<00:00,  2.24s/it]\n",
            "Epoch 11/200 (Validation): 100%|██████████| 8/8 [00:28<00:00,  3.58s/it]\n"
          ]
        },
        {
          "metadata": {
            "tags": null
          },
          "name": "stdout",
          "output_type": "stream",
          "text": [
            "Epoch 11/200\n",
            "Train Loss: 0.7189, Val Loss: 0.7148\n",
            "IoU for MA: 0.0817\n",
            "IoU for EX: 0.2160\n",
            "IoU for SE: 0.4459\n",
            "IoU for HE: 0.1503\n",
            "Mean IoU: 0.2235\n",
            "AP for MA: 0.1375\n",
            "AP for EX: 0.5047\n",
            "AP for SE: 0.4472\n",
            "AP for HE: 0.2988\n",
            "Mean AP: 0.3471\n"
          ]
        },
        {
          "metadata": {
            "tags": null
          },
          "name": "stderr",
          "output_type": "stream",
          "text": [
            "Epoch 12/200 (Training): 100%|██████████| 20/20 [00:44<00:00,  2.25s/it]\n",
            "Epoch 12/200 (Validation): 100%|██████████| 8/8 [00:36<00:00,  4.62s/it]\n"
          ]
        },
        {
          "metadata": {
            "tags": null
          },
          "name": "stdout",
          "output_type": "stream",
          "text": [
            "Epoch 12/200\n",
            "Train Loss: 0.7168, Val Loss: 0.7003\n",
            "IoU for MA: 0.0385\n",
            "IoU for EX: 0.4703\n",
            "IoU for SE: 0.4253\n",
            "IoU for HE: 0.2384\n",
            "Mean IoU: 0.2931\n",
            "AP for MA: 0.1135\n",
            "AP for EX: 0.5543\n",
            "AP for SE: 0.4472\n",
            "AP for HE: 0.3142\n",
            "Mean AP: 0.3573\n",
            "Model saved with Mean IoU: 0.2931\n",
            "Model saved with Mean AP: 0.3573\n"
          ]
        },
        {
          "metadata": {
            "tags": null
          },
          "name": "stderr",
          "output_type": "stream",
          "text": [
            "Epoch 13/200 (Training): 100%|██████████| 20/20 [00:45<00:00,  2.27s/it]\n",
            "Epoch 13/200 (Validation): 100%|██████████| 8/8 [00:48<00:00,  6.03s/it]\n"
          ]
        },
        {
          "metadata": {
            "tags": null
          },
          "name": "stdout",
          "output_type": "stream",
          "text": [
            "Epoch 13/200\n",
            "Train Loss: 0.7036, Val Loss: 0.6657\n",
            "IoU for MA: 0.0264\n",
            "IoU for EX: 0.1537\n",
            "IoU for SE: 0.2085\n",
            "IoU for HE: 0.2056\n",
            "Mean IoU: 0.1485\n",
            "AP for MA: 0.1014\n",
            "AP for EX: 0.5292\n",
            "AP for SE: 0.4325\n",
            "AP for HE: 0.3480\n",
            "Mean AP: 0.3528\n"
          ]
        },
        {
          "metadata": {
            "tags": null
          },
          "name": "stderr",
          "output_type": "stream",
          "text": [
            "Epoch 14/200 (Training): 100%|██████████| 20/20 [00:45<00:00,  2.29s/it]\n",
            "Epoch 14/200 (Validation): 100%|██████████| 8/8 [00:29<00:00,  3.75s/it]\n"
          ]
        },
        {
          "metadata": {
            "tags": null
          },
          "name": "stdout",
          "output_type": "stream",
          "text": [
            "Epoch 14/200\n",
            "Train Loss: 0.6893, Val Loss: 0.6786\n",
            "IoU for MA: 0.0570\n",
            "IoU for EX: 0.3748\n",
            "IoU for SE: 0.1021\n",
            "IoU for HE: 0.0754\n",
            "Mean IoU: 0.1523\n",
            "AP for MA: 0.1156\n",
            "AP for EX: 0.5128\n",
            "AP for SE: 0.3463\n",
            "AP for HE: 0.1613\n",
            "Mean AP: 0.2840\n"
          ]
        },
        {
          "metadata": {
            "tags": null
          },
          "name": "stderr",
          "output_type": "stream",
          "text": [
            "Epoch 15/200 (Training): 100%|██████████| 20/20 [00:42<00:00,  2.15s/it]\n",
            "Epoch 15/200 (Validation): 100%|██████████| 8/8 [00:45<00:00,  5.71s/it]\n"
          ]
        },
        {
          "metadata": {
            "tags": null
          },
          "name": "stdout",
          "output_type": "stream",
          "text": [
            "Epoch 15/200\n",
            "Train Loss: 0.6880, Val Loss: 0.6681\n",
            "IoU for MA: 0.0279\n",
            "IoU for EX: 0.1278\n",
            "IoU for SE: 0.4423\n",
            "IoU for HE: 0.1299\n",
            "Mean IoU: 0.1820\n",
            "AP for MA: 0.0936\n",
            "AP for EX: 0.2786\n",
            "AP for SE: 0.4472\n",
            "AP for HE: 0.2949\n",
            "Mean AP: 0.2786\n"
          ]
        },
        {
          "metadata": {
            "tags": null
          },
          "name": "stderr",
          "output_type": "stream",
          "text": [
            "Epoch 16/200 (Training): 100%|██████████| 20/20 [00:45<00:00,  2.26s/it]\n",
            "Epoch 16/200 (Validation): 100%|██████████| 8/8 [00:52<00:00,  6.59s/it]\n"
          ]
        },
        {
          "metadata": {
            "tags": null
          },
          "name": "stdout",
          "output_type": "stream",
          "text": [
            "Epoch 16/200\n",
            "Train Loss: 0.6818, Val Loss: 0.6690\n",
            "IoU for MA: 0.0262\n",
            "IoU for EX: 0.2747\n",
            "IoU for SE: 0.4343\n",
            "IoU for HE: 0.0894\n",
            "Mean IoU: 0.2061\n",
            "AP for MA: 0.0804\n",
            "AP for EX: 0.4563\n",
            "AP for SE: 0.4459\n",
            "AP for HE: 0.2201\n",
            "Mean AP: 0.3007\n"
          ]
        },
        {
          "metadata": {
            "tags": null
          },
          "name": "stderr",
          "output_type": "stream",
          "text": [
            "Epoch 17/200 (Training): 100%|██████████| 20/20 [00:42<00:00,  2.14s/it]\n",
            "Epoch 17/200 (Validation): 100%|██████████| 8/8 [00:37<00:00,  4.69s/it]\n"
          ]
        },
        {
          "metadata": {
            "tags": null
          },
          "name": "stdout",
          "output_type": "stream",
          "text": [
            "Epoch 17/200\n",
            "Train Loss: 0.6669, Val Loss: 0.6601\n",
            "IoU for MA: 0.0497\n",
            "IoU for EX: 0.1120\n",
            "IoU for SE: 0.1774\n",
            "IoU for HE: 0.2603\n",
            "Mean IoU: 0.1498\n",
            "AP for MA: 0.1210\n",
            "AP for EX: 0.3879\n",
            "AP for SE: 0.3708\n",
            "AP for HE: 0.3125\n",
            "Mean AP: 0.2981\n"
          ]
        },
        {
          "metadata": {
            "tags": null
          },
          "name": "stderr",
          "output_type": "stream",
          "text": [
            "Epoch 18/200 (Training): 100%|██████████| 20/20 [00:45<00:00,  2.26s/it]\n",
            "Epoch 18/200 (Validation): 100%|██████████| 8/8 [00:35<00:00,  4.40s/it]\n"
          ]
        },
        {
          "metadata": {
            "tags": null
          },
          "name": "stdout",
          "output_type": "stream",
          "text": [
            "Epoch 18/200\n",
            "Train Loss: 0.6493, Val Loss: 0.6700\n",
            "IoU for MA: 0.0610\n",
            "IoU for EX: 0.5435\n",
            "IoU for SE: 0.4544\n",
            "IoU for HE: 0.3462\n",
            "Mean IoU: 0.3513\n",
            "AP for MA: 0.1329\n",
            "AP for EX: 0.5562\n",
            "AP for SE: 0.4544\n",
            "AP for HE: 0.3433\n",
            "Mean AP: 0.3717\n",
            "Model saved with Mean IoU: 0.3513\n",
            "Model saved with Mean AP: 0.3717\n"
          ]
        },
        {
          "metadata": {
            "tags": null
          },
          "name": "stderr",
          "output_type": "stream",
          "text": [
            "Epoch 19/200 (Training): 100%|██████████| 20/20 [00:47<00:00,  2.40s/it]\n",
            "Epoch 19/200 (Validation): 100%|██████████| 8/8 [01:07<00:00,  8.50s/it]\n"
          ]
        },
        {
          "metadata": {
            "tags": null
          },
          "name": "stdout",
          "output_type": "stream",
          "text": [
            "Epoch 19/200\n",
            "Train Loss: 0.6429, Val Loss: 0.6579\n",
            "IoU for MA: 0.0183\n",
            "IoU for EX: 0.0772\n",
            "IoU for SE: 0.3327\n",
            "IoU for HE: 0.1644\n",
            "Mean IoU: 0.1481\n",
            "AP for MA: 0.0650\n",
            "AP for EX: 0.2096\n",
            "AP for SE: 0.4458\n",
            "AP for HE: 0.2345\n",
            "Mean AP: 0.2387\n"
          ]
        },
        {
          "metadata": {
            "tags": null
          },
          "name": "stderr",
          "output_type": "stream",
          "text": [
            "Epoch 20/200 (Training): 100%|██████████| 20/20 [00:44<00:00,  2.21s/it]\n",
            "Epoch 20/200 (Validation): 100%|██████████| 8/8 [01:09<00:00,  8.69s/it]\n"
          ]
        },
        {
          "metadata": {
            "tags": null
          },
          "name": "stdout",
          "output_type": "stream",
          "text": [
            "Epoch 20/200\n",
            "Train Loss: 0.6683, Val Loss: 0.6536\n",
            "IoU for MA: 0.0195\n",
            "IoU for EX: 0.5659\n",
            "IoU for SE: 0.4145\n",
            "IoU for HE: 0.1353\n",
            "Mean IoU: 0.2838\n",
            "AP for MA: 0.0730\n",
            "AP for EX: 0.5579\n",
            "AP for SE: 0.4575\n",
            "AP for HE: 0.2121\n",
            "Mean AP: 0.3251\n"
          ]
        },
        {
          "metadata": {
            "tags": null
          },
          "name": "stderr",
          "output_type": "stream",
          "text": [
            "Epoch 21/200 (Training): 100%|██████████| 20/20 [00:44<00:00,  2.21s/it]\n",
            "Epoch 21/200 (Validation): 100%|██████████| 8/8 [00:51<00:00,  6.44s/it]\n"
          ]
        },
        {
          "metadata": {
            "tags": null
          },
          "name": "stdout",
          "output_type": "stream",
          "text": [
            "Epoch 21/200\n",
            "Train Loss: 0.6492, Val Loss: 0.6949\n",
            "IoU for MA: 0.0216\n",
            "IoU for EX: 0.1596\n",
            "IoU for SE: 0.1639\n",
            "IoU for HE: 0.0208\n",
            "Mean IoU: 0.0915\n",
            "AP for MA: 0.0845\n",
            "AP for EX: 0.4154\n",
            "AP for SE: 0.3369\n",
            "AP for HE: 0.0815\n",
            "Mean AP: 0.2296\n"
          ]
        },
        {
          "metadata": {
            "tags": null
          },
          "name": "stderr",
          "output_type": "stream",
          "text": [
            "Epoch 22/200 (Training): 100%|██████████| 20/20 [00:42<00:00,  2.14s/it]\n",
            "Epoch 22/200 (Validation): 100%|██████████| 8/8 [00:30<00:00,  3.82s/it]\n"
          ]
        },
        {
          "metadata": {
            "tags": null
          },
          "name": "stdout",
          "output_type": "stream",
          "text": [
            "Epoch 22/200\n",
            "Train Loss: 0.6464, Val Loss: 0.6450\n",
            "IoU for MA: 0.0768\n",
            "IoU for EX: 0.4588\n",
            "IoU for SE: 0.3892\n",
            "IoU for HE: 0.2009\n",
            "Mean IoU: 0.2814\n",
            "AP for MA: 0.1452\n",
            "AP for EX: 0.5325\n",
            "AP for SE: 0.4971\n",
            "AP for HE: 0.2556\n",
            "Mean AP: 0.3576\n"
          ]
        },
        {
          "metadata": {
            "tags": null
          },
          "name": "stderr",
          "output_type": "stream",
          "text": [
            "Epoch 23/200 (Training): 100%|██████████| 20/20 [00:44<00:00,  2.20s/it]\n",
            "Epoch 23/200 (Validation): 100%|██████████| 8/8 [00:53<00:00,  6.64s/it]\n"
          ]
        },
        {
          "metadata": {
            "tags": null
          },
          "name": "stdout",
          "output_type": "stream",
          "text": [
            "Epoch 23/200\n",
            "Train Loss: 0.6668, Val Loss: 0.6333\n",
            "IoU for MA: 0.0274\n",
            "IoU for EX: 0.4007\n",
            "IoU for SE: 0.3932\n",
            "IoU for HE: 0.1639\n",
            "Mean IoU: 0.2463\n",
            "AP for MA: 0.0925\n",
            "AP for EX: 0.5242\n",
            "AP for SE: 0.4654\n",
            "AP for HE: 0.2602\n",
            "Mean AP: 0.3356\n"
          ]
        },
        {
          "metadata": {
            "tags": null
          },
          "name": "stderr",
          "output_type": "stream",
          "text": [
            "Epoch 24/200 (Training): 100%|██████████| 20/20 [00:44<00:00,  2.24s/it]\n",
            "Epoch 24/200 (Validation): 100%|██████████| 8/8 [00:42<00:00,  5.28s/it]\n"
          ]
        },
        {
          "metadata": {
            "tags": null
          },
          "name": "stdout",
          "output_type": "stream",
          "text": [
            "Epoch 24/200\n",
            "Train Loss: 0.6596, Val Loss: 0.6569\n",
            "IoU for MA: 0.0455\n",
            "IoU for EX: 0.3356\n",
            "IoU for SE: 0.3648\n",
            "IoU for HE: 0.1289\n",
            "Mean IoU: 0.2187\n",
            "AP for MA: 0.1172\n",
            "AP for EX: 0.4687\n",
            "AP for SE: 0.4710\n",
            "AP for HE: 0.2122\n",
            "Mean AP: 0.3173\n"
          ]
        },
        {
          "metadata": {
            "tags": null
          },
          "name": "stderr",
          "output_type": "stream",
          "text": [
            "Epoch 25/200 (Training): 100%|██████████| 20/20 [00:44<00:00,  2.23s/it]\n",
            "Epoch 25/200 (Validation): 100%|██████████| 8/8 [00:39<00:00,  4.91s/it]\n"
          ]
        },
        {
          "metadata": {
            "tags": null
          },
          "name": "stdout",
          "output_type": "stream",
          "text": [
            "Epoch 25/200\n",
            "Train Loss: 0.6371, Val Loss: 0.6376\n",
            "IoU for MA: 0.0403\n",
            "IoU for EX: 0.5602\n",
            "IoU for SE: 0.4201\n",
            "IoU for HE: 0.1892\n",
            "Mean IoU: 0.3024\n",
            "AP for MA: 0.1002\n",
            "AP for EX: 0.5617\n",
            "AP for SE: 0.5200\n",
            "AP for HE: 0.2832\n",
            "Mean AP: 0.3663\n"
          ]
        },
        {
          "metadata": {
            "tags": null
          },
          "name": "stderr",
          "output_type": "stream",
          "text": [
            "Epoch 26/200 (Training): 100%|██████████| 20/20 [00:44<00:00,  2.20s/it]\n",
            "Epoch 26/200 (Validation): 100%|██████████| 8/8 [00:39<00:00,  4.91s/it]\n"
          ]
        },
        {
          "metadata": {
            "tags": null
          },
          "name": "stdout",
          "output_type": "stream",
          "text": [
            "Epoch 26/200\n",
            "Train Loss: 0.6581, Val Loss: 0.6317\n",
            "IoU for MA: 0.0454\n",
            "IoU for EX: 0.2620\n",
            "IoU for SE: 0.4740\n",
            "IoU for HE: 0.2103\n",
            "Mean IoU: 0.2479\n",
            "AP for MA: 0.1109\n",
            "AP for EX: 0.4010\n",
            "AP for SE: 0.5417\n",
            "AP for HE: 0.2684\n",
            "Mean AP: 0.3305\n"
          ]
        },
        {
          "metadata": {
            "tags": null
          },
          "name": "stderr",
          "output_type": "stream",
          "text": [
            "Epoch 27/200 (Training): 100%|██████████| 20/20 [00:45<00:00,  2.30s/it]\n",
            "Epoch 27/200 (Validation): 100%|██████████| 8/8 [00:29<00:00,  3.63s/it]\n"
          ]
        },
        {
          "metadata": {
            "tags": null
          },
          "name": "stdout",
          "output_type": "stream",
          "text": [
            "Epoch 27/200\n",
            "Train Loss: 0.6698, Val Loss: 0.6880\n",
            "IoU for MA: 0.0752\n",
            "IoU for EX: 0.5574\n",
            "IoU for SE: 0.2410\n",
            "IoU for HE: 0.1344\n",
            "Mean IoU: 0.2520\n",
            "AP for MA: 0.1395\n",
            "AP for EX: 0.5565\n",
            "AP for SE: 0.3867\n",
            "AP for HE: 0.2001\n",
            "Mean AP: 0.3207\n"
          ]
        },
        {
          "metadata": {
            "tags": null
          },
          "name": "stderr",
          "output_type": "stream",
          "text": [
            "Epoch 28/200 (Training): 100%|██████████| 20/20 [00:45<00:00,  2.26s/it]\n",
            "Epoch 28/200 (Validation): 100%|██████████| 8/8 [00:40<00:00,  5.08s/it]\n"
          ]
        },
        {
          "metadata": {
            "tags": null
          },
          "name": "stdout",
          "output_type": "stream",
          "text": [
            "Epoch 28/200\n",
            "Train Loss: 0.6493, Val Loss: 0.6373\n",
            "IoU for MA: 0.0550\n",
            "IoU for EX: 0.5327\n",
            "IoU for SE: 0.4895\n",
            "IoU for HE: 0.2373\n",
            "Mean IoU: 0.3286\n",
            "AP for MA: 0.1281\n",
            "AP for EX: 0.5584\n",
            "AP for SE: 0.5369\n",
            "AP for HE: 0.2980\n",
            "Mean AP: 0.3804\n",
            "Model saved with Mean AP: 0.3804\n"
          ]
        },
        {
          "metadata": {
            "tags": null
          },
          "name": "stderr",
          "output_type": "stream",
          "text": [
            "Epoch 29/200 (Training): 100%|██████████| 20/20 [00:43<00:00,  2.15s/it]\n",
            "Epoch 29/200 (Validation): 100%|██████████| 8/8 [00:42<00:00,  5.33s/it]\n"
          ]
        },
        {
          "metadata": {
            "tags": null
          },
          "name": "stdout",
          "output_type": "stream",
          "text": [
            "Epoch 29/200\n",
            "Train Loss: 0.6234, Val Loss: 0.8576\n",
            "IoU for MA: 0.0190\n",
            "IoU for EX: 0.0269\n",
            "IoU for SE: 0.3471\n",
            "IoU for HE: 0.0409\n",
            "Mean IoU: 0.1085\n",
            "AP for MA: 0.0797\n",
            "AP for EX: 0.0622\n",
            "AP for SE: 0.4149\n",
            "AP for HE: 0.0936\n",
            "Mean AP: 0.1626\n"
          ]
        },
        {
          "metadata": {
            "tags": null
          },
          "name": "stderr",
          "output_type": "stream",
          "text": [
            "Epoch 30/200 (Training): 100%|██████████| 20/20 [00:44<00:00,  2.24s/it]\n",
            "Epoch 30/200 (Validation): 100%|██████████| 8/8 [00:42<00:00,  5.32s/it]\n"
          ]
        },
        {
          "metadata": {
            "tags": null
          },
          "name": "stdout",
          "output_type": "stream",
          "text": [
            "Epoch 30/200\n",
            "Train Loss: 0.6227, Val Loss: 0.6182\n",
            "IoU for MA: 0.0402\n",
            "IoU for EX: 0.5567\n",
            "IoU for SE: 0.4028\n",
            "IoU for HE: 0.2873\n",
            "Mean IoU: 0.3217\n",
            "AP for MA: 0.1099\n",
            "AP for EX: 0.5568\n",
            "AP for SE: 0.5162\n",
            "AP for HE: 0.3682\n",
            "Mean AP: 0.3878\n",
            "Model saved with Mean AP: 0.3878\n"
          ]
        },
        {
          "metadata": {
            "tags": null
          },
          "name": "stderr",
          "output_type": "stream",
          "text": [
            "Epoch 31/200 (Training): 100%|██████████| 20/20 [00:41<00:00,  2.10s/it]\n",
            "Epoch 31/200 (Validation): 100%|██████████| 8/8 [01:11<00:00,  8.90s/it]\n"
          ]
        },
        {
          "metadata": {
            "tags": null
          },
          "name": "stdout",
          "output_type": "stream",
          "text": [
            "Epoch 31/200\n",
            "Train Loss: 0.6311, Val Loss: 0.6286\n",
            "IoU for MA: 0.0176\n",
            "IoU for EX: 0.2859\n",
            "IoU for SE: 0.3272\n",
            "IoU for HE: 0.0979\n",
            "Mean IoU: 0.1822\n",
            "AP for MA: 0.0690\n",
            "AP for EX: 0.4456\n",
            "AP for SE: 0.4093\n",
            "AP for HE: 0.1843\n",
            "Mean AP: 0.2770\n"
          ]
        },
        {
          "metadata": {
            "tags": null
          },
          "name": "stderr",
          "output_type": "stream",
          "text": [
            "Epoch 32/200 (Training): 100%|██████████| 20/20 [00:45<00:00,  2.26s/it]\n",
            "Epoch 32/200 (Validation): 100%|██████████| 8/8 [01:34<00:00, 11.87s/it]\n"
          ]
        },
        {
          "metadata": {
            "tags": null
          },
          "name": "stdout",
          "output_type": "stream",
          "text": [
            "Epoch 32/200\n",
            "Train Loss: 0.6300, Val Loss: 0.6532\n",
            "IoU for MA: 0.0098\n",
            "IoU for EX: 0.1258\n",
            "IoU for SE: 0.1257\n",
            "IoU for HE: 0.0865\n",
            "Mean IoU: 0.0869\n",
            "AP for MA: 0.0497\n",
            "AP for EX: 0.3468\n",
            "AP for SE: 0.2299\n",
            "AP for HE: 0.1787\n",
            "Mean AP: 0.2013\n"
          ]
        },
        {
          "metadata": {
            "tags": null
          },
          "name": "stderr",
          "output_type": "stream",
          "text": [
            "Epoch 33/200 (Training): 100%|██████████| 20/20 [00:43<00:00,  2.18s/it]\n",
            "Epoch 33/200 (Validation): 100%|██████████| 8/8 [00:54<00:00,  6.84s/it]\n"
          ]
        },
        {
          "metadata": {
            "tags": null
          },
          "name": "stdout",
          "output_type": "stream",
          "text": [
            "Epoch 33/200\n",
            "Train Loss: 0.6345, Val Loss: 0.6221\n",
            "IoU for MA: 0.0285\n",
            "IoU for EX: 0.4314\n",
            "IoU for SE: 0.5020\n",
            "IoU for HE: 0.2829\n",
            "Mean IoU: 0.3112\n",
            "AP for MA: 0.0861\n",
            "AP for EX: 0.4883\n",
            "AP for SE: 0.5307\n",
            "AP for HE: 0.3612\n",
            "Mean AP: 0.3666\n"
          ]
        },
        {
          "metadata": {
            "tags": null
          },
          "name": "stderr",
          "output_type": "stream",
          "text": [
            "Epoch 34/200 (Training): 100%|██████████| 20/20 [00:43<00:00,  2.20s/it]\n",
            "Epoch 34/200 (Validation): 100%|██████████| 8/8 [00:52<00:00,  6.54s/it]\n"
          ]
        },
        {
          "metadata": {
            "tags": null
          },
          "name": "stdout",
          "output_type": "stream",
          "text": [
            "Epoch 34/200\n",
            "Train Loss: 0.6238, Val Loss: 0.6192\n",
            "IoU for MA: 0.0297\n",
            "IoU for EX: 0.0970\n",
            "IoU for SE: 0.4849\n",
            "IoU for HE: 0.1229\n",
            "Mean IoU: 0.1836\n",
            "AP for MA: 0.0908\n",
            "AP for EX: 0.2450\n",
            "AP for SE: 0.5417\n",
            "AP for HE: 0.2433\n",
            "Mean AP: 0.2802\n"
          ]
        },
        {
          "metadata": {
            "tags": null
          },
          "name": "stderr",
          "output_type": "stream",
          "text": [
            "Epoch 35/200 (Training): 100%|██████████| 20/20 [00:43<00:00,  2.16s/it]\n",
            "Epoch 35/200 (Validation): 100%|██████████| 8/8 [00:43<00:00,  5.50s/it]\n"
          ]
        },
        {
          "metadata": {
            "tags": null
          },
          "name": "stdout",
          "output_type": "stream",
          "text": [
            "Epoch 35/200\n",
            "Train Loss: 0.6195, Val Loss: 0.6117\n",
            "IoU for MA: 0.0374\n",
            "IoU for EX: 0.1802\n",
            "IoU for SE: 0.4017\n",
            "IoU for HE: 0.2000\n",
            "Mean IoU: 0.2048\n",
            "AP for MA: 0.0985\n",
            "AP for EX: 0.2992\n",
            "AP for SE: 0.5037\n",
            "AP for HE: 0.2844\n",
            "Mean AP: 0.2965\n"
          ]
        },
        {
          "metadata": {
            "tags": null
          },
          "name": "stderr",
          "output_type": "stream",
          "text": [
            "Epoch 36/200 (Training): 100%|██████████| 20/20 [00:41<00:00,  2.07s/it]\n",
            "Epoch 36/200 (Validation): 100%|██████████| 8/8 [00:43<00:00,  5.42s/it]\n"
          ]
        },
        {
          "metadata": {
            "tags": null
          },
          "name": "stdout",
          "output_type": "stream",
          "text": [
            "Epoch 36/200\n",
            "Train Loss: 0.6259, Val Loss: 0.6220\n",
            "IoU for MA: 0.0350\n",
            "IoU for EX: 0.5585\n",
            "IoU for SE: 0.4213\n",
            "IoU for HE: 0.2752\n",
            "Mean IoU: 0.3225\n",
            "AP for MA: 0.1061\n",
            "AP for EX: 0.5558\n",
            "AP for SE: 0.5215\n",
            "AP for HE: 0.3205\n",
            "Mean AP: 0.3760\n"
          ]
        },
        {
          "metadata": {
            "tags": null
          },
          "name": "stderr",
          "output_type": "stream",
          "text": [
            "Epoch 37/200 (Training): 100%|██████████| 20/20 [00:42<00:00,  2.14s/it]\n",
            "Epoch 37/200 (Validation): 100%|██████████| 8/8 [00:56<00:00,  7.07s/it]\n"
          ]
        },
        {
          "metadata": {
            "tags": null
          },
          "name": "stdout",
          "output_type": "stream",
          "text": [
            "Epoch 37/200\n",
            "Train Loss: 0.6099, Val Loss: 0.6078\n",
            "IoU for MA: 0.0268\n",
            "IoU for EX: 0.5075\n",
            "IoU for SE: 0.3367\n",
            "IoU for HE: 0.1335\n",
            "Mean IoU: 0.2511\n",
            "AP for MA: 0.0916\n",
            "AP for EX: 0.5418\n",
            "AP for SE: 0.4666\n",
            "AP for HE: 0.2684\n",
            "Mean AP: 0.3421\n"
          ]
        },
        {
          "metadata": {
            "tags": null
          },
          "name": "stderr",
          "output_type": "stream",
          "text": [
            "Epoch 38/200 (Training): 100%|██████████| 20/20 [00:47<00:00,  2.37s/it]\n",
            "Epoch 38/200 (Validation): 100%|██████████| 8/8 [00:49<00:00,  6.16s/it]\n"
          ]
        },
        {
          "metadata": {
            "tags": null
          },
          "name": "stdout",
          "output_type": "stream",
          "text": [
            "Epoch 38/200\n",
            "Train Loss: 0.6062, Val Loss: 0.6536\n",
            "IoU for MA: 0.0363\n",
            "IoU for EX: 0.2577\n",
            "IoU for SE: 0.4839\n",
            "IoU for HE: 0.3225\n",
            "Mean IoU: 0.2751\n",
            "AP for MA: 0.1114\n",
            "AP for EX: 0.3815\n",
            "AP for SE: 0.4836\n",
            "AP for HE: 0.3393\n",
            "Mean AP: 0.3289\n"
          ]
        },
        {
          "metadata": {
            "tags": null
          },
          "name": "stderr",
          "output_type": "stream",
          "text": [
            "Epoch 39/200 (Training): 100%|██████████| 20/20 [00:44<00:00,  2.20s/it]\n",
            "Epoch 39/200 (Validation): 100%|██████████| 8/8 [00:38<00:00,  4.76s/it]\n"
          ]
        },
        {
          "metadata": {
            "tags": null
          },
          "name": "stdout",
          "output_type": "stream",
          "text": [
            "Epoch 39/200\n",
            "Train Loss: 0.6118, Val Loss: 0.6436\n",
            "IoU for MA: 0.0558\n",
            "IoU for EX: 0.2172\n",
            "IoU for SE: 0.5487\n",
            "IoU for HE: 0.1913\n",
            "Mean IoU: 0.2533\n",
            "AP for MA: 0.1290\n",
            "AP for EX: 0.3069\n",
            "AP for SE: 0.5651\n",
            "AP for HE: 0.2609\n",
            "Mean AP: 0.3155\n"
          ]
        },
        {
          "metadata": {
            "tags": null
          },
          "name": "stderr",
          "output_type": "stream",
          "text": [
            "Epoch 40/200 (Training): 100%|██████████| 20/20 [00:43<00:00,  2.17s/it]\n",
            "Epoch 40/200 (Validation): 100%|██████████| 8/8 [00:53<00:00,  6.63s/it]\n"
          ]
        },
        {
          "metadata": {
            "tags": null
          },
          "name": "stdout",
          "output_type": "stream",
          "text": [
            "Epoch 40/200\n",
            "Train Loss: 0.5897, Val Loss: 0.6266\n",
            "IoU for MA: 0.0373\n",
            "IoU for EX: 0.5386\n",
            "IoU for SE: 0.5291\n",
            "IoU for HE: 0.3006\n",
            "Mean IoU: 0.3514\n",
            "AP for MA: 0.1068\n",
            "AP for EX: 0.5609\n",
            "AP for SE: 0.5619\n",
            "AP for HE: 0.3076\n",
            "Mean AP: 0.3843\n",
            "Model saved with Mean IoU: 0.3514\n"
          ]
        },
        {
          "metadata": {
            "tags": null
          },
          "name": "stderr",
          "output_type": "stream",
          "text": [
            "Epoch 41/200 (Training): 100%|██████████| 20/20 [00:46<00:00,  2.32s/it]\n",
            "Epoch 41/200 (Validation): 100%|██████████| 8/8 [01:06<00:00,  8.34s/it]\n"
          ]
        },
        {
          "metadata": {
            "tags": null
          },
          "name": "stdout",
          "output_type": "stream",
          "text": [
            "Epoch 41/200\n",
            "Train Loss: 0.5888, Val Loss: 0.6395\n",
            "IoU for MA: 0.0226\n",
            "IoU for EX: 0.1818\n",
            "IoU for SE: 0.1371\n",
            "IoU for HE: 0.2106\n",
            "Mean IoU: 0.1380\n",
            "AP for MA: 0.0758\n",
            "AP for EX: 0.3626\n",
            "AP for SE: 0.2430\n",
            "AP for HE: 0.2819\n",
            "Mean AP: 0.2408\n"
          ]
        },
        {
          "metadata": {
            "tags": null
          },
          "name": "stderr",
          "output_type": "stream",
          "text": [
            "Epoch 42/200 (Training): 100%|██████████| 20/20 [00:41<00:00,  2.10s/it]\n",
            "Epoch 42/200 (Validation): 100%|██████████| 8/8 [00:55<00:00,  6.89s/it]\n"
          ]
        },
        {
          "metadata": {
            "tags": null
          },
          "name": "stdout",
          "output_type": "stream",
          "text": [
            "Epoch 42/200\n",
            "Train Loss: 0.5850, Val Loss: 0.5880\n",
            "IoU for MA: 0.0274\n",
            "IoU for EX: 0.4081\n",
            "IoU for SE: 0.4249\n",
            "IoU for HE: 0.2796\n",
            "Mean IoU: 0.2850\n",
            "AP for MA: 0.0866\n",
            "AP for EX: 0.5009\n",
            "AP for SE: 0.5074\n",
            "AP for HE: 0.3982\n",
            "Mean AP: 0.3733\n"
          ]
        },
        {
          "metadata": {
            "tags": null
          },
          "name": "stderr",
          "output_type": "stream",
          "text": [
            "Epoch 43/200 (Training): 100%|██████████| 20/20 [00:43<00:00,  2.17s/it]\n",
            "Epoch 43/200 (Validation): 100%|██████████| 8/8 [00:40<00:00,  5.00s/it]\n"
          ]
        },
        {
          "metadata": {
            "tags": null
          },
          "name": "stdout",
          "output_type": "stream",
          "text": [
            "Epoch 43/200\n",
            "Train Loss: 0.5634, Val Loss: 0.5830\n",
            "IoU for MA: 0.0503\n",
            "IoU for EX: 0.5180\n",
            "IoU for SE: 0.4558\n",
            "IoU for HE: 0.3736\n",
            "Mean IoU: 0.3494\n",
            "AP for MA: 0.1354\n",
            "AP for EX: 0.5509\n",
            "AP for SE: 0.5496\n",
            "AP for HE: 0.3809\n",
            "Mean AP: 0.4042\n",
            "Model saved with Mean AP: 0.4042\n"
          ]
        },
        {
          "metadata": {
            "tags": null
          },
          "name": "stderr",
          "output_type": "stream",
          "text": [
            "Epoch 44/200 (Training): 100%|██████████| 20/20 [00:41<00:00,  2.08s/it]\n",
            "Epoch 44/200 (Validation): 100%|██████████| 8/8 [00:44<00:00,  5.62s/it]\n"
          ]
        },
        {
          "metadata": {
            "tags": null
          },
          "name": "stdout",
          "output_type": "stream",
          "text": [
            "Epoch 44/200\n",
            "Train Loss: 0.5769, Val Loss: 0.6064\n",
            "IoU for MA: 0.0412\n",
            "IoU for EX: 0.2926\n",
            "IoU for SE: 0.4498\n",
            "IoU for HE: 0.1989\n",
            "Mean IoU: 0.2456\n",
            "AP for MA: 0.1107\n",
            "AP for EX: 0.4426\n",
            "AP for SE: 0.5512\n",
            "AP for HE: 0.3106\n",
            "Mean AP: 0.3538\n"
          ]
        },
        {
          "metadata": {
            "tags": null
          },
          "name": "stderr",
          "output_type": "stream",
          "text": [
            "Epoch 45/200 (Training): 100%|██████████| 20/20 [00:43<00:00,  2.19s/it]\n",
            "Epoch 45/200 (Validation): 100%|██████████| 8/8 [00:33<00:00,  4.17s/it]\n"
          ]
        },
        {
          "metadata": {
            "tags": null
          },
          "name": "stdout",
          "output_type": "stream",
          "text": [
            "Epoch 45/200\n",
            "Train Loss: 0.5856, Val Loss: 0.6134\n",
            "IoU for MA: 0.0744\n",
            "IoU for EX: 0.5065\n",
            "IoU for SE: 0.5491\n",
            "IoU for HE: 0.3648\n",
            "Mean IoU: 0.3737\n",
            "AP for MA: 0.1416\n",
            "AP for EX: 0.5486\n",
            "AP for SE: 0.5884\n",
            "AP for HE: 0.4048\n",
            "Mean AP: 0.4208\n",
            "Model saved with Mean IoU: 0.3737\n",
            "Model saved with Mean AP: 0.4208\n"
          ]
        },
        {
          "metadata": {
            "tags": null
          },
          "name": "stderr",
          "output_type": "stream",
          "text": [
            "Epoch 46/200 (Training): 100%|██████████| 20/20 [00:42<00:00,  2.12s/it]\n",
            "Epoch 46/200 (Validation): 100%|██████████| 8/8 [00:34<00:00,  4.33s/it]\n"
          ]
        },
        {
          "metadata": {
            "tags": null
          },
          "name": "stdout",
          "output_type": "stream",
          "text": [
            "Epoch 46/200\n",
            "Train Loss: 0.5966, Val Loss: 0.6458\n",
            "IoU for MA: 0.0540\n",
            "IoU for EX: 0.1933\n",
            "IoU for SE: 0.3971\n",
            "IoU for HE: 0.2784\n",
            "Mean IoU: 0.2307\n",
            "AP for MA: 0.1313\n",
            "AP for EX: 0.3238\n",
            "AP for SE: 0.4836\n",
            "AP for HE: 0.3342\n",
            "Mean AP: 0.3182\n"
          ]
        },
        {
          "metadata": {
            "tags": null
          },
          "name": "stderr",
          "output_type": "stream",
          "text": [
            "Epoch 47/200 (Training): 100%|██████████| 20/20 [00:42<00:00,  2.15s/it]\n",
            "Epoch 47/200 (Validation): 100%|██████████| 8/8 [00:55<00:00,  6.89s/it]\n"
          ]
        },
        {
          "metadata": {
            "tags": null
          },
          "name": "stdout",
          "output_type": "stream",
          "text": [
            "Epoch 47/200\n",
            "Train Loss: 0.5952, Val Loss: 0.5848\n",
            "IoU for MA: 0.0331\n",
            "IoU for EX: 0.5611\n",
            "IoU for SE: 0.4258\n",
            "IoU for HE: 0.2979\n",
            "Mean IoU: 0.3295\n",
            "AP for MA: 0.0918\n",
            "AP for EX: 0.5650\n",
            "AP for SE: 0.5306\n",
            "AP for HE: 0.3872\n",
            "Mean AP: 0.3936\n"
          ]
        },
        {
          "metadata": {
            "tags": null
          },
          "name": "stderr",
          "output_type": "stream",
          "text": [
            "Epoch 48/200 (Training): 100%|██████████| 20/20 [00:44<00:00,  2.20s/it]\n",
            "Epoch 48/200 (Validation): 100%|██████████| 8/8 [00:46<00:00,  5.80s/it]\n"
          ]
        },
        {
          "metadata": {
            "tags": null
          },
          "name": "stdout",
          "output_type": "stream",
          "text": [
            "Epoch 48/200\n",
            "Train Loss: 0.5856, Val Loss: 0.5982\n",
            "IoU for MA: 0.0433\n",
            "IoU for EX: 0.2678\n",
            "IoU for SE: 0.5094\n",
            "IoU for HE: 0.2232\n",
            "Mean IoU: 0.2609\n",
            "AP for MA: 0.1199\n",
            "AP for EX: 0.3548\n",
            "AP for SE: 0.5833\n",
            "AP for HE: 0.3067\n",
            "Mean AP: 0.3412\n"
          ]
        },
        {
          "metadata": {
            "tags": null
          },
          "name": "stderr",
          "output_type": "stream",
          "text": [
            "Epoch 49/200 (Training): 100%|██████████| 20/20 [00:45<00:00,  2.25s/it]\n",
            "Epoch 49/200 (Validation): 100%|██████████| 8/8 [00:38<00:00,  4.76s/it]\n"
          ]
        },
        {
          "metadata": {
            "tags": null
          },
          "name": "stdout",
          "output_type": "stream",
          "text": [
            "Epoch 49/200\n",
            "Train Loss: 0.5843, Val Loss: 0.6205\n",
            "IoU for MA: 0.0510\n",
            "IoU for EX: 0.5464\n",
            "IoU for SE: 0.3399\n",
            "IoU for HE: 0.3206\n",
            "Mean IoU: 0.3145\n",
            "AP for MA: 0.1246\n",
            "AP for EX: 0.5542\n",
            "AP for SE: 0.4431\n",
            "AP for HE: 0.3672\n",
            "Mean AP: 0.3723\n"
          ]
        },
        {
          "metadata": {
            "tags": null
          },
          "name": "stderr",
          "output_type": "stream",
          "text": [
            "Epoch 50/200 (Training): 100%|██████████| 20/20 [00:43<00:00,  2.17s/it]\n",
            "Epoch 50/200 (Validation): 100%|██████████| 8/8 [00:54<00:00,  6.83s/it]\n"
          ]
        },
        {
          "metadata": {
            "tags": null
          },
          "name": "stdout",
          "output_type": "stream",
          "text": [
            "Epoch 50/200\n",
            "Train Loss: 0.5808, Val Loss: 0.6033\n",
            "IoU for MA: 0.0325\n",
            "IoU for EX: 0.2155\n",
            "IoU for SE: 0.5198\n",
            "IoU for HE: 0.2762\n",
            "Mean IoU: 0.2610\n",
            "AP for MA: 0.1078\n",
            "AP for EX: 0.3241\n",
            "AP for SE: 0.5643\n",
            "AP for HE: 0.3811\n",
            "Mean AP: 0.3443\n"
          ]
        },
        {
          "metadata": {
            "tags": null
          },
          "name": "stderr",
          "output_type": "stream",
          "text": [
            "Epoch 51/200 (Training): 100%|██████████| 20/20 [00:45<00:00,  2.25s/it]\n",
            "Epoch 51/200 (Validation): 100%|██████████| 8/8 [00:59<00:00,  7.43s/it]\n"
          ]
        },
        {
          "metadata": {
            "tags": null
          },
          "name": "stdout",
          "output_type": "stream",
          "text": [
            "Epoch 51/200\n",
            "Train Loss: 0.5752, Val Loss: 0.6274\n",
            "IoU for MA: 0.0314\n",
            "IoU for EX: 0.5259\n",
            "IoU for SE: 0.4812\n",
            "IoU for HE: 0.3652\n",
            "Mean IoU: 0.3509\n",
            "AP for MA: 0.1022\n",
            "AP for EX: 0.5529\n",
            "AP for SE: 0.4795\n",
            "AP for HE: 0.3868\n",
            "Mean AP: 0.3804\n"
          ]
        },
        {
          "metadata": {
            "tags": null
          },
          "name": "stderr",
          "output_type": "stream",
          "text": [
            "Epoch 52/200 (Training): 100%|██████████| 20/20 [00:43<00:00,  2.16s/it]\n",
            "Epoch 52/200 (Validation): 100%|██████████| 8/8 [00:36<00:00,  4.61s/it]\n"
          ]
        },
        {
          "metadata": {
            "tags": null
          },
          "name": "stdout",
          "output_type": "stream",
          "text": [
            "Epoch 52/200\n",
            "Train Loss: 0.5934, Val Loss: 0.6090\n",
            "IoU for MA: 0.0643\n",
            "IoU for EX: 0.3052\n",
            "IoU for SE: 0.4627\n",
            "IoU for HE: 0.3610\n",
            "Mean IoU: 0.2983\n",
            "AP for MA: 0.1544\n",
            "AP for EX: 0.4020\n",
            "AP for SE: 0.5429\n",
            "AP for HE: 0.4135\n",
            "Mean AP: 0.3782\n"
          ]
        },
        {
          "metadata": {
            "tags": null
          },
          "name": "stderr",
          "output_type": "stream",
          "text": [
            "Epoch 53/200 (Training): 100%|██████████| 20/20 [00:44<00:00,  2.21s/it]\n",
            "Epoch 53/200 (Validation): 100%|██████████| 8/8 [00:45<00:00,  5.73s/it]\n"
          ]
        },
        {
          "metadata": {
            "tags": null
          },
          "name": "stdout",
          "output_type": "stream",
          "text": [
            "Epoch 53/200\n",
            "Train Loss: 0.5712, Val Loss: 0.5967\n",
            "IoU for MA: 0.0358\n",
            "IoU for EX: 0.4695\n",
            "IoU for SE: 0.4866\n",
            "IoU for HE: 0.3097\n",
            "Mean IoU: 0.3254\n",
            "AP for MA: 0.1098\n",
            "AP for EX: 0.5165\n",
            "AP for SE: 0.5348\n",
            "AP for HE: 0.3664\n",
            "Mean AP: 0.3819\n"
          ]
        },
        {
          "metadata": {
            "tags": null
          },
          "name": "stderr",
          "output_type": "stream",
          "text": [
            "Epoch 54/200 (Training): 100%|██████████| 20/20 [00:44<00:00,  2.22s/it]\n",
            "Epoch 54/200 (Validation): 100%|██████████| 8/8 [00:55<00:00,  6.88s/it]\n"
          ]
        },
        {
          "metadata": {
            "tags": null
          },
          "name": "stdout",
          "output_type": "stream",
          "text": [
            "Epoch 54/200\n",
            "Train Loss: 0.5558, Val Loss: 0.5992\n",
            "IoU for MA: 0.0376\n",
            "IoU for EX: 0.5539\n",
            "IoU for SE: 0.5231\n",
            "IoU for HE: 0.2541\n",
            "Mean IoU: 0.3422\n",
            "AP for MA: 0.1074\n",
            "AP for EX: 0.5570\n",
            "AP for SE: 0.5426\n",
            "AP for HE: 0.3298\n",
            "Mean AP: 0.3842\n"
          ]
        },
        {
          "metadata": {
            "tags": null
          },
          "name": "stderr",
          "output_type": "stream",
          "text": [
            "Epoch 55/200 (Training): 100%|██████████| 20/20 [00:42<00:00,  2.14s/it]\n",
            "Epoch 55/200 (Validation): 100%|██████████| 8/8 [00:48<00:00,  6.04s/it]\n"
          ]
        },
        {
          "metadata": {
            "tags": null
          },
          "name": "stdout",
          "output_type": "stream",
          "text": [
            "Epoch 55/200\n",
            "Train Loss: 0.5752, Val Loss: 0.6313\n",
            "IoU for MA: 0.0407\n",
            "IoU for EX: 0.5349\n",
            "IoU for SE: 0.5195\n",
            "IoU for HE: 0.3568\n",
            "Mean IoU: 0.3630\n",
            "AP for MA: 0.1006\n",
            "AP for EX: 0.5611\n",
            "AP for SE: 0.5477\n",
            "AP for HE: 0.3974\n",
            "Mean AP: 0.4017\n"
          ]
        },
        {
          "metadata": {
            "tags": null
          },
          "name": "stderr",
          "output_type": "stream",
          "text": [
            "Epoch 56/200 (Training): 100%|██████████| 20/20 [00:43<00:00,  2.19s/it]\n",
            "Epoch 56/200 (Validation): 100%|██████████| 8/8 [00:31<00:00,  3.91s/it]\n"
          ]
        },
        {
          "metadata": {
            "tags": null
          },
          "name": "stdout",
          "output_type": "stream",
          "text": [
            "Epoch 56/200\n",
            "Train Loss: 0.5714, Val Loss: 0.6217\n",
            "IoU for MA: 0.0961\n",
            "IoU for EX: 0.3910\n",
            "IoU for SE: 0.5014\n",
            "IoU for HE: 0.3773\n",
            "Mean IoU: 0.3415\n",
            "AP for MA: 0.1712\n",
            "AP for EX: 0.4669\n",
            "AP for SE: 0.5442\n",
            "AP for HE: 0.4215\n",
            "Mean AP: 0.4010\n"
          ]
        },
        {
          "metadata": {
            "tags": null
          },
          "name": "stderr",
          "output_type": "stream",
          "text": [
            "Epoch 57/200 (Training): 100%|██████████| 20/20 [00:41<00:00,  2.09s/it]\n",
            "Epoch 57/200 (Validation): 100%|██████████| 8/8 [00:52<00:00,  6.52s/it]\n"
          ]
        },
        {
          "metadata": {
            "tags": null
          },
          "name": "stdout",
          "output_type": "stream",
          "text": [
            "Epoch 57/200\n",
            "Train Loss: 0.5546, Val Loss: 0.5819\n",
            "IoU for MA: 0.0336\n",
            "IoU for EX: 0.4855\n",
            "IoU for SE: 0.4743\n",
            "IoU for HE: 0.3387\n",
            "Mean IoU: 0.3330\n",
            "AP for MA: 0.1049\n",
            "AP for EX: 0.5385\n",
            "AP for SE: 0.5422\n",
            "AP for HE: 0.4000\n",
            "Mean AP: 0.3964\n"
          ]
        },
        {
          "metadata": {
            "tags": null
          },
          "name": "stderr",
          "output_type": "stream",
          "text": [
            "Epoch 58/200 (Training): 100%|██████████| 20/20 [00:42<00:00,  2.15s/it]\n",
            "Epoch 58/200 (Validation): 100%|██████████| 8/8 [00:44<00:00,  5.54s/it]\n"
          ]
        },
        {
          "metadata": {
            "tags": null
          },
          "name": "stdout",
          "output_type": "stream",
          "text": [
            "Epoch 58/200\n",
            "Train Loss: 0.5575, Val Loss: 0.5973\n",
            "IoU for MA: 0.0456\n",
            "IoU for EX: 0.5143\n",
            "IoU for SE: 0.4510\n",
            "IoU for HE: 0.3681\n",
            "Mean IoU: 0.3447\n",
            "AP for MA: 0.1136\n",
            "AP for EX: 0.5480\n",
            "AP for SE: 0.5296\n",
            "AP for HE: 0.3947\n",
            "Mean AP: 0.3965\n"
          ]
        },
        {
          "metadata": {
            "tags": null
          },
          "name": "stderr",
          "output_type": "stream",
          "text": [
            "Epoch 59/200 (Training): 100%|██████████| 20/20 [00:45<00:00,  2.26s/it]\n",
            "Epoch 59/200 (Validation): 100%|██████████| 8/8 [00:50<00:00,  6.37s/it]\n"
          ]
        },
        {
          "metadata": {
            "tags": null
          },
          "name": "stdout",
          "output_type": "stream",
          "text": [
            "Epoch 59/200\n",
            "Train Loss: 0.5568, Val Loss: 0.6720\n",
            "IoU for MA: 0.0265\n",
            "IoU for EX: 0.0529\n",
            "IoU for SE: 0.4501\n",
            "IoU for HE: 0.1089\n",
            "Mean IoU: 0.1596\n",
            "AP for MA: 0.0931\n",
            "AP for EX: 0.1076\n",
            "AP for SE: 0.4821\n",
            "AP for HE: 0.2114\n",
            "Mean AP: 0.2236\n"
          ]
        },
        {
          "metadata": {
            "tags": null
          },
          "name": "stderr",
          "output_type": "stream",
          "text": [
            "Epoch 60/200 (Training): 100%|██████████| 20/20 [00:44<00:00,  2.23s/it]\n",
            "Epoch 60/200 (Validation): 100%|██████████| 8/8 [00:55<00:00,  6.95s/it]\n"
          ]
        },
        {
          "metadata": {
            "tags": null
          },
          "name": "stdout",
          "output_type": "stream",
          "text": [
            "Epoch 60/200\n",
            "Train Loss: 0.5601, Val Loss: 0.5923\n",
            "IoU for MA: 0.0319\n",
            "IoU for EX: 0.4021\n",
            "IoU for SE: 0.5380\n",
            "IoU for HE: 0.3498\n",
            "Mean IoU: 0.3304\n",
            "AP for MA: 0.1075\n",
            "AP for EX: 0.5138\n",
            "AP for SE: 0.5685\n",
            "AP for HE: 0.3814\n",
            "Mean AP: 0.3928\n"
          ]
        },
        {
          "metadata": {
            "tags": null
          },
          "name": "stderr",
          "output_type": "stream",
          "text": [
            "Epoch 61/200 (Training): 100%|██████████| 20/20 [00:42<00:00,  2.13s/it]\n",
            "Epoch 61/200 (Validation): 100%|██████████| 8/8 [00:41<00:00,  5.20s/it]\n"
          ]
        },
        {
          "metadata": {
            "tags": null
          },
          "name": "stdout",
          "output_type": "stream",
          "text": [
            "Epoch 61/200\n",
            "Train Loss: 0.5568, Val Loss: 0.5912\n",
            "IoU for MA: 0.0477\n",
            "IoU for EX: 0.3650\n",
            "IoU for SE: 0.5064\n",
            "IoU for HE: 0.3772\n",
            "Mean IoU: 0.3241\n",
            "AP for MA: 0.1241\n",
            "AP for EX: 0.4525\n",
            "AP for SE: 0.5643\n",
            "AP for HE: 0.4149\n",
            "Mean AP: 0.3890\n"
          ]
        },
        {
          "metadata": {
            "tags": null
          },
          "name": "stderr",
          "output_type": "stream",
          "text": [
            "Epoch 62/200 (Training): 100%|██████████| 20/20 [00:45<00:00,  2.30s/it]\n",
            "Epoch 62/200 (Validation): 100%|██████████| 8/8 [00:42<00:00,  5.29s/it]\n"
          ]
        },
        {
          "metadata": {
            "tags": null
          },
          "name": "stdout",
          "output_type": "stream",
          "text": [
            "Epoch 62/200\n",
            "Train Loss: 0.5392, Val Loss: 0.6058\n",
            "IoU for MA: 0.0458\n",
            "IoU for EX: 0.5254\n",
            "IoU for SE: 0.5229\n",
            "IoU for HE: 0.3501\n",
            "Mean IoU: 0.3611\n",
            "AP for MA: 0.1287\n",
            "AP for EX: 0.5523\n",
            "AP for SE: 0.6018\n",
            "AP for HE: 0.3611\n",
            "Mean AP: 0.4110\n"
          ]
        },
        {
          "metadata": {
            "tags": null
          },
          "name": "stderr",
          "output_type": "stream",
          "text": [
            "Epoch 63/200 (Training): 100%|██████████| 20/20 [00:42<00:00,  2.14s/it]\n",
            "Epoch 63/200 (Validation): 100%|██████████| 8/8 [00:50<00:00,  6.30s/it]\n"
          ]
        },
        {
          "metadata": {
            "tags": null
          },
          "name": "stdout",
          "output_type": "stream",
          "text": [
            "Epoch 63/200\n",
            "Train Loss: 0.5543, Val Loss: 0.5802\n",
            "IoU for MA: 0.0414\n",
            "IoU for EX: 0.5519\n",
            "IoU for SE: 0.4922\n",
            "IoU for HE: 0.3738\n",
            "Mean IoU: 0.3648\n",
            "AP for MA: 0.1122\n",
            "AP for EX: 0.5549\n",
            "AP for SE: 0.5635\n",
            "AP for HE: 0.4223\n",
            "Mean AP: 0.4132\n"
          ]
        },
        {
          "metadata": {
            "tags": null
          },
          "name": "stderr",
          "output_type": "stream",
          "text": [
            "Epoch 64/200 (Training): 100%|██████████| 20/20 [00:43<00:00,  2.17s/it]\n",
            "Epoch 64/200 (Validation): 100%|██████████| 8/8 [00:51<00:00,  6.48s/it]\n"
          ]
        },
        {
          "metadata": {
            "tags": null
          },
          "name": "stdout",
          "output_type": "stream",
          "text": [
            "Epoch 64/200\n",
            "Train Loss: 0.5480, Val Loss: 0.5660\n",
            "IoU for MA: 0.0345\n",
            "IoU for EX: 0.4983\n",
            "IoU for SE: 0.4314\n",
            "IoU for HE: 0.3966\n",
            "Mean IoU: 0.3402\n",
            "AP for MA: 0.1055\n",
            "AP for EX: 0.5329\n",
            "AP for SE: 0.5274\n",
            "AP for HE: 0.4314\n",
            "Mean AP: 0.3993\n"
          ]
        },
        {
          "metadata": {
            "tags": null
          },
          "name": "stderr",
          "output_type": "stream",
          "text": [
            "Epoch 65/200 (Training): 100%|██████████| 20/20 [00:44<00:00,  2.24s/it]\n",
            "Epoch 65/200 (Validation): 100%|██████████| 8/8 [00:40<00:00,  5.03s/it]\n"
          ]
        },
        {
          "metadata": {
            "tags": null
          },
          "name": "stdout",
          "output_type": "stream",
          "text": [
            "Epoch 65/200\n",
            "Train Loss: 0.5373, Val Loss: 0.5838\n",
            "IoU for MA: 0.0531\n",
            "IoU for EX: 0.5037\n",
            "IoU for SE: 0.5211\n",
            "IoU for HE: 0.3579\n",
            "Mean IoU: 0.3590\n",
            "AP for MA: 0.1361\n",
            "AP for EX: 0.5318\n",
            "AP for SE: 0.5787\n",
            "AP for HE: 0.4284\n",
            "Mean AP: 0.4187\n"
          ]
        },
        {
          "metadata": {
            "tags": null
          },
          "name": "stderr",
          "output_type": "stream",
          "text": [
            "Epoch 66/200 (Training): 100%|██████████| 20/20 [00:45<00:00,  2.29s/it]\n",
            "Epoch 66/200 (Validation): 100%|██████████| 8/8 [00:36<00:00,  4.51s/it]\n"
          ]
        },
        {
          "metadata": {
            "tags": null
          },
          "name": "stdout",
          "output_type": "stream",
          "text": [
            "Epoch 66/200\n",
            "Train Loss: 0.5437, Val Loss: 0.5831\n",
            "IoU for MA: 0.0680\n",
            "IoU for EX: 0.5272\n",
            "IoU for SE: 0.5237\n",
            "IoU for HE: 0.3971\n",
            "Mean IoU: 0.3790\n",
            "AP for MA: 0.1508\n",
            "AP for EX: 0.5479\n",
            "AP for SE: 0.5741\n",
            "AP for HE: 0.4365\n",
            "Mean AP: 0.4273\n",
            "Model saved with Mean IoU: 0.3790\n",
            "Model saved with Mean AP: 0.4273\n"
          ]
        },
        {
          "metadata": {
            "tags": null
          },
          "name": "stderr",
          "output_type": "stream",
          "text": [
            "Epoch 67/200 (Training): 100%|██████████| 20/20 [00:42<00:00,  2.12s/it]\n",
            "Epoch 67/200 (Validation): 100%|██████████| 8/8 [00:37<00:00,  4.65s/it]\n"
          ]
        },
        {
          "metadata": {
            "tags": null
          },
          "name": "stdout",
          "output_type": "stream",
          "text": [
            "Epoch 67/200\n",
            "Train Loss: 0.5367, Val Loss: 0.6030\n",
            "IoU for MA: 0.0593\n",
            "IoU for EX: 0.5326\n",
            "IoU for SE: 0.5208\n",
            "IoU for HE: 0.3921\n",
            "Mean IoU: 0.3762\n",
            "AP for MA: 0.1450\n",
            "AP for EX: 0.5419\n",
            "AP for SE: 0.5327\n",
            "AP for HE: 0.4073\n",
            "Mean AP: 0.4067\n"
          ]
        },
        {
          "metadata": {
            "tags": null
          },
          "name": "stderr",
          "output_type": "stream",
          "text": [
            "Epoch 68/200 (Training): 100%|██████████| 20/20 [00:45<00:00,  2.29s/it]\n",
            "Epoch 68/200 (Validation): 100%|██████████| 8/8 [00:51<00:00,  6.40s/it]\n"
          ]
        },
        {
          "metadata": {
            "tags": null
          },
          "name": "stdout",
          "output_type": "stream",
          "text": [
            "Epoch 68/200\n",
            "Train Loss: 0.5426, Val Loss: 0.5700\n",
            "IoU for MA: 0.0371\n",
            "IoU for EX: 0.5495\n",
            "IoU for SE: 0.4633\n",
            "IoU for HE: 0.3556\n",
            "Mean IoU: 0.3514\n",
            "AP for MA: 0.1063\n",
            "AP for EX: 0.5576\n",
            "AP for SE: 0.5451\n",
            "AP for HE: 0.3947\n",
            "Mean AP: 0.4009\n"
          ]
        },
        {
          "metadata": {
            "tags": null
          },
          "name": "stderr",
          "output_type": "stream",
          "text": [
            "Epoch 69/200 (Training): 100%|██████████| 20/20 [00:42<00:00,  2.10s/it]\n",
            "Epoch 69/200 (Validation): 100%|██████████| 8/8 [00:34<00:00,  4.27s/it]\n"
          ]
        },
        {
          "metadata": {
            "tags": null
          },
          "name": "stdout",
          "output_type": "stream",
          "text": [
            "Epoch 69/200\n",
            "Train Loss: 0.5248, Val Loss: 0.6276\n",
            "IoU for MA: 0.0649\n",
            "IoU for EX: 0.5568\n",
            "IoU for SE: 0.5236\n",
            "IoU for HE: 0.3553\n",
            "Mean IoU: 0.3752\n",
            "AP for MA: 0.1462\n",
            "AP for EX: 0.5563\n",
            "AP for SE: 0.5465\n",
            "AP for HE: 0.4240\n",
            "Mean AP: 0.4183\n"
          ]
        },
        {
          "metadata": {
            "tags": null
          },
          "name": "stderr",
          "output_type": "stream",
          "text": [
            "Epoch 70/200 (Training): 100%|██████████| 20/20 [00:44<00:00,  2.21s/it]\n",
            "Epoch 70/200 (Validation): 100%|██████████| 8/8 [00:35<00:00,  4.47s/it]\n"
          ]
        },
        {
          "metadata": {
            "tags": null
          },
          "name": "stdout",
          "output_type": "stream",
          "text": [
            "Epoch 70/200\n",
            "Train Loss: 0.5523, Val Loss: 0.6228\n",
            "IoU for MA: 0.0768\n",
            "IoU for EX: 0.5192\n",
            "IoU for SE: 0.5274\n",
            "IoU for HE: 0.3784\n",
            "Mean IoU: 0.3754\n",
            "AP for MA: 0.1604\n",
            "AP for EX: 0.5396\n",
            "AP for SE: 0.5508\n",
            "AP for HE: 0.3914\n",
            "Mean AP: 0.4106\n"
          ]
        },
        {
          "metadata": {
            "tags": null
          },
          "name": "stderr",
          "output_type": "stream",
          "text": [
            "Epoch 71/200 (Training): 100%|██████████| 20/20 [00:41<00:00,  2.09s/it]\n",
            "Epoch 71/200 (Validation): 100%|██████████| 8/8 [00:37<00:00,  4.73s/it]\n"
          ]
        },
        {
          "metadata": {
            "tags": null
          },
          "name": "stdout",
          "output_type": "stream",
          "text": [
            "Epoch 71/200\n",
            "Train Loss: 0.5302, Val Loss: 0.5858\n",
            "IoU for MA: 0.0583\n",
            "IoU for EX: 0.5066\n",
            "IoU for SE: 0.5008\n",
            "IoU for HE: 0.3685\n",
            "Mean IoU: 0.3586\n",
            "AP for MA: 0.1448\n",
            "AP for EX: 0.5477\n",
            "AP for SE: 0.5600\n",
            "AP for HE: 0.4503\n",
            "Mean AP: 0.4257\n"
          ]
        },
        {
          "metadata": {
            "tags": null
          },
          "name": "stderr",
          "output_type": "stream",
          "text": [
            "Epoch 72/200 (Training): 100%|██████████| 20/20 [00:46<00:00,  2.31s/it]\n",
            "Epoch 72/200 (Validation): 100%|██████████| 8/8 [00:40<00:00,  5.02s/it]\n"
          ]
        },
        {
          "metadata": {
            "tags": null
          },
          "name": "stdout",
          "output_type": "stream",
          "text": [
            "Epoch 72/200\n",
            "Train Loss: 0.5361, Val Loss: 0.5938\n",
            "IoU for MA: 0.0599\n",
            "IoU for EX: 0.5310\n",
            "IoU for SE: 0.5142\n",
            "IoU for HE: 0.3787\n",
            "Mean IoU: 0.3710\n",
            "AP for MA: 0.1451\n",
            "AP for EX: 0.5594\n",
            "AP for SE: 0.5576\n",
            "AP for HE: 0.4191\n",
            "Mean AP: 0.4203\n"
          ]
        },
        {
          "metadata": {
            "tags": null
          },
          "name": "stderr",
          "output_type": "stream",
          "text": [
            "Epoch 73/200 (Training): 100%|██████████| 20/20 [00:43<00:00,  2.16s/it]\n",
            "Epoch 73/200 (Validation): 100%|██████████| 8/8 [00:52<00:00,  6.59s/it]\n"
          ]
        },
        {
          "metadata": {
            "tags": null
          },
          "name": "stdout",
          "output_type": "stream",
          "text": [
            "Epoch 73/200\n",
            "Train Loss: 0.5283, Val Loss: 0.5775\n",
            "IoU for MA: 0.0373\n",
            "IoU for EX: 0.5304\n",
            "IoU for SE: 0.5038\n",
            "IoU for HE: 0.3209\n",
            "Mean IoU: 0.3481\n",
            "AP for MA: 0.1074\n",
            "AP for EX: 0.5559\n",
            "AP for SE: 0.5520\n",
            "AP for HE: 0.3990\n",
            "Mean AP: 0.4036\n"
          ]
        },
        {
          "metadata": {
            "tags": null
          },
          "name": "stderr",
          "output_type": "stream",
          "text": [
            "Epoch 74/200 (Training): 100%|██████████| 20/20 [00:46<00:00,  2.34s/it]\n",
            "Epoch 74/200 (Validation): 100%|██████████| 8/8 [01:15<00:00,  9.45s/it]\n"
          ]
        },
        {
          "metadata": {
            "tags": null
          },
          "name": "stdout",
          "output_type": "stream",
          "text": [
            "Epoch 74/200\n",
            "Train Loss: 0.5336, Val Loss: 0.5943\n",
            "IoU for MA: 0.0170\n",
            "IoU for EX: 0.4963\n",
            "IoU for SE: 0.3589\n",
            "IoU for HE: 0.3215\n",
            "Mean IoU: 0.2984\n",
            "AP for MA: 0.0682\n",
            "AP for EX: 0.5268\n",
            "AP for SE: 0.4481\n",
            "AP for HE: 0.4031\n",
            "Mean AP: 0.3615\n"
          ]
        },
        {
          "metadata": {
            "tags": null
          },
          "name": "stderr",
          "output_type": "stream",
          "text": [
            "Epoch 75/200 (Training): 100%|██████████| 20/20 [00:42<00:00,  2.13s/it]\n",
            "Epoch 75/200 (Validation): 100%|██████████| 8/8 [00:42<00:00,  5.27s/it]\n"
          ]
        },
        {
          "metadata": {
            "tags": null
          },
          "name": "stdout",
          "output_type": "stream",
          "text": [
            "Epoch 75/200\n",
            "Train Loss: 0.5485, Val Loss: 0.5818\n",
            "IoU for MA: 0.0454\n",
            "IoU for EX: 0.5416\n",
            "IoU for SE: 0.4609\n",
            "IoU for HE: 0.3542\n",
            "Mean IoU: 0.3505\n",
            "AP for MA: 0.1142\n",
            "AP for EX: 0.5505\n",
            "AP for SE: 0.5436\n",
            "AP for HE: 0.4227\n",
            "Mean AP: 0.4078\n"
          ]
        },
        {
          "metadata": {
            "tags": null
          },
          "name": "stderr",
          "output_type": "stream",
          "text": [
            "Epoch 76/200 (Training): 100%|██████████| 20/20 [00:43<00:00,  2.17s/it]\n",
            "Epoch 76/200 (Validation): 100%|██████████| 8/8 [01:11<00:00,  8.92s/it]\n"
          ]
        },
        {
          "metadata": {
            "tags": null
          },
          "name": "stdout",
          "output_type": "stream",
          "text": [
            "Epoch 76/200\n",
            "Train Loss: 0.5392, Val Loss: 0.5792\n",
            "IoU for MA: 0.0205\n",
            "IoU for EX: 0.5103\n",
            "IoU for SE: 0.5327\n",
            "IoU for HE: 0.3690\n",
            "Mean IoU: 0.3581\n",
            "AP for MA: 0.0674\n",
            "AP for EX: 0.5294\n",
            "AP for SE: 0.5797\n",
            "AP for HE: 0.4303\n",
            "Mean AP: 0.4017\n"
          ]
        },
        {
          "metadata": {
            "tags": null
          },
          "name": "stderr",
          "output_type": "stream",
          "text": [
            "Epoch 77/200 (Training): 100%|██████████| 20/20 [00:41<00:00,  2.05s/it]\n",
            "Epoch 77/200 (Validation): 100%|██████████| 8/8 [01:05<00:00,  8.19s/it]\n"
          ]
        },
        {
          "metadata": {
            "tags": null
          },
          "name": "stdout",
          "output_type": "stream",
          "text": [
            "Epoch 77/200\n",
            "Train Loss: 0.5370, Val Loss: 0.5803\n",
            "IoU for MA: 0.0253\n",
            "IoU for EX: 0.5047\n",
            "IoU for SE: 0.5214\n",
            "IoU for HE: 0.3215\n",
            "Mean IoU: 0.3432\n",
            "AP for MA: 0.0868\n",
            "AP for EX: 0.5461\n",
            "AP for SE: 0.5757\n",
            "AP for HE: 0.4298\n",
            "Mean AP: 0.4096\n"
          ]
        },
        {
          "metadata": {
            "tags": null
          },
          "name": "stderr",
          "output_type": "stream",
          "text": [
            "Epoch 78/200 (Training): 100%|██████████| 20/20 [00:44<00:00,  2.20s/it]\n",
            "Epoch 78/200 (Validation): 100%|██████████| 8/8 [00:45<00:00,  5.63s/it]\n"
          ]
        },
        {
          "metadata": {
            "tags": null
          },
          "name": "stdout",
          "output_type": "stream",
          "text": [
            "Epoch 78/200\n",
            "Train Loss: 0.5227, Val Loss: 0.6212\n",
            "IoU for MA: 0.0405\n",
            "IoU for EX: 0.5503\n",
            "IoU for SE: 0.4886\n",
            "IoU for HE: 0.3520\n",
            "Mean IoU: 0.3579\n",
            "AP for MA: 0.1091\n",
            "AP for EX: 0.5545\n",
            "AP for SE: 0.5071\n",
            "AP for HE: 0.4190\n",
            "Mean AP: 0.3974\n"
          ]
        },
        {
          "metadata": {
            "tags": null
          },
          "name": "stderr",
          "output_type": "stream",
          "text": [
            "Epoch 79/200 (Training): 100%|██████████| 20/20 [00:44<00:00,  2.20s/it]\n",
            "Epoch 79/200 (Validation): 100%|██████████| 8/8 [00:42<00:00,  5.27s/it]\n"
          ]
        },
        {
          "metadata": {
            "tags": null
          },
          "name": "stdout",
          "output_type": "stream",
          "text": [
            "Epoch 79/200\n",
            "Train Loss: 0.5073, Val Loss: 0.5910\n",
            "IoU for MA: 0.0620\n",
            "IoU for EX: 0.5380\n",
            "IoU for SE: 0.5206\n",
            "IoU for HE: 0.3557\n",
            "Mean IoU: 0.3691\n",
            "AP for MA: 0.1411\n",
            "AP for EX: 0.5509\n",
            "AP for SE: 0.5423\n",
            "AP for HE: 0.4592\n",
            "Mean AP: 0.4234\n"
          ]
        },
        {
          "metadata": {
            "tags": null
          },
          "name": "stderr",
          "output_type": "stream",
          "text": [
            "Epoch 80/200 (Training): 100%|██████████| 20/20 [00:44<00:00,  2.21s/it]\n",
            "Epoch 80/200 (Validation): 100%|██████████| 8/8 [00:40<00:00,  5.06s/it]\n"
          ]
        },
        {
          "metadata": {
            "tags": null
          },
          "name": "stdout",
          "output_type": "stream",
          "text": [
            "Epoch 80/200\n",
            "Train Loss: 0.5159, Val Loss: 0.5830\n",
            "IoU for MA: 0.0523\n",
            "IoU for EX: 0.3246\n",
            "IoU for SE: 0.5255\n",
            "IoU for HE: 0.3838\n",
            "Mean IoU: 0.3216\n",
            "AP for MA: 0.1351\n",
            "AP for EX: 0.4502\n",
            "AP for SE: 0.5584\n",
            "AP for HE: 0.4179\n",
            "Mean AP: 0.3904\n"
          ]
        },
        {
          "metadata": {
            "tags": null
          },
          "name": "stderr",
          "output_type": "stream",
          "text": [
            "Epoch 81/200 (Training): 100%|██████████| 20/20 [00:42<00:00,  2.14s/it]\n",
            "Epoch 81/200 (Validation): 100%|██████████| 8/8 [00:35<00:00,  4.46s/it]\n"
          ]
        },
        {
          "metadata": {
            "tags": null
          },
          "name": "stdout",
          "output_type": "stream",
          "text": [
            "Epoch 81/200\n",
            "Train Loss: 0.5678, Val Loss: 0.6127\n",
            "IoU for MA: 0.0685\n",
            "IoU for EX: 0.5622\n",
            "IoU for SE: 0.4773\n",
            "IoU for HE: 0.3600\n",
            "Mean IoU: 0.3670\n",
            "AP for MA: 0.1428\n",
            "AP for EX: 0.5649\n",
            "AP for SE: 0.5299\n",
            "AP for HE: 0.4293\n",
            "Mean AP: 0.4167\n"
          ]
        },
        {
          "metadata": {
            "tags": null
          },
          "name": "stderr",
          "output_type": "stream",
          "text": [
            "Epoch 82/200 (Training): 100%|██████████| 20/20 [00:44<00:00,  2.20s/it]\n",
            "Epoch 82/200 (Validation): 100%|██████████| 8/8 [01:35<00:00, 11.88s/it]\n"
          ]
        },
        {
          "metadata": {
            "tags": null
          },
          "name": "stdout",
          "output_type": "stream",
          "text": [
            "Epoch 82/200\n",
            "Train Loss: 0.5212, Val Loss: 0.6200\n",
            "IoU for MA: 0.0081\n",
            "IoU for EX: 0.5477\n",
            "IoU for SE: 0.4444\n",
            "IoU for HE: 0.2414\n",
            "Mean IoU: 0.3104\n",
            "AP for MA: 0.0314\n",
            "AP for EX: 0.5555\n",
            "AP for SE: 0.5220\n",
            "AP for HE: 0.3079\n",
            "Mean AP: 0.3542\n"
          ]
        },
        {
          "metadata": {
            "tags": null
          },
          "name": "stderr",
          "output_type": "stream",
          "text": [
            "Epoch 83/200 (Training): 100%|██████████| 20/20 [00:43<00:00,  2.15s/it]\n",
            "Epoch 83/200 (Validation): 100%|██████████| 8/8 [00:35<00:00,  4.47s/it]\n"
          ]
        },
        {
          "metadata": {
            "tags": null
          },
          "name": "stdout",
          "output_type": "stream",
          "text": [
            "Epoch 83/200\n",
            "Train Loss: 0.5427, Val Loss: 0.6058\n",
            "IoU for MA: 0.0781\n",
            "IoU for EX: 0.5394\n",
            "IoU for SE: 0.5242\n",
            "IoU for HE: 0.3733\n",
            "Mean IoU: 0.3788\n",
            "AP for MA: 0.1488\n",
            "AP for EX: 0.5509\n",
            "AP for SE: 0.5481\n",
            "AP for HE: 0.4643\n",
            "Mean AP: 0.4280\n",
            "Model saved with Mean AP: 0.4280\n"
          ]
        },
        {
          "metadata": {
            "tags": null
          },
          "name": "stderr",
          "output_type": "stream",
          "text": [
            "Epoch 84/200 (Training): 100%|██████████| 20/20 [00:45<00:00,  2.28s/it]\n",
            "Epoch 84/200 (Validation): 100%|██████████| 8/8 [00:48<00:00,  6.10s/it]\n"
          ]
        },
        {
          "metadata": {
            "tags": null
          },
          "name": "stdout",
          "output_type": "stream",
          "text": [
            "Epoch 84/200\n",
            "Train Loss: 0.5326, Val Loss: 0.5890\n",
            "IoU for MA: 0.0360\n",
            "IoU for EX: 0.4729\n",
            "IoU for SE: 0.5254\n",
            "IoU for HE: 0.3765\n",
            "Mean IoU: 0.3527\n",
            "AP for MA: 0.1089\n",
            "AP for EX: 0.5230\n",
            "AP for SE: 0.5503\n",
            "AP for HE: 0.4683\n",
            "Mean AP: 0.4126\n"
          ]
        },
        {
          "metadata": {
            "tags": null
          },
          "name": "stderr",
          "output_type": "stream",
          "text": [
            "Epoch 85/200 (Training): 100%|██████████| 20/20 [00:43<00:00,  2.18s/it]\n",
            "Epoch 85/200 (Validation): 100%|██████████| 8/8 [01:03<00:00,  7.96s/it]\n"
          ]
        },
        {
          "metadata": {
            "tags": null
          },
          "name": "stdout",
          "output_type": "stream",
          "text": [
            "Epoch 85/200\n",
            "Train Loss: 0.5099, Val Loss: 0.5670\n",
            "IoU for MA: 0.0219\n",
            "IoU for EX: 0.4729\n",
            "IoU for SE: 0.5212\n",
            "IoU for HE: 0.3775\n",
            "Mean IoU: 0.3484\n",
            "AP for MA: 0.0805\n",
            "AP for EX: 0.5375\n",
            "AP for SE: 0.5911\n",
            "AP for HE: 0.4295\n",
            "Mean AP: 0.4096\n"
          ]
        },
        {
          "metadata": {
            "tags": null
          },
          "name": "stderr",
          "output_type": "stream",
          "text": [
            "Epoch 86/200 (Training): 100%|██████████| 20/20 [00:42<00:00,  2.14s/it]\n",
            "Epoch 86/200 (Validation): 100%|██████████| 8/8 [00:37<00:00,  4.70s/it]\n"
          ]
        },
        {
          "metadata": {
            "tags": null
          },
          "name": "stdout",
          "output_type": "stream",
          "text": [
            "Epoch 86/200\n",
            "Train Loss: 0.5148, Val Loss: 0.5799\n",
            "IoU for MA: 0.0601\n",
            "IoU for EX: 0.5085\n",
            "IoU for SE: 0.5068\n",
            "IoU for HE: 0.3924\n",
            "Mean IoU: 0.3670\n",
            "AP for MA: 0.1383\n",
            "AP for EX: 0.5516\n",
            "AP for SE: 0.5665\n",
            "AP for HE: 0.4699\n",
            "Mean AP: 0.4316\n",
            "Model saved with Mean AP: 0.4316\n"
          ]
        },
        {
          "metadata": {
            "tags": null
          },
          "name": "stderr",
          "output_type": "stream",
          "text": [
            "Epoch 87/200 (Training): 100%|██████████| 20/20 [00:43<00:00,  2.17s/it]\n",
            "Epoch 87/200 (Validation): 100%|██████████| 8/8 [00:49<00:00,  6.25s/it]\n"
          ]
        },
        {
          "metadata": {
            "tags": null
          },
          "name": "stdout",
          "output_type": "stream",
          "text": [
            "Epoch 87/200\n",
            "Train Loss: 0.5224, Val Loss: 0.5882\n",
            "IoU for MA: 0.0367\n",
            "IoU for EX: 0.4917\n",
            "IoU for SE: 0.4955\n",
            "IoU for HE: 0.3607\n",
            "Mean IoU: 0.3462\n",
            "AP for MA: 0.1126\n",
            "AP for EX: 0.5380\n",
            "AP for SE: 0.5360\n",
            "AP for HE: 0.3960\n",
            "Mean AP: 0.3956\n"
          ]
        },
        {
          "metadata": {
            "tags": null
          },
          "name": "stderr",
          "output_type": "stream",
          "text": [
            "Epoch 88/200 (Training): 100%|██████████| 20/20 [00:43<00:00,  2.19s/it]\n",
            "Epoch 88/200 (Validation): 100%|██████████| 8/8 [01:17<00:00,  9.66s/it]\n"
          ]
        },
        {
          "metadata": {
            "tags": null
          },
          "name": "stdout",
          "output_type": "stream",
          "text": [
            "Epoch 88/200\n",
            "Train Loss: 0.5075, Val Loss: 0.5972\n",
            "IoU for MA: 0.0176\n",
            "IoU for EX: 0.5632\n",
            "IoU for SE: 0.3312\n",
            "IoU for HE: 0.3739\n",
            "Mean IoU: 0.3215\n",
            "AP for MA: 0.0590\n",
            "AP for EX: 0.5655\n",
            "AP for SE: 0.4350\n",
            "AP for HE: 0.4279\n",
            "Mean AP: 0.3718\n"
          ]
        },
        {
          "metadata": {
            "tags": null
          },
          "name": "stderr",
          "output_type": "stream",
          "text": [
            "Epoch 89/200 (Training): 100%|██████████| 20/20 [00:43<00:00,  2.19s/it]\n",
            "Epoch 89/200 (Validation): 100%|██████████| 8/8 [01:08<00:00,  8.50s/it]\n"
          ]
        },
        {
          "metadata": {
            "tags": null
          },
          "name": "stdout",
          "output_type": "stream",
          "text": [
            "Epoch 89/200\n",
            "Train Loss: 0.5170, Val Loss: 0.5802\n",
            "IoU for MA: 0.0230\n",
            "IoU for EX: 0.5496\n",
            "IoU for SE: 0.4817\n",
            "IoU for HE: 0.3714\n",
            "Mean IoU: 0.3565\n",
            "AP for MA: 0.0803\n",
            "AP for EX: 0.5529\n",
            "AP for SE: 0.5690\n",
            "AP for HE: 0.3992\n",
            "Mean AP: 0.4003\n"
          ]
        },
        {
          "metadata": {
            "tags": null
          },
          "name": "stderr",
          "output_type": "stream",
          "text": [
            "Epoch 90/200 (Training): 100%|██████████| 20/20 [00:42<00:00,  2.12s/it]\n",
            "Epoch 90/200 (Validation): 100%|██████████| 8/8 [00:44<00:00,  5.55s/it]\n"
          ]
        },
        {
          "metadata": {
            "tags": null
          },
          "name": "stdout",
          "output_type": "stream",
          "text": [
            "Epoch 90/200\n",
            "Train Loss: 0.4986, Val Loss: 0.5851\n",
            "IoU for MA: 0.0531\n",
            "IoU for EX: 0.5335\n",
            "IoU for SE: 0.5656\n",
            "IoU for HE: 0.3806\n",
            "Mean IoU: 0.3832\n",
            "AP for MA: 0.1340\n",
            "AP for EX: 0.5529\n",
            "AP for SE: 0.6149\n",
            "AP for HE: 0.4008\n",
            "Mean AP: 0.4256\n",
            "Model saved with Mean IoU: 0.3832\n"
          ]
        },
        {
          "metadata": {
            "tags": null
          },
          "name": "stderr",
          "output_type": "stream",
          "text": [
            "Epoch 91/200 (Training): 100%|██████████| 20/20 [00:42<00:00,  2.15s/it]\n",
            "Epoch 91/200 (Validation): 100%|██████████| 8/8 [00:49<00:00,  6.21s/it]\n"
          ]
        },
        {
          "metadata": {
            "tags": null
          },
          "name": "stdout",
          "output_type": "stream",
          "text": [
            "Epoch 91/200\n",
            "Train Loss: 0.5142, Val Loss: 0.5754\n",
            "IoU for MA: 0.0449\n",
            "IoU for EX: 0.4669\n",
            "IoU for SE: 0.5316\n",
            "IoU for HE: 0.3338\n",
            "Mean IoU: 0.3443\n",
            "AP for MA: 0.1174\n",
            "AP for EX: 0.5342\n",
            "AP for SE: 0.5822\n",
            "AP for HE: 0.4288\n",
            "Mean AP: 0.4156\n"
          ]
        },
        {
          "metadata": {
            "tags": null
          },
          "name": "stderr",
          "output_type": "stream",
          "text": [
            "Epoch 92/200 (Training): 100%|██████████| 20/20 [00:43<00:00,  2.17s/it]\n",
            "Epoch 92/200 (Validation): 100%|██████████| 8/8 [01:00<00:00,  7.54s/it]\n"
          ]
        },
        {
          "metadata": {
            "tags": null
          },
          "name": "stdout",
          "output_type": "stream",
          "text": [
            "Epoch 92/200\n",
            "Train Loss: 0.5151, Val Loss: 0.5980\n",
            "IoU for MA: 0.0269\n",
            "IoU for EX: 0.4777\n",
            "IoU for SE: 0.5072\n",
            "IoU for HE: 0.3557\n",
            "Mean IoU: 0.3419\n",
            "AP for MA: 0.0809\n",
            "AP for EX: 0.5226\n",
            "AP for SE: 0.5396\n",
            "AP for HE: 0.4055\n",
            "Mean AP: 0.3872\n"
          ]
        },
        {
          "metadata": {
            "tags": null
          },
          "name": "stderr",
          "output_type": "stream",
          "text": [
            "Epoch 93/200 (Training): 100%|██████████| 20/20 [00:44<00:00,  2.22s/it]\n",
            "Epoch 93/200 (Validation): 100%|██████████| 8/8 [00:44<00:00,  5.61s/it]\n"
          ]
        },
        {
          "metadata": {
            "tags": null
          },
          "name": "stdout",
          "output_type": "stream",
          "text": [
            "Epoch 93/200\n",
            "Train Loss: 0.5214, Val Loss: 0.5733\n",
            "IoU for MA: 0.0502\n",
            "IoU for EX: 0.5377\n",
            "IoU for SE: 0.5337\n",
            "IoU for HE: 0.3791\n",
            "Mean IoU: 0.3752\n",
            "AP for MA: 0.1360\n",
            "AP for EX: 0.5519\n",
            "AP for SE: 0.5947\n",
            "AP for HE: 0.4074\n",
            "Mean AP: 0.4225\n"
          ]
        },
        {
          "metadata": {
            "tags": null
          },
          "name": "stderr",
          "output_type": "stream",
          "text": [
            "Epoch 94/200 (Training): 100%|██████████| 20/20 [00:43<00:00,  2.18s/it]\n",
            "Epoch 94/200 (Validation): 100%|██████████| 8/8 [00:40<00:00,  5.06s/it]\n"
          ]
        },
        {
          "metadata": {
            "tags": null
          },
          "name": "stdout",
          "output_type": "stream",
          "text": [
            "Epoch 94/200\n",
            "Train Loss: 0.4806, Val Loss: 0.5777\n",
            "IoU for MA: 0.0604\n",
            "IoU for EX: 0.5232\n",
            "IoU for SE: 0.5536\n",
            "IoU for HE: 0.3947\n",
            "Mean IoU: 0.3830\n",
            "AP for MA: 0.1469\n",
            "AP for EX: 0.5418\n",
            "AP for SE: 0.5932\n",
            "AP for HE: 0.4359\n",
            "Mean AP: 0.4295\n"
          ]
        },
        {
          "metadata": {
            "tags": null
          },
          "name": "stderr",
          "output_type": "stream",
          "text": [
            "Epoch 95/200 (Training): 100%|██████████| 20/20 [00:43<00:00,  2.17s/it]\n",
            "Epoch 95/200 (Validation): 100%|██████████| 8/8 [00:34<00:00,  4.27s/it]\n"
          ]
        },
        {
          "metadata": {
            "tags": null
          },
          "name": "stdout",
          "output_type": "stream",
          "text": [
            "Epoch 95/200\n",
            "Train Loss: 0.5084, Val Loss: 0.6170\n",
            "IoU for MA: 0.0911\n",
            "IoU for EX: 0.5474\n",
            "IoU for SE: 0.5279\n",
            "IoU for HE: 0.3940\n",
            "Mean IoU: 0.3901\n",
            "AP for MA: 0.1694\n",
            "AP for EX: 0.5684\n",
            "AP for SE: 0.5704\n",
            "AP for HE: 0.4301\n",
            "Mean AP: 0.4346\n",
            "Model saved with Mean IoU: 0.3901\n",
            "Model saved with Mean AP: 0.4346\n"
          ]
        },
        {
          "metadata": {
            "tags": null
          },
          "name": "stderr",
          "output_type": "stream",
          "text": [
            "Epoch 96/200 (Training): 100%|██████████| 20/20 [00:41<00:00,  2.07s/it]\n",
            "Epoch 96/200 (Validation): 100%|██████████| 8/8 [01:00<00:00,  7.60s/it]\n"
          ]
        },
        {
          "metadata": {
            "tags": null
          },
          "name": "stdout",
          "output_type": "stream",
          "text": [
            "Epoch 96/200\n",
            "Train Loss: 0.5022, Val Loss: 0.5647\n",
            "IoU for MA: 0.0312\n",
            "IoU for EX: 0.4406\n",
            "IoU for SE: 0.5503\n",
            "IoU for HE: 0.3945\n",
            "Mean IoU: 0.3541\n",
            "AP for MA: 0.0964\n",
            "AP for EX: 0.5122\n",
            "AP for SE: 0.6029\n",
            "AP for HE: 0.4466\n",
            "Mean AP: 0.4145\n"
          ]
        },
        {
          "metadata": {
            "tags": null
          },
          "name": "stderr",
          "output_type": "stream",
          "text": [
            "Epoch 97/200 (Training): 100%|██████████| 20/20 [00:45<00:00,  2.27s/it]\n",
            "Epoch 97/200 (Validation): 100%|██████████| 8/8 [00:47<00:00,  5.98s/it]\n"
          ]
        },
        {
          "metadata": {
            "tags": null
          },
          "name": "stdout",
          "output_type": "stream",
          "text": [
            "Epoch 97/200\n",
            "Train Loss: 0.4913, Val Loss: 0.5727\n",
            "IoU for MA: 0.0440\n",
            "IoU for EX: 0.5217\n",
            "IoU for SE: 0.5112\n",
            "IoU for HE: 0.4057\n",
            "Mean IoU: 0.3707\n",
            "AP for MA: 0.1166\n",
            "AP for EX: 0.5560\n",
            "AP for SE: 0.5559\n",
            "AP for HE: 0.4404\n",
            "Mean AP: 0.4172\n"
          ]
        },
        {
          "metadata": {
            "tags": null
          },
          "name": "stderr",
          "output_type": "stream",
          "text": [
            "Epoch 98/200 (Training): 100%|██████████| 20/20 [00:42<00:00,  2.14s/it]\n",
            "Epoch 98/200 (Validation): 100%|██████████| 8/8 [00:44<00:00,  5.52s/it]\n"
          ]
        },
        {
          "metadata": {
            "tags": null
          },
          "name": "stdout",
          "output_type": "stream",
          "text": [
            "Epoch 98/200\n",
            "Train Loss: 0.4932, Val Loss: 0.5683\n",
            "IoU for MA: 0.0493\n",
            "IoU for EX: 0.4736\n",
            "IoU for SE: 0.5637\n",
            "IoU for HE: 0.4060\n",
            "Mean IoU: 0.3732\n",
            "AP for MA: 0.1338\n",
            "AP for EX: 0.5246\n",
            "AP for SE: 0.5996\n",
            "AP for HE: 0.4332\n",
            "Mean AP: 0.4228\n"
          ]
        },
        {
          "metadata": {
            "tags": null
          },
          "name": "stderr",
          "output_type": "stream",
          "text": [
            "Epoch 99/200 (Training): 100%|██████████| 20/20 [00:44<00:00,  2.22s/it]\n",
            "Epoch 99/200 (Validation): 100%|██████████| 8/8 [00:55<00:00,  6.98s/it]\n"
          ]
        },
        {
          "metadata": {
            "tags": null
          },
          "name": "stdout",
          "output_type": "stream",
          "text": [
            "Epoch 99/200\n",
            "Train Loss: 0.4982, Val Loss: 0.5610\n",
            "IoU for MA: 0.0372\n",
            "IoU for EX: 0.5177\n",
            "IoU for SE: 0.5333\n",
            "IoU for HE: 0.4034\n",
            "Mean IoU: 0.3729\n",
            "AP for MA: 0.1116\n",
            "AP for EX: 0.5513\n",
            "AP for SE: 0.5857\n",
            "AP for HE: 0.4480\n",
            "Mean AP: 0.4241\n"
          ]
        },
        {
          "metadata": {
            "tags": null
          },
          "name": "stderr",
          "output_type": "stream",
          "text": [
            "Epoch 100/200 (Training): 100%|██████████| 20/20 [00:45<00:00,  2.26s/it]\n",
            "Epoch 100/200 (Validation): 100%|██████████| 8/8 [00:48<00:00,  6.05s/it]\n"
          ]
        },
        {
          "metadata": {
            "tags": null
          },
          "name": "stdout",
          "output_type": "stream",
          "text": [
            "Epoch 100/200\n",
            "Train Loss: 0.4943, Val Loss: 0.5625\n",
            "IoU for MA: 0.0419\n",
            "IoU for EX: 0.5149\n",
            "IoU for SE: 0.5712\n",
            "IoU for HE: 0.3720\n",
            "Mean IoU: 0.3750\n",
            "AP for MA: 0.1124\n",
            "AP for EX: 0.5444\n",
            "AP for SE: 0.6150\n",
            "AP for HE: 0.4740\n",
            "Mean AP: 0.4364\n",
            "Model saved with Mean AP: 0.4364\n"
          ]
        },
        {
          "metadata": {
            "tags": null
          },
          "name": "stderr",
          "output_type": "stream",
          "text": [
            "Epoch 101/200 (Training): 100%|██████████| 20/20 [00:45<00:00,  2.26s/it]\n",
            "Epoch 101/200 (Validation): 100%|██████████| 8/8 [00:37<00:00,  4.66s/it]\n"
          ]
        },
        {
          "metadata": {
            "tags": null
          },
          "name": "stdout",
          "output_type": "stream",
          "text": [
            "Epoch 101/200\n",
            "Train Loss: 0.4873, Val Loss: 0.5938\n",
            "IoU for MA: 0.0690\n",
            "IoU for EX: 0.5334\n",
            "IoU for SE: 0.5170\n",
            "IoU for HE: 0.4022\n",
            "Mean IoU: 0.3804\n",
            "AP for MA: 0.1459\n",
            "AP for EX: 0.5498\n",
            "AP for SE: 0.5495\n",
            "AP for HE: 0.4527\n",
            "Mean AP: 0.4245\n"
          ]
        },
        {
          "metadata": {
            "tags": null
          },
          "name": "stderr",
          "output_type": "stream",
          "text": [
            "Epoch 102/200 (Training): 100%|██████████| 20/20 [00:43<00:00,  2.17s/it]\n",
            "Epoch 102/200 (Validation): 100%|██████████| 8/8 [00:46<00:00,  5.86s/it]\n"
          ]
        },
        {
          "metadata": {
            "tags": null
          },
          "name": "stdout",
          "output_type": "stream",
          "text": [
            "Epoch 102/200\n",
            "Train Loss: 0.4872, Val Loss: 0.5701\n",
            "IoU for MA: 0.0474\n",
            "IoU for EX: 0.5421\n",
            "IoU for SE: 0.5319\n",
            "IoU for HE: 0.4086\n",
            "Mean IoU: 0.3825\n",
            "AP for MA: 0.1209\n",
            "AP for EX: 0.5534\n",
            "AP for SE: 0.5787\n",
            "AP for HE: 0.4525\n",
            "Mean AP: 0.4264\n"
          ]
        },
        {
          "metadata": {
            "tags": null
          },
          "name": "stderr",
          "output_type": "stream",
          "text": [
            "Epoch 103/200 (Training): 100%|██████████| 20/20 [00:44<00:00,  2.21s/it]\n",
            "Epoch 103/200 (Validation): 100%|██████████| 8/8 [00:59<00:00,  7.40s/it]\n"
          ]
        },
        {
          "metadata": {
            "tags": null
          },
          "name": "stdout",
          "output_type": "stream",
          "text": [
            "Epoch 103/200\n",
            "Train Loss: 0.4911, Val Loss: 0.5564\n",
            "IoU for MA: 0.0294\n",
            "IoU for EX: 0.5392\n",
            "IoU for SE: 0.5457\n",
            "IoU for HE: 0.3956\n",
            "Mean IoU: 0.3775\n",
            "AP for MA: 0.0932\n",
            "AP for EX: 0.5526\n",
            "AP for SE: 0.6139\n",
            "AP for HE: 0.4526\n",
            "Mean AP: 0.4281\n"
          ]
        },
        {
          "metadata": {
            "tags": null
          },
          "name": "stderr",
          "output_type": "stream",
          "text": [
            "Epoch 104/200 (Training): 100%|██████████| 20/20 [00:43<00:00,  2.16s/it]\n",
            "Epoch 104/200 (Validation): 100%|██████████| 8/8 [00:40<00:00,  5.04s/it]\n"
          ]
        },
        {
          "metadata": {
            "tags": null
          },
          "name": "stdout",
          "output_type": "stream",
          "text": [
            "Epoch 104/200\n",
            "Train Loss: 0.4904, Val Loss: 0.5848\n",
            "IoU for MA: 0.0632\n",
            "IoU for EX: 0.5295\n",
            "IoU for SE: 0.5399\n",
            "IoU for HE: 0.3987\n",
            "Mean IoU: 0.3828\n",
            "AP for MA: 0.1448\n",
            "AP for EX: 0.5531\n",
            "AP for SE: 0.5811\n",
            "AP for HE: 0.4363\n",
            "Mean AP: 0.4288\n"
          ]
        },
        {
          "metadata": {
            "tags": null
          },
          "name": "stderr",
          "output_type": "stream",
          "text": [
            "Epoch 105/200 (Training): 100%|██████████| 20/20 [00:43<00:00,  2.16s/it]\n",
            "Epoch 105/200 (Validation): 100%|██████████| 8/8 [00:57<00:00,  7.21s/it]\n"
          ]
        },
        {
          "metadata": {
            "tags": null
          },
          "name": "stdout",
          "output_type": "stream",
          "text": [
            "Epoch 105/200\n",
            "Train Loss: 0.5036, Val Loss: 0.5816\n",
            "IoU for MA: 0.0358\n",
            "IoU for EX: 0.5119\n",
            "IoU for SE: 0.5397\n",
            "IoU for HE: 0.3702\n",
            "Mean IoU: 0.3644\n",
            "AP for MA: 0.0965\n",
            "AP for EX: 0.5541\n",
            "AP for SE: 0.5874\n",
            "AP for HE: 0.4604\n",
            "Mean AP: 0.4246\n"
          ]
        },
        {
          "metadata": {
            "tags": null
          },
          "name": "stderr",
          "output_type": "stream",
          "text": [
            "Epoch 106/200 (Training): 100%|██████████| 20/20 [00:45<00:00,  2.26s/it]\n",
            "Epoch 106/200 (Validation): 100%|██████████| 8/8 [00:53<00:00,  6.72s/it]\n"
          ]
        },
        {
          "metadata": {
            "tags": null
          },
          "name": "stdout",
          "output_type": "stream",
          "text": [
            "Epoch 106/200\n",
            "Train Loss: 0.4835, Val Loss: 0.5589\n",
            "IoU for MA: 0.0333\n",
            "IoU for EX: 0.4790\n",
            "IoU for SE: 0.5154\n",
            "IoU for HE: 0.3818\n",
            "Mean IoU: 0.3524\n",
            "AP for MA: 0.0944\n",
            "AP for EX: 0.5282\n",
            "AP for SE: 0.5802\n",
            "AP for HE: 0.4575\n",
            "Mean AP: 0.4150\n"
          ]
        },
        {
          "metadata": {
            "tags": null
          },
          "name": "stderr",
          "output_type": "stream",
          "text": [
            "Epoch 107/200 (Training): 100%|██████████| 20/20 [00:44<00:00,  2.20s/it]\n",
            "Epoch 107/200 (Validation): 100%|██████████| 8/8 [00:58<00:00,  7.25s/it]\n"
          ]
        },
        {
          "metadata": {
            "tags": null
          },
          "name": "stdout",
          "output_type": "stream",
          "text": [
            "Epoch 107/200\n",
            "Train Loss: 0.5053, Val Loss: 0.5751\n",
            "IoU for MA: 0.0281\n",
            "IoU for EX: 0.5178\n",
            "IoU for SE: 0.5267\n",
            "IoU for HE: 0.3878\n",
            "Mean IoU: 0.3651\n",
            "AP for MA: 0.0853\n",
            "AP for EX: 0.5408\n",
            "AP for SE: 0.5709\n",
            "AP for HE: 0.4663\n",
            "Mean AP: 0.4158\n"
          ]
        },
        {
          "metadata": {
            "tags": null
          },
          "name": "stderr",
          "output_type": "stream",
          "text": [
            "Epoch 108/200 (Training): 100%|██████████| 20/20 [00:41<00:00,  2.06s/it]\n",
            "Epoch 108/200 (Validation): 100%|██████████| 8/8 [00:39<00:00,  4.98s/it]\n"
          ]
        },
        {
          "metadata": {
            "tags": null
          },
          "name": "stdout",
          "output_type": "stream",
          "text": [
            "Epoch 108/200\n",
            "Train Loss: 0.4856, Val Loss: 0.5925\n",
            "IoU for MA: 0.0601\n",
            "IoU for EX: 0.5365\n",
            "IoU for SE: 0.5365\n",
            "IoU for HE: 0.4006\n",
            "Mean IoU: 0.3834\n",
            "AP for MA: 0.1398\n",
            "AP for EX: 0.5598\n",
            "AP for SE: 0.5684\n",
            "AP for HE: 0.4376\n",
            "Mean AP: 0.4264\n"
          ]
        },
        {
          "metadata": {
            "tags": null
          },
          "name": "stderr",
          "output_type": "stream",
          "text": [
            "Epoch 109/200 (Training): 100%|██████████| 20/20 [00:41<00:00,  2.09s/it]\n",
            "Epoch 109/200 (Validation): 100%|██████████| 8/8 [00:45<00:00,  5.73s/it]\n"
          ]
        },
        {
          "metadata": {
            "tags": null
          },
          "name": "stdout",
          "output_type": "stream",
          "text": [
            "Epoch 109/200\n",
            "Train Loss: 0.5040, Val Loss: 0.5836\n",
            "IoU for MA: 0.0461\n",
            "IoU for EX: 0.3848\n",
            "IoU for SE: 0.5504\n",
            "IoU for HE: 0.3649\n",
            "Mean IoU: 0.3365\n",
            "AP for MA: 0.1094\n",
            "AP for EX: 0.4836\n",
            "AP for SE: 0.5894\n",
            "AP for HE: 0.4629\n",
            "Mean AP: 0.4113\n"
          ]
        },
        {
          "metadata": {
            "tags": null
          },
          "name": "stderr",
          "output_type": "stream",
          "text": [
            "Epoch 110/200 (Training): 100%|██████████| 20/20 [00:44<00:00,  2.24s/it]\n",
            "Epoch 110/200 (Validation): 100%|██████████| 8/8 [00:49<00:00,  6.19s/it]\n"
          ]
        },
        {
          "metadata": {
            "tags": null
          },
          "name": "stdout",
          "output_type": "stream",
          "text": [
            "Epoch 110/200\n",
            "Train Loss: 0.4779, Val Loss: 0.5676\n",
            "IoU for MA: 0.0373\n",
            "IoU for EX: 0.4133\n",
            "IoU for SE: 0.5269\n",
            "IoU for HE: 0.3283\n",
            "Mean IoU: 0.3264\n",
            "AP for MA: 0.1029\n",
            "AP for EX: 0.4952\n",
            "AP for SE: 0.5914\n",
            "AP for HE: 0.4421\n",
            "Mean AP: 0.4079\n"
          ]
        },
        {
          "metadata": {
            "tags": null
          },
          "name": "stderr",
          "output_type": "stream",
          "text": [
            "Epoch 111/200 (Training): 100%|██████████| 20/20 [00:44<00:00,  2.24s/it]\n",
            "Epoch 111/200 (Validation): 100%|██████████| 8/8 [00:54<00:00,  6.82s/it]\n"
          ]
        },
        {
          "metadata": {
            "tags": null
          },
          "name": "stdout",
          "output_type": "stream",
          "text": [
            "Epoch 111/200\n",
            "Train Loss: 0.5011, Val Loss: 0.5700\n",
            "IoU for MA: 0.0356\n",
            "IoU for EX: 0.5381\n",
            "IoU for SE: 0.5336\n",
            "IoU for HE: 0.3940\n",
            "Mean IoU: 0.3753\n",
            "AP for MA: 0.1103\n",
            "AP for EX: 0.5462\n",
            "AP for SE: 0.5963\n",
            "AP for HE: 0.4283\n",
            "Mean AP: 0.4203\n"
          ]
        },
        {
          "metadata": {
            "tags": null
          },
          "name": "stderr",
          "output_type": "stream",
          "text": [
            "Epoch 112/200 (Training): 100%|██████████| 20/20 [00:44<00:00,  2.24s/it]\n",
            "Epoch 112/200 (Validation): 100%|██████████| 8/8 [00:44<00:00,  5.58s/it]\n"
          ]
        },
        {
          "metadata": {
            "tags": null
          },
          "name": "stdout",
          "output_type": "stream",
          "text": [
            "Epoch 112/200\n",
            "Train Loss: 0.4954, Val Loss: 0.5761\n",
            "IoU for MA: 0.0614\n",
            "IoU for EX: 0.5034\n",
            "IoU for SE: 0.5355\n",
            "IoU for HE: 0.4010\n",
            "Mean IoU: 0.3753\n",
            "AP for MA: 0.1384\n",
            "AP for EX: 0.5513\n",
            "AP for SE: 0.5922\n",
            "AP for HE: 0.4704\n",
            "Mean AP: 0.4381\n",
            "Model saved with Mean AP: 0.4381\n"
          ]
        },
        {
          "metadata": {
            "tags": null
          },
          "name": "stderr",
          "output_type": "stream",
          "text": [
            "Epoch 113/200 (Training): 100%|██████████| 20/20 [00:43<00:00,  2.18s/it]\n",
            "Epoch 113/200 (Validation): 100%|██████████| 8/8 [00:44<00:00,  5.56s/it]\n"
          ]
        },
        {
          "metadata": {
            "tags": null
          },
          "name": "stdout",
          "output_type": "stream",
          "text": [
            "Epoch 113/200\n",
            "Train Loss: 0.4801, Val Loss: 0.5778\n",
            "IoU for MA: 0.0511\n",
            "IoU for EX: 0.5457\n",
            "IoU for SE: 0.5264\n",
            "IoU for HE: 0.3986\n",
            "Mean IoU: 0.3805\n",
            "AP for MA: 0.1246\n",
            "AP for EX: 0.5576\n",
            "AP for SE: 0.5740\n",
            "AP for HE: 0.4644\n",
            "Mean AP: 0.4302\n"
          ]
        },
        {
          "metadata": {
            "tags": null
          },
          "name": "stderr",
          "output_type": "stream",
          "text": [
            "Epoch 114/200 (Training): 100%|██████████| 20/20 [00:43<00:00,  2.17s/it]\n",
            "Epoch 114/200 (Validation): 100%|██████████| 8/8 [00:39<00:00,  4.91s/it]\n"
          ]
        },
        {
          "metadata": {
            "tags": null
          },
          "name": "stdout",
          "output_type": "stream",
          "text": [
            "Epoch 114/200\n",
            "Train Loss: 0.4815, Val Loss: 0.5758\n",
            "IoU for MA: 0.0633\n",
            "IoU for EX: 0.5080\n",
            "IoU for SE: 0.5330\n",
            "IoU for HE: 0.4045\n",
            "Mean IoU: 0.3772\n",
            "AP for MA: 0.1468\n",
            "AP for EX: 0.5343\n",
            "AP for SE: 0.5754\n",
            "AP for HE: 0.4471\n",
            "Mean AP: 0.4259\n"
          ]
        },
        {
          "metadata": {
            "tags": null
          },
          "name": "stderr",
          "output_type": "stream",
          "text": [
            "Epoch 115/200 (Training): 100%|██████████| 20/20 [00:44<00:00,  2.22s/it]\n",
            "Epoch 115/200 (Validation): 100%|██████████| 8/8 [00:51<00:00,  6.47s/it]\n"
          ]
        },
        {
          "metadata": {
            "tags": null
          },
          "name": "stdout",
          "output_type": "stream",
          "text": [
            "Epoch 115/200\n",
            "Train Loss: 0.4660, Val Loss: 0.5806\n",
            "IoU for MA: 0.0415\n",
            "IoU for EX: 0.5028\n",
            "IoU for SE: 0.5403\n",
            "IoU for HE: 0.4108\n",
            "Mean IoU: 0.3739\n",
            "AP for MA: 0.1169\n",
            "AP for EX: 0.5357\n",
            "AP for SE: 0.5649\n",
            "AP for HE: 0.4794\n",
            "Mean AP: 0.4242\n"
          ]
        },
        {
          "metadata": {
            "tags": null
          },
          "name": "stderr",
          "output_type": "stream",
          "text": [
            "Epoch 116/200 (Training): 100%|██████████| 20/20 [00:44<00:00,  2.23s/it]\n",
            "Epoch 116/200 (Validation): 100%|██████████| 8/8 [00:42<00:00,  5.36s/it]\n"
          ]
        },
        {
          "metadata": {
            "tags": null
          },
          "name": "stdout",
          "output_type": "stream",
          "text": [
            "Epoch 116/200\n",
            "Train Loss: 0.4703, Val Loss: 0.5911\n",
            "IoU for MA: 0.0574\n",
            "IoU for EX: 0.5405\n",
            "IoU for SE: 0.5199\n",
            "IoU for HE: 0.3913\n",
            "Mean IoU: 0.3773\n",
            "AP for MA: 0.1388\n",
            "AP for EX: 0.5536\n",
            "AP for SE: 0.5637\n",
            "AP for HE: 0.4432\n",
            "Mean AP: 0.4248\n"
          ]
        },
        {
          "metadata": {
            "tags": null
          },
          "name": "stderr",
          "output_type": "stream",
          "text": [
            "Epoch 117/200 (Training): 100%|██████████| 20/20 [00:42<00:00,  2.12s/it]\n",
            "Epoch 117/200 (Validation): 100%|██████████| 8/8 [01:03<00:00,  7.96s/it]\n"
          ]
        },
        {
          "metadata": {
            "tags": null
          },
          "name": "stdout",
          "output_type": "stream",
          "text": [
            "Epoch 117/200\n",
            "Train Loss: 0.4939, Val Loss: 0.5763\n",
            "IoU for MA: 0.0290\n",
            "IoU for EX: 0.4986\n",
            "IoU for SE: 0.5548\n",
            "IoU for HE: 0.3827\n",
            "Mean IoU: 0.3663\n",
            "AP for MA: 0.0908\n",
            "AP for EX: 0.5332\n",
            "AP for SE: 0.5837\n",
            "AP for HE: 0.4469\n",
            "Mean AP: 0.4136\n"
          ]
        },
        {
          "metadata": {
            "tags": null
          },
          "name": "stderr",
          "output_type": "stream",
          "text": [
            "Epoch 118/200 (Training): 100%|██████████| 20/20 [00:43<00:00,  2.16s/it]\n",
            "Epoch 118/200 (Validation): 100%|██████████| 8/8 [00:44<00:00,  5.51s/it]\n"
          ]
        },
        {
          "metadata": {
            "tags": null
          },
          "name": "stdout",
          "output_type": "stream",
          "text": [
            "Epoch 118/200\n",
            "Train Loss: 0.4745, Val Loss: 0.5799\n",
            "IoU for MA: 0.0529\n",
            "IoU for EX: 0.5142\n",
            "IoU for SE: 0.5252\n",
            "IoU for HE: 0.3946\n",
            "Mean IoU: 0.3717\n",
            "AP for MA: 0.1317\n",
            "AP for EX: 0.5404\n",
            "AP for SE: 0.6039\n",
            "AP for HE: 0.4293\n",
            "Mean AP: 0.4263\n"
          ]
        },
        {
          "metadata": {
            "tags": null
          },
          "name": "stderr",
          "output_type": "stream",
          "text": [
            "Epoch 119/200 (Training): 100%|██████████| 20/20 [00:42<00:00,  2.11s/it]\n",
            "Epoch 119/200 (Validation): 100%|██████████| 8/8 [00:33<00:00,  4.22s/it]\n"
          ]
        },
        {
          "metadata": {
            "tags": null
          },
          "name": "stdout",
          "output_type": "stream",
          "text": [
            "Epoch 119/200\n",
            "Train Loss: 0.4810, Val Loss: 0.6174\n",
            "IoU for MA: 0.0832\n",
            "IoU for EX: 0.5254\n",
            "IoU for SE: 0.5372\n",
            "IoU for HE: 0.3694\n",
            "Mean IoU: 0.3788\n",
            "AP for MA: 0.1646\n",
            "AP for EX: 0.5465\n",
            "AP for SE: 0.5774\n",
            "AP for HE: 0.4003\n",
            "Mean AP: 0.4222\n"
          ]
        },
        {
          "metadata": {
            "tags": null
          },
          "name": "stderr",
          "output_type": "stream",
          "text": [
            "Epoch 120/200 (Training): 100%|██████████| 20/20 [00:44<00:00,  2.24s/it]\n",
            "Epoch 120/200 (Validation): 100%|██████████| 8/8 [00:45<00:00,  5.66s/it]\n"
          ]
        },
        {
          "metadata": {
            "tags": null
          },
          "name": "stdout",
          "output_type": "stream",
          "text": [
            "Epoch 120/200\n",
            "Train Loss: 0.4793, Val Loss: 0.5767\n",
            "IoU for MA: 0.0500\n",
            "IoU for EX: 0.5312\n",
            "IoU for SE: 0.5450\n",
            "IoU for HE: 0.3869\n",
            "Mean IoU: 0.3783\n",
            "AP for MA: 0.1189\n",
            "AP for EX: 0.5503\n",
            "AP for SE: 0.5858\n",
            "AP for HE: 0.4534\n",
            "Mean AP: 0.4271\n"
          ]
        },
        {
          "metadata": {
            "tags": null
          },
          "name": "stderr",
          "output_type": "stream",
          "text": [
            "Epoch 121/200 (Training): 100%|██████████| 20/20 [00:46<00:00,  2.32s/it]\n",
            "Epoch 121/200 (Validation): 100%|██████████| 8/8 [00:53<00:00,  6.67s/it]\n"
          ]
        },
        {
          "metadata": {
            "tags": null
          },
          "name": "stdout",
          "output_type": "stream",
          "text": [
            "Epoch 121/200\n",
            "Train Loss: 0.4826, Val Loss: 0.5772\n",
            "IoU for MA: 0.0412\n",
            "IoU for EX: 0.5341\n",
            "IoU for SE: 0.5464\n",
            "IoU for HE: 0.3842\n",
            "Mean IoU: 0.3765\n",
            "AP for MA: 0.1089\n",
            "AP for EX: 0.5471\n",
            "AP for SE: 0.5910\n",
            "AP for HE: 0.4362\n",
            "Mean AP: 0.4208\n"
          ]
        },
        {
          "metadata": {
            "tags": null
          },
          "name": "stderr",
          "output_type": "stream",
          "text": [
            "Epoch 122/200 (Training): 100%|██████████| 20/20 [00:43<00:00,  2.19s/it]\n",
            "Epoch 122/200 (Validation): 100%|██████████| 8/8 [00:55<00:00,  7.00s/it]\n"
          ]
        },
        {
          "metadata": {
            "tags": null
          },
          "name": "stdout",
          "output_type": "stream",
          "text": [
            "Epoch 122/200\n",
            "Train Loss: 0.4612, Val Loss: 0.5634\n",
            "IoU for MA: 0.0337\n",
            "IoU for EX: 0.5124\n",
            "IoU for SE: 0.5408\n",
            "IoU for HE: 0.3728\n",
            "Mean IoU: 0.3649\n",
            "AP for MA: 0.0979\n",
            "AP for EX: 0.5381\n",
            "AP for SE: 0.6102\n",
            "AP for HE: 0.4608\n",
            "Mean AP: 0.4267\n"
          ]
        },
        {
          "metadata": {
            "tags": null
          },
          "name": "stderr",
          "output_type": "stream",
          "text": [
            "Epoch 123/200 (Training): 100%|██████████| 20/20 [00:44<00:00,  2.21s/it]\n",
            "Epoch 123/200 (Validation): 100%|██████████| 8/8 [00:39<00:00,  4.90s/it]\n"
          ]
        },
        {
          "metadata": {
            "tags": null
          },
          "name": "stdout",
          "output_type": "stream",
          "text": [
            "Epoch 123/200\n",
            "Train Loss: 0.4758, Val Loss: 0.5794\n",
            "IoU for MA: 0.0595\n",
            "IoU for EX: 0.5117\n",
            "IoU for SE: 0.5250\n",
            "IoU for HE: 0.4010\n",
            "Mean IoU: 0.3743\n",
            "AP for MA: 0.1388\n",
            "AP for EX: 0.5493\n",
            "AP for SE: 0.5599\n",
            "AP for HE: 0.4523\n",
            "Mean AP: 0.4251\n"
          ]
        },
        {
          "metadata": {
            "tags": null
          },
          "name": "stderr",
          "output_type": "stream",
          "text": [
            "Epoch 124/200 (Training): 100%|██████████| 20/20 [00:42<00:00,  2.11s/it]\n",
            "Epoch 124/200 (Validation): 100%|██████████| 8/8 [01:01<00:00,  7.66s/it]\n"
          ]
        },
        {
          "metadata": {
            "tags": null
          },
          "name": "stdout",
          "output_type": "stream",
          "text": [
            "Epoch 124/200\n",
            "Train Loss: 0.4698, Val Loss: 0.5669\n",
            "IoU for MA: 0.0354\n",
            "IoU for EX: 0.5322\n",
            "IoU for SE: 0.5608\n",
            "IoU for HE: 0.4013\n",
            "Mean IoU: 0.3824\n",
            "AP for MA: 0.0971\n",
            "AP for EX: 0.5514\n",
            "AP for SE: 0.6119\n",
            "AP for HE: 0.4443\n",
            "Mean AP: 0.4262\n"
          ]
        },
        {
          "metadata": {
            "tags": null
          },
          "name": "stderr",
          "output_type": "stream",
          "text": [
            "Epoch 125/200 (Training): 100%|██████████| 20/20 [00:42<00:00,  2.14s/it]\n",
            "Epoch 125/200 (Validation): 100%|██████████| 8/8 [00:44<00:00,  5.52s/it]\n"
          ]
        },
        {
          "metadata": {
            "tags": null
          },
          "name": "stdout",
          "output_type": "stream",
          "text": [
            "Epoch 125/200\n",
            "Train Loss: 0.4743, Val Loss: 0.5832\n",
            "IoU for MA: 0.0571\n",
            "IoU for EX: 0.5509\n",
            "IoU for SE: 0.5611\n",
            "IoU for HE: 0.3730\n",
            "Mean IoU: 0.3855\n",
            "AP for MA: 0.1338\n",
            "AP for EX: 0.5610\n",
            "AP for SE: 0.6122\n",
            "AP for HE: 0.3968\n",
            "Mean AP: 0.4260\n"
          ]
        },
        {
          "metadata": {
            "tags": null
          },
          "name": "stderr",
          "output_type": "stream",
          "text": [
            "Epoch 126/200 (Training): 100%|██████████| 20/20 [00:45<00:00,  2.26s/it]\n",
            "Epoch 126/200 (Validation): 100%|██████████| 8/8 [00:49<00:00,  6.17s/it]\n"
          ]
        },
        {
          "metadata": {
            "tags": null
          },
          "name": "stdout",
          "output_type": "stream",
          "text": [
            "Epoch 126/200\n",
            "Train Loss: 0.4737, Val Loss: 0.5739\n",
            "IoU for MA: 0.0471\n",
            "IoU for EX: 0.4935\n",
            "IoU for SE: 0.5469\n",
            "IoU for HE: 0.4041\n",
            "Mean IoU: 0.3729\n",
            "AP for MA: 0.1196\n",
            "AP for EX: 0.5380\n",
            "AP for SE: 0.6072\n",
            "AP for HE: 0.4380\n",
            "Mean AP: 0.4257\n"
          ]
        },
        {
          "metadata": {
            "tags": null
          },
          "name": "stderr",
          "output_type": "stream",
          "text": [
            "Epoch 127/200 (Training): 100%|██████████| 20/20 [00:43<00:00,  2.17s/it]\n",
            "Epoch 127/200 (Validation): 100%|██████████| 8/8 [00:37<00:00,  4.71s/it]\n"
          ]
        },
        {
          "metadata": {
            "tags": null
          },
          "name": "stdout",
          "output_type": "stream",
          "text": [
            "Epoch 127/200\n",
            "Train Loss: 0.4829, Val Loss: 0.5973\n",
            "IoU for MA: 0.0743\n",
            "IoU for EX: 0.5132\n",
            "IoU for SE: 0.5633\n",
            "IoU for HE: 0.3941\n",
            "Mean IoU: 0.3862\n",
            "AP for MA: 0.1550\n",
            "AP for EX: 0.5481\n",
            "AP for SE: 0.6018\n",
            "AP for HE: 0.4414\n",
            "Mean AP: 0.4366\n"
          ]
        },
        {
          "metadata": {
            "tags": null
          },
          "name": "stderr",
          "output_type": "stream",
          "text": [
            "Epoch 128/200 (Training): 100%|██████████| 20/20 [00:41<00:00,  2.09s/it]\n",
            "Epoch 128/200 (Validation): 100%|██████████| 8/8 [00:48<00:00,  6.09s/it]\n"
          ]
        },
        {
          "metadata": {
            "tags": null
          },
          "name": "stdout",
          "output_type": "stream",
          "text": [
            "Epoch 128/200\n",
            "Train Loss: 0.4718, Val Loss: 0.5804\n",
            "IoU for MA: 0.0471\n",
            "IoU for EX: 0.5363\n",
            "IoU for SE: 0.5408\n",
            "IoU for HE: 0.4125\n",
            "Mean IoU: 0.3842\n",
            "AP for MA: 0.1204\n",
            "AP for EX: 0.5525\n",
            "AP for SE: 0.5672\n",
            "AP for HE: 0.4722\n",
            "Mean AP: 0.4281\n"
          ]
        },
        {
          "metadata": {
            "tags": null
          },
          "name": "stderr",
          "output_type": "stream",
          "text": [
            "Epoch 129/200 (Training): 100%|██████████| 20/20 [00:44<00:00,  2.23s/it]\n",
            "Epoch 129/200 (Validation): 100%|██████████| 8/8 [00:52<00:00,  6.57s/it]\n"
          ]
        },
        {
          "metadata": {
            "tags": null
          },
          "name": "stdout",
          "output_type": "stream",
          "text": [
            "Epoch 129/200\n",
            "Train Loss: 0.4634, Val Loss: 0.5657\n",
            "IoU for MA: 0.0396\n",
            "IoU for EX: 0.5047\n",
            "IoU for SE: 0.5713\n",
            "IoU for HE: 0.3881\n",
            "Mean IoU: 0.3759\n",
            "AP for MA: 0.1023\n",
            "AP for EX: 0.5304\n",
            "AP for SE: 0.6138\n",
            "AP for HE: 0.4787\n",
            "Mean AP: 0.4313\n"
          ]
        },
        {
          "metadata": {
            "tags": null
          },
          "name": "stderr",
          "output_type": "stream",
          "text": [
            "Epoch 130/200 (Training): 100%|██████████| 20/20 [00:44<00:00,  2.22s/it]\n",
            "Epoch 130/200 (Validation): 100%|██████████| 8/8 [00:42<00:00,  5.28s/it]\n"
          ]
        },
        {
          "metadata": {
            "tags": null
          },
          "name": "stdout",
          "output_type": "stream",
          "text": [
            "Epoch 130/200\n",
            "Train Loss: 0.4591, Val Loss: 0.6097\n",
            "IoU for MA: 0.0590\n",
            "IoU for EX: 0.4646\n",
            "IoU for SE: 0.5161\n",
            "IoU for HE: 0.4032\n",
            "Mean IoU: 0.3607\n",
            "AP for MA: 0.1379\n",
            "AP for EX: 0.5316\n",
            "AP for SE: 0.5286\n",
            "AP for HE: 0.4663\n",
            "Mean AP: 0.4161\n"
          ]
        },
        {
          "metadata": {
            "tags": null
          },
          "name": "stderr",
          "output_type": "stream",
          "text": [
            "Epoch 131/200 (Training): 100%|██████████| 20/20 [00:44<00:00,  2.24s/it]\n",
            "Epoch 131/200 (Validation): 100%|██████████| 8/8 [00:54<00:00,  6.86s/it]\n"
          ]
        },
        {
          "metadata": {
            "tags": null
          },
          "name": "stdout",
          "output_type": "stream",
          "text": [
            "Epoch 131/200\n",
            "Train Loss: 0.4656, Val Loss: 0.5830\n",
            "IoU for MA: 0.0359\n",
            "IoU for EX: 0.5382\n",
            "IoU for SE: 0.5345\n",
            "IoU for HE: 0.3968\n",
            "Mean IoU: 0.3764\n",
            "AP for MA: 0.0954\n",
            "AP for EX: 0.5491\n",
            "AP for SE: 0.5851\n",
            "AP for HE: 0.4589\n",
            "Mean AP: 0.4221\n"
          ]
        },
        {
          "metadata": {
            "tags": null
          },
          "name": "stderr",
          "output_type": "stream",
          "text": [
            "Epoch 132/200 (Training): 100%|██████████| 20/20 [00:44<00:00,  2.21s/it]\n",
            "Epoch 132/200 (Validation): 100%|██████████| 8/8 [00:45<00:00,  5.70s/it]\n"
          ]
        },
        {
          "metadata": {
            "tags": null
          },
          "name": "stdout",
          "output_type": "stream",
          "text": [
            "Epoch 132/200\n",
            "Train Loss: 0.4515, Val Loss: 0.5685\n",
            "IoU for MA: 0.0497\n",
            "IoU for EX: 0.5122\n",
            "IoU for SE: 0.5576\n",
            "IoU for HE: 0.4063\n",
            "Mean IoU: 0.3814\n",
            "AP for MA: 0.1226\n",
            "AP for EX: 0.5347\n",
            "AP for SE: 0.5992\n",
            "AP for HE: 0.4789\n",
            "Mean AP: 0.4339\n"
          ]
        },
        {
          "metadata": {
            "tags": null
          },
          "name": "stderr",
          "output_type": "stream",
          "text": [
            "Epoch 133/200 (Training): 100%|██████████| 20/20 [00:44<00:00,  2.23s/it]\n",
            "Epoch 133/200 (Validation): 100%|██████████| 8/8 [00:41<00:00,  5.22s/it]\n"
          ]
        },
        {
          "metadata": {
            "tags": null
          },
          "name": "stdout",
          "output_type": "stream",
          "text": [
            "Epoch 133/200\n",
            "Train Loss: 0.4644, Val Loss: 0.5759\n",
            "IoU for MA: 0.0606\n",
            "IoU for EX: 0.5292\n",
            "IoU for SE: 0.5668\n",
            "IoU for HE: 0.4130\n",
            "Mean IoU: 0.3924\n",
            "AP for MA: 0.1366\n",
            "AP for EX: 0.5523\n",
            "AP for SE: 0.6096\n",
            "AP for HE: 0.4584\n",
            "Mean AP: 0.4392\n",
            "Model saved with Mean IoU: 0.3924\n",
            "Model saved with Mean AP: 0.4392\n"
          ]
        },
        {
          "metadata": {
            "tags": null
          },
          "name": "stderr",
          "output_type": "stream",
          "text": [
            "Epoch 134/200 (Training): 100%|██████████| 20/20 [00:43<00:00,  2.17s/it]\n",
            "Epoch 134/200 (Validation): 100%|██████████| 8/8 [00:44<00:00,  5.62s/it]\n"
          ]
        },
        {
          "metadata": {
            "tags": null
          },
          "name": "stdout",
          "output_type": "stream",
          "text": [
            "Epoch 134/200\n",
            "Train Loss: 0.4642, Val Loss: 0.5952\n",
            "IoU for MA: 0.0488\n",
            "IoU for EX: 0.5056\n",
            "IoU for SE: 0.5225\n",
            "IoU for HE: 0.3964\n",
            "Mean IoU: 0.3683\n",
            "AP for MA: 0.1190\n",
            "AP for EX: 0.5496\n",
            "AP for SE: 0.5437\n",
            "AP for HE: 0.4710\n",
            "Mean AP: 0.4208\n"
          ]
        },
        {
          "metadata": {
            "tags": null
          },
          "name": "stderr",
          "output_type": "stream",
          "text": [
            "Epoch 135/200 (Training): 100%|██████████| 20/20 [00:43<00:00,  2.16s/it]\n",
            "Epoch 135/200 (Validation): 100%|██████████| 8/8 [00:44<00:00,  5.56s/it]\n"
          ]
        },
        {
          "metadata": {
            "tags": null
          },
          "name": "stdout",
          "output_type": "stream",
          "text": [
            "Epoch 135/200\n",
            "Train Loss: 0.4689, Val Loss: 0.5753\n",
            "IoU for MA: 0.0488\n",
            "IoU for EX: 0.5377\n",
            "IoU for SE: 0.5179\n",
            "IoU for HE: 0.3850\n",
            "Mean IoU: 0.3724\n",
            "AP for MA: 0.1159\n",
            "AP for EX: 0.5554\n",
            "AP for SE: 0.6004\n",
            "AP for HE: 0.4662\n",
            "Mean AP: 0.4345\n"
          ]
        },
        {
          "metadata": {
            "tags": null
          },
          "name": "stderr",
          "output_type": "stream",
          "text": [
            "Epoch 136/200 (Training): 100%|██████████| 20/20 [00:44<00:00,  2.23s/it]\n",
            "Epoch 136/200 (Validation): 100%|██████████| 8/8 [00:42<00:00,  5.36s/it]\n"
          ]
        },
        {
          "metadata": {
            "tags": null
          },
          "name": "stdout",
          "output_type": "stream",
          "text": [
            "Epoch 136/200\n",
            "Train Loss: 0.4527, Val Loss: 0.5915\n",
            "IoU for MA: 0.0647\n",
            "IoU for EX: 0.5477\n",
            "IoU for SE: 0.5460\n",
            "IoU for HE: 0.4045\n",
            "Mean IoU: 0.3907\n",
            "AP for MA: 0.1416\n",
            "AP for EX: 0.5588\n",
            "AP for SE: 0.5772\n",
            "AP for HE: 0.4585\n",
            "Mean AP: 0.4340\n"
          ]
        },
        {
          "metadata": {
            "tags": null
          },
          "name": "stderr",
          "output_type": "stream",
          "text": [
            "Epoch 137/200 (Training): 100%|██████████| 20/20 [00:44<00:00,  2.20s/it]\n",
            "Epoch 137/200 (Validation): 100%|██████████| 8/8 [00:45<00:00,  5.64s/it]\n"
          ]
        },
        {
          "metadata": {
            "tags": null
          },
          "name": "stdout",
          "output_type": "stream",
          "text": [
            "Epoch 137/200\n",
            "Train Loss: 0.4581, Val Loss: 0.5769\n",
            "IoU for MA: 0.0520\n",
            "IoU for EX: 0.5393\n",
            "IoU for SE: 0.5662\n",
            "IoU for HE: 0.4107\n",
            "Mean IoU: 0.3920\n",
            "AP for MA: 0.1265\n",
            "AP for EX: 0.5569\n",
            "AP for SE: 0.6011\n",
            "AP for HE: 0.4800\n",
            "Mean AP: 0.4411\n",
            "Model saved with Mean AP: 0.4411\n"
          ]
        },
        {
          "metadata": {
            "tags": null
          },
          "name": "stderr",
          "output_type": "stream",
          "text": [
            "Epoch 138/200 (Training): 100%|██████████| 20/20 [00:42<00:00,  2.15s/it]\n",
            "Epoch 138/200 (Validation): 100%|██████████| 8/8 [00:52<00:00,  6.57s/it]\n"
          ]
        },
        {
          "metadata": {
            "tags": null
          },
          "name": "stdout",
          "output_type": "stream",
          "text": [
            "Epoch 138/200\n",
            "Train Loss: 0.4552, Val Loss: 0.5789\n",
            "IoU for MA: 0.0422\n",
            "IoU for EX: 0.5292\n",
            "IoU for SE: 0.5464\n",
            "IoU for HE: 0.4154\n",
            "Mean IoU: 0.3833\n",
            "AP for MA: 0.1099\n",
            "AP for EX: 0.5480\n",
            "AP for SE: 0.5754\n",
            "AP for HE: 0.4511\n",
            "Mean AP: 0.4211\n"
          ]
        },
        {
          "metadata": {
            "tags": null
          },
          "name": "stderr",
          "output_type": "stream",
          "text": [
            "Epoch 139/200 (Training): 100%|██████████| 20/20 [00:43<00:00,  2.19s/it]\n",
            "Epoch 139/200 (Validation): 100%|██████████| 8/8 [00:45<00:00,  5.74s/it]\n"
          ]
        },
        {
          "metadata": {
            "tags": null
          },
          "name": "stdout",
          "output_type": "stream",
          "text": [
            "Epoch 139/200\n",
            "Train Loss: 0.4510, Val Loss: 0.5713\n",
            "IoU for MA: 0.0542\n",
            "IoU for EX: 0.5329\n",
            "IoU for SE: 0.5706\n",
            "IoU for HE: 0.4078\n",
            "Mean IoU: 0.3914\n",
            "AP for MA: 0.1238\n",
            "AP for EX: 0.5506\n",
            "AP for SE: 0.6257\n",
            "AP for HE: 0.4832\n",
            "Mean AP: 0.4458\n",
            "Model saved with Mean AP: 0.4458\n"
          ]
        },
        {
          "metadata": {
            "tags": null
          },
          "name": "stderr",
          "output_type": "stream",
          "text": [
            "Epoch 140/200 (Training): 100%|██████████| 20/20 [00:41<00:00,  2.07s/it]\n",
            "Epoch 140/200 (Validation): 100%|██████████| 8/8 [00:41<00:00,  5.21s/it]\n"
          ]
        },
        {
          "metadata": {
            "tags": null
          },
          "name": "stdout",
          "output_type": "stream",
          "text": [
            "Epoch 140/200\n",
            "Train Loss: 0.4575, Val Loss: 0.5780\n",
            "IoU for MA: 0.0617\n",
            "IoU for EX: 0.5323\n",
            "IoU for SE: 0.5664\n",
            "IoU for HE: 0.4062\n",
            "Mean IoU: 0.3916\n",
            "AP for MA: 0.1364\n",
            "AP for EX: 0.5483\n",
            "AP for SE: 0.6004\n",
            "AP for HE: 0.4859\n",
            "Mean AP: 0.4428\n"
          ]
        },
        {
          "metadata": {
            "tags": null
          },
          "name": "stderr",
          "output_type": "stream",
          "text": [
            "Epoch 141/200 (Training): 100%|██████████| 20/20 [00:41<00:00,  2.10s/it]\n",
            "Epoch 141/200 (Validation): 100%|██████████| 8/8 [00:55<00:00,  6.88s/it]\n"
          ]
        },
        {
          "metadata": {
            "tags": null
          },
          "name": "stdout",
          "output_type": "stream",
          "text": [
            "Epoch 141/200\n",
            "Train Loss: 0.4632, Val Loss: 0.5831\n",
            "IoU for MA: 0.0344\n",
            "IoU for EX: 0.5445\n",
            "IoU for SE: 0.5704\n",
            "IoU for HE: 0.3964\n",
            "Mean IoU: 0.3864\n",
            "AP for MA: 0.0901\n",
            "AP for EX: 0.5538\n",
            "AP for SE: 0.6013\n",
            "AP for HE: 0.4705\n",
            "Mean AP: 0.4289\n"
          ]
        },
        {
          "metadata": {
            "tags": null
          },
          "name": "stderr",
          "output_type": "stream",
          "text": [
            "Epoch 142/200 (Training): 100%|██████████| 20/20 [00:45<00:00,  2.27s/it]\n",
            "Epoch 142/200 (Validation): 100%|██████████| 8/8 [00:49<00:00,  6.16s/it]\n"
          ]
        },
        {
          "metadata": {
            "tags": null
          },
          "name": "stdout",
          "output_type": "stream",
          "text": [
            "Epoch 142/200\n",
            "Train Loss: 0.4582, Val Loss: 0.5891\n",
            "IoU for MA: 0.0467\n",
            "IoU for EX: 0.5189\n",
            "IoU for SE: 0.5505\n",
            "IoU for HE: 0.4042\n",
            "Mean IoU: 0.3801\n",
            "AP for MA: 0.1195\n",
            "AP for EX: 0.5484\n",
            "AP for SE: 0.5957\n",
            "AP for HE: 0.4427\n",
            "Mean AP: 0.4266\n"
          ]
        },
        {
          "metadata": {
            "tags": null
          },
          "name": "stderr",
          "output_type": "stream",
          "text": [
            "Epoch 143/200 (Training): 100%|██████████| 20/20 [00:44<00:00,  2.23s/it]\n",
            "Epoch 143/200 (Validation): 100%|██████████| 8/8 [00:46<00:00,  5.80s/it]\n"
          ]
        },
        {
          "metadata": {
            "tags": null
          },
          "name": "stdout",
          "output_type": "stream",
          "text": [
            "Epoch 143/200\n",
            "Train Loss: 0.4418, Val Loss: 0.5824\n",
            "IoU for MA: 0.0532\n",
            "IoU for EX: 0.5181\n",
            "IoU for SE: 0.5633\n",
            "IoU for HE: 0.4146\n",
            "Mean IoU: 0.3873\n",
            "AP for MA: 0.1274\n",
            "AP for EX: 0.5471\n",
            "AP for SE: 0.5932\n",
            "AP for HE: 0.4594\n",
            "Mean AP: 0.4317\n"
          ]
        },
        {
          "metadata": {
            "tags": null
          },
          "name": "stderr",
          "output_type": "stream",
          "text": [
            "Epoch 144/200 (Training): 100%|██████████| 20/20 [00:43<00:00,  2.16s/it]\n",
            "Epoch 144/200 (Validation): 100%|██████████| 8/8 [00:47<00:00,  5.99s/it]\n"
          ]
        },
        {
          "metadata": {
            "tags": null
          },
          "name": "stdout",
          "output_type": "stream",
          "text": [
            "Epoch 144/200\n",
            "Train Loss: 0.4616, Val Loss: 0.5733\n",
            "IoU for MA: 0.0447\n",
            "IoU for EX: 0.5435\n",
            "IoU for SE: 0.5551\n",
            "IoU for HE: 0.4060\n",
            "Mean IoU: 0.3873\n",
            "AP for MA: 0.1107\n",
            "AP for EX: 0.5634\n",
            "AP for SE: 0.6272\n",
            "AP for HE: 0.4795\n",
            "Mean AP: 0.4452\n"
          ]
        },
        {
          "metadata": {
            "tags": null
          },
          "name": "stderr",
          "output_type": "stream",
          "text": [
            "Epoch 145/200 (Training): 100%|██████████| 20/20 [00:44<00:00,  2.22s/it]\n",
            "Epoch 145/200 (Validation): 100%|██████████| 8/8 [00:50<00:00,  6.27s/it]\n"
          ]
        },
        {
          "metadata": {
            "tags": null
          },
          "name": "stdout",
          "output_type": "stream",
          "text": [
            "Epoch 145/200\n",
            "Train Loss: 0.4499, Val Loss: 0.5815\n",
            "IoU for MA: 0.0412\n",
            "IoU for EX: 0.5394\n",
            "IoU for SE: 0.5516\n",
            "IoU for HE: 0.4036\n",
            "Mean IoU: 0.3839\n",
            "AP for MA: 0.1049\n",
            "AP for EX: 0.5538\n",
            "AP for SE: 0.5842\n",
            "AP for HE: 0.4741\n",
            "Mean AP: 0.4292\n"
          ]
        },
        {
          "metadata": {
            "tags": null
          },
          "name": "stderr",
          "output_type": "stream",
          "text": [
            "Epoch 146/200 (Training): 100%|██████████| 20/20 [00:43<00:00,  2.19s/it]\n",
            "Epoch 146/200 (Validation): 100%|██████████| 8/8 [00:49<00:00,  6.19s/it]\n"
          ]
        },
        {
          "metadata": {
            "tags": null
          },
          "name": "stdout",
          "output_type": "stream",
          "text": [
            "Epoch 146/200\n",
            "Train Loss: 0.4560, Val Loss: 0.5769\n",
            "IoU for MA: 0.0413\n",
            "IoU for EX: 0.5013\n",
            "IoU for SE: 0.5552\n",
            "IoU for HE: 0.3841\n",
            "Mean IoU: 0.3705\n",
            "AP for MA: 0.1023\n",
            "AP for EX: 0.5263\n",
            "AP for SE: 0.6018\n",
            "AP for HE: 0.4738\n",
            "Mean AP: 0.4260\n"
          ]
        },
        {
          "metadata": {
            "tags": null
          },
          "name": "stderr",
          "output_type": "stream",
          "text": [
            "Epoch 147/200 (Training): 100%|██████████| 20/20 [00:43<00:00,  2.16s/it]\n",
            "Epoch 147/200 (Validation): 100%|██████████| 8/8 [00:37<00:00,  4.63s/it]\n"
          ]
        },
        {
          "metadata": {
            "tags": null
          },
          "name": "stdout",
          "output_type": "stream",
          "text": [
            "Epoch 147/200\n",
            "Train Loss: 0.4449, Val Loss: 0.5933\n",
            "IoU for MA: 0.0686\n",
            "IoU for EX: 0.5194\n",
            "IoU for SE: 0.5534\n",
            "IoU for HE: 0.4052\n",
            "Mean IoU: 0.3867\n",
            "AP for MA: 0.1462\n",
            "AP for EX: 0.5448\n",
            "AP for SE: 0.5868\n",
            "AP for HE: 0.4563\n",
            "Mean AP: 0.4335\n"
          ]
        },
        {
          "metadata": {
            "tags": null
          },
          "name": "stderr",
          "output_type": "stream",
          "text": [
            "Epoch 148/200 (Training): 100%|██████████| 20/20 [00:42<00:00,  2.13s/it]\n",
            "Epoch 148/200 (Validation): 100%|██████████| 8/8 [00:48<00:00,  6.06s/it]\n"
          ]
        },
        {
          "metadata": {
            "tags": null
          },
          "name": "stdout",
          "output_type": "stream",
          "text": [
            "Epoch 148/200\n",
            "Train Loss: 0.4425, Val Loss: 0.5906\n",
            "IoU for MA: 0.0509\n",
            "IoU for EX: 0.5266\n",
            "IoU for SE: 0.5510\n",
            "IoU for HE: 0.4037\n",
            "Mean IoU: 0.3830\n",
            "AP for MA: 0.1206\n",
            "AP for EX: 0.5476\n",
            "AP for SE: 0.5787\n",
            "AP for HE: 0.4557\n",
            "Mean AP: 0.4257\n"
          ]
        },
        {
          "metadata": {
            "tags": null
          },
          "name": "stderr",
          "output_type": "stream",
          "text": [
            "Epoch 149/200 (Training): 100%|██████████| 20/20 [00:43<00:00,  2.18s/it]\n",
            "Epoch 149/200 (Validation): 100%|██████████| 8/8 [00:40<00:00,  5.07s/it]\n"
          ]
        },
        {
          "metadata": {
            "tags": null
          },
          "name": "stdout",
          "output_type": "stream",
          "text": [
            "Epoch 149/200\n",
            "Train Loss: 0.4550, Val Loss: 0.5892\n",
            "IoU for MA: 0.0600\n",
            "IoU for EX: 0.5329\n",
            "IoU for SE: 0.5544\n",
            "IoU for HE: 0.3959\n",
            "Mean IoU: 0.3858\n",
            "AP for MA: 0.1297\n",
            "AP for EX: 0.5504\n",
            "AP for SE: 0.5961\n",
            "AP for HE: 0.4680\n",
            "Mean AP: 0.4360\n"
          ]
        },
        {
          "metadata": {
            "tags": null
          },
          "name": "stderr",
          "output_type": "stream",
          "text": [
            "Epoch 150/200 (Training): 100%|██████████| 20/20 [00:44<00:00,  2.24s/it]\n",
            "Epoch 150/200 (Validation): 100%|██████████| 8/8 [00:43<00:00,  5.40s/it]\n"
          ]
        },
        {
          "metadata": {
            "tags": null
          },
          "name": "stdout",
          "output_type": "stream",
          "text": [
            "Epoch 150/200\n",
            "Train Loss: 0.4516, Val Loss: 0.5845\n",
            "IoU for MA: 0.0529\n",
            "IoU for EX: 0.5256\n",
            "IoU for SE: 0.5526\n",
            "IoU for HE: 0.3907\n",
            "Mean IoU: 0.3805\n",
            "AP for MA: 0.1151\n",
            "AP for EX: 0.5475\n",
            "AP for SE: 0.5837\n",
            "AP for HE: 0.4813\n",
            "Mean AP: 0.4319\n"
          ]
        },
        {
          "metadata": {
            "tags": null
          },
          "name": "stderr",
          "output_type": "stream",
          "text": [
            "Epoch 151/200 (Training): 100%|██████████| 20/20 [00:44<00:00,  2.22s/it]\n",
            "Epoch 151/200 (Validation): 100%|██████████| 8/8 [00:39<00:00,  4.97s/it]\n"
          ]
        },
        {
          "metadata": {
            "tags": null
          },
          "name": "stdout",
          "output_type": "stream",
          "text": [
            "Epoch 151/200\n",
            "Train Loss: 0.4407, Val Loss: 0.5865\n",
            "IoU for MA: 0.0556\n",
            "IoU for EX: 0.5042\n",
            "IoU for SE: 0.5504\n",
            "IoU for HE: 0.4044\n",
            "Mean IoU: 0.3787\n",
            "AP for MA: 0.1287\n",
            "AP for EX: 0.5446\n",
            "AP for SE: 0.5778\n",
            "AP for HE: 0.4779\n",
            "Mean AP: 0.4323\n"
          ]
        },
        {
          "metadata": {
            "tags": null
          },
          "name": "stderr",
          "output_type": "stream",
          "text": [
            "Epoch 152/200 (Training): 100%|██████████| 20/20 [00:44<00:00,  2.21s/it]\n",
            "Epoch 152/200 (Validation): 100%|██████████| 8/8 [00:46<00:00,  5.79s/it]\n"
          ]
        },
        {
          "metadata": {
            "tags": null
          },
          "name": "stdout",
          "output_type": "stream",
          "text": [
            "Epoch 152/200\n",
            "Train Loss: 0.4399, Val Loss: 0.5853\n",
            "IoU for MA: 0.0444\n",
            "IoU for EX: 0.5382\n",
            "IoU for SE: 0.5638\n",
            "IoU for HE: 0.4053\n",
            "Mean IoU: 0.3879\n",
            "AP for MA: 0.1104\n",
            "AP for EX: 0.5505\n",
            "AP for SE: 0.6013\n",
            "AP for HE: 0.4714\n",
            "Mean AP: 0.4334\n"
          ]
        },
        {
          "output_type": "stream",
          "name": "stderr",
          "text": [
            "Epoch 153/200 (Training): 100%|██████████| 20/20 [00:44<00:00,  2.24s/it]\n",
            "Epoch 153/200 (Validation): 100%|██████████| 8/8 [00:43<00:00,  5.40s/it]\n"
          ]
        },
        {
          "output_type": "stream",
          "name": "stdout",
          "text": [
            "Epoch 153/200\n",
            "Train Loss: 0.4399, Val Loss: 0.5834\n",
            "IoU for MA: 0.0502\n",
            "IoU for EX: 0.5353\n",
            "IoU for SE: 0.5604\n",
            "IoU for HE: 0.3983\n",
            "Mean IoU: 0.3860\n",
            "AP for MA: 0.1182\n",
            "AP for EX: 0.5542\n",
            "AP for SE: 0.6016\n",
            "AP for HE: 0.4777\n",
            "Mean AP: 0.4379\n"
          ]
        },
        {
          "output_type": "stream",
          "name": "stderr",
          "text": [
            "Epoch 154/200 (Training): 100%|██████████| 20/20 [00:44<00:00,  2.22s/it]\n",
            "Epoch 154/200 (Validation): 100%|██████████| 8/8 [00:41<00:00,  5.14s/it]\n"
          ]
        },
        {
          "output_type": "stream",
          "name": "stdout",
          "text": [
            "Epoch 154/200\n",
            "Train Loss: 0.4367, Val Loss: 0.5925\n",
            "IoU for MA: 0.0591\n",
            "IoU for EX: 0.5211\n",
            "IoU for SE: 0.5478\n",
            "IoU for HE: 0.4011\n",
            "Mean IoU: 0.3823\n",
            "AP for MA: 0.1300\n",
            "AP for EX: 0.5487\n",
            "AP for SE: 0.5807\n",
            "AP for HE: 0.4734\n",
            "Mean AP: 0.4332\n"
          ]
        },
        {
          "output_type": "stream",
          "name": "stderr",
          "text": [
            "Epoch 155/200 (Training): 100%|██████████| 20/20 [00:44<00:00,  2.22s/it]\n",
            "Epoch 155/200 (Validation): 100%|██████████| 8/8 [00:42<00:00,  5.37s/it]\n"
          ]
        },
        {
          "output_type": "stream",
          "name": "stdout",
          "text": [
            "Epoch 155/200\n",
            "Train Loss: 0.4404, Val Loss: 0.5894\n",
            "IoU for MA: 0.0515\n",
            "IoU for EX: 0.5340\n",
            "IoU for SE: 0.5532\n",
            "IoU for HE: 0.4019\n",
            "Mean IoU: 0.3851\n",
            "AP for MA: 0.1214\n",
            "AP for EX: 0.5525\n",
            "AP for SE: 0.5967\n",
            "AP for HE: 0.4619\n",
            "Mean AP: 0.4331\n"
          ]
        },
        {
          "output_type": "stream",
          "name": "stderr",
          "text": [
            "Epoch 156/200 (Training): 100%|██████████| 20/20 [00:41<00:00,  2.08s/it]\n",
            "Epoch 156/200 (Validation): 100%|██████████| 8/8 [00:37<00:00,  4.74s/it]\n"
          ]
        },
        {
          "output_type": "stream",
          "name": "stdout",
          "text": [
            "Epoch 156/200\n",
            "Train Loss: 0.4377, Val Loss: 0.5947\n",
            "IoU for MA: 0.0664\n",
            "IoU for EX: 0.5315\n",
            "IoU for SE: 0.5526\n",
            "IoU for HE: 0.4050\n",
            "Mean IoU: 0.3889\n",
            "AP for MA: 0.1393\n",
            "AP for EX: 0.5539\n",
            "AP for SE: 0.5908\n",
            "AP for HE: 0.4668\n",
            "Mean AP: 0.4377\n"
          ]
        },
        {
          "output_type": "stream",
          "name": "stderr",
          "text": [
            "Epoch 157/200 (Training): 100%|██████████| 20/20 [00:43<00:00,  2.16s/it]\n",
            "Epoch 157/200 (Validation): 100%|██████████| 8/8 [00:48<00:00,  6.06s/it]\n"
          ]
        },
        {
          "output_type": "stream",
          "name": "stdout",
          "text": [
            "Epoch 157/200\n",
            "Train Loss: 0.4350, Val Loss: 0.5778\n",
            "IoU for MA: 0.0452\n",
            "IoU for EX: 0.5304\n",
            "IoU for SE: 0.5673\n",
            "IoU for HE: 0.4109\n",
            "Mean IoU: 0.3884\n",
            "AP for MA: 0.1091\n",
            "AP for EX: 0.5466\n",
            "AP for SE: 0.6163\n",
            "AP for HE: 0.4788\n",
            "Mean AP: 0.4377\n"
          ]
        },
        {
          "output_type": "stream",
          "name": "stderr",
          "text": [
            "Epoch 158/200 (Training): 100%|██████████| 20/20 [00:44<00:00,  2.21s/it]\n",
            "Epoch 158/200 (Validation): 100%|██████████| 8/8 [00:49<00:00,  6.22s/it]\n"
          ]
        },
        {
          "output_type": "stream",
          "name": "stdout",
          "text": [
            "Epoch 158/200\n",
            "Train Loss: 0.4406, Val Loss: 0.5727\n",
            "IoU for MA: 0.0438\n",
            "IoU for EX: 0.5164\n",
            "IoU for SE: 0.5766\n",
            "IoU for HE: 0.3927\n",
            "Mean IoU: 0.3824\n",
            "AP for MA: 0.1079\n",
            "AP for EX: 0.5427\n",
            "AP for SE: 0.6191\n",
            "AP for HE: 0.4851\n",
            "Mean AP: 0.4387\n"
          ]
        },
        {
          "output_type": "stream",
          "name": "stderr",
          "text": [
            "Epoch 159/200 (Training): 100%|██████████| 20/20 [00:45<00:00,  2.29s/it]\n",
            "Epoch 159/200 (Validation): 100%|██████████| 8/8 [00:40<00:00,  5.12s/it]\n"
          ]
        },
        {
          "output_type": "stream",
          "name": "stdout",
          "text": [
            "Epoch 159/200\n",
            "Train Loss: 0.4482, Val Loss: 0.5926\n",
            "IoU for MA: 0.0616\n",
            "IoU for EX: 0.5440\n",
            "IoU for SE: 0.5392\n",
            "IoU for HE: 0.4052\n",
            "Mean IoU: 0.3875\n",
            "AP for MA: 0.1351\n",
            "AP for EX: 0.5540\n",
            "AP for SE: 0.5754\n",
            "AP for HE: 0.4655\n",
            "Mean AP: 0.4325\n"
          ]
        },
        {
          "output_type": "stream",
          "name": "stderr",
          "text": [
            "Epoch 160/200 (Training): 100%|██████████| 20/20 [00:45<00:00,  2.30s/it]\n",
            "Epoch 160/200 (Validation): 100%|██████████| 8/8 [00:42<00:00,  5.30s/it]\n"
          ]
        },
        {
          "output_type": "stream",
          "name": "stdout",
          "text": [
            "Epoch 160/200\n",
            "Train Loss: 0.4418, Val Loss: 0.5883\n",
            "IoU for MA: 0.0566\n",
            "IoU for EX: 0.5392\n",
            "IoU for SE: 0.5425\n",
            "IoU for HE: 0.4053\n",
            "Mean IoU: 0.3859\n",
            "AP for MA: 0.1315\n",
            "AP for EX: 0.5527\n",
            "AP for SE: 0.5805\n",
            "AP for HE: 0.4581\n",
            "Mean AP: 0.4307\n"
          ]
        },
        {
          "output_type": "stream",
          "name": "stderr",
          "text": [
            "Epoch 161/200 (Training): 100%|██████████| 20/20 [00:44<00:00,  2.21s/it]\n",
            "Epoch 161/200 (Validation): 100%|██████████| 8/8 [00:45<00:00,  5.66s/it]\n"
          ]
        },
        {
          "output_type": "stream",
          "name": "stdout",
          "text": [
            "Epoch 161/200\n",
            "Train Loss: 0.4456, Val Loss: 0.6028\n",
            "IoU for MA: 0.0555\n",
            "IoU for EX: 0.5254\n",
            "IoU for SE: 0.5436\n",
            "IoU for HE: 0.4060\n",
            "Mean IoU: 0.3826\n",
            "AP for MA: 0.1267\n",
            "AP for EX: 0.5511\n",
            "AP for SE: 0.5709\n",
            "AP for HE: 0.4604\n",
            "Mean AP: 0.4273\n"
          ]
        },
        {
          "output_type": "stream",
          "name": "stderr",
          "text": [
            "Epoch 162/200 (Training): 100%|██████████| 20/20 [00:44<00:00,  2.23s/it]\n",
            "Epoch 162/200 (Validation): 100%|██████████| 8/8 [00:41<00:00,  5.22s/it]\n"
          ]
        },
        {
          "output_type": "stream",
          "name": "stdout",
          "text": [
            "Epoch 162/200\n",
            "Train Loss: 0.4397, Val Loss: 0.5961\n",
            "IoU for MA: 0.0595\n",
            "IoU for EX: 0.5374\n",
            "IoU for SE: 0.5406\n",
            "IoU for HE: 0.4083\n",
            "Mean IoU: 0.3864\n",
            "AP for MA: 0.1285\n",
            "AP for EX: 0.5491\n",
            "AP for SE: 0.5815\n",
            "AP for HE: 0.4594\n",
            "Mean AP: 0.4296\n"
          ]
        },
        {
          "output_type": "stream",
          "name": "stderr",
          "text": [
            "Epoch 163/200 (Training): 100%|██████████| 20/20 [00:45<00:00,  2.26s/it]\n",
            "Epoch 163/200 (Validation): 100%|██████████| 8/8 [00:47<00:00,  5.92s/it]\n"
          ]
        },
        {
          "output_type": "stream",
          "name": "stdout",
          "text": [
            "Epoch 163/200\n",
            "Train Loss: 0.4329, Val Loss: 0.5904\n",
            "IoU for MA: 0.0487\n",
            "IoU for EX: 0.5332\n",
            "IoU for SE: 0.5524\n",
            "IoU for HE: 0.3989\n",
            "Mean IoU: 0.3833\n",
            "AP for MA: 0.1137\n",
            "AP for EX: 0.5480\n",
            "AP for SE: 0.5898\n",
            "AP for HE: 0.4692\n",
            "Mean AP: 0.4302\n"
          ]
        },
        {
          "output_type": "stream",
          "name": "stderr",
          "text": [
            "Epoch 164/200 (Training): 100%|██████████| 20/20 [00:42<00:00,  2.13s/it]\n",
            "Epoch 164/200 (Validation): 100%|██████████| 8/8 [00:46<00:00,  5.75s/it]\n"
          ]
        },
        {
          "output_type": "stream",
          "name": "stdout",
          "text": [
            "Epoch 164/200\n",
            "Train Loss: 0.4249, Val Loss: 0.5796\n",
            "IoU for MA: 0.0525\n",
            "IoU for EX: 0.5247\n",
            "IoU for SE: 0.5682\n",
            "IoU for HE: 0.4100\n",
            "Mean IoU: 0.3889\n",
            "AP for MA: 0.1233\n",
            "AP for EX: 0.5413\n",
            "AP for SE: 0.6171\n",
            "AP for HE: 0.4671\n",
            "Mean AP: 0.4372\n"
          ]
        },
        {
          "output_type": "stream",
          "name": "stderr",
          "text": [
            "Epoch 165/200 (Training): 100%|██████████| 20/20 [00:47<00:00,  2.40s/it]\n",
            "Epoch 165/200 (Validation): 100%|██████████| 8/8 [00:41<00:00,  5.19s/it]\n"
          ]
        },
        {
          "output_type": "stream",
          "name": "stdout",
          "text": [
            "Epoch 165/200\n",
            "Train Loss: 0.4317, Val Loss: 0.5905\n",
            "IoU for MA: 0.0647\n",
            "IoU for EX: 0.5098\n",
            "IoU for SE: 0.5577\n",
            "IoU for HE: 0.4145\n",
            "Mean IoU: 0.3867\n",
            "AP for MA: 0.1380\n",
            "AP for EX: 0.5445\n",
            "AP for SE: 0.5962\n",
            "AP for HE: 0.4736\n",
            "Mean AP: 0.4381\n"
          ]
        },
        {
          "output_type": "stream",
          "name": "stderr",
          "text": [
            "Epoch 166/200 (Training): 100%|██████████| 20/20 [00:45<00:00,  2.26s/it]\n",
            "Epoch 166/200 (Validation): 100%|██████████| 8/8 [00:41<00:00,  5.18s/it]\n"
          ]
        },
        {
          "output_type": "stream",
          "name": "stdout",
          "text": [
            "Epoch 166/200\n",
            "Train Loss: 0.4320, Val Loss: 0.5919\n",
            "IoU for MA: 0.0589\n",
            "IoU for EX: 0.5259\n",
            "IoU for SE: 0.5586\n",
            "IoU for HE: 0.4075\n",
            "Mean IoU: 0.3877\n",
            "AP for MA: 0.1328\n",
            "AP for EX: 0.5479\n",
            "AP for SE: 0.5914\n",
            "AP for HE: 0.4550\n",
            "Mean AP: 0.4318\n"
          ]
        },
        {
          "output_type": "stream",
          "name": "stderr",
          "text": [
            "Epoch 167/200 (Training): 100%|██████████| 20/20 [00:44<00:00,  2.25s/it]\n",
            "Epoch 167/200 (Validation): 100%|██████████| 8/8 [00:44<00:00,  5.57s/it]\n"
          ]
        },
        {
          "output_type": "stream",
          "name": "stdout",
          "text": [
            "Epoch 167/200\n",
            "Train Loss: 0.4384, Val Loss: 0.5875\n",
            "IoU for MA: 0.0509\n",
            "IoU for EX: 0.5372\n",
            "IoU for SE: 0.5569\n",
            "IoU for HE: 0.4115\n",
            "Mean IoU: 0.3891\n",
            "AP for MA: 0.1196\n",
            "AP for EX: 0.5511\n",
            "AP for SE: 0.5997\n",
            "AP for HE: 0.4643\n",
            "Mean AP: 0.4337\n"
          ]
        },
        {
          "output_type": "stream",
          "name": "stderr",
          "text": [
            "Epoch 168/200 (Training): 100%|██████████| 20/20 [00:44<00:00,  2.22s/it]\n",
            "Epoch 168/200 (Validation): 100%|██████████| 8/8 [00:44<00:00,  5.60s/it]\n"
          ]
        },
        {
          "output_type": "stream",
          "name": "stdout",
          "text": [
            "Epoch 168/200\n",
            "Train Loss: 0.4301, Val Loss: 0.5880\n",
            "IoU for MA: 0.0553\n",
            "IoU for EX: 0.5261\n",
            "IoU for SE: 0.5565\n",
            "IoU for HE: 0.4086\n",
            "Mean IoU: 0.3866\n",
            "AP for MA: 0.1287\n",
            "AP for EX: 0.5475\n",
            "AP for SE: 0.5971\n",
            "AP for HE: 0.4679\n",
            "Mean AP: 0.4353\n"
          ]
        },
        {
          "output_type": "stream",
          "name": "stderr",
          "text": [
            "Epoch 169/200 (Training): 100%|██████████| 20/20 [00:44<00:00,  2.23s/it]\n",
            "Epoch 169/200 (Validation): 100%|██████████| 8/8 [00:42<00:00,  5.37s/it]\n"
          ]
        },
        {
          "output_type": "stream",
          "name": "stdout",
          "text": [
            "Epoch 169/200\n",
            "Train Loss: 0.4192, Val Loss: 0.5884\n",
            "IoU for MA: 0.0527\n",
            "IoU for EX: 0.5246\n",
            "IoU for SE: 0.5496\n",
            "IoU for HE: 0.4129\n",
            "Mean IoU: 0.3849\n",
            "AP for MA: 0.1246\n",
            "AP for EX: 0.5495\n",
            "AP for SE: 0.5920\n",
            "AP for HE: 0.4637\n",
            "Mean AP: 0.4325\n"
          ]
        },
        {
          "output_type": "stream",
          "name": "stderr",
          "text": [
            "Epoch 170/200 (Training): 100%|██████████| 20/20 [00:42<00:00,  2.12s/it]\n",
            "Epoch 170/200 (Validation): 100%|██████████| 8/8 [00:43<00:00,  5.38s/it]\n"
          ]
        },
        {
          "output_type": "stream",
          "name": "stdout",
          "text": [
            "Epoch 170/200\n",
            "Train Loss: 0.4332, Val Loss: 0.5842\n",
            "IoU for MA: 0.0527\n",
            "IoU for EX: 0.5280\n",
            "IoU for SE: 0.5631\n",
            "IoU for HE: 0.4156\n",
            "Mean IoU: 0.3899\n",
            "AP for MA: 0.1216\n",
            "AP for EX: 0.5491\n",
            "AP for SE: 0.6122\n",
            "AP for HE: 0.4686\n",
            "Mean AP: 0.4379\n"
          ]
        },
        {
          "output_type": "stream",
          "name": "stderr",
          "text": [
            "Epoch 171/200 (Training): 100%|██████████| 20/20 [00:43<00:00,  2.19s/it]\n",
            "Epoch 171/200 (Validation): 100%|██████████| 8/8 [00:44<00:00,  5.58s/it]\n"
          ]
        },
        {
          "output_type": "stream",
          "name": "stdout",
          "text": [
            "Epoch 171/200\n",
            "Train Loss: 0.4335, Val Loss: 0.5842\n",
            "IoU for MA: 0.0524\n",
            "IoU for EX: 0.5409\n",
            "IoU for SE: 0.5563\n",
            "IoU for HE: 0.4081\n",
            "Mean IoU: 0.3894\n",
            "AP for MA: 0.1185\n",
            "AP for EX: 0.5507\n",
            "AP for SE: 0.6073\n",
            "AP for HE: 0.4677\n",
            "Mean AP: 0.4360\n"
          ]
        },
        {
          "output_type": "stream",
          "name": "stderr",
          "text": [
            "Epoch 172/200 (Training): 100%|██████████| 20/20 [00:42<00:00,  2.11s/it]\n",
            "Epoch 172/200 (Validation): 100%|██████████| 8/8 [00:41<00:00,  5.21s/it]\n"
          ]
        },
        {
          "output_type": "stream",
          "name": "stdout",
          "text": [
            "Epoch 172/200\n",
            "Train Loss: 0.4353, Val Loss: 0.5840\n",
            "IoU for MA: 0.0582\n",
            "IoU for EX: 0.5381\n",
            "IoU for SE: 0.5647\n",
            "IoU for HE: 0.4166\n",
            "Mean IoU: 0.3944\n",
            "AP for MA: 0.1265\n",
            "AP for EX: 0.5489\n",
            "AP for SE: 0.6055\n",
            "AP for HE: 0.4763\n",
            "Mean AP: 0.4393\n",
            "Model saved with Mean IoU: 0.3944\n"
          ]
        },
        {
          "output_type": "stream",
          "name": "stderr",
          "text": [
            "Epoch 173/200 (Training): 100%|██████████| 20/20 [00:43<00:00,  2.17s/it]\n",
            "Epoch 173/200 (Validation): 100%|██████████| 8/8 [00:41<00:00,  5.22s/it]\n"
          ]
        },
        {
          "output_type": "stream",
          "name": "stdout",
          "text": [
            "Epoch 173/200\n",
            "Train Loss: 0.4309, Val Loss: 0.5872\n",
            "IoU for MA: 0.0635\n",
            "IoU for EX: 0.5379\n",
            "IoU for SE: 0.5664\n",
            "IoU for HE: 0.4068\n",
            "Mean IoU: 0.3937\n",
            "AP for MA: 0.1370\n",
            "AP for EX: 0.5501\n",
            "AP for SE: 0.6097\n",
            "AP for HE: 0.4669\n",
            "Mean AP: 0.4409\n"
          ]
        },
        {
          "output_type": "stream",
          "name": "stderr",
          "text": [
            "Epoch 174/200 (Training): 100%|██████████| 20/20 [00:43<00:00,  2.17s/it]\n",
            "Epoch 174/200 (Validation): 100%|██████████| 8/8 [00:44<00:00,  5.50s/it]\n"
          ]
        },
        {
          "output_type": "stream",
          "name": "stdout",
          "text": [
            "Epoch 174/200\n",
            "Train Loss: 0.4327, Val Loss: 0.5929\n",
            "IoU for MA: 0.0592\n",
            "IoU for EX: 0.5321\n",
            "IoU for SE: 0.5567\n",
            "IoU for HE: 0.4033\n",
            "Mean IoU: 0.3878\n",
            "AP for MA: 0.1319\n",
            "AP for EX: 0.5509\n",
            "AP for SE: 0.5934\n",
            "AP for HE: 0.4554\n",
            "Mean AP: 0.4329\n"
          ]
        },
        {
          "output_type": "stream",
          "name": "stderr",
          "text": [
            "Epoch 175/200 (Training): 100%|██████████| 20/20 [00:46<00:00,  2.31s/it]\n",
            "Epoch 175/200 (Validation): 100%|██████████| 8/8 [00:42<00:00,  5.31s/it]\n"
          ]
        },
        {
          "output_type": "stream",
          "name": "stdout",
          "text": [
            "Epoch 175/200\n",
            "Train Loss: 0.4303, Val Loss: 0.5844\n",
            "IoU for MA: 0.0566\n",
            "IoU for EX: 0.5420\n",
            "IoU for SE: 0.5634\n",
            "IoU for HE: 0.4118\n",
            "Mean IoU: 0.3935\n",
            "AP for MA: 0.1238\n",
            "AP for EX: 0.5520\n",
            "AP for SE: 0.6015\n",
            "AP for HE: 0.4743\n",
            "Mean AP: 0.4379\n"
          ]
        },
        {
          "output_type": "stream",
          "name": "stderr",
          "text": [
            "Epoch 176/200 (Training): 100%|██████████| 20/20 [00:43<00:00,  2.18s/it]\n",
            "Epoch 176/200 (Validation): 100%|██████████| 8/8 [00:42<00:00,  5.35s/it]\n"
          ]
        },
        {
          "output_type": "stream",
          "name": "stdout",
          "text": [
            "Epoch 176/200\n",
            "Train Loss: 0.4316, Val Loss: 0.5903\n",
            "IoU for MA: 0.0564\n",
            "IoU for EX: 0.5383\n",
            "IoU for SE: 0.5527\n",
            "IoU for HE: 0.4076\n",
            "Mean IoU: 0.3887\n",
            "AP for MA: 0.1225\n",
            "AP for EX: 0.5515\n",
            "AP for SE: 0.5962\n",
            "AP for HE: 0.4685\n",
            "Mean AP: 0.4347\n"
          ]
        },
        {
          "output_type": "stream",
          "name": "stderr",
          "text": [
            "Epoch 177/200 (Training): 100%|██████████| 20/20 [00:42<00:00,  2.14s/it]\n",
            "Epoch 177/200 (Validation): 100%|██████████| 8/8 [00:40<00:00,  5.00s/it]\n"
          ]
        },
        {
          "output_type": "stream",
          "name": "stdout",
          "text": [
            "Epoch 177/200\n",
            "Train Loss: 0.4336, Val Loss: 0.5911\n",
            "IoU for MA: 0.0620\n",
            "IoU for EX: 0.5414\n",
            "IoU for SE: 0.5518\n",
            "IoU for HE: 0.4066\n",
            "Mean IoU: 0.3904\n",
            "AP for MA: 0.1312\n",
            "AP for EX: 0.5516\n",
            "AP for SE: 0.5941\n",
            "AP for HE: 0.4699\n",
            "Mean AP: 0.4367\n"
          ]
        },
        {
          "output_type": "stream",
          "name": "stderr",
          "text": [
            "Epoch 178/200 (Training): 100%|██████████| 20/20 [00:43<00:00,  2.18s/it]\n",
            "Epoch 178/200 (Validation): 100%|██████████| 8/8 [00:42<00:00,  5.35s/it]\n"
          ]
        },
        {
          "output_type": "stream",
          "name": "stdout",
          "text": [
            "Epoch 178/200\n",
            "Train Loss: 0.4203, Val Loss: 0.5954\n",
            "IoU for MA: 0.0587\n",
            "IoU for EX: 0.5387\n",
            "IoU for SE: 0.5461\n",
            "IoU for HE: 0.4048\n",
            "Mean IoU: 0.3871\n",
            "AP for MA: 0.1244\n",
            "AP for EX: 0.5535\n",
            "AP for SE: 0.5892\n",
            "AP for HE: 0.4638\n",
            "Mean AP: 0.4327\n"
          ]
        },
        {
          "output_type": "stream",
          "name": "stderr",
          "text": [
            "Epoch 179/200 (Training): 100%|██████████| 20/20 [00:43<00:00,  2.16s/it]\n",
            "Epoch 179/200 (Validation): 100%|██████████| 8/8 [00:46<00:00,  5.81s/it]\n"
          ]
        },
        {
          "output_type": "stream",
          "name": "stdout",
          "text": [
            "Epoch 179/200\n",
            "Train Loss: 0.4287, Val Loss: 0.5933\n",
            "IoU for MA: 0.0554\n",
            "IoU for EX: 0.5403\n",
            "IoU for SE: 0.5436\n",
            "IoU for HE: 0.4038\n",
            "Mean IoU: 0.3858\n",
            "AP for MA: 0.1187\n",
            "AP for EX: 0.5517\n",
            "AP for SE: 0.5890\n",
            "AP for HE: 0.4650\n",
            "Mean AP: 0.4311\n"
          ]
        },
        {
          "output_type": "stream",
          "name": "stderr",
          "text": [
            "Epoch 180/200 (Training): 100%|██████████| 20/20 [00:44<00:00,  2.24s/it]\n",
            "Epoch 180/200 (Validation): 100%|██████████| 8/8 [00:45<00:00,  5.63s/it]\n"
          ]
        },
        {
          "output_type": "stream",
          "name": "stdout",
          "text": [
            "Epoch 180/200\n",
            "Train Loss: 0.4236, Val Loss: 0.5881\n",
            "IoU for MA: 0.0543\n",
            "IoU for EX: 0.5342\n",
            "IoU for SE: 0.5532\n",
            "IoU for HE: 0.4072\n",
            "Mean IoU: 0.3872\n",
            "AP for MA: 0.1187\n",
            "AP for EX: 0.5521\n",
            "AP for SE: 0.5930\n",
            "AP for HE: 0.4663\n",
            "Mean AP: 0.4325\n"
          ]
        },
        {
          "output_type": "stream",
          "name": "stderr",
          "text": [
            "Epoch 181/200 (Training): 100%|██████████| 20/20 [00:43<00:00,  2.16s/it]\n",
            "Epoch 181/200 (Validation): 100%|██████████| 8/8 [00:42<00:00,  5.36s/it]\n"
          ]
        },
        {
          "output_type": "stream",
          "name": "stdout",
          "text": [
            "Epoch 181/200\n",
            "Train Loss: 0.4168, Val Loss: 0.5932\n",
            "IoU for MA: 0.0598\n",
            "IoU for EX: 0.5264\n",
            "IoU for SE: 0.5476\n",
            "IoU for HE: 0.4049\n",
            "Mean IoU: 0.3847\n",
            "AP for MA: 0.1267\n",
            "AP for EX: 0.5524\n",
            "AP for SE: 0.5888\n",
            "AP for HE: 0.4649\n",
            "Mean AP: 0.4332\n"
          ]
        },
        {
          "output_type": "stream",
          "name": "stderr",
          "text": [
            "Epoch 182/200 (Training): 100%|██████████| 20/20 [00:43<00:00,  2.17s/it]\n",
            "Epoch 182/200 (Validation):  25%|██▌       | 2/8 [00:19<00:52,  8.68s/it]"
          ]
        }
      ]
    },
    {
      "cell_type": "code",
      "source": [
        "import torch\n",
        "import gc\n",
        "\n",
        "def clear_gpu_memory():\n",
        "    # Empty the cache\n",
        "    torch.cuda.empty_cache()\n",
        "\n",
        "    # Garbage collect to free up memory\n",
        "    gc.collect()\n",
        "\n",
        "    # Print memory statistics before and after clearing\n",
        "    print(\"Before clearing:\")\n",
        "    print(f\"Allocated: {torch.cuda.memory_allocated() / 1e9:.2f} GB\")\n",
        "    print(f\"Cached: {torch.cuda.memory_reserved() / 1e9:.2f} GB\")\n",
        "\n",
        "    # Optional: Force PyTorch to release all memory\n",
        "    if torch.cuda.is_available():\n",
        "        for i in range(torch.cuda.device_count()):\n",
        "            with torch.cuda.device(i):\n",
        "                torch.cuda.empty_cache()\n",
        "                torch.cuda.ipc_collect()\n",
        "\n",
        "    print(\"\\nAfter clearing:\")\n",
        "    print(f\"Allocated: {torch.cuda.memory_allocated() / 1e9:.2f} GB\")\n",
        "    print(f\"Cached: {torch.cuda.memory_reserved() / 1e9:.2f} GB\")\n",
        "\n",
        "    # Environment variable suggestion\n",
        "    print(\"\\nConsider adding this to your code:\")\n",
        "    print(\"import os\")\n",
        "    print(\"os.environ['PYTORCH_CUDA_ALLOC_CONF'] = 'expandable_segments:True'\")\n",
        "\n",
        "# Call the function\n",
        "clear_gpu_memory()"
      ],
      "metadata": {
        "id": "_s8tEMVrNTVS",
        "colab": {
          "base_uri": "https://localhost:8080/"
        },
        "outputId": "56ef173d-7897-44b0-af96-fd410b1a1cdb"
      },
      "execution_count": null,
      "outputs": [
        {
          "output_type": "stream",
          "name": "stdout",
          "text": [
            "Before clearing:\n",
            "Allocated: 0.00 GB\n",
            "Cached: 0.00 GB\n",
            "\n",
            "After clearing:\n",
            "Allocated: 0.00 GB\n",
            "Cached: 0.00 GB\n",
            "\n",
            "Consider adding this to your code:\n",
            "import os\n",
            "os.environ['PYTORCH_CUDA_ALLOC_CONF'] = 'expandable_segments:True'\n"
          ]
        }
      ]
    },
    {
      "cell_type": "code",
      "source": [
        "from google.colab import drive\n",
        "drive.mount('/content/drive')"
      ],
      "metadata": {
        "colab": {
          "base_uri": "https://localhost:8080/"
        },
        "id": "2sKcI8ZfXIVG",
        "outputId": "35312177-3c12-45f6-d678-e325e7109c8e"
      },
      "execution_count": null,
      "outputs": [
        {
          "output_type": "stream",
          "name": "stdout",
          "text": [
            "Mounted at /content/drive\n"
          ]
        }
      ]
    },
    {
      "cell_type": "markdown",
      "source": [],
      "metadata": {
        "id": "5wtiARgPzzef"
      }
    },
    {
      "cell_type": "code",
      "source": [
        "def test_model(model_path, test_img_dir, test_mask_dirs, device='cuda'):\n",
        "    \"\"\"\n",
        "    Evaluate trained model on test dataset\n",
        "    model_path: path to best model weights\n",
        "    test_img_dir: directory containing test images\n",
        "    test_mask_dirs: dictionary with paths to test masks for each lesion type\n",
        "    \"\"\"\n",
        "    # Create test dataset\n",
        "    print(\"Setting up test dataset from\", test_img_dir)\n",
        "    test_dataset = AdvancedLesionSegmentationDataset(\n",
        "        image_dir=test_img_dir,\n",
        "        mask_dirs=test_mask_dirs,\n",
        "        transform=get_advanced_transforms('val'),  # Use validation transforms\n",
        "        apply_preprocessing=True\n",
        "    )\n",
        "\n",
        "    # Create test dataloader\n",
        "    test_loader = DataLoader(\n",
        "        test_dataset,\n",
        "        batch_size=16,  # Can use larger batch size for testing\n",
        "        shuffle=False,\n",
        "        num_workers=8,\n",
        "        pin_memory=True\n",
        "    )\n",
        "\n",
        "    print(f\"Test dataset size: {len(test_dataset)}\")\n",
        "\n",
        "    # Load best model (use MAP model as it's better for practical applications)\n",
        "    best_model = EnhancedUNet(\n",
        "        encoder_name=\"resnext101_32x8d\",  # Make sure to use same architecture as training\n",
        "        encoder_weights=None,  # Don't need pretrained weights when loading saved model\n",
        "        in_channels=3,\n",
        "        classes=5\n",
        "    ).to(device)\n",
        "\n",
        "    best_model.load_state_dict(torch.load(model_path))\n",
        "    best_model.eval()\n",
        "\n",
        "    # Setup TTA transforms\n",
        "    tta_transforms = [\n",
        "        A.Compose([\n",
        "            A.Resize(height=512, width=512),\n",
        "            A.Normalize(mean=[0.485, 0.456, 0.406], std=[0.229, 0.224, 0.225]),\n",
        "            ToTensorV2()\n",
        "        ]),\n",
        "        A.Compose([\n",
        "            A.Resize(height=512, width=512),\n",
        "            A.HorizontalFlip(p=1.0),\n",
        "            A.Normalize(mean=[0.485, 0.456, 0.406], std=[0.229, 0.224, 0.225]),\n",
        "            ToTensorV2()\n",
        "        ]),\n",
        "        A.Compose([\n",
        "            A.Resize(height=512, width=512),\n",
        "            A.VerticalFlip(p=1.0),\n",
        "            A.Normalize(mean=[0.485, 0.456, 0.406], std=[0.229, 0.224, 0.225]),\n",
        "            ToTensorV2()\n",
        "        ]),\n",
        "        A.Compose([\n",
        "            A.Resize(height=512, width=512),\n",
        "            A.Transpose(p=1.0),\n",
        "            A.Normalize(mean=[0.485, 0.456, 0.406], std=[0.229, 0.224, 0.225]),\n",
        "            ToTensorV2()\n",
        "        ])\n",
        "    ]\n",
        "\n",
        "    # Define reverse transforms for flips\n",
        "    def reverse_transform(output, transform_idx):\n",
        "        if transform_idx == 0:  # Original\n",
        "            return output\n",
        "        elif transform_idx == 1:  # HorizontalFlip\n",
        "            return torch.flip(output, dims=[3])\n",
        "        elif transform_idx == 2:  # VerticalFlip\n",
        "            return torch.flip(output, dims=[2])\n",
        "        elif transform_idx == 3:  # Transpose\n",
        "            return output.transpose(2, 3)\n",
        "\n",
        "    # Initialize metrics\n",
        "    all_ious = []\n",
        "    all_maps = []\n",
        "    class_names = ['MA', 'EX', 'SE', 'HE']\n",
        "\n",
        "    # Create output directory for test results\n",
        "    os.makedirs('test_results', exist_ok=True)\n",
        "    os.makedirs('test_predictions', exist_ok=True)\n",
        "\n",
        "    # Define colormap for visualization\n",
        "    def create_color_map():\n",
        "        color_map = np.zeros((5, 3), dtype=np.uint8)\n",
        "        color_map[0] = [0, 0, 0]      # Background (black)\n",
        "        color_map[1] = [255, 0, 0]    # MA (red)\n",
        "        color_map[2] = [0, 255, 0]    # EX (green)\n",
        "        color_map[3] = [255, 255, 0]  # SE (yellow)\n",
        "        color_map[4] = [0, 0, 255]    # HE (blue)\n",
        "        return color_map\n",
        "\n",
        "    color_map = create_color_map()\n",
        "\n",
        "    # Function to create colored segmentation\n",
        "    def create_colored_segmentation(mask):\n",
        "        colored_mask = np.zeros((mask.shape[0], mask.shape[1], 3), dtype=np.uint8)\n",
        "        for i in range(5):  # 5 classes including background\n",
        "            colored_mask[mask == i] = color_map[i]\n",
        "        return colored_mask\n",
        "\n",
        "    # Start evaluating\n",
        "    with torch.no_grad():\n",
        "        for batch_idx, (images_orig, masks) in enumerate(tqdm(test_loader, desc=\"Testing\")):\n",
        "            # Clear memory\n",
        "            torch.cuda.empty_cache()\n",
        "\n",
        "            # Send masks to device\n",
        "            masks = masks.to(device).long()\n",
        "\n",
        "            # Apply TTA and average predictions\n",
        "            outputs_avg = None\n",
        "\n",
        "            for t_idx, transform in enumerate(tta_transforms):\n",
        "                # Apply transform to original image\n",
        "                if t_idx == 0:\n",
        "                    # Use the original transformed image\n",
        "                    images = images_orig.to(device)\n",
        "                else:\n",
        "                    # Apply the TTA transform to the original images\n",
        "                    images_list = []\n",
        "                    for img in images_orig.cpu().numpy():\n",
        "                        # Convert from tensor format to numpy for albumentations\n",
        "                        img = np.transpose(img, (1, 2, 0))  # CHW to HWC\n",
        "                        # Denormalize\n",
        "                        img = img * np.array([0.229, 0.224, 0.225]) + np.array([0.485, 0.456, 0.406])\n",
        "                        img = np.clip(img, 0, 1) * 255\n",
        "                        img = img.astype(np.uint8)\n",
        "                        # Apply transform\n",
        "                        augmented = transform(image=img)\n",
        "                        images_list.append(augmented['image'])\n",
        "\n",
        "                    # Convert back to tensor\n",
        "                    images = torch.stack(images_list).to(device)\n",
        "\n",
        "                # Forward pass\n",
        "                outputs = best_model(images)\n",
        "\n",
        "                # Reverse the transform on outputs\n",
        "                outputs = reverse_transform(outputs, t_idx)\n",
        "\n",
        "                # Accumulate outputs\n",
        "                if outputs_avg is None:\n",
        "                    outputs_avg = outputs\n",
        "                else:\n",
        "                    outputs_avg += outputs\n",
        "\n",
        "            # Average the outputs\n",
        "            outputs_avg /= len(tta_transforms)\n",
        "\n",
        "            # Get predictions\n",
        "            preds = torch.argmax(outputs_avg, dim=1).cpu().numpy()\n",
        "            true_masks = masks.cpu().numpy()\n",
        "\n",
        "            # Calculate IoU with post-processing\n",
        "            ious = compute_iou(outputs_avg, masks, apply_post_processing=True)\n",
        "            all_ious.append(ious)\n",
        "\n",
        "            # Calculate mAP with post-processing\n",
        "            maps, _ = compute_map(outputs_avg, masks, apply_post_processing=True)\n",
        "            all_maps.append(maps)\n",
        "\n",
        "            # Save predictions for each image in the batch\n",
        "            for i, (pred, true_mask) in enumerate(zip(preds, true_masks)):\n",
        "                # Create index for the current image\n",
        "                img_idx = batch_idx * test_loader.batch_size + i\n",
        "\n",
        "                # Create colored visualizations\n",
        "                pred_colored = create_colored_segmentation(pred)\n",
        "                true_colored = create_colored_segmentation(true_mask)\n",
        "\n",
        "                # Get original image for visualization\n",
        "                img = images_orig[i].cpu().numpy()\n",
        "                img = np.transpose(img, (1, 2, 0))  # CHW to HWC\n",
        "                img = img * np.array([0.229, 0.224, 0.225]) + np.array([0.485, 0.456, 0.406])\n",
        "                img = np.clip(img, 0, 1) * 255\n",
        "                img = img.astype(np.uint8)\n",
        "\n",
        "                # Create visualization with original, ground truth, and prediction\n",
        "                vis_img = np.hstack([img, true_colored, pred_colored])\n",
        "\n",
        "                # Save visualization\n",
        "                cv2.imwrite(f'test_predictions/test_img_{img_idx}.png', cv2.cvtColor(vis_img, cv2.COLOR_RGB2BGR))\n",
        "\n",
        "            # Clean up GPU memory\n",
        "            del images_orig, masks, outputs_avg\n",
        "            torch.cuda.empty_cache()\n",
        "\n",
        "    # Calculate final metrics\n",
        "    test_ious = np.mean(all_ious, axis=0)\n",
        "    test_miou = np.mean(test_ious)\n",
        "\n",
        "    test_maps = np.mean(all_maps, axis=0)\n",
        "    test_mmap = np.mean(test_maps)\n",
        "\n",
        "    # Print results\n",
        "    print(\"\\nTest Set Evaluation Results:\")\n",
        "    for i, lesion_type in enumerate(class_names):\n",
        "        print(f\"IoU for {lesion_type}: {test_ious[i]:.4f}\")\n",
        "    print(f\"Mean IoU: {test_miou:.4f}\")\n",
        "\n",
        "    for i, lesion_type in enumerate(class_names):\n",
        "        print(f\"AP for {lesion_type}: {test_maps[i]:.4f}\")\n",
        "    print(f\"Mean AP: {test_mmap:.4f}\")\n",
        "\n",
        "    # Save results to file\n",
        "    with open('test_results/metrics.txt', 'w') as f:\n",
        "        f.write(\"Test Set Evaluation Results:\\n\")\n",
        "        for i, lesion_type in enumerate(class_names):\n",
        "            f.write(f\"IoU for {lesion_type}: {test_ious[i]:.4f}\\n\")\n",
        "        f.write(f\"Mean IoU: {test_miou:.4f}\\n\\n\")\n",
        "\n",
        "        for i, lesion_type in enumerate(class_names):\n",
        "            f.write(f\"AP for {lesion_type}: {test_maps[i]:.4f}\\n\")\n",
        "        f.write(f\"Mean AP: {test_mmap:.4f}\\n\")\n",
        "\n",
        "    # Create confusion matrix for each class\n",
        "    def generate_confusion_matrices(all_preds, all_true_masks):\n",
        "        from sklearn.metrics import confusion_matrix\n",
        "        import seaborn as sns\n",
        "\n",
        "        # Create 4 confusion matrices (one for each lesion type)\n",
        "        for c in range(1, 5):  # Skip background class\n",
        "            all_pred_binary = []\n",
        "            all_true_binary = []\n",
        "\n",
        "            # Convert to binary predictions for this class\n",
        "            for pred, true_mask in zip(all_preds, all_true_masks):\n",
        "                pred_binary = (pred == c).flatten()\n",
        "                true_binary = (true_mask == c).flatten()\n",
        "\n",
        "                all_pred_binary.extend(pred_binary)\n",
        "                all_true_binary.extend(true_binary)\n",
        "\n",
        "            # Create confusion matrix\n",
        "            cm = confusion_matrix(all_true_binary, all_pred_binary)\n",
        "\n",
        "            # Normalize to get percentages\n",
        "            cm_norm = cm.astype('float') / cm.sum(axis=1)[:, np.newaxis]\n",
        "            cm_norm = np.nan_to_num(cm_norm)\n",
        "\n",
        "            # Plot confusion matrix\n",
        "            plt.figure(figsize=(10, 8))\n",
        "            sns.heatmap(cm_norm, annot=True, fmt='.2%', cmap='Blues')\n",
        "            plt.xlabel('Predicted')\n",
        "            plt.ylabel('True')\n",
        "            plt.title(f'Confusion Matrix for {class_names[c-1]}')\n",
        "            plt.savefig(f'test_results/confusion_matrix_{class_names[c-1]}.png')\n",
        "            plt.close()\n",
        "\n",
        "    # Collect all predictions and ground truth for confusion matrices\n",
        "    all_preds = []\n",
        "    all_true_masks = []\n",
        "\n",
        "    with torch.no_grad():\n",
        "        for images, masks in tqdm(test_loader, desc=\"Collecting predictions\"):\n",
        "            images = images.to(device)\n",
        "            masks = masks.cpu().numpy()\n",
        "\n",
        "            # Forward pass with TTA\n",
        "            outputs_avg = None\n",
        "            for t_idx in range(1):  # Just use original images for speed\n",
        "                outputs = best_model(images)\n",
        "                if outputs_avg is None:\n",
        "                    outputs_avg = outputs\n",
        "                else:\n",
        "                    outputs_avg += outputs\n",
        "\n",
        "            preds = torch.argmax(outputs_avg, dim=1).cpu().numpy()\n",
        "\n",
        "            # Add to lists\n",
        "            all_preds.extend(preds)\n",
        "            all_true_masks.extend(masks)\n",
        "\n",
        "            # Clean memory\n",
        "            del images, masks, outputs, outputs_avg\n",
        "            torch.cuda.empty_cache()\n",
        "\n",
        "    # Generate confusion matrices\n",
        "    try:\n",
        "        generate_confusion_matrices(all_preds, all_true_masks)\n",
        "        print(\"Confusion matrices saved to test_results directory\")\n",
        "    except Exception as e:\n",
        "        print(f\"Could not generate confusion matrices: {e}\")\n",
        "\n",
        "    return test_miou, test_mmap\n",
        "\n",
        "if __name__ == \"__main__\":\n",
        "    # Paths for test dataset\n",
        "    test_img_dir = \"/content/DDR_dataset/DDR-dataset/lesion_segmentation/test/image\"\n",
        "    test_mask_dirs = {\n",
        "        \"MA\": \"/content/DDR_dataset/DDR-dataset/lesion_segmentation/test/label/MA\",\n",
        "        \"EX\": \"/content/DDR_dataset/DDR-dataset/lesion_segmentation/test/label/EX\",\n",
        "        \"SE\": \"/content/DDR_dataset/DDR-dataset/lesion_segmentation/test/label/SE\",\n",
        "        \"HE\": \"/content/DDR_dataset/DDR-dataset/lesion_segmentation/test/label/HE\"\n",
        "    }\n",
        "\n",
        "    # Path to best model weights (use the MAP one as it's typically better for practical applications)\n",
        "    model_path = 'models/best_model_map.pth'\n",
        "\n",
        "    # Run testing on best model\n",
        "    test_miou, test_mmap = test_model(model_path, test_img_dir, test_mask_dirs, device=device)\n",
        "\n",
        "    print(f\"\\nFinal Test Results:\")\n",
        "    print(f\"Mean IoU on Test Set: {test_miou:.4f}\")\n",
        "    print(f\"Mean AP on Test Set: {test_mmap:.4f}\")"
      ],
      "metadata": {
        "colab": {
          "base_uri": "https://localhost:8080/"
        },
        "id": "G4_GMHuOhwVH",
        "outputId": "1465398a-ddce-4b68-de55-5464b7cd8fe7"
      },
      "execution_count": null,
      "outputs": [
        {
          "output_type": "stream",
          "name": "stdout",
          "text": [
            "Setting up test dataset from /content/DDR_dataset/DDR-dataset/lesion_segmentation/test/image\n",
            "Test dataset size: 225\n"
          ]
        },
        {
          "output_type": "stream",
          "name": "stderr",
          "text": [
            "Testing: 100%|██████████| 15/15 [01:13<00:00,  4.92s/it]\n"
          ]
        },
        {
          "output_type": "stream",
          "name": "stdout",
          "text": [
            "\n",
            "Test Set Evaluation Results:\n",
            "IoU for MA: 0.0382\n",
            "IoU for EX: 0.2609\n",
            "IoU for SE: 0.6607\n",
            "IoU for HE: 0.2898\n",
            "Mean IoU: 0.3124\n",
            "AP for MA: 0.1094\n",
            "AP for EX: 0.3154\n",
            "AP for SE: 0.6828\n",
            "AP for HE: 0.3612\n",
            "Mean AP: 0.3672\n"
          ]
        },
        {
          "output_type": "stream",
          "name": "stderr",
          "text": [
            "Collecting predictions: 100%|██████████| 15/15 [00:23<00:00,  1.60s/it]\n"
          ]
        },
        {
          "output_type": "stream",
          "name": "stdout",
          "text": [
            "Confusion matrices saved to test_results directory\n",
            "\n",
            "Final Test Results:\n",
            "Mean IoU on Test Set: 0.3124\n",
            "Mean AP on Test Set: 0.3672\n"
          ]
        }
      ]
    },
    {
      "cell_type": "markdown",
      "source": [],
      "metadata": {
        "id": "XB6sNhe3zzbP"
      }
    }
  ]
}